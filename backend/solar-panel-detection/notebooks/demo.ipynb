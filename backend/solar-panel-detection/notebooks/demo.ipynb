{
  "cells": [
    {
      "cell_type": "markdown",
      "metadata": {},
      "source": [
        "# Solar Panel Detection Demo\n",
        "\n",
        "This notebook demonstrates the solar panel detection system on satellite imagery."
      ]
    },
    {
      "cell_type": "code",
      "execution_count": null,
      "metadata": {},
      "outputs": [],
      "source": [
        "from solar_detector import SolarPanelDetector\n",
        "import matplotlib.pyplot as plt\n",
        "\n",
        "# Initialize detector\n",
        "detector = SolarPanelDetector(model='yolov8')\n",
        "print(f'Model loaded: {detector.model_name}')"
      ]
    }
  ],
  "metadata": {
    "kernelspec": {
      "display_name": "Python 3",
      "language": "python",
      "name": "python3"
    }
  },
  "nbformat": 4,
  "nbformat_minor": 4
}