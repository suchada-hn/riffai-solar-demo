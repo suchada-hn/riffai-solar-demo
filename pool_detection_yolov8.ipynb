{
 "cells": [
  {
   "cell_type": "markdown",
   "metadata": {},
   "source": [
    "### Import the libraries and import the \n"
   ]
  },
  {
   "cell_type": "code",
   "execution_count": 2,
   "metadata": {},
   "outputs": [],
   "source": [
    "from sklearn.metrics import classification_report, confusion_matrix\n",
    "from sklearn.model_selection import train_test_split\n",
    "from IPython.display import display, Image\n",
    "from ultralytics import YOLO\n",
    "from os import getcwd\n",
    "from PIL import Image as PILImage\n",
    "import os\n",
    " \n",
    "import torch\n",
    "import matplotlib.pyplot as plt\n",
    "import pandas as pd\n",
    "import numpy as np\n",
    "import cv2\n",
    "import xml.etree.ElementTree as ET\n",
    "import shutil\n",
    "import random\n",
    "import glob\n"
   ]
  },
  {
   "cell_type": "code",
   "execution_count": 3,
   "metadata": {},
   "outputs": [
    {
     "name": "stdout",
     "output_type": "stream",
     "text": [
      "pool-dataset/README.dataset.txt\n",
      "pool-dataset/README.roboflow.txt\n",
      "pool-dataset/data.yaml\n",
      "pool-dataset/test/images/CANNES_TILES_512x512-1001_png.rf.f72c490555cbc99a7395b525fc8a484d.jpg\n",
      "pool-dataset/test/images/CANNES_TILES_512x512-1028_png.rf.20fb178749c02986057f3135f417f778.jpg\n",
      "pool-dataset/test/images/CANNES_TILES_512x512-1045_png.rf.fc04607286a974f65d12d8736e92305f.jpg\n",
      "pool-dataset/test/images/CANNES_TILES_512x512-1070_png.rf.731d4011be04905f2e813793d31b9e28.jpg\n",
      "pool-dataset/test/images/CANNES_TILES_512x512-1073_png.rf.647f3b1c324803990d63e750398475d4.jpg\n",
      "pool-dataset/test/images/CANNES_TILES_512x512-1089_png.rf.0822cd8f3077652c45cb8818bf2e3486.jpg\n",
      "pool-dataset/test/images/CANNES_TILES_512x512-1105_png.rf.c078537856d917397838f8ff5ec8a2ba.jpg\n",
      "pool-dataset/test/images/CANNES_TILES_512x512-1117_png.rf.ceefdcd3c9a3b964bd3eb6b96eccd514.jpg\n",
      "pool-dataset/test/images/CANNES_TILES_512x512-1139_png.rf.6d1539b33b405e743a9de27eaa796b6c.jpg\n",
      "pool-dataset/test/images/CANNES_TILES_512x512-1163_png.rf.4a74dcb9d3470ff9bc9cab29c86b8022.jpg\n",
      "pool-dataset/test/images/CANNES_TILES_512x512-1210_png.rf.ea51804d8d1f3887ce0c32753444dae2.jpg\n",
      "pool-dataset/test/images/CANNES_TILES_512x512-1247_png.rf.922cce954133b1d48c838c32bc7ae914.jpg\n",
      "pool-dataset/test/images/CANNES_TILES_512x512-1253_png.rf.e925e8fa333387ea707c8e06087aa6b2.jpg\n",
      "pool-dataset/test/images/CANNES_TILES_512x512-1262_png.rf.97d5c52ef9d70461af7544ae9025d9dd.jpg\n",
      "pool-dataset/test/images/CANNES_TILES_512x512-1281_png.rf.d1a45e9643e5af74bfcd84b125b353f5.jpg\n",
      "pool-dataset/test/images/CANNES_TILES_512x512-131_png.rf.3989d8e77071f848dfbfbffa567ada2a.jpg\n",
      "pool-dataset/test/images/CANNES_TILES_512x512-1327_png.rf.9bbced676c7e45ea3a6d5b0621338a15.jpg\n",
      "pool-dataset/test/images/CANNES_TILES_512x512-1337_png.rf.052e9686217a5cac1687993ca3bd41b6.jpg\n",
      "pool-dataset/test/images/CANNES_TILES_512x512-1340_png.rf.66ded7c1689b4cff7d0e576a41d69959.jpg\n",
      "pool-dataset/test/images/CANNES_TILES_512x512-1353_png.rf.e841b50abb689ae13361bcfbdbc78973.jpg\n",
      "pool-dataset/test/images/CANNES_TILES_512x512-1358_png.rf.92730cd0c7b121f92e7f93b42bafb12e.jpg\n",
      "pool-dataset/test/images/CANNES_TILES_512x512-1397_png.rf.b2ce6db5dbb4aa68ce15b36e0bad614e.jpg\n",
      "pool-dataset/test/images/CANNES_TILES_512x512-1411_png.rf.cdeaa949c857138a08dcba03d7050382.jpg\n",
      "pool-dataset/test/images/CANNES_TILES_512x512-1452_png.rf.b2d7a8d72f1c7b25c3bf1d38b6d2c9d3.jpg\n",
      "pool-dataset/test/images/CANNES_TILES_512x512-1475_png.rf.2561fb3359f21d3f5951f46694431c47.jpg\n",
      "pool-dataset/test/images/CANNES_TILES_512x512-1502_png.rf.cdf5db7f46b19faee73783c82bdbcae3.jpg\n",
      "pool-dataset/test/images/CANNES_TILES_512x512-1506_png.rf.10b47b77de11fff283529619e30d393a.jpg\n",
      "pool-dataset/test/images/CANNES_TILES_512x512-1511_png.rf.70f46ef0d2046677d0d54480ddaf5844.jpg\n",
      "pool-dataset/test/images/CANNES_TILES_512x512-1518_png.rf.bfc07e29ea4fe4731729bba78d5b452a.jpg\n",
      "pool-dataset/test/images/CANNES_TILES_512x512-1579_png.rf.9be67b75b26cd004615bcdeb84776a4e.jpg\n",
      "pool-dataset/test/images/CANNES_TILES_512x512-1607_png.rf.aa1ecfb03a8ae48901136673ee504b34.jpg\n",
      "pool-dataset/test/images/CANNES_TILES_512x512-1618_png.rf.0b1d88655a6fe5a73d7a003919d86e11.jpg\n",
      "pool-dataset/test/images/CANNES_TILES_512x512-1673_png.rf.f34af340cfce91c05b9ee1606daa9f41.jpg\n",
      "pool-dataset/test/images/CANNES_TILES_512x512-1682_png.rf.56a9966f4bd8955679983a8a3da9623c.jpg\n",
      "pool-dataset/test/images/CANNES_TILES_512x512-170_png.rf.2469c37f10557a85c1325334412f3b7f.jpg\n",
      "pool-dataset/test/images/CANNES_TILES_512x512-1711_png.rf.2de7eda1acf563aedeec44364f7c94a4.jpg\n",
      "pool-dataset/test/images/CANNES_TILES_512x512-1732_png.rf.6d00d78ca9003427500881648f50e6b1.jpg\n",
      "pool-dataset/test/images/CANNES_TILES_512x512-1776_png.rf.2979b25384cf76263e1183513a8308f8.jpg\n",
      "pool-dataset/test/images/CANNES_TILES_512x512-1802_png.rf.2f47f466192410225175baeaf5c3f3d1.jpg\n",
      "pool-dataset/test/images/CANNES_TILES_512x512-1804_png.rf.85133c03572545ffa22b30044cb37fa2.jpg\n",
      "pool-dataset/test/images/CANNES_TILES_512x512-1818_png.rf.200cee29da62d2bf65df75d65bea5e10.jpg\n",
      "pool-dataset/test/images/CANNES_TILES_512x512-1829_png.rf.501496a83e7e4a143fdd93eb96466563.jpg\n",
      "pool-dataset/test/images/CANNES_TILES_512x512-1839_png.rf.2ccb70ebb6d891440570f09b79fc45e4.jpg\n",
      "pool-dataset/test/images/CANNES_TILES_512x512-1842_png.rf.8f3fabca6ee4d7305ee0937909764f36.jpg\n",
      "pool-dataset/test/images/CANNES_TILES_512x512-1848_png.rf.bf9d112bdf0fa55bd5cc08bbb0cb8912.jpg\n",
      "pool-dataset/test/images/CANNES_TILES_512x512-186_png.rf.157c9d92fa3ea6f1445465fbcf737484.jpg\n",
      "pool-dataset/test/images/CANNES_TILES_512x512-1915_png.rf.3465d78963a25f9f577fdbccb8e86f4a.jpg\n",
      "pool-dataset/test/images/CANNES_TILES_512x512-1935_png.rf.195a9844a14610e244912e9bb64163a5.jpg\n",
      "pool-dataset/test/images/CANNES_TILES_512x512-1938_png.rf.fc67098cb1b9fb717af659bf58459ae9.jpg\n",
      "pool-dataset/test/images/CANNES_TILES_512x512-201_png.rf.4892ee610ff54c901bf5d47f85f65768.jpg\n",
      "pool-dataset/test/images/CANNES_TILES_512x512-2030_png.rf.b0caeffd9e2e47e7c5fea3b1a221cc2d.jpg\n",
      "pool-dataset/test/images/CANNES_TILES_512x512-2040_png.rf.ee7470ddeaef521641df1645b241313b.jpg\n",
      "pool-dataset/test/images/CANNES_TILES_512x512-2055_png.rf.b9b8897d7058acfbf182347126c47465.jpg\n",
      "pool-dataset/test/images/CANNES_TILES_512x512-2072_png.rf.335814c55bd6098d1cb009ba4841e6cd.jpg\n",
      "pool-dataset/test/images/CANNES_TILES_512x512-2078_png.rf.3a5a298d3811675ee559ec695324e936.jpg\n",
      "pool-dataset/test/images/CANNES_TILES_512x512-2086_png.rf.250252794ba22c55dfc9b191c03bf02d.jpg\n",
      "pool-dataset/test/images/CANNES_TILES_512x512-211_png.rf.891edd3163aef682b2452b864ca7d1c3.jpg\n",
      "pool-dataset/test/images/CANNES_TILES_512x512-2134_png.rf.a17d025e8498d5d340fcbba016de123f.jpg\n",
      "pool-dataset/test/images/CANNES_TILES_512x512-2135_png.rf.b9cecff10cab3fb6764addc8516d88aa.jpg\n",
      "pool-dataset/test/images/CANNES_TILES_512x512-2139_png.rf.bc292c26da73a4ff853b8351ca30090e.jpg\n",
      "pool-dataset/test/images/CANNES_TILES_512x512-2141_png.rf.4d3e1a64ff078fbb76e089cdc0a00c06.jpg\n",
      "pool-dataset/test/images/CANNES_TILES_512x512-2264_png.rf.27b112f41a89d506af2c0d5045dff95b.jpg\n",
      "pool-dataset/test/images/CANNES_TILES_512x512-252_png.rf.b35ec5ada625cf50e95b4a3a97099951.jpg\n",
      "pool-dataset/test/images/CANNES_TILES_512x512-255_png.rf.fff8ae2185f72c6e45e58c81b1025f1b.jpg\n",
      "pool-dataset/test/images/CANNES_TILES_512x512-25_png.rf.4f3f641dde834bb3101655626d5e413c.jpg\n",
      "pool-dataset/test/images/CANNES_TILES_512x512-266_png.rf.6174d60f7e0d4eb8f48309f54c5dae51.jpg\n",
      "pool-dataset/test/images/CANNES_TILES_512x512-27_png.rf.fe62e1019d2598fef43f3a8057a4d623.jpg\n",
      "pool-dataset/test/images/CANNES_TILES_512x512-317_png.rf.c0299a1ee388c7363288c01b5a4678eb.jpg\n",
      "pool-dataset/test/images/CANNES_TILES_512x512-359_png.rf.360223e94aad8563d06f2587c6de8660.jpg\n",
      "pool-dataset/test/images/CANNES_TILES_512x512-364_png.rf.eab9313e314ab097e6fbb75cad74acda.jpg\n",
      "pool-dataset/test/images/CANNES_TILES_512x512-375_png.rf.bc6c7fc8b2a5f3afa33819b096229e5c.jpg\n",
      "pool-dataset/test/images/CANNES_TILES_512x512-405_png.rf.1bc80fd0d75dcd4f9b4086f10adde05d.jpg\n",
      "pool-dataset/test/images/CANNES_TILES_512x512-408_png.rf.7a7816d5386783415022d844bc289f73.jpg\n",
      "pool-dataset/test/images/CANNES_TILES_512x512-409_png.rf.fe1055c610c568848749b2ef01b911db.jpg\n",
      "pool-dataset/test/images/CANNES_TILES_512x512-413_png.rf.9861ba7757dd12fc3adbd6193b595723.jpg\n",
      "pool-dataset/test/images/CANNES_TILES_512x512-426_png.rf.9b23a004e0a5475cd4a3f6445663c57f.jpg\n",
      "pool-dataset/test/images/CANNES_TILES_512x512-452_png.rf.bff9a6d4b3339839fc1b892fe865f1c0.jpg\n",
      "pool-dataset/test/images/CANNES_TILES_512x512-476_png.rf.d42d8af6b33a0161f77a38cfa4b53898.jpg\n",
      "pool-dataset/test/images/CANNES_TILES_512x512-486_png.rf.09e7982c63f616a164145f904deab5da.jpg\n",
      "pool-dataset/test/images/CANNES_TILES_512x512-488_png.rf.aeb6240cf9b189da5cc503538d9ca7f9.jpg\n",
      "pool-dataset/test/images/CANNES_TILES_512x512-515_png.rf.edf6984100738c990f504e2278000533.jpg\n",
      "pool-dataset/test/images/CANNES_TILES_512x512-531_png.rf.6b99651eadf6d8cce12b6056978a76b7.jpg\n",
      "pool-dataset/test/images/CANNES_TILES_512x512-533_png.rf.07f27f2a335db7eea3dcc9cc3ebc07da.jpg\n",
      "pool-dataset/test/images/CANNES_TILES_512x512-568_png.rf.3c3e11bead33ca35e4a4d962cd1071f7.jpg\n",
      "pool-dataset/test/images/CANNES_TILES_512x512-604_png.rf.e1f80e47183e32beec4132c97604237b.jpg\n",
      "pool-dataset/test/images/CANNES_TILES_512x512-61_png.rf.329cd68593c260e165deae0fdc4faaf1.jpg\n",
      "pool-dataset/test/images/CANNES_TILES_512x512-620_png.rf.1970674b3e9704ab8d50d18c923e7311.jpg\n",
      "pool-dataset/test/images/CANNES_TILES_512x512-719_png.rf.4eab8e0529e8615ffd0db683d2410735.jpg\n",
      "pool-dataset/test/images/CANNES_TILES_512x512-724_png.rf.5832f5ef185a48defecbfd639c02262c.jpg\n",
      "pool-dataset/test/images/CANNES_TILES_512x512-732_png.rf.5701aa10a31674eb3be4d91c52769b34.jpg\n",
      "pool-dataset/test/images/CANNES_TILES_512x512-742_png.rf.27807f52d7f1fab70f8d13ddab1ca2b9.jpg\n",
      "pool-dataset/test/images/CANNES_TILES_512x512-74_png.rf.84036cfc408433c8deff03dc91b884c1.jpg\n",
      "pool-dataset/test/images/CANNES_TILES_512x512-767_png.rf.ae10f0058b9466590a7673dfa8d93ca4.jpg\n",
      "pool-dataset/test/images/CANNES_TILES_512x512-77_png.rf.4ac14372ca9e46687ab296b9b7f56e44.jpg\n",
      "pool-dataset/test/images/CANNES_TILES_512x512-791_png.rf.ddc32cd5e13552419b280dd1a6aa381e.jpg\n",
      "pool-dataset/test/images/CANNES_TILES_512x512-803_png.rf.189ee78d5556dae00bd4ae8225f2fb62.jpg\n",
      "pool-dataset/test/images/CANNES_TILES_512x512-80_png.rf.b5aee9a0ccbdad6556d6943c6d31abae.jpg\n",
      "pool-dataset/test/images/CANNES_TILES_512x512-815_png.rf.bdaeea8078f099972759dc37cae2ce1b.jpg\n",
      "pool-dataset/test/images/CANNES_TILES_512x512-818_png.rf.1c7935dd05d092fa413b493410c105a7.jpg\n",
      "pool-dataset/test/images/CANNES_TILES_512x512-830_png.rf.d25e45c7d6eb0a03b45f4d9d7dbb538a.jpg\n",
      "pool-dataset/test/images/CANNES_TILES_512x512-836_png.rf.ab145aa8052cc7b66380e0f595166b16.jpg\n",
      "pool-dataset/test/images/CANNES_TILES_512x512-859_png.rf.3a45d0ab43aa91c02c732a9e0158487c.jpg\n",
      "pool-dataset/test/images/CANNES_TILES_512x512-865_png.rf.741ceb4a0e6ce345f1d4efb4628d3f69.jpg\n",
      "pool-dataset/test/images/CANNES_TILES_512x512-881_png.rf.a1cc56d8fc953e76a52466fed7e3e8ac.jpg\n",
      "pool-dataset/test/images/CANNES_TILES_512x512-892_png.rf.3fe95986ac208317c604b2c8735f8468.jpg\n",
      "pool-dataset/test/images/CANNES_TILES_512x512-910_png.rf.bd4db5e00736510027ad91cab33ed5e1.jpg\n",
      "pool-dataset/test/images/CANNES_TILES_512x512-933_png.rf.7c1ced21d01f1d84b1de4599df669cf5.jpg\n",
      "pool-dataset/test/images/CANNES_TILES_512x512-944_png.rf.4c7a504ba3ee20bb7d5a95bd5bf05eff.jpg\n",
      "pool-dataset/test/images/CANNES_TILES_512x512-946_png.rf.754922182fdb75c49c0b3754ff9c2711.jpg\n",
      "pool-dataset/test/images/CANNES_TILES_512x512-951_png.rf.ad1628c4b032ebf7343cee0c87943a39.jpg\n",
      "pool-dataset/test/images/CANNES_TILES_512x512-955_png.rf.efacd7f68c1a32cfcf46f0e1d3551576.jpg\n",
      "pool-dataset/test/images/CANNES_TILES_512x512-958_png.rf.4fadb557b80660f3405913e875008914.jpg\n",
      "pool-dataset/test/images/CANNES_TILES_512x512-960_png.rf.41a3a3874c550fd4d0731cb0870ab669.jpg\n",
      "pool-dataset/test/images/CANNES_TILES_512x512-976_png.rf.688c3fdf95d858264f4584558609d532.jpg\n",
      "pool-dataset/test/images/CANNES_TILES_512x512-981_png.rf.a5408e3b5eb131d9e70f19c6a359cf91.jpg\n",
      "pool-dataset/test/images/P0061_png.rf.0acba14653d461c664145524a7c46d73.jpg\n",
      "pool-dataset/test/images/P0063_png.rf.3d821ea696d618b06ff945685f433beb.jpg\n",
      "pool-dataset/test/images/P0064_png.rf.fd1c8325ba4c512180c4ac8ba3c9913a.jpg\n",
      "pool-dataset/test/images/P0065_png.rf.d8d9fb34ee876fb2e8de896f2dc162f0.jpg\n",
      "pool-dataset/test/images/P0082_png.rf.a8ea1292ba4951dc219ef1899a7bfb9e.jpg\n",
      "pool-dataset/test/images/P0083_png.rf.f0a13efaf8d9e55023149d0a057e3cf5.jpg\n",
      "pool-dataset/test/images/P0111_png.rf.c01b7c3f76695d1010f96cb92b804ad6.jpg\n",
      "pool-dataset/test/images/P0133_png.rf.858fc32d638d048d9412675442770bba.jpg\n",
      "pool-dataset/test/images/P0142_png.rf.0e4defc85352a06d607a0c092b99a1e6.jpg\n",
      "pool-dataset/test/images/P0201_png.rf.7be5a5c415fcb8ae595143cc6e98c4c5.jpg\n",
      "pool-dataset/test/images/P0222_png.rf.70fe59e57515700d982601df0e801b01.jpg\n",
      "pool-dataset/test/images/P0225_png.rf.036f648764f803b52285766076690f70.jpg\n",
      "pool-dataset/test/images/P0227_png.rf.137bbee935e0e086cbd2cfebf7bb9148.jpg\n",
      "pool-dataset/test/images/P0236_png.rf.2706a1b9eb5fc48d813c142df9ff9767.jpg\n",
      "pool-dataset/test/images/P0252_png.rf.0f87ade15b6ed9516d4a7ccd81ff732d.jpg\n",
      "pool-dataset/test/images/P0285_png.rf.3a3c58862a2b0b6ee09cb0b00c4d7dc2.jpg\n",
      "pool-dataset/test/images/P0288_png.rf.31d0b1360b7d385f7679dcc2365d30d9.jpg\n",
      "pool-dataset/test/images/P0293_png.rf.670bdc1babb58fa9beba0673452aaa68.jpg\n",
      "pool-dataset/test/images/P0310_png.rf.91537dc6f655b5543151c593a5e8d4cb.jpg\n",
      "pool-dataset/test/images/P0327_png.rf.c54eb0d3cff14d80be1d86d77999624c.jpg\n",
      "pool-dataset/test/images/P0332_png.rf.9ffce3c5306200de4d7be91904fd3598.jpg\n",
      "pool-dataset/test/images/P0334_png.rf.ebc6363807f4aba65c0b5d5fbd695109.jpg\n",
      "pool-dataset/test/images/P0337_png.rf.9314ce6202517690d53b1d86fbc78f71.jpg\n",
      "pool-dataset/test/images/P0344_png.rf.2053712f55ab4fadb1731165d369498e.jpg\n",
      "pool-dataset/test/images/P0373_png.rf.bfb2baa43ecb7115cd9dbe4f961c754f.jpg\n",
      "pool-dataset/test/images/P0378_png.rf.f11a654f22cf67e5341e6ae8a4ef778d.jpg\n",
      "pool-dataset/test/images/P0395_png.rf.fbcc92a93cd897dd7266360299d1b298.jpg\n",
      "pool-dataset/test/images/P0407_png.rf.0b4c15e9741521a6b7c3bd5568dde745.jpg\n",
      "pool-dataset/test/images/P0438_png.rf.b2a3aaf8f00e8b5b7402dd2cc327b09c.jpg\n",
      "pool-dataset/test/images/P0440_png.rf.e5370f40d4fcdf6eb0b7f6ece668b94a.jpg\n",
      "pool-dataset/test/images/P0441_png.rf.d6efce589d6f272e458cd6b14dfda957.jpg\n",
      "pool-dataset/test/images/P0458_png.rf.cbae8cdaed712de706e435940d9819e6.jpg\n",
      "pool-dataset/test/images/P0468_png.rf.2dfddeedd12918ae1e2fc52f7734a4f2.jpg\n",
      "pool-dataset/test/images/P0494_png.rf.0e2b276eb53c757bfd05c8a1a8b7a642.jpg\n",
      "pool-dataset/test/images/P0517_png.rf.c729469438feb9b7b95533d337e992cf.jpg\n",
      "pool-dataset/test/images/P0571_png.rf.f842c5537912613f35969f505e46509c.jpg\n",
      "pool-dataset/test/images/P0617_png.rf.1c02685631355f4ce812c8787a94e3b6.jpg\n",
      "pool-dataset/test/images/P0646_png.rf.37e1863541c6c96b42870dd5a485fcd5.jpg\n",
      "pool-dataset/test/images/P0687_png.rf.f91e10411e3752734caedd412cea016e.jpg\n",
      "pool-dataset/test/images/P0688_png.rf.cae2d860d1274c4b56f3aaeae490183d.jpg\n",
      "pool-dataset/test/images/P0700_png.rf.e1e438ea77b390f19c7a2d86e0e4a573.jpg\n",
      "pool-dataset/test/images/P0722_png.rf.ad9df224ea8b14a163c5caaa57fcc9c1.jpg\n",
      "pool-dataset/test/images/P0732_png.rf.644995385c7257720e4d711386f71972.jpg\n",
      "pool-dataset/test/images/P0733_png.rf.c2dfbb9fce614c454373b1e7908ea113.jpg\n",
      "pool-dataset/test/images/P0769_png.rf.00b1f60e84a956445a1f43f8b57949e1.jpg\n",
      "pool-dataset/test/images/P0777_png.rf.307ecf03ecf60b6476d01621d098f8ad.jpg\n",
      "pool-dataset/test/images/P0786_png.rf.6fd98a092893a28b6a0b8714d56bb55e.jpg\n",
      "pool-dataset/test/images/P0790_png.rf.a298eb2ddc62584e05e84bc25b5a08e8.jpg\n",
      "pool-dataset/test/images/P0794_png.rf.86928e0eabe6bcadfc57bf4fd8b32ed3.jpg\n",
      "pool-dataset/test/images/P0800_png.rf.20132b70738c59bdd9bf9d99ee1adeeb.jpg\n",
      "pool-dataset/test/images/P0805_png.rf.6f7234f5df47e106c31e180cd9686d37.jpg\n",
      "pool-dataset/test/images/P0809_png.rf.e2aa4dafe74ff37eb7f69c55e86b9376.jpg\n",
      "pool-dataset/test/images/P0840_png.rf.20b8de3f98b0a63f7df5eec7afcb3d76.jpg\n",
      "pool-dataset/test/images/P0867_png.rf.e7524aae3380d5feb7e8caadac1a921e.jpg\n",
      "pool-dataset/test/images/P0873_png.rf.1e705b391ee641965acaaaf9c3646d3f.jpg\n",
      "pool-dataset/test/images/P0874_png.rf.83a5d1eb99192c0e02a8ef2dc21a029e.jpg\n",
      "pool-dataset/test/images/P0884_png.rf.9178fda923c530d72294027ed2b438f1.jpg\n",
      "pool-dataset/test/labels/CANNES_TILES_512x512-1001_png.rf.f72c490555cbc99a7395b525fc8a484d.txt\n",
      "pool-dataset/test/labels/CANNES_TILES_512x512-1028_png.rf.20fb178749c02986057f3135f417f778.txt\n",
      "pool-dataset/test/labels/CANNES_TILES_512x512-1045_png.rf.fc04607286a974f65d12d8736e92305f.txt\n",
      "pool-dataset/test/labels/CANNES_TILES_512x512-1070_png.rf.731d4011be04905f2e813793d31b9e28.txt\n",
      "pool-dataset/test/labels/CANNES_TILES_512x512-1073_png.rf.647f3b1c324803990d63e750398475d4.txt\n",
      "pool-dataset/test/labels/CANNES_TILES_512x512-1089_png.rf.0822cd8f3077652c45cb8818bf2e3486.txt\n",
      "pool-dataset/test/labels/CANNES_TILES_512x512-1105_png.rf.c078537856d917397838f8ff5ec8a2ba.txt\n",
      "pool-dataset/test/labels/CANNES_TILES_512x512-1117_png.rf.ceefdcd3c9a3b964bd3eb6b96eccd514.txt\n",
      "pool-dataset/test/labels/CANNES_TILES_512x512-1139_png.rf.6d1539b33b405e743a9de27eaa796b6c.txt\n",
      "pool-dataset/test/labels/CANNES_TILES_512x512-1163_png.rf.4a74dcb9d3470ff9bc9cab29c86b8022.txt\n",
      "pool-dataset/test/labels/CANNES_TILES_512x512-1210_png.rf.ea51804d8d1f3887ce0c32753444dae2.txt\n",
      "pool-dataset/test/labels/CANNES_TILES_512x512-1247_png.rf.922cce954133b1d48c838c32bc7ae914.txt\n",
      "pool-dataset/test/labels/CANNES_TILES_512x512-1253_png.rf.e925e8fa333387ea707c8e06087aa6b2.txt\n",
      "pool-dataset/test/labels/CANNES_TILES_512x512-1262_png.rf.97d5c52ef9d70461af7544ae9025d9dd.txt\n",
      "pool-dataset/test/labels/CANNES_TILES_512x512-1281_png.rf.d1a45e9643e5af74bfcd84b125b353f5.txt\n",
      "pool-dataset/test/labels/CANNES_TILES_512x512-131_png.rf.3989d8e77071f848dfbfbffa567ada2a.txt\n",
      "pool-dataset/test/labels/CANNES_TILES_512x512-1327_png.rf.9bbced676c7e45ea3a6d5b0621338a15.txt\n",
      "pool-dataset/test/labels/CANNES_TILES_512x512-1337_png.rf.052e9686217a5cac1687993ca3bd41b6.txt\n",
      "pool-dataset/test/labels/CANNES_TILES_512x512-1340_png.rf.66ded7c1689b4cff7d0e576a41d69959.txt\n",
      "pool-dataset/test/labels/CANNES_TILES_512x512-1353_png.rf.e841b50abb689ae13361bcfbdbc78973.txt\n",
      "pool-dataset/test/labels/CANNES_TILES_512x512-1358_png.rf.92730cd0c7b121f92e7f93b42bafb12e.txt\n",
      "pool-dataset/test/labels/CANNES_TILES_512x512-1397_png.rf.b2ce6db5dbb4aa68ce15b36e0bad614e.txt\n",
      "pool-dataset/test/labels/CANNES_TILES_512x512-1411_png.rf.cdeaa949c857138a08dcba03d7050382.txt\n",
      "pool-dataset/test/labels/CANNES_TILES_512x512-1452_png.rf.b2d7a8d72f1c7b25c3bf1d38b6d2c9d3.txt\n",
      "pool-dataset/test/labels/CANNES_TILES_512x512-1475_png.rf.2561fb3359f21d3f5951f46694431c47.txt\n",
      "pool-dataset/test/labels/CANNES_TILES_512x512-1502_png.rf.cdf5db7f46b19faee73783c82bdbcae3.txt\n",
      "pool-dataset/test/labels/CANNES_TILES_512x512-1506_png.rf.10b47b77de11fff283529619e30d393a.txt\n",
      "pool-dataset/test/labels/CANNES_TILES_512x512-1511_png.rf.70f46ef0d2046677d0d54480ddaf5844.txt\n",
      "pool-dataset/test/labels/CANNES_TILES_512x512-1518_png.rf.bfc07e29ea4fe4731729bba78d5b452a.txt\n",
      "pool-dataset/test/labels/CANNES_TILES_512x512-1579_png.rf.9be67b75b26cd004615bcdeb84776a4e.txt\n",
      "pool-dataset/test/labels/CANNES_TILES_512x512-1607_png.rf.aa1ecfb03a8ae48901136673ee504b34.txt\n",
      "pool-dataset/test/labels/CANNES_TILES_512x512-1618_png.rf.0b1d88655a6fe5a73d7a003919d86e11.txt\n",
      "pool-dataset/test/labels/CANNES_TILES_512x512-1673_png.rf.f34af340cfce91c05b9ee1606daa9f41.txt\n",
      "pool-dataset/test/labels/CANNES_TILES_512x512-1682_png.rf.56a9966f4bd8955679983a8a3da9623c.txt\n",
      "pool-dataset/test/labels/CANNES_TILES_512x512-170_png.rf.2469c37f10557a85c1325334412f3b7f.txt\n",
      "pool-dataset/test/labels/CANNES_TILES_512x512-1711_png.rf.2de7eda1acf563aedeec44364f7c94a4.txt\n",
      "pool-dataset/test/labels/CANNES_TILES_512x512-1732_png.rf.6d00d78ca9003427500881648f50e6b1.txt\n",
      "pool-dataset/test/labels/CANNES_TILES_512x512-1776_png.rf.2979b25384cf76263e1183513a8308f8.txt\n",
      "pool-dataset/test/labels/CANNES_TILES_512x512-1802_png.rf.2f47f466192410225175baeaf5c3f3d1.txt\n",
      "pool-dataset/test/labels/CANNES_TILES_512x512-1804_png.rf.85133c03572545ffa22b30044cb37fa2.txt\n",
      "pool-dataset/test/labels/CANNES_TILES_512x512-1818_png.rf.200cee29da62d2bf65df75d65bea5e10.txt\n",
      "pool-dataset/test/labels/CANNES_TILES_512x512-1829_png.rf.501496a83e7e4a143fdd93eb96466563.txt\n",
      "pool-dataset/test/labels/CANNES_TILES_512x512-1839_png.rf.2ccb70ebb6d891440570f09b79fc45e4.txt\n",
      "pool-dataset/test/labels/CANNES_TILES_512x512-1842_png.rf.8f3fabca6ee4d7305ee0937909764f36.txt\n",
      "pool-dataset/test/labels/CANNES_TILES_512x512-1848_png.rf.bf9d112bdf0fa55bd5cc08bbb0cb8912.txt\n",
      "pool-dataset/test/labels/CANNES_TILES_512x512-186_png.rf.157c9d92fa3ea6f1445465fbcf737484.txt\n",
      "pool-dataset/test/labels/CANNES_TILES_512x512-1915_png.rf.3465d78963a25f9f577fdbccb8e86f4a.txt\n",
      "pool-dataset/test/labels/CANNES_TILES_512x512-1935_png.rf.195a9844a14610e244912e9bb64163a5.txt\n",
      "pool-dataset/test/labels/CANNES_TILES_512x512-1938_png.rf.fc67098cb1b9fb717af659bf58459ae9.txt\n",
      "pool-dataset/test/labels/CANNES_TILES_512x512-201_png.rf.4892ee610ff54c901bf5d47f85f65768.txt\n",
      "pool-dataset/test/labels/CANNES_TILES_512x512-2030_png.rf.b0caeffd9e2e47e7c5fea3b1a221cc2d.txt\n",
      "pool-dataset/test/labels/CANNES_TILES_512x512-2040_png.rf.ee7470ddeaef521641df1645b241313b.txt\n",
      "pool-dataset/test/labels/CANNES_TILES_512x512-2055_png.rf.b9b8897d7058acfbf182347126c47465.txt\n",
      "pool-dataset/test/labels/CANNES_TILES_512x512-2072_png.rf.335814c55bd6098d1cb009ba4841e6cd.txt\n",
      "pool-dataset/test/labels/CANNES_TILES_512x512-2078_png.rf.3a5a298d3811675ee559ec695324e936.txt\n",
      "pool-dataset/test/labels/CANNES_TILES_512x512-2086_png.rf.250252794ba22c55dfc9b191c03bf02d.txt\n",
      "pool-dataset/test/labels/CANNES_TILES_512x512-211_png.rf.891edd3163aef682b2452b864ca7d1c3.txt\n",
      "pool-dataset/test/labels/CANNES_TILES_512x512-2134_png.rf.a17d025e8498d5d340fcbba016de123f.txt\n",
      "pool-dataset/test/labels/CANNES_TILES_512x512-2135_png.rf.b9cecff10cab3fb6764addc8516d88aa.txt\n",
      "pool-dataset/test/labels/CANNES_TILES_512x512-2139_png.rf.bc292c26da73a4ff853b8351ca30090e.txt\n",
      "pool-dataset/test/labels/CANNES_TILES_512x512-2141_png.rf.4d3e1a64ff078fbb76e089cdc0a00c06.txt\n",
      "pool-dataset/test/labels/CANNES_TILES_512x512-2264_png.rf.27b112f41a89d506af2c0d5045dff95b.txt\n",
      "pool-dataset/test/labels/CANNES_TILES_512x512-252_png.rf.b35ec5ada625cf50e95b4a3a97099951.txt\n",
      "pool-dataset/test/labels/CANNES_TILES_512x512-255_png.rf.fff8ae2185f72c6e45e58c81b1025f1b.txt\n",
      "pool-dataset/test/labels/CANNES_TILES_512x512-25_png.rf.4f3f641dde834bb3101655626d5e413c.txt\n",
      "pool-dataset/test/labels/CANNES_TILES_512x512-266_png.rf.6174d60f7e0d4eb8f48309f54c5dae51.txt\n",
      "pool-dataset/test/labels/CANNES_TILES_512x512-27_png.rf.fe62e1019d2598fef43f3a8057a4d623.txt\n",
      "pool-dataset/test/labels/CANNES_TILES_512x512-317_png.rf.c0299a1ee388c7363288c01b5a4678eb.txt\n",
      "pool-dataset/test/labels/CANNES_TILES_512x512-359_png.rf.360223e94aad8563d06f2587c6de8660.txt\n",
      "pool-dataset/test/labels/CANNES_TILES_512x512-364_png.rf.eab9313e314ab097e6fbb75cad74acda.txt\n",
      "pool-dataset/test/labels/CANNES_TILES_512x512-375_png.rf.bc6c7fc8b2a5f3afa33819b096229e5c.txt\n",
      "pool-dataset/test/labels/CANNES_TILES_512x512-405_png.rf.1bc80fd0d75dcd4f9b4086f10adde05d.txt\n",
      "pool-dataset/test/labels/CANNES_TILES_512x512-408_png.rf.7a7816d5386783415022d844bc289f73.txt\n",
      "pool-dataset/test/labels/CANNES_TILES_512x512-409_png.rf.fe1055c610c568848749b2ef01b911db.txt\n",
      "pool-dataset/test/labels/CANNES_TILES_512x512-413_png.rf.9861ba7757dd12fc3adbd6193b595723.txt\n",
      "pool-dataset/test/labels/CANNES_TILES_512x512-426_png.rf.9b23a004e0a5475cd4a3f6445663c57f.txt\n",
      "pool-dataset/test/labels/CANNES_TILES_512x512-452_png.rf.bff9a6d4b3339839fc1b892fe865f1c0.txt\n",
      "pool-dataset/test/labels/CANNES_TILES_512x512-476_png.rf.d42d8af6b33a0161f77a38cfa4b53898.txt\n",
      "pool-dataset/test/labels/CANNES_TILES_512x512-486_png.rf.09e7982c63f616a164145f904deab5da.txt\n",
      "pool-dataset/test/labels/CANNES_TILES_512x512-488_png.rf.aeb6240cf9b189da5cc503538d9ca7f9.txt\n",
      "pool-dataset/test/labels/CANNES_TILES_512x512-515_png.rf.edf6984100738c990f504e2278000533.txt\n",
      "pool-dataset/test/labels/CANNES_TILES_512x512-531_png.rf.6b99651eadf6d8cce12b6056978a76b7.txt\n",
      "pool-dataset/test/labels/CANNES_TILES_512x512-533_png.rf.07f27f2a335db7eea3dcc9cc3ebc07da.txt\n",
      "pool-dataset/test/labels/CANNES_TILES_512x512-568_png.rf.3c3e11bead33ca35e4a4d962cd1071f7.txt\n",
      "pool-dataset/test/labels/CANNES_TILES_512x512-604_png.rf.e1f80e47183e32beec4132c97604237b.txt\n",
      "pool-dataset/test/labels/CANNES_TILES_512x512-61_png.rf.329cd68593c260e165deae0fdc4faaf1.txt\n",
      "pool-dataset/test/labels/CANNES_TILES_512x512-620_png.rf.1970674b3e9704ab8d50d18c923e7311.txt\n",
      "pool-dataset/test/labels/CANNES_TILES_512x512-719_png.rf.4eab8e0529e8615ffd0db683d2410735.txt\n",
      "pool-dataset/test/labels/CANNES_TILES_512x512-724_png.rf.5832f5ef185a48defecbfd639c02262c.txt\n",
      "pool-dataset/test/labels/CANNES_TILES_512x512-732_png.rf.5701aa10a31674eb3be4d91c52769b34.txt\n",
      "pool-dataset/test/labels/CANNES_TILES_512x512-742_png.rf.27807f52d7f1fab70f8d13ddab1ca2b9.txt\n",
      "pool-dataset/test/labels/CANNES_TILES_512x512-74_png.rf.84036cfc408433c8deff03dc91b884c1.txt\n",
      "pool-dataset/test/labels/CANNES_TILES_512x512-767_png.rf.ae10f0058b9466590a7673dfa8d93ca4.txt\n",
      "pool-dataset/test/labels/CANNES_TILES_512x512-77_png.rf.4ac14372ca9e46687ab296b9b7f56e44.txt\n",
      "pool-dataset/test/labels/CANNES_TILES_512x512-791_png.rf.ddc32cd5e13552419b280dd1a6aa381e.txt\n",
      "pool-dataset/test/labels/CANNES_TILES_512x512-803_png.rf.189ee78d5556dae00bd4ae8225f2fb62.txt\n",
      "pool-dataset/test/labels/CANNES_TILES_512x512-80_png.rf.b5aee9a0ccbdad6556d6943c6d31abae.txt\n",
      "pool-dataset/test/labels/CANNES_TILES_512x512-815_png.rf.bdaeea8078f099972759dc37cae2ce1b.txt\n",
      "pool-dataset/test/labels/CANNES_TILES_512x512-818_png.rf.1c7935dd05d092fa413b493410c105a7.txt\n",
      "pool-dataset/test/labels/CANNES_TILES_512x512-830_png.rf.d25e45c7d6eb0a03b45f4d9d7dbb538a.txt\n",
      "pool-dataset/test/labels/CANNES_TILES_512x512-836_png.rf.ab145aa8052cc7b66380e0f595166b16.txt\n",
      "pool-dataset/test/labels/CANNES_TILES_512x512-859_png.rf.3a45d0ab43aa91c02c732a9e0158487c.txt\n",
      "pool-dataset/test/labels/CANNES_TILES_512x512-865_png.rf.741ceb4a0e6ce345f1d4efb4628d3f69.txt\n",
      "pool-dataset/test/labels/CANNES_TILES_512x512-881_png.rf.a1cc56d8fc953e76a52466fed7e3e8ac.txt\n",
      "pool-dataset/test/labels/CANNES_TILES_512x512-892_png.rf.3fe95986ac208317c604b2c8735f8468.txt\n",
      "pool-dataset/test/labels/CANNES_TILES_512x512-910_png.rf.bd4db5e00736510027ad91cab33ed5e1.txt\n",
      "pool-dataset/test/labels/CANNES_TILES_512x512-933_png.rf.7c1ced21d01f1d84b1de4599df669cf5.txt\n",
      "pool-dataset/test/labels/CANNES_TILES_512x512-944_png.rf.4c7a504ba3ee20bb7d5a95bd5bf05eff.txt\n",
      "pool-dataset/test/labels/CANNES_TILES_512x512-946_png.rf.754922182fdb75c49c0b3754ff9c2711.txt\n",
      "pool-dataset/test/labels/CANNES_TILES_512x512-951_png.rf.ad1628c4b032ebf7343cee0c87943a39.txt\n",
      "pool-dataset/test/labels/CANNES_TILES_512x512-955_png.rf.efacd7f68c1a32cfcf46f0e1d3551576.txt\n",
      "pool-dataset/test/labels/CANNES_TILES_512x512-958_png.rf.4fadb557b80660f3405913e875008914.txt\n",
      "pool-dataset/test/labels/CANNES_TILES_512x512-960_png.rf.41a3a3874c550fd4d0731cb0870ab669.txt\n",
      "pool-dataset/test/labels/CANNES_TILES_512x512-976_png.rf.688c3fdf95d858264f4584558609d532.txt\n",
      "pool-dataset/test/labels/CANNES_TILES_512x512-981_png.rf.a5408e3b5eb131d9e70f19c6a359cf91.txt\n",
      "pool-dataset/test/labels/P0061_png.rf.0acba14653d461c664145524a7c46d73.txt\n",
      "pool-dataset/test/labels/P0063_png.rf.3d821ea696d618b06ff945685f433beb.txt\n",
      "pool-dataset/test/labels/P0064_png.rf.fd1c8325ba4c512180c4ac8ba3c9913a.txt\n",
      "pool-dataset/test/labels/P0065_png.rf.d8d9fb34ee876fb2e8de896f2dc162f0.txt\n",
      "pool-dataset/test/labels/P0082_png.rf.a8ea1292ba4951dc219ef1899a7bfb9e.txt\n",
      "pool-dataset/test/labels/P0083_png.rf.f0a13efaf8d9e55023149d0a057e3cf5.txt\n",
      "pool-dataset/test/labels/P0111_png.rf.c01b7c3f76695d1010f96cb92b804ad6.txt\n",
      "pool-dataset/test/labels/P0133_png.rf.858fc32d638d048d9412675442770bba.txt\n",
      "pool-dataset/test/labels/P0142_png.rf.0e4defc85352a06d607a0c092b99a1e6.txt\n",
      "pool-dataset/test/labels/P0201_png.rf.7be5a5c415fcb8ae595143cc6e98c4c5.txt\n",
      "pool-dataset/test/labels/P0222_png.rf.70fe59e57515700d982601df0e801b01.txt\n",
      "pool-dataset/test/labels/P0225_png.rf.036f648764f803b52285766076690f70.txt\n",
      "pool-dataset/test/labels/P0227_png.rf.137bbee935e0e086cbd2cfebf7bb9148.txt\n",
      "pool-dataset/test/labels/P0236_png.rf.2706a1b9eb5fc48d813c142df9ff9767.txt\n",
      "pool-dataset/test/labels/P0252_png.rf.0f87ade15b6ed9516d4a7ccd81ff732d.txt\n",
      "pool-dataset/test/labels/P0285_png.rf.3a3c58862a2b0b6ee09cb0b00c4d7dc2.txt\n",
      "pool-dataset/test/labels/P0288_png.rf.31d0b1360b7d385f7679dcc2365d30d9.txt\n",
      "pool-dataset/test/labels/P0293_png.rf.670bdc1babb58fa9beba0673452aaa68.txt\n",
      "pool-dataset/test/labels/P0310_png.rf.91537dc6f655b5543151c593a5e8d4cb.txt\n",
      "pool-dataset/test/labels/P0327_png.rf.c54eb0d3cff14d80be1d86d77999624c.txt\n",
      "pool-dataset/test/labels/P0332_png.rf.9ffce3c5306200de4d7be91904fd3598.txt\n",
      "pool-dataset/test/labels/P0334_png.rf.ebc6363807f4aba65c0b5d5fbd695109.txt\n",
      "pool-dataset/test/labels/P0337_png.rf.9314ce6202517690d53b1d86fbc78f71.txt\n",
      "pool-dataset/test/labels/P0344_png.rf.2053712f55ab4fadb1731165d369498e.txt\n",
      "pool-dataset/test/labels/P0373_png.rf.bfb2baa43ecb7115cd9dbe4f961c754f.txt\n",
      "pool-dataset/test/labels/P0378_png.rf.f11a654f22cf67e5341e6ae8a4ef778d.txt\n",
      "pool-dataset/test/labels/P0395_png.rf.fbcc92a93cd897dd7266360299d1b298.txt\n",
      "pool-dataset/test/labels/P0407_png.rf.0b4c15e9741521a6b7c3bd5568dde745.txt\n",
      "pool-dataset/test/labels/P0438_png.rf.b2a3aaf8f00e8b5b7402dd2cc327b09c.txt\n",
      "pool-dataset/test/labels/P0440_png.rf.e5370f40d4fcdf6eb0b7f6ece668b94a.txt\n",
      "pool-dataset/test/labels/P0441_png.rf.d6efce589d6f272e458cd6b14dfda957.txt\n",
      "pool-dataset/test/labels/P0458_png.rf.cbae8cdaed712de706e435940d9819e6.txt\n",
      "pool-dataset/test/labels/P0468_png.rf.2dfddeedd12918ae1e2fc52f7734a4f2.txt\n",
      "pool-dataset/test/labels/P0494_png.rf.0e2b276eb53c757bfd05c8a1a8b7a642.txt\n",
      "pool-dataset/test/labels/P0517_png.rf.c729469438feb9b7b95533d337e992cf.txt\n",
      "pool-dataset/test/labels/P0571_png.rf.f842c5537912613f35969f505e46509c.txt\n",
      "pool-dataset/test/labels/P0617_png.rf.1c02685631355f4ce812c8787a94e3b6.txt\n",
      "pool-dataset/test/labels/P0646_png.rf.37e1863541c6c96b42870dd5a485fcd5.txt\n",
      "pool-dataset/test/labels/P0687_png.rf.f91e10411e3752734caedd412cea016e.txt\n",
      "pool-dataset/test/labels/P0688_png.rf.cae2d860d1274c4b56f3aaeae490183d.txt\n",
      "pool-dataset/test/labels/P0700_png.rf.e1e438ea77b390f19c7a2d86e0e4a573.txt\n",
      "pool-dataset/test/labels/P0722_png.rf.ad9df224ea8b14a163c5caaa57fcc9c1.txt\n",
      "pool-dataset/test/labels/P0732_png.rf.644995385c7257720e4d711386f71972.txt\n",
      "pool-dataset/test/labels/P0733_png.rf.c2dfbb9fce614c454373b1e7908ea113.txt\n",
      "pool-dataset/test/labels/P0769_png.rf.00b1f60e84a956445a1f43f8b57949e1.txt\n",
      "pool-dataset/test/labels/P0777_png.rf.307ecf03ecf60b6476d01621d098f8ad.txt\n",
      "pool-dataset/test/labels/P0786_png.rf.6fd98a092893a28b6a0b8714d56bb55e.txt\n",
      "pool-dataset/test/labels/P0790_png.rf.a298eb2ddc62584e05e84bc25b5a08e8.txt\n",
      "pool-dataset/test/labels/P0794_png.rf.86928e0eabe6bcadfc57bf4fd8b32ed3.txt\n",
      "pool-dataset/test/labels/P0800_png.rf.20132b70738c59bdd9bf9d99ee1adeeb.txt\n",
      "pool-dataset/test/labels/P0805_png.rf.6f7234f5df47e106c31e180cd9686d37.txt\n",
      "pool-dataset/test/labels/P0809_png.rf.e2aa4dafe74ff37eb7f69c55e86b9376.txt\n",
      "pool-dataset/test/labels/P0840_png.rf.20b8de3f98b0a63f7df5eec7afcb3d76.txt\n",
      "pool-dataset/test/labels/P0867_png.rf.e7524aae3380d5feb7e8caadac1a921e.txt\n",
      "pool-dataset/test/labels/P0873_png.rf.1e705b391ee641965acaaaf9c3646d3f.txt\n",
      "pool-dataset/test/labels/P0874_png.rf.83a5d1eb99192c0e02a8ef2dc21a029e.txt\n",
      "pool-dataset/test/labels/P0884_png.rf.9178fda923c530d72294027ed2b438f1.txt\n",
      "pool-dataset/train/labels.cache\n",
      "pool-dataset/train/images/CANNES_TILES_512x512-1000_png.rf.c4dbf0884a9b547d127c6cbba62903c2.jpg\n",
      "pool-dataset/train/images/CANNES_TILES_512x512-1004_png.rf.b174964b41042d2bb3be64b714631074.jpg\n",
      "pool-dataset/train/images/CANNES_TILES_512x512-1009_png.rf.8afaf3c822c4893525bb1af5a4ae88f0.jpg\n",
      "pool-dataset/train/images/CANNES_TILES_512x512-1017_png.rf.dfcc2ff34135bd095ccadc681491c209.jpg\n",
      "pool-dataset/train/images/CANNES_TILES_512x512-1018_png.rf.a616271e6dda49d2906c362be07ef12a.jpg\n",
      "pool-dataset/train/images/CANNES_TILES_512x512-1019_png.rf.a6c3bdaaaff1302392ae0568628c38ed.jpg\n",
      "pool-dataset/train/images/CANNES_TILES_512x512-1026_png.rf.cc0a1ede47f753c385a682926fc984c2.jpg\n",
      "pool-dataset/train/images/CANNES_TILES_512x512-102_png.rf.7480432098537b3d021ea6568d70141d.jpg\n",
      "pool-dataset/train/images/CANNES_TILES_512x512-1035_png.rf.005bbf02ce756afa7faa51622bba2f08.jpg\n",
      "pool-dataset/train/images/CANNES_TILES_512x512-1040_png.rf.30c4886abc196b797dbcb95d4e836512.jpg\n",
      "pool-dataset/train/images/CANNES_TILES_512x512-1042_png.rf.02ebc0b47b698736ea747feb79d2f0f5.jpg\n",
      "pool-dataset/train/images/CANNES_TILES_512x512-1043_png.rf.584a48df2796a1a79a919a29460ab5f8.jpg\n",
      "pool-dataset/train/images/CANNES_TILES_512x512-1046_png.rf.27e839d1b3e532e39566b75b101ef433.jpg\n",
      "pool-dataset/train/images/CANNES_TILES_512x512-1047_png.rf.ca900d7f168504a0938c8ac2ade9be21.jpg\n",
      "pool-dataset/train/images/CANNES_TILES_512x512-1048_png.rf.0ab3f44e96dc54db96e19a7bd6d49371.jpg\n",
      "pool-dataset/train/images/CANNES_TILES_512x512-1049_png.rf.8316d0b32fe0532a713867210b66f917.jpg\n",
      "pool-dataset/train/images/CANNES_TILES_512x512-1050_png.rf.1120c03da1f43f2b4b4c3e6238d73650.jpg\n",
      "pool-dataset/train/images/CANNES_TILES_512x512-1051_png.rf.78cf71d2575e4b6fe753c3a0a9ea3a4f.jpg\n",
      "pool-dataset/train/images/CANNES_TILES_512x512-1052_png.rf.94ccf86ad112553a5fe797f155670c9c.jpg\n",
      "pool-dataset/train/images/CANNES_TILES_512x512-1053_png.rf.773fb8545706e992a9ea897ea032efc2.jpg\n",
      "pool-dataset/train/images/CANNES_TILES_512x512-1056_png.rf.56a21b76714151285be633d811387d7a.jpg\n",
      "pool-dataset/train/images/CANNES_TILES_512x512-1057_png.rf.031d880676c85ca5ce04055d633f5f86.jpg\n",
      "pool-dataset/train/images/CANNES_TILES_512x512-1058_png.rf.cd1cda1deac04c5fc527f8f88c909e8d.jpg\n",
      "pool-dataset/train/images/CANNES_TILES_512x512-1059_png.rf.9ecc7f52863955aad9809efb29757ef7.jpg\n",
      "pool-dataset/train/images/CANNES_TILES_512x512-105_png.rf.1c19303fbd9359fcac6f2336139e1840.jpg\n",
      "pool-dataset/train/images/CANNES_TILES_512x512-1061_png.rf.c76da085d516570419f9dd5ccf527b9d.jpg\n",
      "pool-dataset/train/images/CANNES_TILES_512x512-1062_png.rf.f6a3a74c1c79ee3581809a1635ddb680.jpg\n",
      "pool-dataset/train/images/CANNES_TILES_512x512-1068_png.rf.da819e8115037be6133af5d20e28ecdb.jpg\n",
      "pool-dataset/train/images/CANNES_TILES_512x512-1069_png.rf.5929c7cf0f1cba6c92cfc4323bb4c017.jpg\n",
      "pool-dataset/train/images/CANNES_TILES_512x512-1071_png.rf.b79016703b3d5952acd4ee5fbe9bf884.jpg\n",
      "pool-dataset/train/images/CANNES_TILES_512x512-1074_png.rf.cead33584712ff36070c3626ee0704a4.jpg\n",
      "pool-dataset/train/images/CANNES_TILES_512x512-1076_png.rf.17345e06b49e3a6374cd9ad038c4f066.jpg\n",
      "pool-dataset/train/images/CANNES_TILES_512x512-1077_png.rf.dd0376fbe112a350794bfe456aab6316.jpg\n",
      "pool-dataset/train/images/CANNES_TILES_512x512-1078_png.rf.d694019f6e38503765a644b8c15205ee.jpg\n",
      "pool-dataset/train/images/CANNES_TILES_512x512-108_png.rf.6b3454ff1a707d7a93b70afc5b5a2784.jpg\n",
      "pool-dataset/train/images/CANNES_TILES_512x512-1091_png.rf.6dbba588f7abf77e8f9921fa742267a2.jpg\n",
      "pool-dataset/train/images/CANNES_TILES_512x512-1092_png.rf.0a74b6bb2bdd463a14e3ffca83ace02a.jpg\n",
      "pool-dataset/train/images/CANNES_TILES_512x512-1097_png.rf.c69e74686f8623f745c1757697af732c.jpg\n",
      "pool-dataset/train/images/CANNES_TILES_512x512-1099_png.rf.10d7c057b32c9e7e7a693e9a54cb7cb6.jpg\n",
      "pool-dataset/train/images/CANNES_TILES_512x512-109_png.rf.09d03923825eb15bd5e632b21c744b86.jpg\n",
      "pool-dataset/train/images/CANNES_TILES_512x512-10_png.rf.213f192acfa61f9f590ffb844916eca4.jpg\n",
      "pool-dataset/train/images/CANNES_TILES_512x512-1101_png.rf.b4a1b13a59d4b6c0edf0529f7de9055f.jpg\n",
      "pool-dataset/train/images/CANNES_TILES_512x512-1107_png.rf.46fecd79156cfa2c44aae92529cb729b.jpg\n",
      "pool-dataset/train/images/CANNES_TILES_512x512-1108_png.rf.c32fa75a9ab0ca34143e73f344658930.jpg\n",
      "pool-dataset/train/images/CANNES_TILES_512x512-1109_png.rf.321c950fd6da0e3e39c0519eea636618.jpg\n",
      "pool-dataset/train/images/CANNES_TILES_512x512-110_png.rf.af065e948cd4528be1e47659dc716cff.jpg\n",
      "pool-dataset/train/images/CANNES_TILES_512x512-1110_png.rf.66668b1851c85af0ba2d86455349747d.jpg\n",
      "pool-dataset/train/images/CANNES_TILES_512x512-1111_png.rf.0b3b819222c9f8ad3e37bd4520bf5571.jpg\n",
      "pool-dataset/train/images/CANNES_TILES_512x512-1114_png.rf.eff6bd0d9e207414befe538f000d8b49.jpg\n",
      "pool-dataset/train/images/CANNES_TILES_512x512-1116_png.rf.0e75d667f547002a76d1bf42471fdc5a.jpg\n",
      "pool-dataset/train/images/CANNES_TILES_512x512-1118_png.rf.d0d0c21db06f8bf6e7028ed21f327ec7.jpg\n",
      "pool-dataset/train/images/CANNES_TILES_512x512-1119_png.rf.20e2481242fdb6d69efe784487eb0f6d.jpg\n",
      "pool-dataset/train/images/CANNES_TILES_512x512-1122_png.rf.5c34b11fade8763429ba47261df28de5.jpg\n",
      "pool-dataset/train/images/CANNES_TILES_512x512-1127_png.rf.90a396d242b7acd9e58c72b8b84f9ba3.jpg\n",
      "pool-dataset/train/images/CANNES_TILES_512x512-1131_png.rf.f39d88041fd6ec5e65322b932a6b5a7c.jpg\n",
      "pool-dataset/train/images/CANNES_TILES_512x512-113_png.rf.15cff23b73fdf06667f34d112078dcce.jpg\n",
      "pool-dataset/train/images/CANNES_TILES_512x512-1140_png.rf.b00ac1604eab8b8dd850f351a02a02f2.jpg\n",
      "pool-dataset/train/images/CANNES_TILES_512x512-1141_png.rf.5b52ce06c3a440b71ffb8eb3e10df421.jpg\n",
      "pool-dataset/train/images/CANNES_TILES_512x512-1149_png.rf.056309bab3ab7fdd472da540091fe883.jpg\n",
      "pool-dataset/train/images/CANNES_TILES_512x512-114_png.rf.2193e30fc74b483f0d8e9ce8344a3ef2.jpg\n",
      "pool-dataset/train/images/CANNES_TILES_512x512-1155_png.rf.36a39fc3a154dc798d0d4f25750ced69.jpg\n",
      "pool-dataset/train/images/CANNES_TILES_512x512-1156_png.rf.4fecc643a83f4dab25c2e48aa10c1a07.jpg\n",
      "pool-dataset/train/images/CANNES_TILES_512x512-1160_png.rf.ef5b982851158f7f692e73a544ebb9f7.jpg\n",
      "pool-dataset/train/images/CANNES_TILES_512x512-1161_png.rf.3accf0cefcb295044b88b81477448962.jpg\n",
      "pool-dataset/train/images/CANNES_TILES_512x512-1162_png.rf.e13c12205fa64f5a0d3e6a6f1e71d303.jpg\n",
      "pool-dataset/train/images/CANNES_TILES_512x512-1164_png.rf.e4b7c0c8a687fe4e91fd80855e54ba73.jpg\n",
      "pool-dataset/train/images/CANNES_TILES_512x512-1165_png.rf.c59769bc7dd53fca8a9eb69717aa32a5.jpg\n",
      "pool-dataset/train/images/CANNES_TILES_512x512-1167_png.rf.42659412f095e25beb36d1b1363323a0.jpg\n",
      "pool-dataset/train/images/CANNES_TILES_512x512-1169_png.rf.4bcd27ad5614090acc207a7b5178f41c.jpg\n",
      "pool-dataset/train/images/CANNES_TILES_512x512-1172_png.rf.ee66014894cb0218752e480fa8eabe1e.jpg\n",
      "pool-dataset/train/images/CANNES_TILES_512x512-1174_png.rf.0b90d4c404a90a382e9083183ade07bc.jpg\n",
      "pool-dataset/train/images/CANNES_TILES_512x512-1175_png.rf.dfd395fe089dcd15a9493c9f8178c053.jpg\n",
      "pool-dataset/train/images/CANNES_TILES_512x512-1183_png.rf.c2a209897362e61b61449718d79c0a33.jpg\n",
      "pool-dataset/train/images/CANNES_TILES_512x512-1187_png.rf.4699b13e4fd70073fcd0bba618bc61d1.jpg\n",
      "pool-dataset/train/images/CANNES_TILES_512x512-1188_png.rf.1f42803ff580f206e587606aa3ef075c.jpg\n",
      "pool-dataset/train/images/CANNES_TILES_512x512-1189_png.rf.68d4ceba7c578971853ee5fbdbaa7742.jpg\n",
      "pool-dataset/train/images/CANNES_TILES_512x512-118_png.rf.bead101dc1795e7cc0e61f12baff71c0.jpg\n",
      "pool-dataset/train/images/CANNES_TILES_512x512-1191_png.rf.d797ce0f816d04fab15d5af7e354b01c.jpg\n",
      "pool-dataset/train/images/CANNES_TILES_512x512-1197_png.rf.3075495a1af5112354e3784765be86fc.jpg\n",
      "pool-dataset/train/images/CANNES_TILES_512x512-1198_png.rf.cfa6c0f8c608601fac8136b1bd46e7ce.jpg\n",
      "pool-dataset/train/images/CANNES_TILES_512x512-1199_png.rf.5177f285c50450059f291955011dc32d.jpg\n",
      "pool-dataset/train/images/CANNES_TILES_512x512-119_png.rf.d3321084e555f3bf4ca3f755f5ddb51e.jpg\n",
      "pool-dataset/train/images/CANNES_TILES_512x512-11_png.rf.b2acc3653b6fb53b1f590949dc60c6f6.jpg\n",
      "pool-dataset/train/images/CANNES_TILES_512x512-1200_png.rf.dadef51575b2214f0974ece67619661b.jpg\n",
      "pool-dataset/train/images/CANNES_TILES_512x512-1201_png.rf.9fd9c77a84bb65b42f12f68e0fc1dc0b.jpg\n",
      "pool-dataset/train/images/CANNES_TILES_512x512-1204_png.rf.d1b28a0b7e4d69a987379f740bc5b2af.jpg\n",
      "pool-dataset/train/images/CANNES_TILES_512x512-1205_png.rf.03fe4fd63a4e5d4d0ca192b3468e9a6b.jpg\n",
      "pool-dataset/train/images/CANNES_TILES_512x512-1206_png.rf.f4656f63e6e02a19d762656cb9e2ecec.jpg\n",
      "pool-dataset/train/images/CANNES_TILES_512x512-1207_png.rf.3a55b7b8cf733152638a831f09865281.jpg\n",
      "pool-dataset/train/images/CANNES_TILES_512x512-1208_png.rf.5f2db146cae06b18ab94a235e633e24f.jpg\n",
      "pool-dataset/train/images/CANNES_TILES_512x512-1209_png.rf.6cbd3c5d17e1f36c59063f74f12645c8.jpg\n",
      "pool-dataset/train/images/CANNES_TILES_512x512-120_png.rf.e5c7b75590b69931614f31eda814dbc3.jpg\n",
      "pool-dataset/train/images/CANNES_TILES_512x512-1211_png.rf.71dd3f06eed2e7922d2fbf9485332f52.jpg\n",
      "pool-dataset/train/images/CANNES_TILES_512x512-1212_png.rf.649e2749fecb6e783f9c568e8ffd600c.jpg\n",
      "pool-dataset/train/images/CANNES_TILES_512x512-1213_png.rf.d54c32e520fa11a8b6343b97f63452d1.jpg\n",
      "pool-dataset/train/images/CANNES_TILES_512x512-1214_png.rf.5a08898f58a7055877205bccf50e8f24.jpg\n",
      "pool-dataset/train/images/CANNES_TILES_512x512-1215_png.rf.427374b9d98a1cf933a5036b15c72c6d.jpg\n",
      "pool-dataset/train/images/CANNES_TILES_512x512-1216_png.rf.a99490086f3f9d7f98684fec5e7e2455.jpg\n",
      "pool-dataset/train/images/CANNES_TILES_512x512-1217_png.rf.9cede97a093aa4a0e630a77f9ecd79f5.jpg\n",
      "pool-dataset/train/images/CANNES_TILES_512x512-121_png.rf.90b14926204867b3c20c1392640a450c.jpg\n",
      "pool-dataset/train/images/CANNES_TILES_512x512-1220_png.rf.3721209597efab8edfac39ee664157df.jpg\n",
      "pool-dataset/train/images/CANNES_TILES_512x512-1221_png.rf.eaf6662a1455ee09d57031ae7cb1bdba.jpg\n",
      "pool-dataset/train/images/CANNES_TILES_512x512-1222_png.rf.de312cc4105ce4ff19dccb5087a34efb.jpg\n",
      "pool-dataset/train/images/CANNES_TILES_512x512-1225_png.rf.434fe5da24df71f6cc7bf6c38439b788.jpg\n",
      "pool-dataset/train/images/CANNES_TILES_512x512-122_png.rf.28831e79da54484f43fad445126bcf97.jpg\n",
      "pool-dataset/train/images/CANNES_TILES_512x512-1237_png.rf.86c26d029802ec2d7219f70e820eb699.jpg\n",
      "pool-dataset/train/images/CANNES_TILES_512x512-123_png.rf.8168c3a136227ebf131f1d4e8c844fff.jpg\n",
      "pool-dataset/train/images/CANNES_TILES_512x512-1241_png.rf.e1f5756dcf7268f7ecc97ae4349ee79a.jpg\n",
      "pool-dataset/train/images/CANNES_TILES_512x512-1246_png.rf.771e71a76517d95cacc4e95cd40f7280.jpg\n",
      "pool-dataset/train/images/CANNES_TILES_512x512-124_png.rf.7524d066cba310dc64de4687eaf8073c.jpg\n",
      "pool-dataset/train/images/CANNES_TILES_512x512-1252_png.rf.93c208b2b3a0ff257ea8112b5b7d71ea.jpg\n",
      "pool-dataset/train/images/CANNES_TILES_512x512-1255_png.rf.9c51ed94de7322982defe7bce06fb2e3.jpg\n",
      "pool-dataset/train/images/CANNES_TILES_512x512-1256_png.rf.60982b97419609676376a9cc8a345e94.jpg\n",
      "pool-dataset/train/images/CANNES_TILES_512x512-1258_png.rf.042feaffe06d738d154e7ca1e5780ead.jpg\n",
      "pool-dataset/train/images/CANNES_TILES_512x512-1259_png.rf.e7e2d23efa7ab0849d3468239cca073a.jpg\n",
      "pool-dataset/train/images/CANNES_TILES_512x512-1260_png.rf.546f055af1485b50987993337012147e.jpg\n",
      "pool-dataset/train/images/CANNES_TILES_512x512-1263_png.rf.d534ef4492a2100879b4cb9fd6ae6fa5.jpg\n",
      "pool-dataset/train/images/CANNES_TILES_512x512-1266_png.rf.ccbadd22811c670bbadf1ce2a7b9fb9e.jpg\n",
      "pool-dataset/train/images/CANNES_TILES_512x512-1267_png.rf.3ebbf415ab19f963e734c7f02c0f16be.jpg\n",
      "pool-dataset/train/images/CANNES_TILES_512x512-1269_png.rf.021111534fef6aa7d2da1ffe08c60fe4.jpg\n",
      "pool-dataset/train/images/CANNES_TILES_512x512-126_png.rf.14eb40246560df57e3a98fc1ca45c2f2.jpg\n",
      "pool-dataset/train/images/CANNES_TILES_512x512-1272_png.rf.d8c61d1069674f9e870442adcd3b75fa.jpg\n",
      "pool-dataset/train/images/CANNES_TILES_512x512-1278_png.rf.58413f2e1f45e6031be141cea91dc58f.jpg\n",
      "pool-dataset/train/images/CANNES_TILES_512x512-1279_png.rf.64a6be41506e5246751e1a7c94040d72.jpg\n",
      "pool-dataset/train/images/CANNES_TILES_512x512-127_png.rf.241807d545c16834cf5df2af809013c9.jpg\n",
      "pool-dataset/train/images/CANNES_TILES_512x512-1282_png.rf.3ffa70a1e44ebcd87203c4702bcf7c78.jpg\n",
      "pool-dataset/train/images/CANNES_TILES_512x512-1286_png.rf.5bdbdef280e6e29b36502f565094b59f.jpg\n",
      "pool-dataset/train/images/CANNES_TILES_512x512-1290_png.rf.411233faaf0892502c42091e1f1c3491.jpg\n",
      "pool-dataset/train/images/CANNES_TILES_512x512-1291_png.rf.625217803488fd13c741685de685aad1.jpg\n",
      "pool-dataset/train/images/CANNES_TILES_512x512-1292_png.rf.e62dbcad18ff9dc34f85ad30239cd92d.jpg\n",
      "pool-dataset/train/images/CANNES_TILES_512x512-129_png.rf.82c44c25ef5fe8806c078d25bdd8c70a.jpg\n",
      "pool-dataset/train/images/CANNES_TILES_512x512-12_png.rf.0913001f026043bdf190fbcf808de482.jpg\n",
      "pool-dataset/train/images/CANNES_TILES_512x512-1304_png.rf.41daebae1d056aa071a58a5a88faea51.jpg\n",
      "pool-dataset/train/images/CANNES_TILES_512x512-1305_png.rf.35e97b430f4ee2824aab7feaf7fb78ce.jpg\n",
      "pool-dataset/train/images/CANNES_TILES_512x512-1307_png.rf.a2a69cd727424f03c3f4af6c65873888.jpg\n",
      "pool-dataset/train/images/CANNES_TILES_512x512-1308_png.rf.66f334efeaa72e9ce4cc86dddf1948ca.jpg\n",
      "pool-dataset/train/images/CANNES_TILES_512x512-1309_png.rf.9161d3abf0770d554a204898e09ec99d.jpg\n",
      "pool-dataset/train/images/CANNES_TILES_512x512-130_png.rf.345bc79585db5b9e7eca0adf08f5c9a4.jpg\n",
      "pool-dataset/train/images/CANNES_TILES_512x512-1310_png.rf.18539fac1cf3641de86d2dcd47aacc77.jpg\n",
      "pool-dataset/train/images/CANNES_TILES_512x512-1311_png.rf.bab46b8c865930e07c8d85829b91b05b.jpg\n",
      "pool-dataset/train/images/CANNES_TILES_512x512-1312_png.rf.12e8ba53e767032230ae59b9e995f2d7.jpg\n",
      "pool-dataset/train/images/CANNES_TILES_512x512-1314_png.rf.da6ff75a5875a833424e5c56c45eddaf.jpg\n",
      "pool-dataset/train/images/CANNES_TILES_512x512-1322_png.rf.4a999de96b3740f6a8e864ab902be2cb.jpg\n",
      "pool-dataset/train/images/CANNES_TILES_512x512-132_png.rf.807ef05a35117b35841a1eb76737aeca.jpg\n",
      "pool-dataset/train/images/CANNES_TILES_512x512-1331_png.rf.fcc0e69d265d2815b117a1a6cc0676b3.jpg\n",
      "pool-dataset/train/images/CANNES_TILES_512x512-1335_png.rf.fde3ce3dc44d3a6fb409225224f42070.jpg\n",
      "pool-dataset/train/images/CANNES_TILES_512x512-1336_png.rf.68eabb7a2bbb22fc00711e17897f8b5d.jpg\n",
      "pool-dataset/train/images/CANNES_TILES_512x512-1339_png.rf.7c4238a16b558a5ca9b15d1e36f9d7cf.jpg\n",
      "pool-dataset/train/images/CANNES_TILES_512x512-133_png.rf.accc626702a8dc88ca68f71dc5311f18.jpg\n",
      "pool-dataset/train/images/CANNES_TILES_512x512-1341_png.rf.940b92da65f3f34e327089568415bd73.jpg\n",
      "pool-dataset/train/images/CANNES_TILES_512x512-1342_png.rf.9ec49edec34964d64b90a0220a341796.jpg\n",
      "pool-dataset/train/images/CANNES_TILES_512x512-1343_png.rf.24849c40ae8744a457ac7d7963d3a4dc.jpg\n",
      "pool-dataset/train/images/CANNES_TILES_512x512-1344_png.rf.fe96019e22836c65538048adde29bc31.jpg\n",
      "pool-dataset/train/images/CANNES_TILES_512x512-1345_png.rf.c8b1b0ba75200d20c99f7e8cc4bd4ea2.jpg\n",
      "pool-dataset/train/images/CANNES_TILES_512x512-1349_png.rf.b55ac823f80019dbe32ce38570d6cfce.jpg\n",
      "pool-dataset/train/images/CANNES_TILES_512x512-134_png.rf.5c8c2caccb73195bc77709d4d011729e.jpg\n",
      "pool-dataset/train/images/CANNES_TILES_512x512-1351_png.rf.743fb4ad811c49d26fe77d5cc506bac8.jpg\n",
      "pool-dataset/train/images/CANNES_TILES_512x512-1352_png.rf.75e55f41f6b3dca725f7929ab7a911c9.jpg\n",
      "pool-dataset/train/images/CANNES_TILES_512x512-135_png.rf.38013d3e4c592bedcd069392176cda27.jpg\n",
      "pool-dataset/train/images/CANNES_TILES_512x512-1361_png.rf.fb98d11b1c7b80b7ca9ea09865ebd6fd.jpg\n",
      "pool-dataset/train/images/CANNES_TILES_512x512-1362_png.rf.af507e727ad4ead939308e687ac7937d.jpg\n",
      "pool-dataset/train/images/CANNES_TILES_512x512-1363_png.rf.3f5511fbac9489c694c6d582f3ce3dd2.jpg\n",
      "pool-dataset/train/images/CANNES_TILES_512x512-1364_png.rf.b18130fb0c72c13daf1cefbb06cbe308.jpg\n",
      "pool-dataset/train/images/CANNES_TILES_512x512-1365_png.rf.2978b3aba3da242f5f8e788d88d194ca.jpg\n",
      "pool-dataset/train/images/CANNES_TILES_512x512-1369_png.rf.b78fa0dc57b16d7de1d75cb8b93a35c6.jpg\n",
      "pool-dataset/train/images/CANNES_TILES_512x512-1370_png.rf.8b7fd62d93992bb099c7d4dc14ae3fa4.jpg\n",
      "pool-dataset/train/images/CANNES_TILES_512x512-1371_png.rf.c428d4c45d15f96c986bc5995b37aac3.jpg\n",
      "pool-dataset/train/images/CANNES_TILES_512x512-1379_png.rf.8009243e76b2a008ce74366e9b3fbeba.jpg\n",
      "pool-dataset/train/images/CANNES_TILES_512x512-137_png.rf.685862c022add80fe4f5d788e5cd8076.jpg\n",
      "pool-dataset/train/images/CANNES_TILES_512x512-1380_png.rf.17c1a93b9ccf6a26a86123683fd86f12.jpg\n",
      "pool-dataset/train/images/CANNES_TILES_512x512-1383_png.rf.c0ecdf54aa039c22fe3b0c634da46941.jpg\n",
      "pool-dataset/train/images/CANNES_TILES_512x512-1384_png.rf.00125b07f5b9e8400e0cb79c64ce9805.jpg\n",
      "pool-dataset/train/images/CANNES_TILES_512x512-1390_png.rf.5c52f1e5faa1f94d9b7f25c0b0e346bd.jpg\n",
      "pool-dataset/train/images/CANNES_TILES_512x512-1392_png.rf.e49ddd64ce3cb36b26d75c5a96fbcc68.jpg\n",
      "pool-dataset/train/images/CANNES_TILES_512x512-1394_png.rf.c9547e3b30aeca752ef49c8c1ea04549.jpg\n",
      "pool-dataset/train/images/CANNES_TILES_512x512-139_png.rf.5259f91175e108672b9c1351d99a1cb2.jpg\n",
      "pool-dataset/train/images/CANNES_TILES_512x512-13_png.rf.802c5a825394b424ec1380ceaea781e8.jpg\n",
      "pool-dataset/train/images/CANNES_TILES_512x512-1400_png.rf.32c43056d7822ff38af90d2cad6f1efd.jpg\n",
      "pool-dataset/train/images/CANNES_TILES_512x512-1401_png.rf.929174e4d8b297ad0cd8b3a01857d053.jpg\n",
      "pool-dataset/train/images/CANNES_TILES_512x512-1402_png.rf.d7729accdf8b7d8547abd33cbc867a7a.jpg\n",
      "pool-dataset/train/images/CANNES_TILES_512x512-1403_png.rf.558fc238ded3c3313a0027cf78157d47.jpg\n",
      "pool-dataset/train/images/CANNES_TILES_512x512-1408_png.rf.61704bcb9f9d55ca7edb20db47aad27f.jpg\n",
      "pool-dataset/train/images/CANNES_TILES_512x512-140_png.rf.bf210feca448a898060de6aa724cc794.jpg\n",
      "pool-dataset/train/images/CANNES_TILES_512x512-1412_png.rf.88a1fb18a1a0d7c424a6838f15737a32.jpg\n",
      "pool-dataset/train/images/CANNES_TILES_512x512-1413_png.rf.cd8f427c6aac45058a4d32066ff554a0.jpg\n",
      "pool-dataset/train/images/CANNES_TILES_512x512-1414_png.rf.a87fe562fa8e49e041065ce27f2e904e.jpg\n",
      "pool-dataset/train/images/CANNES_TILES_512x512-1417_png.rf.083a649de29c91514c6774a47120fa72.jpg\n",
      "pool-dataset/train/images/CANNES_TILES_512x512-141_png.rf.cad3f0d88cf13fe700cbdce644c77906.jpg\n",
      "pool-dataset/train/images/CANNES_TILES_512x512-1421_png.rf.aec2a7bd92200988042590f206500b0d.jpg\n",
      "pool-dataset/train/images/CANNES_TILES_512x512-1428_png.rf.ae9d933da6071407ea9d2942ed51c437.jpg\n",
      "pool-dataset/train/images/CANNES_TILES_512x512-142_png.rf.9248b19782b0dc5a0378a327550f775e.jpg\n",
      "pool-dataset/train/images/CANNES_TILES_512x512-1433_png.rf.f55adf357f98a49de4d9562c75cce598.jpg\n",
      "pool-dataset/train/images/CANNES_TILES_512x512-1439_png.rf.7ce068342e5f87b8ca56e526c1cbcd7a.jpg\n",
      "pool-dataset/train/images/CANNES_TILES_512x512-1440_png.rf.e55c8ff5c7dfa49867780b5a9dec50fb.jpg\n",
      "pool-dataset/train/images/CANNES_TILES_512x512-1441_png.rf.e84fcddeeeae500cd4f00cb9eade1f6f.jpg\n",
      "pool-dataset/train/images/CANNES_TILES_512x512-1442_png.rf.d3245faed972ed139bb22dbede1ad5c8.jpg\n",
      "pool-dataset/train/images/CANNES_TILES_512x512-1443_png.rf.37d0fc0137561ff90bc4af48e5609233.jpg\n",
      "pool-dataset/train/images/CANNES_TILES_512x512-1448_png.rf.2460ed8909433fca3f156b6aa83818b7.jpg\n",
      "pool-dataset/train/images/CANNES_TILES_512x512-1449_png.rf.1deebc5abee2e7e8472183633dbbdb06.jpg\n",
      "pool-dataset/train/images/CANNES_TILES_512x512-1450_png.rf.8bfaed9f354b49dd217bc38aa879b66f.jpg\n",
      "pool-dataset/train/images/CANNES_TILES_512x512-1451_png.rf.918295fe80b937a7bab4f63b72373ed3.jpg\n",
      "pool-dataset/train/images/CANNES_TILES_512x512-1453_png.rf.40d2806a89d17841be664050a48e5afc.jpg\n",
      "pool-dataset/train/images/CANNES_TILES_512x512-1458_png.rf.d03017053f6a8505dc841f1f1e7d17a2.jpg\n",
      "pool-dataset/train/images/CANNES_TILES_512x512-1460_png.rf.44c5f255d47b6be89558782753507066.jpg\n",
      "pool-dataset/train/images/CANNES_TILES_512x512-1461_png.rf.c701695876d79bbaedd1a3c666e068e1.jpg\n",
      "pool-dataset/train/images/CANNES_TILES_512x512-1462_png.rf.219db140d187d5fbe0e04786fd2b34c7.jpg\n",
      "pool-dataset/train/images/CANNES_TILES_512x512-1463_png.rf.cc531358da34ab1168b3b6d50840c8e9.jpg\n",
      "pool-dataset/train/images/CANNES_TILES_512x512-1465_png.rf.8d7df1702acba52197d45b99b8268e33.jpg\n",
      "pool-dataset/train/images/CANNES_TILES_512x512-1466_png.rf.941954b0f961cf07cae54fb0b3e40ec1.jpg\n",
      "pool-dataset/train/images/CANNES_TILES_512x512-1474_png.rf.479d2c251af13791a1c49747498eca5d.jpg\n",
      "pool-dataset/train/images/CANNES_TILES_512x512-1476_png.rf.ed1e13da9c7a45c05a8a78ad47c4fe2e.jpg\n",
      "pool-dataset/train/images/CANNES_TILES_512x512-1481_png.rf.d004068bd9e996b31cac8dd2f5e872a4.jpg\n",
      "pool-dataset/train/images/CANNES_TILES_512x512-1489_png.rf.566a03b8273700853e6d97651cfe31fe.jpg\n",
      "pool-dataset/train/images/CANNES_TILES_512x512-1491_png.rf.ca83eecaf5a3414868251f29b1493c04.jpg\n",
      "pool-dataset/train/images/CANNES_TILES_512x512-1492_png.rf.21e915232ff9be659571157a8e599749.jpg\n",
      "pool-dataset/train/images/CANNES_TILES_512x512-1497_png.rf.6d4a6603a6d0349cf00a0ab2c2bb5c81.jpg\n",
      "pool-dataset/train/images/CANNES_TILES_512x512-1498_png.rf.7ee2b7466ec735859be2e114a804b2b2.jpg\n",
      "pool-dataset/train/images/CANNES_TILES_512x512-1500_png.rf.50be6745ae0edffc4f3039f89826dd32.jpg\n",
      "pool-dataset/train/images/CANNES_TILES_512x512-1501_png.rf.77dc28e29aa503d90a6e94dda77a1b83.jpg\n",
      "pool-dataset/train/images/CANNES_TILES_512x512-1503_png.rf.6914741aa378c72e1c59996d362d2117.jpg\n",
      "pool-dataset/train/images/CANNES_TILES_512x512-1508_png.rf.e167b26ca6b3fdb3dd0903ef7c8b9659.jpg\n",
      "pool-dataset/train/images/CANNES_TILES_512x512-1509_png.rf.2d6ecdafb1b3211de33943acfb208740.jpg\n",
      "pool-dataset/train/images/CANNES_TILES_512x512-1510_png.rf.97041b088a8950f59ebed4ec33ed5aff.jpg\n",
      "pool-dataset/train/images/CANNES_TILES_512x512-1513_png.rf.e2b7fc377c6662a681eac4f174126a99.jpg\n",
      "pool-dataset/train/images/CANNES_TILES_512x512-1519_png.rf.15d78580fc10982e3b5c13ecdc8566ff.jpg\n",
      "pool-dataset/train/images/CANNES_TILES_512x512-151_png.rf.b9d17f75060178791b90470a8366635f.jpg\n",
      "pool-dataset/train/images/CANNES_TILES_512x512-1521_png.rf.782137beb29058d049444fe579b7f3cc.jpg\n",
      "pool-dataset/train/images/CANNES_TILES_512x512-1524_png.rf.353de87d73b82895911b9b209bf06d4f.jpg\n",
      "pool-dataset/train/images/CANNES_TILES_512x512-1525_png.rf.673f49ed9642eef763e4b8912d7b9ff7.jpg\n",
      "pool-dataset/train/images/CANNES_TILES_512x512-1526_png.rf.43fb74dcbeb0900fea9472a644815d30.jpg\n",
      "pool-dataset/train/images/CANNES_TILES_512x512-1532_png.rf.1cbffba9cbaad3171561798cbd3eea00.jpg\n",
      "pool-dataset/train/images/CANNES_TILES_512x512-1540_png.rf.d4a224d0016ca8631605359915805a3a.jpg\n",
      "pool-dataset/train/images/CANNES_TILES_512x512-154_png.rf.e461b5562ada9cf49c0a8e7a37c215a2.jpg\n",
      "pool-dataset/train/images/CANNES_TILES_512x512-1554_png.rf.f04a616ef9e5920f6c2e7b6a3c3cd688.jpg\n",
      "pool-dataset/train/images/CANNES_TILES_512x512-1555_png.rf.bb329233b3f4d9d8ac637f6f9222c5de.jpg\n",
      "pool-dataset/train/images/CANNES_TILES_512x512-1558_png.rf.de0603b769872caa62c06ac959de43ea.jpg\n",
      "pool-dataset/train/images/CANNES_TILES_512x512-155_png.rf.61e034e7a8bb384d7a148ed978beeb53.jpg\n",
      "pool-dataset/train/images/CANNES_TILES_512x512-1561_png.rf.171302891bd687d2e9ab8b87d5ca4225.jpg\n",
      "pool-dataset/train/images/CANNES_TILES_512x512-1568_png.rf.ee61d60e7b9ae3a10984c83cc862dbef.jpg\n",
      "pool-dataset/train/images/CANNES_TILES_512x512-156_png.rf.e2d2153f234c87f3c5e4018b8f253d01.jpg\n",
      "pool-dataset/train/images/CANNES_TILES_512x512-1570_png.rf.1b515011abbad3f7f504c61f35717025.jpg\n",
      "pool-dataset/train/images/CANNES_TILES_512x512-1571_png.rf.419ceb1bf240ce15535a2565adb3c655.jpg\n",
      "pool-dataset/train/images/CANNES_TILES_512x512-1573_png.rf.207b3bafa94d57572787c21bf5be9951.jpg\n",
      "pool-dataset/train/images/CANNES_TILES_512x512-1574_png.rf.67e065db1831e1dd3dff5abdf5004794.jpg\n",
      "pool-dataset/train/images/CANNES_TILES_512x512-1580_png.rf.18dcc3adafef734adfcfaeb5491ba5a6.jpg\n",
      "pool-dataset/train/images/CANNES_TILES_512x512-1581_png.rf.50e15c67190b6b8049989b5cfe1f0766.jpg\n",
      "pool-dataset/train/images/CANNES_TILES_512x512-159_png.rf.0c044de52aee079bbcf452642f9ca0d2.jpg\n",
      "pool-dataset/train/images/CANNES_TILES_512x512-15_png.rf.2c5cadb412348d587cd5efa4a1b97f11.jpg\n",
      "pool-dataset/train/images/CANNES_TILES_512x512-1602_png.rf.8547e62e648d91ce35d57fcffa8b22a6.jpg\n",
      "pool-dataset/train/images/CANNES_TILES_512x512-1604_png.rf.52269185c65b452eb17909232b84e1ad.jpg\n",
      "pool-dataset/train/images/CANNES_TILES_512x512-1608_png.rf.db45493b8448ee74a5a8f9faf3c91a9b.jpg\n",
      "pool-dataset/train/images/CANNES_TILES_512x512-1611_png.rf.44dbfc455846a1e5402f89aa9c382de4.jpg\n",
      "pool-dataset/train/images/CANNES_TILES_512x512-1614_png.rf.fa3d9247144b8ac1411469719087b8d9.jpg\n",
      "pool-dataset/train/images/CANNES_TILES_512x512-1627_png.rf.1220b7a03fc20171bfcb8c432803fbf6.jpg\n",
      "pool-dataset/train/images/CANNES_TILES_512x512-1628_png.rf.91b18bf46555d5f6e064defb8200a9f0.jpg\n",
      "pool-dataset/train/images/CANNES_TILES_512x512-1629_png.rf.9c94061c8ebe4d7d6e795458ac375c52.jpg\n",
      "pool-dataset/train/images/CANNES_TILES_512x512-1633_png.rf.76ce9b11458117b89487d017ff020d24.jpg\n",
      "pool-dataset/train/images/CANNES_TILES_512x512-1639_png.rf.e5559188b5edbf437083b57f0828681c.jpg\n",
      "pool-dataset/train/images/CANNES_TILES_512x512-163_png.rf.c8f2d58d2efba7faa1ddd5fd45223428.jpg\n",
      "pool-dataset/train/images/CANNES_TILES_512x512-164_png.rf.fc910b45fb73c904ee37337444c8eaf4.jpg\n",
      "pool-dataset/train/images/CANNES_TILES_512x512-1652_png.rf.722997810ae8161319ade5c43b6b9d1a.jpg\n",
      "pool-dataset/train/images/CANNES_TILES_512x512-1653_png.rf.a765910751e91670d762b843669b0a0d.jpg\n",
      "pool-dataset/train/images/CANNES_TILES_512x512-1659_png.rf.7f8cd06d5ee913be84a93477b219c13c.jpg\n",
      "pool-dataset/train/images/CANNES_TILES_512x512-165_png.rf.dcf6479867d7d166e489940248350384.jpg\n",
      "pool-dataset/train/images/CANNES_TILES_512x512-1667_png.rf.266c2000b6fffededdc1eaf370685b41.jpg\n",
      "pool-dataset/train/images/CANNES_TILES_512x512-166_png.rf.b50d0e7fdf1da96f3edeb226efe91a19.jpg\n",
      "pool-dataset/train/images/CANNES_TILES_512x512-1672_png.rf.042d42efce403312515c274a22c7ece2.jpg\n",
      "pool-dataset/train/images/CANNES_TILES_512x512-1674_png.rf.9d45950e3fcc0f7eef940c7ccfbd2b3d.jpg\n",
      "pool-dataset/train/images/CANNES_TILES_512x512-1675_png.rf.b155c3f4ed8c050166dacf6479829b31.jpg\n",
      "pool-dataset/train/images/CANNES_TILES_512x512-1676_png.rf.01b8c6649b1af08cd85cfed95826959f.jpg\n",
      "pool-dataset/train/images/CANNES_TILES_512x512-1677_png.rf.4ac7fa79e9b8f506d92c2fef57b90943.jpg\n",
      "pool-dataset/train/images/CANNES_TILES_512x512-1678_png.rf.e3f10306759de4f5d45665cc776ca488.jpg\n",
      "pool-dataset/train/images/CANNES_TILES_512x512-1680_png.rf.58bf2aa8859e7af6003e5ad9c313d3e9.jpg\n",
      "pool-dataset/train/images/CANNES_TILES_512x512-1681_png.rf.3b17893479e5f7b3875dfa4c637327b2.jpg\n",
      "pool-dataset/train/images/CANNES_TILES_512x512-1683_png.rf.ea10920409c28fe02dc78c329d546442.jpg\n",
      "pool-dataset/train/images/CANNES_TILES_512x512-1688_png.rf.90d5cf5027aa9c217e9ee25ffae440b5.jpg\n",
      "pool-dataset/train/images/CANNES_TILES_512x512-168_png.rf.1e918af7c8f7a8d12642c25e906e972b.jpg\n",
      "pool-dataset/train/images/CANNES_TILES_512x512-1696_png.rf.4f1308043d038f71f5b2fdb9fcf38879.jpg\n",
      "pool-dataset/train/images/CANNES_TILES_512x512-1697_png.rf.bea06f85e41915b941c98e32f4d8672c.jpg\n",
      "pool-dataset/train/images/CANNES_TILES_512x512-169_png.rf.4cb9ea1edb4b8864df2fe70d7b99e666.jpg\n",
      "pool-dataset/train/images/CANNES_TILES_512x512-1701_png.rf.490f986927de6a92d21b524381124f85.jpg\n",
      "pool-dataset/train/images/CANNES_TILES_512x512-1704_png.rf.14cd859409891e74c92cec9313edf61d.jpg\n",
      "pool-dataset/train/images/CANNES_TILES_512x512-1705_png.rf.aac27f9ab5e3b9539ec2169b3128a747.jpg\n",
      "pool-dataset/train/images/CANNES_TILES_512x512-1707_png.rf.cbc1bee2420205b42331d46646481bf0.jpg\n",
      "pool-dataset/train/images/CANNES_TILES_512x512-1708_png.rf.81e2719a1afeec0552dba4243b9a986c.jpg\n",
      "pool-dataset/train/images/CANNES_TILES_512x512-1709_png.rf.aa0b2180463139d643e4ce84f62b797c.jpg\n",
      "pool-dataset/train/images/CANNES_TILES_512x512-1712_png.rf.5147a56fd610f8a70f6838e93c496401.jpg\n",
      "pool-dataset/train/images/CANNES_TILES_512x512-171_png.rf.59db65be8967a5795bcbbe8527d2e062.jpg\n",
      "pool-dataset/train/images/CANNES_TILES_512x512-1721_png.rf.3b147e4e5591ebff18b326fbf1a34205.jpg\n",
      "pool-dataset/train/images/CANNES_TILES_512x512-1723_png.rf.9727bbc33189a592826a203ae56526bd.jpg\n",
      "pool-dataset/train/images/CANNES_TILES_512x512-1724_png.rf.5d0565fc7f6da4cd3a30283574806b67.jpg\n",
      "pool-dataset/train/images/CANNES_TILES_512x512-1725_png.rf.9434b033e954079d8b452edd41d79a77.jpg\n",
      "pool-dataset/train/images/CANNES_TILES_512x512-1726_png.rf.8b06e03831d4ca435f5a3e86869f7098.jpg\n",
      "pool-dataset/train/images/CANNES_TILES_512x512-1728_png.rf.b9428ad5b1b97eee13d1ebbd3a8af660.jpg\n",
      "pool-dataset/train/images/CANNES_TILES_512x512-172_png.rf.397328f0236dc6a766c9521ae419351c.jpg\n",
      "pool-dataset/train/images/CANNES_TILES_512x512-1730_png.rf.550ed1ba2f94b5fd86217c129db3bb64.jpg\n",
      "pool-dataset/train/images/CANNES_TILES_512x512-1731_png.rf.e6ca7df46333589d13ecebed554e81cd.jpg\n",
      "pool-dataset/train/images/CANNES_TILES_512x512-173_png.rf.bf859bd5095391a2869cd2daa41dc7a8.jpg\n",
      "pool-dataset/train/images/CANNES_TILES_512x512-1742_png.rf.0a1936ea55b3765496b3da5391376f30.jpg\n",
      "pool-dataset/train/images/CANNES_TILES_512x512-1743_png.rf.f040071226319c4b65b8ba257524347a.jpg\n",
      "pool-dataset/train/images/CANNES_TILES_512x512-1745_png.rf.7ca30d77854d4585fbe8c0758dbffc29.jpg\n",
      "pool-dataset/train/images/CANNES_TILES_512x512-1746_png.rf.29518ca167916e851e4a85ee77632a60.jpg\n",
      "pool-dataset/train/images/CANNES_TILES_512x512-1749_png.rf.b94e66930b8fa80e8e31231257939c6d.jpg\n",
      "pool-dataset/train/images/CANNES_TILES_512x512-1750_png.rf.b5b8e10b01f852ef94d515aabbc01b03.jpg\n",
      "pool-dataset/train/images/CANNES_TILES_512x512-1751_png.rf.0a71bbb8d1e7a774647699e47bab5b4c.jpg\n",
      "pool-dataset/train/images/CANNES_TILES_512x512-1752_png.rf.5c2e40cce1969a0f83a98a60784207c0.jpg\n",
      "pool-dataset/train/images/CANNES_TILES_512x512-1755_png.rf.bca2978d1eb550ea80fd6399b522c635.jpg\n",
      "pool-dataset/train/images/CANNES_TILES_512x512-175_png.rf.c8249dd595140607d002d43160015e57.jpg\n",
      "pool-dataset/train/images/CANNES_TILES_512x512-1760_png.rf.4ce0f0a7fafa02d03685fc82004ed479.jpg\n",
      "pool-dataset/train/images/CANNES_TILES_512x512-1761_png.rf.0b0d5f54051f0678f2de850460920a33.jpg\n",
      "pool-dataset/train/images/CANNES_TILES_512x512-1762_png.rf.d5d04f962cd7bc5428b55bf221ab97b7.jpg\n",
      "pool-dataset/train/images/CANNES_TILES_512x512-1764_png.rf.3ad9c8c72a02a529e97dde78b6e40f03.jpg\n",
      "pool-dataset/train/images/CANNES_TILES_512x512-1771_png.rf.beeea13fd4088ff685ec8152e2a15861.jpg\n",
      "pool-dataset/train/images/CANNES_TILES_512x512-1774_png.rf.2e008073ca9fae73eba4a27836923a2a.jpg\n",
      "pool-dataset/train/images/CANNES_TILES_512x512-1775_png.rf.b52358a450fd559d6713448670215ffd.jpg\n",
      "pool-dataset/train/images/CANNES_TILES_512x512-1777_png.rf.d1b42d5fd69c1d549893ca5b01c4505c.jpg\n",
      "pool-dataset/train/images/CANNES_TILES_512x512-1778_png.rf.7f9ef113756152bd2e5097651690fdff.jpg\n",
      "pool-dataset/train/images/CANNES_TILES_512x512-177_png.rf.ee14199dd7ff6ca94dbd4cbe242e1aa4.jpg\n",
      "pool-dataset/train/images/CANNES_TILES_512x512-1780_png.rf.413aea3761f6681935c89c678facea8d.jpg\n",
      "pool-dataset/train/images/CANNES_TILES_512x512-1781_png.rf.3184ecd18ede56a59955171493be565f.jpg\n",
      "pool-dataset/train/images/CANNES_TILES_512x512-1783_png.rf.8524b7bbad449afbd0a8ba65f4f2925a.jpg\n",
      "pool-dataset/train/images/CANNES_TILES_512x512-1784_png.rf.15c5a69aadf768aeb064128e3203f3a0.jpg\n",
      "pool-dataset/train/images/CANNES_TILES_512x512-1785_png.rf.ffac122f3295f66919dba0588af770df.jpg\n",
      "pool-dataset/train/images/CANNES_TILES_512x512-1788_png.rf.87da7fa31ceb26d56a84eec3c7f323a0.jpg\n",
      "pool-dataset/train/images/CANNES_TILES_512x512-1789_png.rf.792ff7b6df53b2e701a2292819b8c7d7.jpg\n",
      "pool-dataset/train/images/CANNES_TILES_512x512-178_png.rf.0f6058b8d81d0912e96a8c67033509f3.jpg\n",
      "pool-dataset/train/images/CANNES_TILES_512x512-1791_png.rf.346cfd4182d31437280e53fbb98ba1d9.jpg\n",
      "pool-dataset/train/images/CANNES_TILES_512x512-1792_png.rf.5418ab451bead52450cf15b082b39f6c.jpg\n",
      "pool-dataset/train/images/CANNES_TILES_512x512-1793_png.rf.05979cd3ecd3ab9f4e82b9002073ba28.jpg\n",
      "pool-dataset/train/images/CANNES_TILES_512x512-1794_png.rf.fc4ce09761d27ffe1cffb92c9618146c.jpg\n",
      "pool-dataset/train/images/CANNES_TILES_512x512-1795_png.rf.936bfe6380f15193441af87e73fe3288.jpg\n",
      "pool-dataset/train/images/CANNES_TILES_512x512-1797_png.rf.67bfedcb30f51d77af08cba1b622a07b.jpg\n",
      "pool-dataset/train/images/CANNES_TILES_512x512-17_png.rf.4dbbf26665136131f62e3831bee10c64.jpg\n",
      "pool-dataset/train/images/CANNES_TILES_512x512-1800_png.rf.d9a1c49f197f41db1c5bd5bd6a2c5ad3.jpg\n",
      "pool-dataset/train/images/CANNES_TILES_512x512-180_png.rf.ea26110d6e4b55037ab51976790877fd.jpg\n",
      "pool-dataset/train/images/CANNES_TILES_512x512-1813_png.rf.fbe5799f847498316b83b64721238a42.jpg\n",
      "pool-dataset/train/images/CANNES_TILES_512x512-1817_png.rf.20007e7b5d3f1cbbf18352b9a9937365.jpg\n",
      "pool-dataset/train/images/CANNES_TILES_512x512-1819_png.rf.0873ee5d561410626bd139529391bfd7.jpg\n",
      "pool-dataset/train/images/CANNES_TILES_512x512-1823_png.rf.a36b36ba377486d42ea7a2d82c1cdc80.jpg\n",
      "pool-dataset/train/images/CANNES_TILES_512x512-1825_png.rf.38575ec9787a668bef63a84f2c85e908.jpg\n",
      "pool-dataset/train/images/CANNES_TILES_512x512-1826_png.rf.a752707fca65f96a965d492745d6f03a.jpg\n",
      "pool-dataset/train/images/CANNES_TILES_512x512-1828_png.rf.fa77512626bfdf51dec416025032cbae.jpg\n",
      "pool-dataset/train/images/CANNES_TILES_512x512-182_png.rf.a7e965d89ab05dc8e51a5e9199aea82b.jpg\n",
      "pool-dataset/train/images/CANNES_TILES_512x512-1830_png.rf.ee157e724d47b8aed6304d5adfbf7973.jpg\n",
      "pool-dataset/train/images/CANNES_TILES_512x512-1831_png.rf.d78a135b0a42a42e30abf5c1bf5cee25.jpg\n",
      "pool-dataset/train/images/CANNES_TILES_512x512-1833_png.rf.39939aebc32e3623b76a88ad1560b240.jpg\n",
      "pool-dataset/train/images/CANNES_TILES_512x512-1834_png.rf.5e67854e548e1c4686586a4f1b578aab.jpg\n",
      "pool-dataset/train/images/CANNES_TILES_512x512-1835_png.rf.970b5a5f401951bc770c4cdb894ea567.jpg\n",
      "pool-dataset/train/images/CANNES_TILES_512x512-1837_png.rf.9fa75bb72114425dc627feaf33c6ff84.jpg\n",
      "pool-dataset/train/images/CANNES_TILES_512x512-1838_png.rf.a15280283adaffd8959cf5d5505d71ab.jpg\n",
      "pool-dataset/train/images/CANNES_TILES_512x512-183_png.rf.ad26b340d4c6d41ebe2a743051baa5e0.jpg\n",
      "pool-dataset/train/images/CANNES_TILES_512x512-1843_png.rf.c1ba991b05bf893fdc9f94610453afcd.jpg\n",
      "pool-dataset/train/images/CANNES_TILES_512x512-1844_png.rf.b8eb3d6be44fb0fd0aae4aaa912db27d.jpg\n",
      "pool-dataset/train/images/CANNES_TILES_512x512-1846_png.rf.c66c0fd7642fba07d3134ed58873c906.jpg\n",
      "pool-dataset/train/images/CANNES_TILES_512x512-1847_png.rf.52491feb8c11b1071ea0c87d9b1b868b.jpg\n",
      "pool-dataset/train/images/CANNES_TILES_512x512-184_png.rf.9798cec1400f313c781172206320c298.jpg\n",
      "pool-dataset/train/images/CANNES_TILES_512x512-1851_png.rf.f036b014de087146259b1e349315c60c.jpg\n",
      "pool-dataset/train/images/CANNES_TILES_512x512-1854_png.rf.35a46e2eb138665508c5a7ad6d818976.jpg\n",
      "pool-dataset/train/images/CANNES_TILES_512x512-1862_png.rf.bf443545ea6b8c164fd34a322c08c366.jpg\n",
      "pool-dataset/train/images/CANNES_TILES_512x512-1868_png.rf.3b07c3f3f2f99d1fa61947d679a5d9b5.jpg\n",
      "pool-dataset/train/images/CANNES_TILES_512x512-1870_png.rf.8d3177ae8e0d3c3b0b5fcde3371b59f6.jpg\n",
      "pool-dataset/train/images/CANNES_TILES_512x512-1874_png.rf.761e057bbe595a6141aca0a84cffe0d4.jpg\n",
      "pool-dataset/train/images/CANNES_TILES_512x512-1876_png.rf.af3396e408caae8a3df0e3c52d21da9f.jpg\n",
      "pool-dataset/train/images/CANNES_TILES_512x512-1877_png.rf.a04deb199f889b92639490044207ee59.jpg\n",
      "pool-dataset/train/images/CANNES_TILES_512x512-1878_png.rf.ba512b73c590c8f2118b796bf8f320be.jpg\n",
      "pool-dataset/train/images/CANNES_TILES_512x512-1879_png.rf.12557c0b6f5160f05388e6fb98f34164.jpg\n",
      "pool-dataset/train/images/CANNES_TILES_512x512-187_png.rf.081ea8c28273adc739ee101dc5fe6348.jpg\n",
      "pool-dataset/train/images/CANNES_TILES_512x512-1880_png.rf.b77a53ccfa5799c9ba6bc6c4c73a6dbb.jpg\n",
      "pool-dataset/train/images/CANNES_TILES_512x512-1881_png.rf.8e8dc8c3b4d8395779e4757d2b1eeda9.jpg\n",
      "pool-dataset/train/images/CANNES_TILES_512x512-1885_png.rf.bb3d4c1281e0b969e8181819e1041580.jpg\n",
      "pool-dataset/train/images/CANNES_TILES_512x512-1886_png.rf.88452851f9a01ee251d7462bfb9550ae.jpg\n",
      "pool-dataset/train/images/CANNES_TILES_512x512-1887_png.rf.5932d8e49c588a7bb7731b7bca92a1eb.jpg\n",
      "pool-dataset/train/images/CANNES_TILES_512x512-1890_png.rf.4e7344ee3b162a335ac7367be3ee7d56.jpg\n",
      "pool-dataset/train/images/CANNES_TILES_512x512-1896_png.rf.5bfee7053e1a3aac465ad618df054710.jpg\n",
      "pool-dataset/train/images/CANNES_TILES_512x512-1897_png.rf.7b8e6bb26a18f06f681881a23ab3f30c.jpg\n",
      "pool-dataset/train/images/CANNES_TILES_512x512-1898_png.rf.9114d3a33e0de458eca2d022cee1f097.jpg\n",
      "pool-dataset/train/images/CANNES_TILES_512x512-1899_png.rf.f87fb8fb3deda44a51120ba941295117.jpg\n",
      "pool-dataset/train/images/CANNES_TILES_512x512-189_png.rf.9459bc0d34bcda515143a101f78b5d28.jpg\n",
      "pool-dataset/train/images/CANNES_TILES_512x512-18_png.rf.38c6d443b9d0fc11141d93b6fa83f316.jpg\n",
      "pool-dataset/train/images/CANNES_TILES_512x512-1900_png.rf.858d3cd373108f2d035061bff8dfc013.jpg\n",
      "pool-dataset/train/images/CANNES_TILES_512x512-1903_png.rf.a835d03d5a9f518b9354e91fc9bab235.jpg\n",
      "pool-dataset/train/images/CANNES_TILES_512x512-1904_png.rf.463e287e806f6e42d5a351907efcedd7.jpg\n",
      "pool-dataset/train/images/CANNES_TILES_512x512-190_png.rf.21ad6bf6c8ce2f38212c368c18aa2d7e.jpg\n",
      "pool-dataset/train/images/CANNES_TILES_512x512-1912_png.rf.4a08a90b981630089b3ebe3eac465037.jpg\n",
      "pool-dataset/train/images/CANNES_TILES_512x512-1914_png.rf.a4c8e6230aa90fd9155ff7d00bafebbb.jpg\n",
      "pool-dataset/train/images/CANNES_TILES_512x512-1917_png.rf.2a48e2cf15034264ec0e643ef10b6bde.jpg\n",
      "pool-dataset/train/images/CANNES_TILES_512x512-1919_png.rf.acbfb0089c4033b4e9b78ea027f36c1b.jpg\n",
      "pool-dataset/train/images/CANNES_TILES_512x512-191_png.rf.ac57fe4f7b7bac51af32f20da0f28fe6.jpg\n",
      "pool-dataset/train/images/CANNES_TILES_512x512-1922_png.rf.93689eaf1c0aa6929e95223cf4630ad9.jpg\n",
      "pool-dataset/train/images/CANNES_TILES_512x512-1925_png.rf.b2bad9bfd688a254ede480168b9b017f.jpg\n",
      "pool-dataset/train/images/CANNES_TILES_512x512-1926_png.rf.15081f73530e6132772d0ed1eb457cf3.jpg\n",
      "pool-dataset/train/images/CANNES_TILES_512x512-1927_png.rf.003f7a230b560476a425dc5782c3cf64.jpg\n",
      "pool-dataset/train/images/CANNES_TILES_512x512-1928_png.rf.e98ad898415ed77b10564db59001fb87.jpg\n",
      "pool-dataset/train/images/CANNES_TILES_512x512-1929_png.rf.1d591dab4507ae69049fca8ff40befd0.jpg\n",
      "pool-dataset/train/images/CANNES_TILES_512x512-1930_png.rf.ead0231a3148dfb461f27b62e298ce33.jpg\n",
      "pool-dataset/train/images/CANNES_TILES_512x512-1931_png.rf.df8b7011bf8e4af38f31ea1d7985f7a7.jpg\n",
      "pool-dataset/train/images/CANNES_TILES_512x512-1932_png.rf.4ebddc4725c6f7f9773e9dea340fa0e4.jpg\n",
      "pool-dataset/train/images/CANNES_TILES_512x512-1936_png.rf.94649968ee55ea098e4891601b985062.jpg\n",
      "pool-dataset/train/images/CANNES_TILES_512x512-1937_png.rf.4473c2725e4a2c2dafdfe7d78b24c36b.jpg\n",
      "pool-dataset/train/images/CANNES_TILES_512x512-1940_png.rf.6dbe86e0d75cd0170a16a75127ca37f6.jpg\n",
      "pool-dataset/train/images/CANNES_TILES_512x512-1941_png.rf.1f44c26cd38f00607059d91a7960bd38.jpg\n",
      "pool-dataset/train/images/CANNES_TILES_512x512-1942_png.rf.0e231d7b8c380e204389436bc7d2d2c9.jpg\n",
      "pool-dataset/train/images/CANNES_TILES_512x512-1943_png.rf.8a068ec50f60ff0c0c141d4ca2ed1d46.jpg\n",
      "pool-dataset/train/images/CANNES_TILES_512x512-1947_png.rf.8fe0cad370189c115b7580fa341bfffc.jpg\n",
      "pool-dataset/train/images/CANNES_TILES_512x512-1948_png.rf.1786aceecb820b6622800182a2873ce2.jpg\n",
      "pool-dataset/train/images/CANNES_TILES_512x512-1951_png.rf.85f25c82c19586f9c204a369ef90ad12.jpg\n",
      "pool-dataset/train/images/CANNES_TILES_512x512-1966_png.rf.f139664d5c9d5d26436aa2b910d0a9ac.jpg\n",
      "pool-dataset/train/images/CANNES_TILES_512x512-1967_png.rf.131136c85da68bac95a88e032f8b220b.jpg\n",
      "pool-dataset/train/images/CANNES_TILES_512x512-1968_png.rf.b906205da4657139a256b9043eb05c15.jpg\n",
      "pool-dataset/train/images/CANNES_TILES_512x512-1969_png.rf.07d38bb5bc79428317dcc08c5a145ae8.jpg\n",
      "pool-dataset/train/images/CANNES_TILES_512x512-1970_png.rf.d68f4680f7cc54c9d73e5a2d3b432c02.jpg\n",
      "pool-dataset/train/images/CANNES_TILES_512x512-1971_png.rf.17b626ad51ed357e6347591780b45e87.jpg\n",
      "pool-dataset/train/images/CANNES_TILES_512x512-1974_png.rf.c5b1c6c9ae24c456ff549803c51835bb.jpg\n",
      "pool-dataset/train/images/CANNES_TILES_512x512-1975_png.rf.4940fbd152e48ce399c6aad7c41e1440.jpg\n",
      "pool-dataset/train/images/CANNES_TILES_512x512-1978_png.rf.b7b934245b7840ad98b670a096f052c2.jpg\n",
      "pool-dataset/train/images/CANNES_TILES_512x512-1979_png.rf.07d80cbaad8844653fe2c5a60c7c6d87.jpg\n",
      "pool-dataset/train/images/CANNES_TILES_512x512-1980_png.rf.f3dac89df2745c301eb76f2dc57a2f41.jpg\n",
      "pool-dataset/train/images/CANNES_TILES_512x512-1981_png.rf.228b39cbbe08b998aef88604c4421ba6.jpg\n",
      "pool-dataset/train/images/CANNES_TILES_512x512-1983_png.rf.3a07a4742a74968026441b70b031560f.jpg\n",
      "pool-dataset/train/images/CANNES_TILES_512x512-1986_png.rf.4bbfc8b6fc9312b7bd3ce61cbee764c1.jpg\n",
      "pool-dataset/train/images/CANNES_TILES_512x512-1987_png.rf.5cb86ed95f30d65850416f0cdc053b63.jpg\n",
      "pool-dataset/train/images/CANNES_TILES_512x512-1989_png.rf.5005f9eaa57c958ade951c4fa7339348.jpg\n",
      "pool-dataset/train/images/CANNES_TILES_512x512-1990_png.rf.4cc7a7bb865ed5759fbc23bc5756d2b0.jpg\n",
      "pool-dataset/train/images/CANNES_TILES_512x512-1993_png.rf.895ae7b545737714fd12ce904efd6282.jpg\n",
      "pool-dataset/train/images/CANNES_TILES_512x512-19_png.rf.702e520d499b7a9e8881a6080362b875.jpg\n",
      "pool-dataset/train/images/CANNES_TILES_512x512-2002_png.rf.430b42dd32c3dee69feed6d046bdee9d.jpg\n",
      "pool-dataset/train/images/CANNES_TILES_512x512-2014_png.rf.7ebb6d9d87bb26fed256203525f93831.jpg\n",
      "pool-dataset/train/images/CANNES_TILES_512x512-2015_png.rf.dbe1d9ed16ff17dbbb694c97cc987028.jpg\n",
      "pool-dataset/train/images/CANNES_TILES_512x512-2017_png.rf.adc4584fd188185f3d47042d9fe895f7.jpg\n",
      "pool-dataset/train/images/CANNES_TILES_512x512-2018_png.rf.d33421ca917e271b3daa6521ee06a282.jpg\n",
      "pool-dataset/train/images/CANNES_TILES_512x512-2023_png.rf.a228d50e021bda8813dcd22c666a0d7f.jpg\n",
      "pool-dataset/train/images/CANNES_TILES_512x512-2024_png.rf.33c8554379cae28c2bd213ca1a0f8579.jpg\n",
      "pool-dataset/train/images/CANNES_TILES_512x512-2027_png.rf.a1122809ad5639d7ad0c2f301b367031.jpg\n",
      "pool-dataset/train/images/CANNES_TILES_512x512-2028_png.rf.c22d93835616b0cd6b0d16e8e9980fc2.jpg\n",
      "pool-dataset/train/images/CANNES_TILES_512x512-2029_png.rf.a3bc6563c1a723572d73618ec362dd92.jpg\n",
      "pool-dataset/train/images/CANNES_TILES_512x512-2031_png.rf.1e111f23a219392cf4dbbd4597640d6a.jpg\n",
      "pool-dataset/train/images/CANNES_TILES_512x512-2033_png.rf.f4c7f1cec7b68cc6eb3582351e9ddbc3.jpg\n",
      "pool-dataset/train/images/CANNES_TILES_512x512-2036_png.rf.52058694ced714bad43ec85b1a8522ce.jpg\n",
      "pool-dataset/train/images/CANNES_TILES_512x512-2037_png.rf.efd574e15bdce4ca56626b072192615d.jpg\n",
      "pool-dataset/train/images/CANNES_TILES_512x512-2038_png.rf.5987323dfd6129cfd636d31df49517f6.jpg\n",
      "pool-dataset/train/images/CANNES_TILES_512x512-2039_png.rf.ad5f4bf23452f63d37237654f18ec9d9.jpg\n",
      "pool-dataset/train/images/CANNES_TILES_512x512-2042_png.rf.29252e86532cbf52f08bf419e18634f4.jpg\n",
      "pool-dataset/train/images/CANNES_TILES_512x512-2043_png.rf.a55b157cbe932f08440d302029119934.jpg\n",
      "pool-dataset/train/images/CANNES_TILES_512x512-2045_png.rf.b327aaf526e64a7dce3ba6a3fdbef5cb.jpg\n",
      "pool-dataset/train/images/CANNES_TILES_512x512-205_png.rf.be730ec69c83e4db24a4b2b30bf94831.jpg\n",
      "pool-dataset/train/images/CANNES_TILES_512x512-2062_png.rf.d47f96ff31ecf9ba2bfc9f4547b9a3fc.jpg\n",
      "pool-dataset/train/images/CANNES_TILES_512x512-2066_png.rf.161787efb3169df78e71ad7c4840d79d.jpg\n",
      "pool-dataset/train/images/CANNES_TILES_512x512-2067_png.rf.8305ef0cce9ddbf0208e549e1c0a1844.jpg\n",
      "pool-dataset/train/images/CANNES_TILES_512x512-206_png.rf.8c6f8f249ee1ff0b5d79a69fe0e6e17d.jpg\n",
      "pool-dataset/train/images/CANNES_TILES_512x512-2070_png.rf.be53674eff828f32ee5c2bc496d473e1.jpg\n",
      "pool-dataset/train/images/CANNES_TILES_512x512-2075_png.rf.fbdec35eba2f3e5b1a19f8939db3e44b.jpg\n",
      "pool-dataset/train/images/CANNES_TILES_512x512-2076_png.rf.4ab4c80de6736c02b9b4b1084d589531.jpg\n",
      "pool-dataset/train/images/CANNES_TILES_512x512-207_png.rf.d2d9f57a4ba0a671046ef3bc07310d43.jpg\n",
      "pool-dataset/train/images/CANNES_TILES_512x512-2081_png.rf.9506c42cff571f46fb0e5c01cc850179.jpg\n",
      "pool-dataset/train/images/CANNES_TILES_512x512-2082_png.rf.ad6c02fbdb54bfd73a9f5338048cefd3.jpg\n",
      "pool-dataset/train/images/CANNES_TILES_512x512-2083_png.rf.e00fe118d0582b61224d3de0c6428cc5.jpg\n",
      "pool-dataset/train/images/CANNES_TILES_512x512-2084_png.rf.b0c607af33b05b711a4da67f0583615f.jpg\n",
      "pool-dataset/train/images/CANNES_TILES_512x512-2085_png.rf.333b4ff3b3ababfc1b74b8a918a5849a.jpg\n",
      "pool-dataset/train/images/CANNES_TILES_512x512-208_png.rf.8f276181de40745cfc3a89e3113964b9.jpg\n",
      "pool-dataset/train/images/CANNES_TILES_512x512-2090_png.rf.8d01e0b060b64ae1f9200891e0f99cb8.jpg\n",
      "pool-dataset/train/images/CANNES_TILES_512x512-2095_png.rf.8afedfffe595f72ad04608357584ec4c.jpg\n",
      "pool-dataset/train/images/CANNES_TILES_512x512-209_png.rf.f15067ed1aab9bf039bda888b38aa3e7.jpg\n",
      "pool-dataset/train/images/CANNES_TILES_512x512-20_png.rf.2d9e10314d1b2ff1d30532fb809a393a.jpg\n",
      "pool-dataset/train/images/CANNES_TILES_512x512-2109_png.rf.a6a2ef31285ed8933a4690ede479092a.jpg\n",
      "pool-dataset/train/images/CANNES_TILES_512x512-210_png.rf.aa185650d06aa6f05d9139575055afa2.jpg\n",
      "pool-dataset/train/images/CANNES_TILES_512x512-2118_png.rf.848c0b0aef5a826a026e19b4bd7e9971.jpg\n",
      "pool-dataset/train/images/CANNES_TILES_512x512-2119_png.rf.6899314836582b0287ec3ffb2c21ed0b.jpg\n",
      "pool-dataset/train/images/CANNES_TILES_512x512-2127_png.rf.f2ac22040831be9ef8dedf41f1523a07.jpg\n",
      "pool-dataset/train/images/CANNES_TILES_512x512-2128_png.rf.eae4bb670a58d4159b9a4dc0f81b554e.jpg\n",
      "pool-dataset/train/images/CANNES_TILES_512x512-2130_png.rf.2366ed4e3d6433a217aadc3fa44578e2.jpg\n",
      "pool-dataset/train/images/CANNES_TILES_512x512-2132_png.rf.16af2d700cb504df2dc9aff0efb3202b.jpg\n",
      "pool-dataset/train/images/CANNES_TILES_512x512-213_png.rf.6df4c2befdcb86375bec3bdc235decbb.jpg\n",
      "pool-dataset/train/images/CANNES_TILES_512x512-2143_png.rf.bf7f41bdecc3829a8be2b4ec554f48d5.jpg\n",
      "pool-dataset/train/images/CANNES_TILES_512x512-2144_png.rf.91f3f8675c34e25828735d6906491751.jpg\n",
      "pool-dataset/train/images/CANNES_TILES_512x512-2157_png.rf.9fc867fb3422e33667cbf6b12cd9d805.jpg\n",
      "pool-dataset/train/images/CANNES_TILES_512x512-2158_png.rf.31446233d7338a9ef4e64bd545a3ceb9.jpg\n",
      "pool-dataset/train/images/CANNES_TILES_512x512-215_png.rf.9afd90843b5c706f0dbd6ff471f4e2f0.jpg\n",
      "pool-dataset/train/images/CANNES_TILES_512x512-2162_png.rf.57b000e90799825a62948547522c844e.jpg\n",
      "pool-dataset/train/images/CANNES_TILES_512x512-216_png.rf.c3bd478ed3c25655ace05824dca072fe.jpg\n",
      "pool-dataset/train/images/CANNES_TILES_512x512-2172_png.rf.98d836f5a33b2b77c92a646f17723f49.jpg\n",
      "pool-dataset/train/images/CANNES_TILES_512x512-2175_png.rf.8828a8230f870b9cece22a9219b97c93.jpg\n",
      "pool-dataset/train/images/CANNES_TILES_512x512-2176_png.rf.0be800ead8d38b5586331f32df234ab8.jpg\n",
      "pool-dataset/train/images/CANNES_TILES_512x512-2177_png.rf.37b8cfd1c37ee7f121078f60c5e5e70a.jpg\n",
      "pool-dataset/train/images/CANNES_TILES_512x512-2178_png.rf.94d23976aeb8b6968498d687e436d21a.jpg\n",
      "pool-dataset/train/images/CANNES_TILES_512x512-2179_png.rf.a822c5577b18fd7c6915304cba56e038.jpg\n",
      "pool-dataset/train/images/CANNES_TILES_512x512-217_png.rf.919628a6f513818b7b1e04221930c749.jpg\n",
      "pool-dataset/train/images/CANNES_TILES_512x512-2181_png.rf.e516663d40a6f774d76467d6aeedff0f.jpg\n",
      "pool-dataset/train/images/CANNES_TILES_512x512-2182_png.rf.29597598e317e4971f7ab270d265d630.jpg\n",
      "pool-dataset/train/images/CANNES_TILES_512x512-2185_png.rf.655bc4534d9c84ef5255d602f2cd0697.jpg\n",
      "pool-dataset/train/images/CANNES_TILES_512x512-218_png.rf.0b844fbfaeeb369959011b9283506a4d.jpg\n",
      "pool-dataset/train/images/CANNES_TILES_512x512-2190_png.rf.517cb3e4e265e987ce02960e7a748a94.jpg\n",
      "pool-dataset/train/images/CANNES_TILES_512x512-2196_png.rf.b43290886b9d78e31c8ee9b1290b54e6.jpg\n",
      "pool-dataset/train/images/CANNES_TILES_512x512-219_png.rf.d1a416dc72b7eee1304ba107e051cd0f.jpg\n",
      "pool-dataset/train/images/CANNES_TILES_512x512-21_png.rf.ec0836dff7ee4ac06b116146fb259391.jpg\n",
      "pool-dataset/train/images/CANNES_TILES_512x512-220_png.rf.9393850fc5a232379cc657e76d766c15.jpg\n",
      "pool-dataset/train/images/CANNES_TILES_512x512-2215_png.rf.5a1849951bd2d79bf102540bd42aa352.jpg\n",
      "pool-dataset/train/images/CANNES_TILES_512x512-2216_png.rf.cecd1f91d418d51c9bcc9250e92129d2.jpg\n",
      "pool-dataset/train/images/CANNES_TILES_512x512-2219_png.rf.86d58e6e7c2a0e9974ea0514998d1c80.jpg\n",
      "pool-dataset/train/images/CANNES_TILES_512x512-221_png.rf.7e221f45e22884c3e0f7175293f082e4.jpg\n",
      "pool-dataset/train/images/CANNES_TILES_512x512-2223_png.rf.2bd9f998041e6de02e8e8077059d493d.jpg\n",
      "pool-dataset/train/images/CANNES_TILES_512x512-2225_png.rf.d934a557656938ec0f23300b9f9b1d48.jpg\n",
      "pool-dataset/train/images/CANNES_TILES_512x512-2226_png.rf.9d52fb4ea5a35a96ff5b9beb76e30ed0.jpg\n",
      "pool-dataset/train/images/CANNES_TILES_512x512-222_png.rf.54510f4d494d2313514d0c75d34a9367.jpg\n",
      "pool-dataset/train/images/CANNES_TILES_512x512-2268_png.rf.6128690a4e55e061237af41c9e54f43e.jpg\n",
      "pool-dataset/train/images/CANNES_TILES_512x512-2269_png.rf.32b33d8f5ed9baf21f472c2260f663ba.jpg\n",
      "pool-dataset/train/images/CANNES_TILES_512x512-229_png.rf.b5583a2ef05f1f5a40c4c69eabb34272.jpg\n",
      "pool-dataset/train/images/CANNES_TILES_512x512-22_png.rf.1fda85f9204427a15491a5f9b3bbc2b5.jpg\n",
      "pool-dataset/train/images/CANNES_TILES_512x512-2310_png.rf.65a661086211a68d701bc665bc91371a.jpg\n",
      "pool-dataset/train/images/CANNES_TILES_512x512-2316_png.rf.47df89fff03b04217a3d32b2aa88345b.jpg\n",
      "pool-dataset/train/images/CANNES_TILES_512x512-231_png.rf.9498013a128547b4f94724b09a526ad5.jpg\n",
      "pool-dataset/train/images/CANNES_TILES_512x512-232_png.rf.039d3bfc1ce8cc16d49c5293ab079ea1.jpg\n",
      "pool-dataset/train/images/CANNES_TILES_512x512-233_png.rf.6e711207e93d69ad2004aca518d27963.jpg\n",
      "pool-dataset/train/images/CANNES_TILES_512x512-234_png.rf.5a16826f452fe2c495cfbbcd79ae3403.jpg\n",
      "pool-dataset/train/images/CANNES_TILES_512x512-236_png.rf.bdeed5f48dd433db66d45c6ac26e82de.jpg\n",
      "pool-dataset/train/images/CANNES_TILES_512x512-237_png.rf.5bab858a143e98d02b1507f5122bc455.jpg\n",
      "pool-dataset/train/images/CANNES_TILES_512x512-239_png.rf.662e7ad57e19c0a371111006d9f33070.jpg\n",
      "pool-dataset/train/images/CANNES_TILES_512x512-244_png.rf.5375aa0a59725a8714bf27f53f42c4bb.jpg\n",
      "pool-dataset/train/images/CANNES_TILES_512x512-249_png.rf.2044077feccbab1e3478806bfa2f1ab6.jpg\n",
      "pool-dataset/train/images/CANNES_TILES_512x512-251_png.rf.30e2487ec538a0672734a2055329ff05.jpg\n",
      "pool-dataset/train/images/CANNES_TILES_512x512-253_png.rf.d80d58a97a70563a53f92295fd5222a9.jpg\n",
      "pool-dataset/train/images/CANNES_TILES_512x512-256_png.rf.6425bfa965d6de187fc6bb3cb7975642.jpg\n",
      "pool-dataset/train/images/CANNES_TILES_512x512-257_png.rf.209066bd357cbf36c472a44cc1a25558.jpg\n",
      "pool-dataset/train/images/CANNES_TILES_512x512-260_png.rf.c2c13817f3d18c931b3175d8d926f852.jpg\n",
      "pool-dataset/train/images/CANNES_TILES_512x512-261_png.rf.7d8eebad62b0347c25dfe706973b340a.jpg\n",
      "pool-dataset/train/images/CANNES_TILES_512x512-262_png.rf.9879256c9e2df4e7fdb13812d9fad290.jpg\n",
      "pool-dataset/train/images/CANNES_TILES_512x512-263_png.rf.67f7da02c2bdd721a431c2317e871704.jpg\n",
      "pool-dataset/train/images/CANNES_TILES_512x512-264_png.rf.5845445d13bf58b37c035d9ad61b31aa.jpg\n",
      "pool-dataset/train/images/CANNES_TILES_512x512-265_png.rf.2cff6d1cec0b277239b2fb5abf3d4e03.jpg\n",
      "pool-dataset/train/images/CANNES_TILES_512x512-267_png.rf.fdf9ac028fdac9b0de7374ef650743d6.jpg\n",
      "pool-dataset/train/images/CANNES_TILES_512x512-269_png.rf.a4c63ca55c031d37e2522021cde66d5f.jpg\n",
      "pool-dataset/train/images/CANNES_TILES_512x512-270_png.rf.e4e52e5244931314fa65f2070d5f43e4.jpg\n",
      "pool-dataset/train/images/CANNES_TILES_512x512-271_png.rf.622e7e308768a1b3c1b2c71d79908bf9.jpg\n",
      "pool-dataset/train/images/CANNES_TILES_512x512-274_png.rf.95ae7e9b09c2a2ad8ee1add9e3f55475.jpg\n",
      "pool-dataset/train/images/CANNES_TILES_512x512-275_png.rf.38b2b63f0738cdd40232c16abd2632ca.jpg\n",
      "pool-dataset/train/images/CANNES_TILES_512x512-276_png.rf.c549cb16e577f0e9e00a120d0ca3f8d1.jpg\n",
      "pool-dataset/train/images/CANNES_TILES_512x512-283_png.rf.9a5a856eb20e8eba32497b85e1cc180c.jpg\n",
      "pool-dataset/train/images/CANNES_TILES_512x512-287_png.rf.9d41d62c43196e9bd211acb9649ff03e.jpg\n",
      "pool-dataset/train/images/CANNES_TILES_512x512-290_png.rf.9ec482801b07ddf0b49e4a20f9d958c6.jpg\n",
      "pool-dataset/train/images/CANNES_TILES_512x512-299_png.rf.bcaf93f3c02c0426bfb852786ebbca9b.jpg\n",
      "pool-dataset/train/images/CANNES_TILES_512x512-29_png.rf.764df1671a653af8a5818fa8c8fc4f8d.jpg\n",
      "pool-dataset/train/images/CANNES_TILES_512x512-306_png.rf.b4bec43e8a6d38f407ce15069d69fb50.jpg\n",
      "pool-dataset/train/images/CANNES_TILES_512x512-310_png.rf.9651069ede632b0d83acd894ff204184.jpg\n",
      "pool-dataset/train/images/CANNES_TILES_512x512-313_png.rf.1c7af05b94cc090bda59bb5dc90f5d2f.jpg\n",
      "pool-dataset/train/images/CANNES_TILES_512x512-314_png.rf.07c6af26127d26b47142dec87c742281.jpg\n",
      "pool-dataset/train/images/CANNES_TILES_512x512-315_png.rf.73ae6f85a81e92e8b86140b65a0ff49f.jpg\n",
      "pool-dataset/train/images/CANNES_TILES_512x512-316_png.rf.0be013b3c4206e092f4359616e167b77.jpg\n",
      "pool-dataset/train/images/CANNES_TILES_512x512-318_png.rf.0d1f8454207bc24027a9c61729e0958a.jpg\n",
      "pool-dataset/train/images/CANNES_TILES_512x512-319_png.rf.7ce1746dd0fa6bd5abcc459230f9f316.jpg\n",
      "pool-dataset/train/images/CANNES_TILES_512x512-320_png.rf.0255484245cfa4aa33114e24cbc6f71b.jpg\n",
      "pool-dataset/train/images/CANNES_TILES_512x512-321_png.rf.eaa751826fbc00d8044dbe962b7871e7.jpg\n",
      "pool-dataset/train/images/CANNES_TILES_512x512-322_png.rf.e0fdcbbe2d45b66b20f7dceb5835b40a.jpg\n",
      "pool-dataset/train/images/CANNES_TILES_512x512-323_png.rf.a078d021f6237bc231f66458e05eb759.jpg\n",
      "pool-dataset/train/images/CANNES_TILES_512x512-324_png.rf.01a39c9c113904bfa629bd8074028394.jpg\n",
      "pool-dataset/train/images/CANNES_TILES_512x512-328_png.rf.d57e06d1f46db4834f2dd9cecf0a19c8.jpg\n",
      "pool-dataset/train/images/CANNES_TILES_512x512-331_png.rf.85b6d3b7b129e42101793fb1600937c5.jpg\n",
      "pool-dataset/train/images/CANNES_TILES_512x512-332_png.rf.730f1f8aa03ab001c291aeb6577ab64f.jpg\n",
      "pool-dataset/train/images/CANNES_TILES_512x512-333_png.rf.e10fb137c87a86c2bd22570de5f3c4b5.jpg\n",
      "pool-dataset/train/images/CANNES_TILES_512x512-334_png.rf.a1c89cd7b1538943d5a023a78fd557c3.jpg\n",
      "pool-dataset/train/images/CANNES_TILES_512x512-335_png.rf.b9dcf8f5b13e7e5d8bfbee9a9d757afa.jpg\n",
      "pool-dataset/train/images/CANNES_TILES_512x512-336_png.rf.cedeb0abda24c19ed50f4b5069238eb4.jpg\n",
      "pool-dataset/train/images/CANNES_TILES_512x512-33_png.rf.bc68c6c002b94b47e0c97d707428f72f.jpg\n",
      "pool-dataset/train/images/CANNES_TILES_512x512-348_png.rf.311dd8645e1fc465beb1856ca2cfc294.jpg\n",
      "pool-dataset/train/images/CANNES_TILES_512x512-34_png.rf.577212aac582ed9eedcdda0a5b2882b7.jpg\n",
      "pool-dataset/train/images/CANNES_TILES_512x512-354_png.rf.c94050fb158a79723a524ffa97bffaa1.jpg\n",
      "pool-dataset/train/images/CANNES_TILES_512x512-355_png.rf.b4f6bee13961bbc34937c0bfae3d68c8.jpg\n",
      "pool-dataset/train/images/CANNES_TILES_512x512-358_png.rf.bc87b410eff6e2f0f9ad742f1ba4e03c.jpg\n",
      "pool-dataset/train/images/CANNES_TILES_512x512-35_png.rf.3bf91e00cc3aeaf96e215d3e7f7c5d09.jpg\n",
      "pool-dataset/train/images/CANNES_TILES_512x512-360_png.rf.e1c5166f23763f549e59753866543c21.jpg\n",
      "pool-dataset/train/images/CANNES_TILES_512x512-361_png.rf.251573fe9502306471bacb3299510cee.jpg\n",
      "pool-dataset/train/images/CANNES_TILES_512x512-363_png.rf.f53bd0bbf3315895b6276bf86b049348.jpg\n",
      "pool-dataset/train/images/CANNES_TILES_512x512-365_png.rf.f0c4932afd59e5ee60c5738374d57e1a.jpg\n",
      "pool-dataset/train/images/CANNES_TILES_512x512-366_png.rf.b6b1f9364ea46a7aa08dfdcf6085d337.jpg\n",
      "pool-dataset/train/images/CANNES_TILES_512x512-367_png.rf.e4a8562523646942aecb8e3a3057b935.jpg\n",
      "pool-dataset/train/images/CANNES_TILES_512x512-368_png.rf.f3bca878627ff1dc50ade0e4d0e49dcf.jpg\n",
      "pool-dataset/train/images/CANNES_TILES_512x512-369_png.rf.d758ad0aaf721adf135ce334459a010f.jpg\n",
      "pool-dataset/train/images/CANNES_TILES_512x512-36_png.rf.7fb9d31fd5040693ff776a3abe7020d1.jpg\n",
      "pool-dataset/train/images/CANNES_TILES_512x512-370_png.rf.0aa4009df00d89f6ae417a51ea4c1257.jpg\n",
      "pool-dataset/train/images/CANNES_TILES_512x512-371_png.rf.ab952a010f5075fe367d025fc7d05912.jpg\n",
      "pool-dataset/train/images/CANNES_TILES_512x512-372_png.rf.d6fe54a7192783cf3bc5d1afba1b961f.jpg\n",
      "pool-dataset/train/images/CANNES_TILES_512x512-374_png.rf.3f6fc244fb67f8ecfefcd2a232d1f24f.jpg\n",
      "pool-dataset/train/images/CANNES_TILES_512x512-37_png.rf.8837676e1e15866e4ba34f0dc6ba18d8.jpg\n",
      "pool-dataset/train/images/CANNES_TILES_512x512-382_png.rf.465196d68acb03b87b520386534a6c6f.jpg\n",
      "pool-dataset/train/images/CANNES_TILES_512x512-384_png.rf.5c5deb45388cdde3904726437af8b3bd.jpg\n",
      "pool-dataset/train/images/CANNES_TILES_512x512-385_png.rf.332e7c13becefd491a13d2cec3d5e258.jpg\n",
      "pool-dataset/train/images/CANNES_TILES_512x512-389_png.rf.11fd09dad48ce58d335aa671f86bf413.jpg\n",
      "pool-dataset/train/images/CANNES_TILES_512x512-38_png.rf.ed55d93cb88c75e2bab5ccc3f8acad04.jpg\n",
      "pool-dataset/train/images/CANNES_TILES_512x512-390_png.rf.c2c171a7c08ec14f72b063410c64430e.jpg\n",
      "pool-dataset/train/images/CANNES_TILES_512x512-391_png.rf.187e5c74eaf218b492733d804184e96a.jpg\n",
      "pool-dataset/train/images/CANNES_TILES_512x512-403_png.rf.4781633e35542225a315fb9e344a5f7a.jpg\n",
      "pool-dataset/train/images/CANNES_TILES_512x512-404_png.rf.27861f52d59eccbf7b64c79e50fdf7d3.jpg\n",
      "pool-dataset/train/images/CANNES_TILES_512x512-40_png.rf.88d3b3fee7ba8d6113d6a4ae512874cd.jpg\n",
      "pool-dataset/train/images/CANNES_TILES_512x512-410_png.rf.0fa8b9302a15aca038fe2c8929063f82.jpg\n",
      "pool-dataset/train/images/CANNES_TILES_512x512-411_png.rf.cd67eeeee08148e3cc4a221105999763.jpg\n",
      "pool-dataset/train/images/CANNES_TILES_512x512-412_png.rf.e194fb46fcc5da625c731e676555a7c5.jpg\n",
      "pool-dataset/train/images/CANNES_TILES_512x512-414_png.rf.0173c3b00744cf05ba0124dc8202f26b.jpg\n",
      "pool-dataset/train/images/CANNES_TILES_512x512-415_png.rf.e0fc71def2f88caa6e3406eebf6988a9.jpg\n",
      "pool-dataset/train/images/CANNES_TILES_512x512-416_png.rf.21573224a4802fe9948674e1952b5ce7.jpg\n",
      "pool-dataset/train/images/CANNES_TILES_512x512-418_png.rf.2cea4390b0885ae717a28af0e42163f2.jpg\n",
      "pool-dataset/train/images/CANNES_TILES_512x512-419_png.rf.eb20af787ad15d38e51a4e046e0a549a.jpg\n",
      "pool-dataset/train/images/CANNES_TILES_512x512-420_png.rf.2f7e5cd89be5bda6dc4582d51e3a2eee.jpg\n",
      "pool-dataset/train/images/CANNES_TILES_512x512-421_png.rf.60c9ab642e54fd839b05f3cab8171b8c.jpg\n",
      "pool-dataset/train/images/CANNES_TILES_512x512-422_png.rf.6eae1ef4d9aec0c325c1721e138a8972.jpg\n",
      "pool-dataset/train/images/CANNES_TILES_512x512-423_png.rf.588901ada53c8677cbd8f6b58e26a687.jpg\n",
      "pool-dataset/train/images/CANNES_TILES_512x512-424_png.rf.2cb5d7e525cf2c034a901dcdf923d7ae.jpg\n",
      "pool-dataset/train/images/CANNES_TILES_512x512-430_png.rf.771c6bf8b1e608f41db83607f5c464b5.jpg\n",
      "pool-dataset/train/images/CANNES_TILES_512x512-431_png.rf.7a8add2126a1308d3d8d8bdeebee62a3.jpg\n",
      "pool-dataset/train/images/CANNES_TILES_512x512-433_png.rf.024b79edb66ce4cd46002cc7173b07ed.jpg\n",
      "pool-dataset/train/images/CANNES_TILES_512x512-434_png.rf.2d9eaee797300063ac0642b31ae38625.jpg\n",
      "pool-dataset/train/images/CANNES_TILES_512x512-436_png.rf.0e6dfe0d6bc93d56c25e8f29fbc058cb.jpg\n",
      "pool-dataset/train/images/CANNES_TILES_512x512-439_png.rf.0e97c41ec1ffa9b96794507d3e676e5b.jpg\n",
      "pool-dataset/train/images/CANNES_TILES_512x512-440_png.rf.d9ad1b54a58355ec8fdaa5978db0b01a.jpg\n",
      "pool-dataset/train/images/CANNES_TILES_512x512-44_png.rf.c79171d294f79908fd79a9597beba426.jpg\n",
      "pool-dataset/train/images/CANNES_TILES_512x512-451_png.rf.94423c9e53e6900bb76277b960f53058.jpg\n",
      "pool-dataset/train/images/CANNES_TILES_512x512-453_png.rf.95b2a8b64e5322496194c6a330228b64.jpg\n",
      "pool-dataset/train/images/CANNES_TILES_512x512-454_png.rf.575329187d9202e34b3e511faf683750.jpg\n",
      "pool-dataset/train/images/CANNES_TILES_512x512-455_png.rf.3ffe144afcf4a0dddb208dd08570ef10.jpg\n",
      "pool-dataset/train/images/CANNES_TILES_512x512-456_png.rf.a2eb3e89e7380d572f7cfa4d015a9570.jpg\n",
      "pool-dataset/train/images/CANNES_TILES_512x512-457_png.rf.df6421172fe8774e64b4f5b6ada3c910.jpg\n",
      "pool-dataset/train/images/CANNES_TILES_512x512-458_png.rf.6495b5edf7c32a96e75b07510fb67409.jpg\n",
      "pool-dataset/train/images/CANNES_TILES_512x512-459_png.rf.089e493bf5590a1cc1e21bd7e638fcb5.jpg\n",
      "pool-dataset/train/images/CANNES_TILES_512x512-460_png.rf.3691f78227ade9a40a453b8bd792d767.jpg\n",
      "pool-dataset/train/images/CANNES_TILES_512x512-462_png.rf.bf4bf22f715a624b43d48694f57ea8ff.jpg\n",
      "pool-dataset/train/images/CANNES_TILES_512x512-463_png.rf.467c392d116859892d92a788da74c75b.jpg\n",
      "pool-dataset/train/images/CANNES_TILES_512x512-464_png.rf.45e412723d55c1bb6ce0c16d9c80acaa.jpg\n",
      "pool-dataset/train/images/CANNES_TILES_512x512-465_png.rf.8a01bf3fab7b51efe53ab80e6d1133ee.jpg\n",
      "pool-dataset/train/images/CANNES_TILES_512x512-467_png.rf.7fa06bac2c1cc72b28c201724a7a9226.jpg\n",
      "pool-dataset/train/images/CANNES_TILES_512x512-469_png.rf.4ef9c0325a8c42177d5bea1ff7e2a1b3.jpg\n",
      "pool-dataset/train/images/CANNES_TILES_512x512-46_png.rf.348d73ffc18c7a046342448b59b2cf82.jpg\n",
      "pool-dataset/train/images/CANNES_TILES_512x512-470_png.rf.20ee6a2d2186d75a4f472096c53a4484.jpg\n",
      "pool-dataset/train/images/CANNES_TILES_512x512-471_png.rf.dfc331e8cb5ea5a8b9d55c6e1a0bf9e6.jpg\n",
      "pool-dataset/train/images/CANNES_TILES_512x512-472_png.rf.845e80c3eaf74e1131e458ff2ec88515.jpg\n",
      "pool-dataset/train/images/CANNES_TILES_512x512-473_png.rf.6db9fdf25f5120512176e057ff6d0541.jpg\n",
      "pool-dataset/train/images/CANNES_TILES_512x512-475_png.rf.ec6b8719991b6d02c5e6b3eb5bf9fd27.jpg\n",
      "pool-dataset/train/images/CANNES_TILES_512x512-47_png.rf.055ad02b58f5eb66cfaaadf43c3664aa.jpg\n",
      "pool-dataset/train/images/CANNES_TILES_512x512-481_png.rf.44e19758ad31f9821780cd40b9a85f89.jpg\n",
      "pool-dataset/train/images/CANNES_TILES_512x512-485_png.rf.be153fbded3cda1de049ee987cd3ef64.jpg\n",
      "pool-dataset/train/images/CANNES_TILES_512x512-490_png.rf.2d0e2c5ce15e21dbe9402295eca29a19.jpg\n",
      "pool-dataset/train/images/CANNES_TILES_512x512-491_png.rf.33b31860a3f37f3a8c2a59bb6382db0c.jpg\n",
      "pool-dataset/train/images/CANNES_TILES_512x512-499_png.rf.3d6646c75cce05b2a149698542d5bc36.jpg\n",
      "pool-dataset/train/images/CANNES_TILES_512x512-501_png.rf.4402723e10205f17fb9081e1d6dedad5.jpg\n",
      "pool-dataset/train/images/CANNES_TILES_512x512-502_png.rf.f93c95f7b18a4ad74e9040199688cb6d.jpg\n",
      "pool-dataset/train/images/CANNES_TILES_512x512-503_png.rf.bc598d9bf2d3afe1f43e3c5c1c3b69ad.jpg\n",
      "pool-dataset/train/images/CANNES_TILES_512x512-504_png.rf.c666ac2695cb42da1576ed7d70f001ee.jpg\n",
      "pool-dataset/train/images/CANNES_TILES_512x512-505_png.rf.b1ce0b9a74a856b87973cb6fe7cf0170.jpg\n",
      "pool-dataset/train/images/CANNES_TILES_512x512-507_png.rf.b95872a02832dde08834cba097dbc54f.jpg\n",
      "pool-dataset/train/images/CANNES_TILES_512x512-508_png.rf.8cb625bad833c14ddb667286499edfbe.jpg\n",
      "pool-dataset/train/images/CANNES_TILES_512x512-509_png.rf.b3fcb49b0fd1bf73f917ec919822e738.jpg\n",
      "pool-dataset/train/images/CANNES_TILES_512x512-510_png.rf.6239b183fe5bad9fcb89f2a1ec2f7b42.jpg\n",
      "pool-dataset/train/images/CANNES_TILES_512x512-512_png.rf.5bdfb967531ec991055ca13823945b0b.jpg\n",
      "pool-dataset/train/images/CANNES_TILES_512x512-514_png.rf.c56819cea62e5c02622bde872d00a944.jpg\n",
      "pool-dataset/train/images/CANNES_TILES_512x512-517_png.rf.49fae798f25e8f3c48eb63920023251a.jpg\n",
      "pool-dataset/train/images/CANNES_TILES_512x512-518_png.rf.0ecc9736adb349dd33b31c5955ef09ad.jpg\n",
      "pool-dataset/train/images/CANNES_TILES_512x512-521_png.rf.ac850e077211298e8da10eb55a22958b.jpg\n",
      "pool-dataset/train/images/CANNES_TILES_512x512-522_png.rf.5f41053fec1542e31d72fe10278438da.jpg\n",
      "pool-dataset/train/images/CANNES_TILES_512x512-523_png.rf.5b60f50ddbc56288ecf5537414f08eda.jpg\n",
      "pool-dataset/train/images/CANNES_TILES_512x512-526_png.rf.dbf39f479b78a8e9013d8738b8602e4e.jpg\n",
      "pool-dataset/train/images/CANNES_TILES_512x512-528_png.rf.838ae5a86c6b2e787c022ad7a885714c.jpg\n",
      "pool-dataset/train/images/CANNES_TILES_512x512-530_png.rf.1ac4b5d5a49af4953c487234033b92ed.jpg\n",
      "pool-dataset/train/images/CANNES_TILES_512x512-532_png.rf.f454b840cbe3c9cac1c3dbead3036821.jpg\n",
      "pool-dataset/train/images/CANNES_TILES_512x512-534_png.rf.07020c83a23f14cd16651363b42244b8.jpg\n",
      "pool-dataset/train/images/CANNES_TILES_512x512-535_png.rf.5b860a3873d6b2517fce5a70e9853d81.jpg\n",
      "pool-dataset/train/images/CANNES_TILES_512x512-536_png.rf.9bf014814f3ba9751f9bdb993f76be61.jpg\n",
      "pool-dataset/train/images/CANNES_TILES_512x512-551_png.rf.5f24fb0753d67802378bed8574cf9bf5.jpg\n",
      "pool-dataset/train/images/CANNES_TILES_512x512-552_png.rf.929d29c504e8686b3d2613412bdd78ec.jpg\n",
      "pool-dataset/train/images/CANNES_TILES_512x512-553_png.rf.f24f8faf806abb91b251387dc038e758.jpg\n",
      "pool-dataset/train/images/CANNES_TILES_512x512-554_png.rf.420440e7f715d40d03a87c3fbf7695b3.jpg\n",
      "pool-dataset/train/images/CANNES_TILES_512x512-555_png.rf.be5c7d19e2cfb8b424dfc8137ff03635.jpg\n",
      "pool-dataset/train/images/CANNES_TILES_512x512-556_png.rf.f2547644f98cad59cdf55c1c78986b5f.jpg\n",
      "pool-dataset/train/images/CANNES_TILES_512x512-557_png.rf.c141a00f3690892cbcf4a04ce392af4c.jpg\n",
      "pool-dataset/train/images/CANNES_TILES_512x512-560_png.rf.102781cae0f594c4a795d638a5190677.jpg\n",
      "pool-dataset/train/images/CANNES_TILES_512x512-561_png.rf.0d05bcd2f9adcc5e63f32b2b81098f3d.jpg\n",
      "pool-dataset/train/images/CANNES_TILES_512x512-562_png.rf.4b19b0c054ed171481c22dbb9ecab9cb.jpg\n",
      "pool-dataset/train/images/CANNES_TILES_512x512-564_png.rf.d8dd3b5751d1bca1e478c7c43673a752.jpg\n",
      "pool-dataset/train/images/CANNES_TILES_512x512-569_png.rf.4e5a21692c5c40129058991cd15cda07.jpg\n",
      "pool-dataset/train/images/CANNES_TILES_512x512-570_png.rf.ccf610a0273e34443e591872b9c77c02.jpg\n",
      "pool-dataset/train/images/CANNES_TILES_512x512-571_png.rf.75362c84efdb83d985ca7b4e0d9bec53.jpg\n",
      "pool-dataset/train/images/CANNES_TILES_512x512-574_png.rf.5da117ab1d6769f31452e81c3cf31ca6.jpg\n",
      "pool-dataset/train/images/CANNES_TILES_512x512-575_png.rf.d2d420db3f6e54fbf8957f7f0d6cc807.jpg\n",
      "pool-dataset/train/images/CANNES_TILES_512x512-579_png.rf.2502c0474ca114e4e87f748c0dd007a4.jpg\n",
      "pool-dataset/train/images/CANNES_TILES_512x512-580_png.rf.5e9edb5eee42b3fd55420944149ec051.jpg\n",
      "pool-dataset/train/images/CANNES_TILES_512x512-582_png.rf.e32346cce1f00936d500bcd94985dfcd.jpg\n",
      "pool-dataset/train/images/CANNES_TILES_512x512-584_png.rf.a8085ecca2dfc49f7231455743c19887.jpg\n",
      "pool-dataset/train/images/CANNES_TILES_512x512-587_png.rf.edaf474dc53ac9d04950fedaf2c2d0b4.jpg\n",
      "pool-dataset/train/images/CANNES_TILES_512x512-588_png.rf.e0ffab6a3add8b7d9607b26391b52772.jpg\n",
      "pool-dataset/train/images/CANNES_TILES_512x512-597_png.rf.810e6852b9f268113bbf8b86cec78469.jpg\n",
      "pool-dataset/train/images/CANNES_TILES_512x512-59_png.rf.377ad8dc83f81bc6aa0bc2db017525b4.jpg\n",
      "pool-dataset/train/images/CANNES_TILES_512x512-600_png.rf.6111e9df15b991a245e2b0a5b1c4e431.jpg\n",
      "pool-dataset/train/images/CANNES_TILES_512x512-601_png.rf.847536391120005628adbbd8e395afea.jpg\n",
      "pool-dataset/train/images/CANNES_TILES_512x512-602_png.rf.515899f06ab5872b4801778cc2abea2e.jpg\n",
      "pool-dataset/train/images/CANNES_TILES_512x512-605_png.rf.a34e4d18009a6a4672d95e8118f83103.jpg\n",
      "pool-dataset/train/images/CANNES_TILES_512x512-606_png.rf.1d29dbb6d66f232a14cda1387d2f81ea.jpg\n",
      "pool-dataset/train/images/CANNES_TILES_512x512-607_png.rf.bbf7cf74e68366c19ff441e8ddcdc46c.jpg\n",
      "pool-dataset/train/images/CANNES_TILES_512x512-609_png.rf.4e014026ab1225a52f6c365ce822b80c.jpg\n",
      "pool-dataset/train/images/CANNES_TILES_512x512-610_png.rf.9e998293aa237d339292bf60ee76ea58.jpg\n",
      "pool-dataset/train/images/CANNES_TILES_512x512-617_png.rf.ccf3b0cec014b04256a51642631636c1.jpg\n",
      "pool-dataset/train/images/CANNES_TILES_512x512-619_png.rf.0e8a16ae6cff6c0293355ea3176682da.jpg\n",
      "pool-dataset/train/images/CANNES_TILES_512x512-627_png.rf.077c31798211b6a84031a64b75e4c2e7.jpg\n",
      "pool-dataset/train/images/CANNES_TILES_512x512-628_png.rf.914344c448e1319fbc995fce9f5273f1.jpg\n",
      "pool-dataset/train/images/CANNES_TILES_512x512-629_png.rf.4d53b6882f05185e24be66a7cbc18a4f.jpg\n",
      "pool-dataset/train/images/CANNES_TILES_512x512-62_png.rf.981afec3e0a2c72205591fbc56acb2ff.jpg\n",
      "pool-dataset/train/images/CANNES_TILES_512x512-630_png.rf.2996aabe406e471fe3ed87fe2f432e14.jpg\n",
      "pool-dataset/train/images/CANNES_TILES_512x512-631_png.rf.a38f0aa615ffb390693a7c090362c0b1.jpg\n",
      "pool-dataset/train/images/CANNES_TILES_512x512-632_png.rf.9575c95924fe2e07e3e7ebc0f9d4d411.jpg\n",
      "pool-dataset/train/images/CANNES_TILES_512x512-633_png.rf.61f9be4d0bab1e8fe32de9f9361b4baa.jpg\n",
      "pool-dataset/train/images/CANNES_TILES_512x512-634_png.rf.d5bb283d05539d509c0e8c7710955f55.jpg\n",
      "pool-dataset/train/images/CANNES_TILES_512x512-635_png.rf.31da305fee9547ee37bc54b779631736.jpg\n",
      "pool-dataset/train/images/CANNES_TILES_512x512-636_png.rf.03e0e0c0dcca41a650a53fde984141ee.jpg\n",
      "pool-dataset/train/images/CANNES_TILES_512x512-637_png.rf.6a10162bb36be9106fb6cc7af30e152d.jpg\n",
      "pool-dataset/train/images/CANNES_TILES_512x512-64_png.rf.cbc645d0793f43d1091b6f8a66bb3015.jpg\n",
      "pool-dataset/train/images/CANNES_TILES_512x512-653_png.rf.61e2625472884fae9dc51af8d2c39ad2.jpg\n",
      "pool-dataset/train/images/CANNES_TILES_512x512-654_png.rf.4985b9967f222e107eefd91aa952fff8.jpg\n",
      "pool-dataset/train/images/CANNES_TILES_512x512-658_png.rf.bc8a53f36156f9f50ba241a0612f8254.jpg\n",
      "pool-dataset/train/images/CANNES_TILES_512x512-666_png.rf.4dfbf1d6c37332613e42f954a8255744.jpg\n",
      "pool-dataset/train/images/CANNES_TILES_512x512-66_png.rf.cd2c749f14906dfe5d5481215d9f5e76.jpg\n",
      "pool-dataset/train/images/CANNES_TILES_512x512-670_png.rf.a335d9b66ef81be8e4f23fbb6d8e2d70.jpg\n",
      "pool-dataset/train/images/CANNES_TILES_512x512-673_png.rf.c722a65ee808f0a38344221192ac6533.jpg\n",
      "pool-dataset/train/images/CANNES_TILES_512x512-674_png.rf.c7f241853f60a3dafc7e40efe0b04b81.jpg\n",
      "pool-dataset/train/images/CANNES_TILES_512x512-675_png.rf.b4cbc17149a7d0f4ae64e48e0b0dce7c.jpg\n",
      "pool-dataset/train/images/CANNES_TILES_512x512-677_png.rf.fd2a1d10b8e82628173efbab382b05f8.jpg\n",
      "pool-dataset/train/images/CANNES_TILES_512x512-678_png.rf.e9df3ab7813c4b82f35cba00fe43af1f.jpg\n",
      "pool-dataset/train/images/CANNES_TILES_512x512-67_png.rf.3c967410f4255184a6303946553d2bf6.jpg\n",
      "pool-dataset/train/images/CANNES_TILES_512x512-681_png.rf.2f57b968be4decb6c216802bc7213743.jpg\n",
      "pool-dataset/train/images/CANNES_TILES_512x512-684_png.rf.0cb9ca7bba314eb8daca0c1a1a41f260.jpg\n",
      "pool-dataset/train/images/CANNES_TILES_512x512-685_png.rf.e108833832da70beb4a504b1c07e8e6c.jpg\n",
      "pool-dataset/train/images/CANNES_TILES_512x512-68_png.rf.32a58938250fef33cf41b8144ae9055a.jpg\n",
      "pool-dataset/train/images/CANNES_TILES_512x512-692_png.rf.675538aec91648440922aa0857bc2f85.jpg\n",
      "pool-dataset/train/images/CANNES_TILES_512x512-693_png.rf.53e010f0a01b1e2eb55f8f8a3e514d0f.jpg\n",
      "pool-dataset/train/images/CANNES_TILES_512x512-694_png.rf.3d0a3df5114d3f10ff6cad09af85e31a.jpg\n",
      "pool-dataset/train/images/CANNES_TILES_512x512-696_png.rf.3ab2131dfe9d667f419cd929a91d3e48.jpg\n",
      "pool-dataset/train/images/CANNES_TILES_512x512-697_png.rf.0c6cc461fdd4fcae1255a8435a63cfb4.jpg\n",
      "pool-dataset/train/images/CANNES_TILES_512x512-698_png.rf.f01dff4cb4800b2771fa93493eaf89b5.jpg\n",
      "pool-dataset/train/images/CANNES_TILES_512x512-699_png.rf.ede6d0b21b7f88b2f2d5714122e9bd5d.jpg\n",
      "pool-dataset/train/images/CANNES_TILES_512x512-700_png.rf.ac28a00447a2b70c32329ccab6e1130c.jpg\n",
      "pool-dataset/train/images/CANNES_TILES_512x512-701_png.rf.bb8449b659c0773a43e1027cd5204d02.jpg\n",
      "pool-dataset/train/images/CANNES_TILES_512x512-704_png.rf.367857bb84819ca04342651e690d05f0.jpg\n",
      "pool-dataset/train/images/CANNES_TILES_512x512-705_png.rf.bde69664c88d9cba15f8b06c3bfdb350.jpg\n",
      "pool-dataset/train/images/CANNES_TILES_512x512-706_png.rf.ac1d571c413df82b4fa95a5d6a0ebf00.jpg\n",
      "pool-dataset/train/images/CANNES_TILES_512x512-707_png.rf.ec8bcb4da12d62847cc755b25da8025c.jpg\n",
      "pool-dataset/train/images/CANNES_TILES_512x512-708_png.rf.5a6633e43d37ac778dc2a602c8d3c12a.jpg\n",
      "pool-dataset/train/images/CANNES_TILES_512x512-70_png.rf.fc474d87f25c1467c7a25d9bd4c322e1.jpg\n",
      "pool-dataset/train/images/CANNES_TILES_512x512-713_png.rf.c0ae809f16420e7b37515389902d44a1.jpg\n",
      "pool-dataset/train/images/CANNES_TILES_512x512-715_png.rf.6104304689892213d340bab922699eb8.jpg\n",
      "pool-dataset/train/images/CANNES_TILES_512x512-722_png.rf.fa574f5a0aaf5e22028c8ddcfeca4b45.jpg\n",
      "pool-dataset/train/images/CANNES_TILES_512x512-723_png.rf.ab486753638a9ea631245bd8829e33bb.jpg\n",
      "pool-dataset/train/images/CANNES_TILES_512x512-729_png.rf.f386ec27695239b1b41766ca2e7d72e9.jpg\n",
      "pool-dataset/train/images/CANNES_TILES_512x512-72_png.rf.b12bc53d786fba1d4988d21109fbde8e.jpg\n",
      "pool-dataset/train/images/CANNES_TILES_512x512-733_png.rf.bc7c12599b83ce5115c3384b378bf63b.jpg\n",
      "pool-dataset/train/images/CANNES_TILES_512x512-734_png.rf.93f01b0e3337e7c715de3cfdcf1a2181.jpg\n",
      "pool-dataset/train/images/CANNES_TILES_512x512-73_png.rf.64027180a2d0a744a644b2fe348568c7.jpg\n",
      "pool-dataset/train/images/CANNES_TILES_512x512-740_png.rf.09f959671e342668cc602490b0585e88.jpg\n",
      "pool-dataset/train/images/CANNES_TILES_512x512-741_png.rf.b747572707f020513199ff0ec989992c.jpg\n",
      "pool-dataset/train/images/CANNES_TILES_512x512-746_png.rf.055d84f3c07d664f1fae6c15b753c2dc.jpg\n",
      "pool-dataset/train/images/CANNES_TILES_512x512-747_png.rf.1728eceddf12c9679e2341dc89907faf.jpg\n",
      "pool-dataset/train/images/CANNES_TILES_512x512-748_png.rf.3eb6a5008622ab7c3c2dc0a01416e947.jpg\n",
      "pool-dataset/train/images/CANNES_TILES_512x512-751_png.rf.bde827ddbcccb4fe3a88276f85f27a54.jpg\n",
      "pool-dataset/train/images/CANNES_TILES_512x512-752_png.rf.faa43b19261bdd3172421f2cb81f224e.jpg\n",
      "pool-dataset/train/images/CANNES_TILES_512x512-754_png.rf.1ba2c33093605d71b263308be1587449.jpg\n",
      "pool-dataset/train/images/CANNES_TILES_512x512-755_png.rf.df761f252ee8871422e4a385dd0c4376.jpg\n",
      "pool-dataset/train/images/CANNES_TILES_512x512-761_png.rf.f254a81caa8f386e1f29fcdefd1cbca9.jpg\n",
      "pool-dataset/train/images/CANNES_TILES_512x512-764_png.rf.883f45f6dad6b0fcd681da86167f6c5f.jpg\n",
      "pool-dataset/train/images/CANNES_TILES_512x512-76_png.rf.1ff10f7907c949ff3c0802288679340b.jpg\n",
      "pool-dataset/train/images/CANNES_TILES_512x512-770_png.rf.b8cae2576c8e6af3ba8fb914190d8135.jpg\n",
      "pool-dataset/train/images/CANNES_TILES_512x512-773_png.rf.f5e3079cdd6a8b447bea08a3f248ae90.jpg\n",
      "pool-dataset/train/images/CANNES_TILES_512x512-774_png.rf.66d4b6a10572e1f9b01899e8755da641.jpg\n",
      "pool-dataset/train/images/CANNES_TILES_512x512-775_png.rf.042b0084b2030795afd0f50e9f3568ff.jpg\n",
      "pool-dataset/train/images/CANNES_TILES_512x512-776_png.rf.925d882bc76eb2ea39573879ad978f20.jpg\n",
      "pool-dataset/train/images/CANNES_TILES_512x512-777_png.rf.2daa902bc222aae488558868dd1a6786.jpg\n",
      "pool-dataset/train/images/CANNES_TILES_512x512-778_png.rf.6094131c8e895392734b2994f199be5a.jpg\n",
      "pool-dataset/train/images/CANNES_TILES_512x512-779_png.rf.aa445c658acf770047c79d19cf2e799e.jpg\n",
      "pool-dataset/train/images/CANNES_TILES_512x512-780_png.rf.f7d40913270a733df281fed3b43d7261.jpg\n",
      "pool-dataset/train/images/CANNES_TILES_512x512-783_png.rf.81482111ff668796e35861d4bf379dfb.jpg\n",
      "pool-dataset/train/images/CANNES_TILES_512x512-788_png.rf.588cce834057faac8f6ca812277940be.jpg\n",
      "pool-dataset/train/images/CANNES_TILES_512x512-78_png.rf.3ccdacbd549fa13e51d4e40afbd629bb.jpg\n",
      "pool-dataset/train/images/CANNES_TILES_512x512-790_png.rf.c648b1e2ee9be8e9448a2814de82e2bd.jpg\n",
      "pool-dataset/train/images/CANNES_TILES_512x512-792_png.rf.76c748cf892929ec44040ea897377161.jpg\n",
      "pool-dataset/train/images/CANNES_TILES_512x512-793_png.rf.17ce8622f3435cdb6efc1659ae7009b1.jpg\n",
      "pool-dataset/train/images/CANNES_TILES_512x512-794_png.rf.0aeb802e15a072119d4bf5f52660d477.jpg\n",
      "pool-dataset/train/images/CANNES_TILES_512x512-796_png.rf.831c4d3c8d4891d25a9eadb643f9d0fc.jpg\n",
      "pool-dataset/train/images/CANNES_TILES_512x512-797_png.rf.b719d852d2e1c13079b7266f65d3f49a.jpg\n",
      "pool-dataset/train/images/CANNES_TILES_512x512-799_png.rf.95367fc29b26e6d790fc5f1c03219b02.jpg\n",
      "pool-dataset/train/images/CANNES_TILES_512x512-7_png.rf.803d8ab66e85a014fb4f3d3bdf413112.jpg\n",
      "pool-dataset/train/images/CANNES_TILES_512x512-801_png.rf.87b232fdc76eef2ef6992ee519d873c4.jpg\n",
      "pool-dataset/train/images/CANNES_TILES_512x512-804_png.rf.5f6ba6fff21096984769055edf5d4c4f.jpg\n",
      "pool-dataset/train/images/CANNES_TILES_512x512-805_png.rf.633b68fca10fcbda1156476b2c85451c.jpg\n",
      "pool-dataset/train/images/CANNES_TILES_512x512-812_png.rf.4ca4b4bcc42694c478bcd3c8f2a83ccd.jpg\n",
      "pool-dataset/train/images/CANNES_TILES_512x512-814_png.rf.c34b9f21806b7b952a39d6f29cad3834.jpg\n",
      "pool-dataset/train/images/CANNES_TILES_512x512-817_png.rf.8c8707a48b23796bbb90e89d80a659aa.jpg\n",
      "pool-dataset/train/images/CANNES_TILES_512x512-81_png.rf.9d2d6cffc7864c678e4f19f1b808b788.jpg\n",
      "pool-dataset/train/images/CANNES_TILES_512x512-822_png.rf.ee4538ac15673eae684dba378cfdbab9.jpg\n",
      "pool-dataset/train/images/CANNES_TILES_512x512-823_png.rf.b66f3dc19537365af62dc23ba7999606.jpg\n",
      "pool-dataset/train/images/CANNES_TILES_512x512-828_png.rf.a727a6dbaf333836f81c19d6371776cb.jpg\n",
      "pool-dataset/train/images/CANNES_TILES_512x512-82_png.rf.6ed04fda48194a3b337842741ad2f31d.jpg\n",
      "pool-dataset/train/images/CANNES_TILES_512x512-837_png.rf.fe88a5251280b882065b1581b3ec835e.jpg\n",
      "pool-dataset/train/images/CANNES_TILES_512x512-843_png.rf.edfa076f67a8e8ca5ba1fd331c3a11d6.jpg\n",
      "pool-dataset/train/images/CANNES_TILES_512x512-846_png.rf.7b76bb34b262db5ec67691b59112d43a.jpg\n",
      "pool-dataset/train/images/CANNES_TILES_512x512-847_png.rf.9119e32c9a6f13b4c38cd8968b4c888e.jpg\n",
      "pool-dataset/train/images/CANNES_TILES_512x512-848_png.rf.f04e171e62da4c421ce4ad704484c46c.jpg\n",
      "pool-dataset/train/images/CANNES_TILES_512x512-849_png.rf.ab428a283ea6fda10685dd2b94326782.jpg\n",
      "pool-dataset/train/images/CANNES_TILES_512x512-84_png.rf.20bd87540fe2ab98fc1a5517d560d7c7.jpg\n",
      "pool-dataset/train/images/CANNES_TILES_512x512-850_png.rf.8b79476c0c4322d2b5b6c2d1b3102822.jpg\n",
      "pool-dataset/train/images/CANNES_TILES_512x512-852_png.rf.c089eeca5757c383fa7eb7f8da83f40c.jpg\n",
      "pool-dataset/train/images/CANNES_TILES_512x512-853_png.rf.bad7fdf8943548627b53b509f412986e.jpg\n",
      "pool-dataset/train/images/CANNES_TILES_512x512-860_png.rf.df1c708f41bbd8507d4957226c60b158.jpg\n",
      "pool-dataset/train/images/CANNES_TILES_512x512-863_png.rf.1d1d4b46f1568e96979f10724bf795a9.jpg\n",
      "pool-dataset/train/images/CANNES_TILES_512x512-866_png.rf.b86efced6b49633631e747dfca9400f1.jpg\n",
      "pool-dataset/train/images/CANNES_TILES_512x512-868_png.rf.7853cd8a1c2af0f36f6495f60e5af149.jpg\n",
      "pool-dataset/train/images/CANNES_TILES_512x512-869_png.rf.d724d5ffa48d254f9d048dc713390ece.jpg\n",
      "pool-dataset/train/images/CANNES_TILES_512x512-86_png.rf.afc122344725812be916d14ba9d3ec0d.jpg\n",
      "pool-dataset/train/images/CANNES_TILES_512x512-870_png.rf.a6822cb46fb8d9cfe706c12035c31514.jpg\n",
      "pool-dataset/train/images/CANNES_TILES_512x512-874_png.rf.ae3e1d259743c656e5168ab982a85234.jpg\n",
      "pool-dataset/train/images/CANNES_TILES_512x512-877_png.rf.e82ec437f2e75aa98211abed1e247dbf.jpg\n",
      "pool-dataset/train/images/CANNES_TILES_512x512-878_png.rf.f1784088f5255e116169bffe7fd7fe50.jpg\n",
      "pool-dataset/train/images/CANNES_TILES_512x512-87_png.rf.f26dafcf7692c97a8071af33cf70ed4a.jpg\n",
      "pool-dataset/train/images/CANNES_TILES_512x512-880_png.rf.26c6a38355cb5f016881c486dd3d5b90.jpg\n",
      "pool-dataset/train/images/CANNES_TILES_512x512-886_png.rf.7f03345f294b7ad2fde52b0c6ac8293b.jpg\n",
      "pool-dataset/train/images/CANNES_TILES_512x512-891_png.rf.a937c1240e7d1ed27281e17e6ce3eaa2.jpg\n",
      "pool-dataset/train/images/CANNES_TILES_512x512-894_png.rf.b38e2979c84f0b8e1c066331e35941a1.jpg\n",
      "pool-dataset/train/images/CANNES_TILES_512x512-895_png.rf.c7e9f5258c5d8fba65a4b246e3caa4a6.jpg\n",
      "pool-dataset/train/images/CANNES_TILES_512x512-902_png.rf.3829aac34b6d1bc496db18e7336a2547.jpg\n",
      "pool-dataset/train/images/CANNES_TILES_512x512-903_png.rf.469c56e73d330c3f44c62b4aad63a5fb.jpg\n",
      "pool-dataset/train/images/CANNES_TILES_512x512-911_png.rf.b398f7f779e3906cdb62fb2341531d81.jpg\n",
      "pool-dataset/train/images/CANNES_TILES_512x512-912_png.rf.f726a53a3c98a16a4f28525120de7f67.jpg\n",
      "pool-dataset/train/images/CANNES_TILES_512x512-913_png.rf.9b39c210a1d85241649dedd30e70d51b.jpg\n",
      "pool-dataset/train/images/CANNES_TILES_512x512-914_png.rf.ae3d3c5562100a80703ff741021309b0.jpg\n",
      "pool-dataset/train/images/CANNES_TILES_512x512-916_png.rf.f89acbd88cfaa353b0058e59a033582a.jpg\n",
      "pool-dataset/train/images/CANNES_TILES_512x512-917_png.rf.41286bc91c8b9ee5a65189dd4d0d9217.jpg\n",
      "pool-dataset/train/images/CANNES_TILES_512x512-918_png.rf.e9638401cccb5b43d8323993b80832da.jpg\n",
      "pool-dataset/train/images/CANNES_TILES_512x512-920_png.rf.b1fa5b9fc90f7fdde28bb7bb7f035024.jpg\n",
      "pool-dataset/train/images/CANNES_TILES_512x512-921_png.rf.9d7e7a625ab93d5ec353d91ff0f8342e.jpg\n",
      "pool-dataset/train/images/CANNES_TILES_512x512-927_png.rf.99b6b805d7a4af6dbf03f9f25fb67385.jpg\n",
      "pool-dataset/train/images/CANNES_TILES_512x512-928_png.rf.ea95a9f7427cebbbb59135fdf44e1a34.jpg\n",
      "pool-dataset/train/images/CANNES_TILES_512x512-929_png.rf.470549c1e7e3311b6da3376720a0c596.jpg\n",
      "pool-dataset/train/images/CANNES_TILES_512x512-930_png.rf.7c21172357e571b544fcf26ff9e2202c.jpg\n",
      "pool-dataset/train/images/CANNES_TILES_512x512-934_png.rf.8c4ffbd14752bfa0abe4c8caf4e9837d.jpg\n",
      "pool-dataset/train/images/CANNES_TILES_512x512-935_png.rf.2c7d6fbfa0c6fea19e07942592ff4971.jpg\n",
      "pool-dataset/train/images/CANNES_TILES_512x512-943_png.rf.7131c129bafbbd1b0a82e8291229b173.jpg\n",
      "pool-dataset/train/images/CANNES_TILES_512x512-947_png.rf.8fc5f0da77a67ffb5a0ec6274dd5c05c.jpg\n",
      "pool-dataset/train/images/CANNES_TILES_512x512-948_png.rf.0a73383355abe92408645761e9a7ff85.jpg\n",
      "pool-dataset/train/images/CANNES_TILES_512x512-949_png.rf.c13230af4dee429104d0bcbbbb0f241f.jpg\n",
      "pool-dataset/train/images/CANNES_TILES_512x512-94_png.rf.04047ec104a57a5839e35334f9934a4f.jpg\n",
      "pool-dataset/train/images/CANNES_TILES_512x512-952_png.rf.d3c89f518b68b6b14e79e9489aff4995.jpg\n",
      "pool-dataset/train/images/CANNES_TILES_512x512-953_png.rf.e46789bec1e4cc9a7026ec57a431ba15.jpg\n",
      "pool-dataset/train/images/CANNES_TILES_512x512-956_png.rf.c9adbbb23e4101ee8980dd8d06fa8af6.jpg\n",
      "pool-dataset/train/images/CANNES_TILES_512x512-959_png.rf.f479f84b82fdc48a8a0c693072dd254c.jpg\n",
      "pool-dataset/train/images/CANNES_TILES_512x512-967_png.rf.9a8954d7fa1f44d18d5357dc63d7da58.jpg\n",
      "pool-dataset/train/images/CANNES_TILES_512x512-968_png.rf.bd8448600ef0ba5402aba21af7bdf6d0.jpg\n",
      "pool-dataset/train/images/CANNES_TILES_512x512-969_png.rf.b51b3663a7fd333c0696224a26536b0b.jpg\n",
      "pool-dataset/train/images/CANNES_TILES_512x512-975_png.rf.b52c49d53db9770d166b5f362d67b07c.jpg\n",
      "pool-dataset/train/images/CANNES_TILES_512x512-977_png.rf.40f3960fefab73709744a37a40bc49b6.jpg\n",
      "pool-dataset/train/images/CANNES_TILES_512x512-978_png.rf.e2426cb803f6884dde58ae3fb0bfbfc8.jpg\n",
      "pool-dataset/train/images/CANNES_TILES_512x512-992_png.rf.311ab6f7853d97134e696330e2c2d612.jpg\n",
      "pool-dataset/train/images/CANNES_TILES_512x512-993_png.rf.0c41f7acd523a7fac61094e6764099b8.jpg\n",
      "pool-dataset/train/images/CANNES_TILES_512x512-994_png.rf.e2f7b60ab6fe47e6e85d5a293256adfd.jpg\n",
      "pool-dataset/train/images/CANNES_TILES_512x512-995_png.rf.f1724118b6ae1af89d90807c4c2192f6.jpg\n",
      "pool-dataset/train/images/CANNES_TILES_512x512-997_png.rf.3970e4172be3c70d5c25242c469ac82d.jpg\n",
      "pool-dataset/train/images/P0130_png.rf.72bf149bf5c13b77a2753e7040b1c3e8.jpg\n",
      "pool-dataset/train/images/P0131_png.rf.753e2f3fa074bd0128feb49cc384af99.jpg\n",
      "pool-dataset/train/images/P0882_png.rf.3ec271133807944b96b9f7516b028ad3.jpg\n",
      "pool-dataset/train/images/P1030_png.rf.c6f832b267471e8cbc585a49f1fa3c4b.jpg\n",
      "pool-dataset/train/labels/CANNES_TILES_512x512-1000_png.rf.c4dbf0884a9b547d127c6cbba62903c2.txt\n",
      "pool-dataset/train/labels/CANNES_TILES_512x512-1004_png.rf.b174964b41042d2bb3be64b714631074.txt\n",
      "pool-dataset/train/labels/CANNES_TILES_512x512-1009_png.rf.8afaf3c822c4893525bb1af5a4ae88f0.txt\n",
      "pool-dataset/train/labels/CANNES_TILES_512x512-1017_png.rf.dfcc2ff34135bd095ccadc681491c209.txt\n",
      "pool-dataset/train/labels/CANNES_TILES_512x512-1018_png.rf.a616271e6dda49d2906c362be07ef12a.txt\n",
      "pool-dataset/train/labels/CANNES_TILES_512x512-1019_png.rf.a6c3bdaaaff1302392ae0568628c38ed.txt\n",
      "pool-dataset/train/labels/CANNES_TILES_512x512-1026_png.rf.cc0a1ede47f753c385a682926fc984c2.txt\n",
      "pool-dataset/train/labels/CANNES_TILES_512x512-102_png.rf.7480432098537b3d021ea6568d70141d.txt\n",
      "pool-dataset/train/labels/CANNES_TILES_512x512-1035_png.rf.005bbf02ce756afa7faa51622bba2f08.txt\n",
      "pool-dataset/train/labels/CANNES_TILES_512x512-1040_png.rf.30c4886abc196b797dbcb95d4e836512.txt\n",
      "pool-dataset/train/labels/CANNES_TILES_512x512-1042_png.rf.02ebc0b47b698736ea747feb79d2f0f5.txt\n",
      "pool-dataset/train/labels/CANNES_TILES_512x512-1043_png.rf.584a48df2796a1a79a919a29460ab5f8.txt\n",
      "pool-dataset/train/labels/CANNES_TILES_512x512-1046_png.rf.27e839d1b3e532e39566b75b101ef433.txt\n",
      "pool-dataset/train/labels/CANNES_TILES_512x512-1047_png.rf.ca900d7f168504a0938c8ac2ade9be21.txt\n",
      "pool-dataset/train/labels/CANNES_TILES_512x512-1048_png.rf.0ab3f44e96dc54db96e19a7bd6d49371.txt\n",
      "pool-dataset/train/labels/CANNES_TILES_512x512-1049_png.rf.8316d0b32fe0532a713867210b66f917.txt\n",
      "pool-dataset/train/labels/CANNES_TILES_512x512-1050_png.rf.1120c03da1f43f2b4b4c3e6238d73650.txt\n",
      "pool-dataset/train/labels/CANNES_TILES_512x512-1051_png.rf.78cf71d2575e4b6fe753c3a0a9ea3a4f.txt\n",
      "pool-dataset/train/labels/CANNES_TILES_512x512-1052_png.rf.94ccf86ad112553a5fe797f155670c9c.txt\n",
      "pool-dataset/train/labels/CANNES_TILES_512x512-1053_png.rf.773fb8545706e992a9ea897ea032efc2.txt\n",
      "pool-dataset/train/labels/CANNES_TILES_512x512-1056_png.rf.56a21b76714151285be633d811387d7a.txt\n",
      "pool-dataset/train/labels/CANNES_TILES_512x512-1057_png.rf.031d880676c85ca5ce04055d633f5f86.txt\n",
      "pool-dataset/train/labels/CANNES_TILES_512x512-1058_png.rf.cd1cda1deac04c5fc527f8f88c909e8d.txt\n",
      "pool-dataset/train/labels/CANNES_TILES_512x512-1059_png.rf.9ecc7f52863955aad9809efb29757ef7.txt\n",
      "pool-dataset/train/labels/CANNES_TILES_512x512-105_png.rf.1c19303fbd9359fcac6f2336139e1840.txt\n",
      "pool-dataset/train/labels/CANNES_TILES_512x512-1061_png.rf.c76da085d516570419f9dd5ccf527b9d.txt\n",
      "pool-dataset/train/labels/CANNES_TILES_512x512-1062_png.rf.f6a3a74c1c79ee3581809a1635ddb680.txt\n",
      "pool-dataset/train/labels/CANNES_TILES_512x512-1068_png.rf.da819e8115037be6133af5d20e28ecdb.txt\n",
      "pool-dataset/train/labels/CANNES_TILES_512x512-1069_png.rf.5929c7cf0f1cba6c92cfc4323bb4c017.txt\n",
      "pool-dataset/train/labels/CANNES_TILES_512x512-1071_png.rf.b79016703b3d5952acd4ee5fbe9bf884.txt\n",
      "pool-dataset/train/labels/CANNES_TILES_512x512-1074_png.rf.cead33584712ff36070c3626ee0704a4.txt\n",
      "pool-dataset/train/labels/CANNES_TILES_512x512-1076_png.rf.17345e06b49e3a6374cd9ad038c4f066.txt\n",
      "pool-dataset/train/labels/CANNES_TILES_512x512-1077_png.rf.dd0376fbe112a350794bfe456aab6316.txt\n",
      "pool-dataset/train/labels/CANNES_TILES_512x512-1078_png.rf.d694019f6e38503765a644b8c15205ee.txt\n",
      "pool-dataset/train/labels/CANNES_TILES_512x512-108_png.rf.6b3454ff1a707d7a93b70afc5b5a2784.txt\n",
      "pool-dataset/train/labels/CANNES_TILES_512x512-1091_png.rf.6dbba588f7abf77e8f9921fa742267a2.txt\n",
      "pool-dataset/train/labels/CANNES_TILES_512x512-1092_png.rf.0a74b6bb2bdd463a14e3ffca83ace02a.txt\n",
      "pool-dataset/train/labels/CANNES_TILES_512x512-1097_png.rf.c69e74686f8623f745c1757697af732c.txt\n",
      "pool-dataset/train/labels/CANNES_TILES_512x512-1099_png.rf.10d7c057b32c9e7e7a693e9a54cb7cb6.txt\n",
      "pool-dataset/train/labels/CANNES_TILES_512x512-109_png.rf.09d03923825eb15bd5e632b21c744b86.txt\n",
      "pool-dataset/train/labels/CANNES_TILES_512x512-10_png.rf.213f192acfa61f9f590ffb844916eca4.txt\n",
      "pool-dataset/train/labels/CANNES_TILES_512x512-1101_png.rf.b4a1b13a59d4b6c0edf0529f7de9055f.txt\n",
      "pool-dataset/train/labels/CANNES_TILES_512x512-1107_png.rf.46fecd79156cfa2c44aae92529cb729b.txt\n",
      "pool-dataset/train/labels/CANNES_TILES_512x512-1108_png.rf.c32fa75a9ab0ca34143e73f344658930.txt\n",
      "pool-dataset/train/labels/CANNES_TILES_512x512-1109_png.rf.321c950fd6da0e3e39c0519eea636618.txt\n",
      "pool-dataset/train/labels/CANNES_TILES_512x512-110_png.rf.af065e948cd4528be1e47659dc716cff.txt\n",
      "pool-dataset/train/labels/CANNES_TILES_512x512-1110_png.rf.66668b1851c85af0ba2d86455349747d.txt\n",
      "pool-dataset/train/labels/CANNES_TILES_512x512-1111_png.rf.0b3b819222c9f8ad3e37bd4520bf5571.txt\n",
      "pool-dataset/train/labels/CANNES_TILES_512x512-1114_png.rf.eff6bd0d9e207414befe538f000d8b49.txt\n",
      "pool-dataset/train/labels/CANNES_TILES_512x512-1116_png.rf.0e75d667f547002a76d1bf42471fdc5a.txt\n",
      "pool-dataset/train/labels/CANNES_TILES_512x512-1118_png.rf.d0d0c21db06f8bf6e7028ed21f327ec7.txt\n",
      "pool-dataset/train/labels/CANNES_TILES_512x512-1119_png.rf.20e2481242fdb6d69efe784487eb0f6d.txt\n",
      "pool-dataset/train/labels/CANNES_TILES_512x512-1122_png.rf.5c34b11fade8763429ba47261df28de5.txt\n",
      "pool-dataset/train/labels/CANNES_TILES_512x512-1127_png.rf.90a396d242b7acd9e58c72b8b84f9ba3.txt\n",
      "pool-dataset/train/labels/CANNES_TILES_512x512-1131_png.rf.f39d88041fd6ec5e65322b932a6b5a7c.txt\n",
      "pool-dataset/train/labels/CANNES_TILES_512x512-113_png.rf.15cff23b73fdf06667f34d112078dcce.txt\n",
      "pool-dataset/train/labels/CANNES_TILES_512x512-1140_png.rf.b00ac1604eab8b8dd850f351a02a02f2.txt\n",
      "pool-dataset/train/labels/CANNES_TILES_512x512-1141_png.rf.5b52ce06c3a440b71ffb8eb3e10df421.txt\n",
      "pool-dataset/train/labels/CANNES_TILES_512x512-1149_png.rf.056309bab3ab7fdd472da540091fe883.txt\n",
      "pool-dataset/train/labels/CANNES_TILES_512x512-114_png.rf.2193e30fc74b483f0d8e9ce8344a3ef2.txt\n",
      "pool-dataset/train/labels/CANNES_TILES_512x512-1155_png.rf.36a39fc3a154dc798d0d4f25750ced69.txt\n",
      "pool-dataset/train/labels/CANNES_TILES_512x512-1156_png.rf.4fecc643a83f4dab25c2e48aa10c1a07.txt\n",
      "pool-dataset/train/labels/CANNES_TILES_512x512-1160_png.rf.ef5b982851158f7f692e73a544ebb9f7.txt\n",
      "pool-dataset/train/labels/CANNES_TILES_512x512-1161_png.rf.3accf0cefcb295044b88b81477448962.txt\n",
      "pool-dataset/train/labels/CANNES_TILES_512x512-1162_png.rf.e13c12205fa64f5a0d3e6a6f1e71d303.txt\n",
      "pool-dataset/train/labels/CANNES_TILES_512x512-1164_png.rf.e4b7c0c8a687fe4e91fd80855e54ba73.txt\n",
      "pool-dataset/train/labels/CANNES_TILES_512x512-1165_png.rf.c59769bc7dd53fca8a9eb69717aa32a5.txt\n",
      "pool-dataset/train/labels/CANNES_TILES_512x512-1167_png.rf.42659412f095e25beb36d1b1363323a0.txt\n",
      "pool-dataset/train/labels/CANNES_TILES_512x512-1169_png.rf.4bcd27ad5614090acc207a7b5178f41c.txt\n",
      "pool-dataset/train/labels/CANNES_TILES_512x512-1172_png.rf.ee66014894cb0218752e480fa8eabe1e.txt\n",
      "pool-dataset/train/labels/CANNES_TILES_512x512-1174_png.rf.0b90d4c404a90a382e9083183ade07bc.txt\n",
      "pool-dataset/train/labels/CANNES_TILES_512x512-1175_png.rf.dfd395fe089dcd15a9493c9f8178c053.txt\n",
      "pool-dataset/train/labels/CANNES_TILES_512x512-1183_png.rf.c2a209897362e61b61449718d79c0a33.txt\n",
      "pool-dataset/train/labels/CANNES_TILES_512x512-1187_png.rf.4699b13e4fd70073fcd0bba618bc61d1.txt\n",
      "pool-dataset/train/labels/CANNES_TILES_512x512-1188_png.rf.1f42803ff580f206e587606aa3ef075c.txt\n",
      "pool-dataset/train/labels/CANNES_TILES_512x512-1189_png.rf.68d4ceba7c578971853ee5fbdbaa7742.txt\n",
      "pool-dataset/train/labels/CANNES_TILES_512x512-118_png.rf.bead101dc1795e7cc0e61f12baff71c0.txt\n",
      "pool-dataset/train/labels/CANNES_TILES_512x512-1191_png.rf.d797ce0f816d04fab15d5af7e354b01c.txt\n",
      "pool-dataset/train/labels/CANNES_TILES_512x512-1197_png.rf.3075495a1af5112354e3784765be86fc.txt\n",
      "pool-dataset/train/labels/CANNES_TILES_512x512-1198_png.rf.cfa6c0f8c608601fac8136b1bd46e7ce.txt\n",
      "pool-dataset/train/labels/CANNES_TILES_512x512-1199_png.rf.5177f285c50450059f291955011dc32d.txt\n",
      "pool-dataset/train/labels/CANNES_TILES_512x512-119_png.rf.d3321084e555f3bf4ca3f755f5ddb51e.txt\n",
      "pool-dataset/train/labels/CANNES_TILES_512x512-11_png.rf.b2acc3653b6fb53b1f590949dc60c6f6.txt\n",
      "pool-dataset/train/labels/CANNES_TILES_512x512-1200_png.rf.dadef51575b2214f0974ece67619661b.txt\n",
      "pool-dataset/train/labels/CANNES_TILES_512x512-1201_png.rf.9fd9c77a84bb65b42f12f68e0fc1dc0b.txt\n",
      "pool-dataset/train/labels/CANNES_TILES_512x512-1204_png.rf.d1b28a0b7e4d69a987379f740bc5b2af.txt\n",
      "pool-dataset/train/labels/CANNES_TILES_512x512-1205_png.rf.03fe4fd63a4e5d4d0ca192b3468e9a6b.txt\n",
      "pool-dataset/train/labels/CANNES_TILES_512x512-1206_png.rf.f4656f63e6e02a19d762656cb9e2ecec.txt\n",
      "pool-dataset/train/labels/CANNES_TILES_512x512-1207_png.rf.3a55b7b8cf733152638a831f09865281.txt\n",
      "pool-dataset/train/labels/CANNES_TILES_512x512-1208_png.rf.5f2db146cae06b18ab94a235e633e24f.txt\n",
      "pool-dataset/train/labels/CANNES_TILES_512x512-1209_png.rf.6cbd3c5d17e1f36c59063f74f12645c8.txt\n",
      "pool-dataset/train/labels/CANNES_TILES_512x512-120_png.rf.e5c7b75590b69931614f31eda814dbc3.txt\n",
      "pool-dataset/train/labels/CANNES_TILES_512x512-1211_png.rf.71dd3f06eed2e7922d2fbf9485332f52.txt\n",
      "pool-dataset/train/labels/CANNES_TILES_512x512-1212_png.rf.649e2749fecb6e783f9c568e8ffd600c.txt\n",
      "pool-dataset/train/labels/CANNES_TILES_512x512-1213_png.rf.d54c32e520fa11a8b6343b97f63452d1.txt\n",
      "pool-dataset/train/labels/CANNES_TILES_512x512-1214_png.rf.5a08898f58a7055877205bccf50e8f24.txt\n",
      "pool-dataset/train/labels/CANNES_TILES_512x512-1215_png.rf.427374b9d98a1cf933a5036b15c72c6d.txt\n",
      "pool-dataset/train/labels/CANNES_TILES_512x512-1216_png.rf.a99490086f3f9d7f98684fec5e7e2455.txt\n",
      "pool-dataset/train/labels/CANNES_TILES_512x512-1217_png.rf.9cede97a093aa4a0e630a77f9ecd79f5.txt\n",
      "pool-dataset/train/labels/CANNES_TILES_512x512-121_png.rf.90b14926204867b3c20c1392640a450c.txt\n",
      "pool-dataset/train/labels/CANNES_TILES_512x512-1220_png.rf.3721209597efab8edfac39ee664157df.txt\n",
      "pool-dataset/train/labels/CANNES_TILES_512x512-1221_png.rf.eaf6662a1455ee09d57031ae7cb1bdba.txt\n",
      "pool-dataset/train/labels/CANNES_TILES_512x512-1222_png.rf.de312cc4105ce4ff19dccb5087a34efb.txt\n",
      "pool-dataset/train/labels/CANNES_TILES_512x512-1225_png.rf.434fe5da24df71f6cc7bf6c38439b788.txt\n",
      "pool-dataset/train/labels/CANNES_TILES_512x512-122_png.rf.28831e79da54484f43fad445126bcf97.txt\n",
      "pool-dataset/train/labels/CANNES_TILES_512x512-1237_png.rf.86c26d029802ec2d7219f70e820eb699.txt\n",
      "pool-dataset/train/labels/CANNES_TILES_512x512-123_png.rf.8168c3a136227ebf131f1d4e8c844fff.txt\n",
      "pool-dataset/train/labels/CANNES_TILES_512x512-1241_png.rf.e1f5756dcf7268f7ecc97ae4349ee79a.txt\n",
      "pool-dataset/train/labels/CANNES_TILES_512x512-1246_png.rf.771e71a76517d95cacc4e95cd40f7280.txt\n",
      "pool-dataset/train/labels/CANNES_TILES_512x512-124_png.rf.7524d066cba310dc64de4687eaf8073c.txt\n",
      "pool-dataset/train/labels/CANNES_TILES_512x512-1252_png.rf.93c208b2b3a0ff257ea8112b5b7d71ea.txt\n",
      "pool-dataset/train/labels/CANNES_TILES_512x512-1255_png.rf.9c51ed94de7322982defe7bce06fb2e3.txt\n",
      "pool-dataset/train/labels/CANNES_TILES_512x512-1256_png.rf.60982b97419609676376a9cc8a345e94.txt\n",
      "pool-dataset/train/labels/CANNES_TILES_512x512-1258_png.rf.042feaffe06d738d154e7ca1e5780ead.txt\n",
      "pool-dataset/train/labels/CANNES_TILES_512x512-1259_png.rf.e7e2d23efa7ab0849d3468239cca073a.txt\n",
      "pool-dataset/train/labels/CANNES_TILES_512x512-1260_png.rf.546f055af1485b50987993337012147e.txt\n",
      "pool-dataset/train/labels/CANNES_TILES_512x512-1263_png.rf.d534ef4492a2100879b4cb9fd6ae6fa5.txt\n",
      "pool-dataset/train/labels/CANNES_TILES_512x512-1266_png.rf.ccbadd22811c670bbadf1ce2a7b9fb9e.txt\n",
      "pool-dataset/train/labels/CANNES_TILES_512x512-1267_png.rf.3ebbf415ab19f963e734c7f02c0f16be.txt\n",
      "pool-dataset/train/labels/CANNES_TILES_512x512-1269_png.rf.021111534fef6aa7d2da1ffe08c60fe4.txt\n",
      "pool-dataset/train/labels/CANNES_TILES_512x512-126_png.rf.14eb40246560df57e3a98fc1ca45c2f2.txt\n",
      "pool-dataset/train/labels/CANNES_TILES_512x512-1272_png.rf.d8c61d1069674f9e870442adcd3b75fa.txt\n",
      "pool-dataset/train/labels/CANNES_TILES_512x512-1278_png.rf.58413f2e1f45e6031be141cea91dc58f.txt\n",
      "pool-dataset/train/labels/CANNES_TILES_512x512-1279_png.rf.64a6be41506e5246751e1a7c94040d72.txt\n",
      "pool-dataset/train/labels/CANNES_TILES_512x512-127_png.rf.241807d545c16834cf5df2af809013c9.txt\n",
      "pool-dataset/train/labels/CANNES_TILES_512x512-1282_png.rf.3ffa70a1e44ebcd87203c4702bcf7c78.txt\n",
      "pool-dataset/train/labels/CANNES_TILES_512x512-1286_png.rf.5bdbdef280e6e29b36502f565094b59f.txt\n",
      "pool-dataset/train/labels/CANNES_TILES_512x512-1290_png.rf.411233faaf0892502c42091e1f1c3491.txt\n",
      "pool-dataset/train/labels/CANNES_TILES_512x512-1291_png.rf.625217803488fd13c741685de685aad1.txt\n",
      "pool-dataset/train/labels/CANNES_TILES_512x512-1292_png.rf.e62dbcad18ff9dc34f85ad30239cd92d.txt\n",
      "pool-dataset/train/labels/CANNES_TILES_512x512-129_png.rf.82c44c25ef5fe8806c078d25bdd8c70a.txt\n",
      "pool-dataset/train/labels/CANNES_TILES_512x512-12_png.rf.0913001f026043bdf190fbcf808de482.txt\n",
      "pool-dataset/train/labels/CANNES_TILES_512x512-1304_png.rf.41daebae1d056aa071a58a5a88faea51.txt\n",
      "pool-dataset/train/labels/CANNES_TILES_512x512-1305_png.rf.35e97b430f4ee2824aab7feaf7fb78ce.txt\n",
      "pool-dataset/train/labels/CANNES_TILES_512x512-1307_png.rf.a2a69cd727424f03c3f4af6c65873888.txt\n",
      "pool-dataset/train/labels/CANNES_TILES_512x512-1308_png.rf.66f334efeaa72e9ce4cc86dddf1948ca.txt\n",
      "pool-dataset/train/labels/CANNES_TILES_512x512-1309_png.rf.9161d3abf0770d554a204898e09ec99d.txt\n",
      "pool-dataset/train/labels/CANNES_TILES_512x512-130_png.rf.345bc79585db5b9e7eca0adf08f5c9a4.txt\n",
      "pool-dataset/train/labels/CANNES_TILES_512x512-1310_png.rf.18539fac1cf3641de86d2dcd47aacc77.txt\n",
      "pool-dataset/train/labels/CANNES_TILES_512x512-1311_png.rf.bab46b8c865930e07c8d85829b91b05b.txt\n",
      "pool-dataset/train/labels/CANNES_TILES_512x512-1312_png.rf.12e8ba53e767032230ae59b9e995f2d7.txt\n",
      "pool-dataset/train/labels/CANNES_TILES_512x512-1314_png.rf.da6ff75a5875a833424e5c56c45eddaf.txt\n",
      "pool-dataset/train/labels/CANNES_TILES_512x512-1322_png.rf.4a999de96b3740f6a8e864ab902be2cb.txt\n",
      "pool-dataset/train/labels/CANNES_TILES_512x512-132_png.rf.807ef05a35117b35841a1eb76737aeca.txt\n",
      "pool-dataset/train/labels/CANNES_TILES_512x512-1331_png.rf.fcc0e69d265d2815b117a1a6cc0676b3.txt\n",
      "pool-dataset/train/labels/CANNES_TILES_512x512-1335_png.rf.fde3ce3dc44d3a6fb409225224f42070.txt\n",
      "pool-dataset/train/labels/CANNES_TILES_512x512-1336_png.rf.68eabb7a2bbb22fc00711e17897f8b5d.txt\n",
      "pool-dataset/train/labels/CANNES_TILES_512x512-1339_png.rf.7c4238a16b558a5ca9b15d1e36f9d7cf.txt\n",
      "pool-dataset/train/labels/CANNES_TILES_512x512-133_png.rf.accc626702a8dc88ca68f71dc5311f18.txt\n",
      "pool-dataset/train/labels/CANNES_TILES_512x512-1341_png.rf.940b92da65f3f34e327089568415bd73.txt\n",
      "pool-dataset/train/labels/CANNES_TILES_512x512-1342_png.rf.9ec49edec34964d64b90a0220a341796.txt\n",
      "pool-dataset/train/labels/CANNES_TILES_512x512-1343_png.rf.24849c40ae8744a457ac7d7963d3a4dc.txt\n",
      "pool-dataset/train/labels/CANNES_TILES_512x512-1344_png.rf.fe96019e22836c65538048adde29bc31.txt\n",
      "pool-dataset/train/labels/CANNES_TILES_512x512-1345_png.rf.c8b1b0ba75200d20c99f7e8cc4bd4ea2.txt\n",
      "pool-dataset/train/labels/CANNES_TILES_512x512-1349_png.rf.b55ac823f80019dbe32ce38570d6cfce.txt\n",
      "pool-dataset/train/labels/CANNES_TILES_512x512-134_png.rf.5c8c2caccb73195bc77709d4d011729e.txt\n",
      "pool-dataset/train/labels/CANNES_TILES_512x512-1351_png.rf.743fb4ad811c49d26fe77d5cc506bac8.txt\n",
      "pool-dataset/train/labels/CANNES_TILES_512x512-1352_png.rf.75e55f41f6b3dca725f7929ab7a911c9.txt\n",
      "pool-dataset/train/labels/CANNES_TILES_512x512-135_png.rf.38013d3e4c592bedcd069392176cda27.txt\n",
      "pool-dataset/train/labels/CANNES_TILES_512x512-1361_png.rf.fb98d11b1c7b80b7ca9ea09865ebd6fd.txt\n",
      "pool-dataset/train/labels/CANNES_TILES_512x512-1362_png.rf.af507e727ad4ead939308e687ac7937d.txt\n",
      "pool-dataset/train/labels/CANNES_TILES_512x512-1363_png.rf.3f5511fbac9489c694c6d582f3ce3dd2.txt\n",
      "pool-dataset/train/labels/CANNES_TILES_512x512-1364_png.rf.b18130fb0c72c13daf1cefbb06cbe308.txt\n",
      "pool-dataset/train/labels/CANNES_TILES_512x512-1365_png.rf.2978b3aba3da242f5f8e788d88d194ca.txt\n",
      "pool-dataset/train/labels/CANNES_TILES_512x512-1369_png.rf.b78fa0dc57b16d7de1d75cb8b93a35c6.txt\n",
      "pool-dataset/train/labels/CANNES_TILES_512x512-1370_png.rf.8b7fd62d93992bb099c7d4dc14ae3fa4.txt\n",
      "pool-dataset/train/labels/CANNES_TILES_512x512-1371_png.rf.c428d4c45d15f96c986bc5995b37aac3.txt\n",
      "pool-dataset/train/labels/CANNES_TILES_512x512-1379_png.rf.8009243e76b2a008ce74366e9b3fbeba.txt\n",
      "pool-dataset/train/labels/CANNES_TILES_512x512-137_png.rf.685862c022add80fe4f5d788e5cd8076.txt\n",
      "pool-dataset/train/labels/CANNES_TILES_512x512-1380_png.rf.17c1a93b9ccf6a26a86123683fd86f12.txt\n",
      "pool-dataset/train/labels/CANNES_TILES_512x512-1383_png.rf.c0ecdf54aa039c22fe3b0c634da46941.txt\n",
      "pool-dataset/train/labels/CANNES_TILES_512x512-1384_png.rf.00125b07f5b9e8400e0cb79c64ce9805.txt\n",
      "pool-dataset/train/labels/CANNES_TILES_512x512-1390_png.rf.5c52f1e5faa1f94d9b7f25c0b0e346bd.txt\n",
      "pool-dataset/train/labels/CANNES_TILES_512x512-1392_png.rf.e49ddd64ce3cb36b26d75c5a96fbcc68.txt\n",
      "pool-dataset/train/labels/CANNES_TILES_512x512-1394_png.rf.c9547e3b30aeca752ef49c8c1ea04549.txt\n",
      "pool-dataset/train/labels/CANNES_TILES_512x512-139_png.rf.5259f91175e108672b9c1351d99a1cb2.txt\n",
      "pool-dataset/train/labels/CANNES_TILES_512x512-13_png.rf.802c5a825394b424ec1380ceaea781e8.txt\n",
      "pool-dataset/train/labels/CANNES_TILES_512x512-1400_png.rf.32c43056d7822ff38af90d2cad6f1efd.txt\n",
      "pool-dataset/train/labels/CANNES_TILES_512x512-1401_png.rf.929174e4d8b297ad0cd8b3a01857d053.txt\n",
      "pool-dataset/train/labels/CANNES_TILES_512x512-1402_png.rf.d7729accdf8b7d8547abd33cbc867a7a.txt\n",
      "pool-dataset/train/labels/CANNES_TILES_512x512-1403_png.rf.558fc238ded3c3313a0027cf78157d47.txt\n",
      "pool-dataset/train/labels/CANNES_TILES_512x512-1408_png.rf.61704bcb9f9d55ca7edb20db47aad27f.txt\n",
      "pool-dataset/train/labels/CANNES_TILES_512x512-140_png.rf.bf210feca448a898060de6aa724cc794.txt\n",
      "pool-dataset/train/labels/CANNES_TILES_512x512-1412_png.rf.88a1fb18a1a0d7c424a6838f15737a32.txt\n",
      "pool-dataset/train/labels/CANNES_TILES_512x512-1413_png.rf.cd8f427c6aac45058a4d32066ff554a0.txt\n",
      "pool-dataset/train/labels/CANNES_TILES_512x512-1414_png.rf.a87fe562fa8e49e041065ce27f2e904e.txt\n",
      "pool-dataset/train/labels/CANNES_TILES_512x512-1417_png.rf.083a649de29c91514c6774a47120fa72.txt\n",
      "pool-dataset/train/labels/CANNES_TILES_512x512-141_png.rf.cad3f0d88cf13fe700cbdce644c77906.txt\n",
      "pool-dataset/train/labels/CANNES_TILES_512x512-1421_png.rf.aec2a7bd92200988042590f206500b0d.txt\n",
      "pool-dataset/train/labels/CANNES_TILES_512x512-1428_png.rf.ae9d933da6071407ea9d2942ed51c437.txt\n",
      "pool-dataset/train/labels/CANNES_TILES_512x512-142_png.rf.9248b19782b0dc5a0378a327550f775e.txt\n",
      "pool-dataset/train/labels/CANNES_TILES_512x512-1433_png.rf.f55adf357f98a49de4d9562c75cce598.txt\n",
      "pool-dataset/train/labels/CANNES_TILES_512x512-1439_png.rf.7ce068342e5f87b8ca56e526c1cbcd7a.txt\n",
      "pool-dataset/train/labels/CANNES_TILES_512x512-1440_png.rf.e55c8ff5c7dfa49867780b5a9dec50fb.txt\n",
      "pool-dataset/train/labels/CANNES_TILES_512x512-1441_png.rf.e84fcddeeeae500cd4f00cb9eade1f6f.txt\n",
      "pool-dataset/train/labels/CANNES_TILES_512x512-1442_png.rf.d3245faed972ed139bb22dbede1ad5c8.txt\n",
      "pool-dataset/train/labels/CANNES_TILES_512x512-1443_png.rf.37d0fc0137561ff90bc4af48e5609233.txt\n",
      "pool-dataset/train/labels/CANNES_TILES_512x512-1448_png.rf.2460ed8909433fca3f156b6aa83818b7.txt\n",
      "pool-dataset/train/labels/CANNES_TILES_512x512-1449_png.rf.1deebc5abee2e7e8472183633dbbdb06.txt\n",
      "pool-dataset/train/labels/CANNES_TILES_512x512-1450_png.rf.8bfaed9f354b49dd217bc38aa879b66f.txt\n",
      "pool-dataset/train/labels/CANNES_TILES_512x512-1451_png.rf.918295fe80b937a7bab4f63b72373ed3.txt\n",
      "pool-dataset/train/labels/CANNES_TILES_512x512-1453_png.rf.40d2806a89d17841be664050a48e5afc.txt\n",
      "pool-dataset/train/labels/CANNES_TILES_512x512-1458_png.rf.d03017053f6a8505dc841f1f1e7d17a2.txt\n",
      "pool-dataset/train/labels/CANNES_TILES_512x512-1460_png.rf.44c5f255d47b6be89558782753507066.txt\n",
      "pool-dataset/train/labels/CANNES_TILES_512x512-1461_png.rf.c701695876d79bbaedd1a3c666e068e1.txt\n",
      "pool-dataset/train/labels/CANNES_TILES_512x512-1462_png.rf.219db140d187d5fbe0e04786fd2b34c7.txt\n",
      "pool-dataset/train/labels/CANNES_TILES_512x512-1463_png.rf.cc531358da34ab1168b3b6d50840c8e9.txt\n",
      "pool-dataset/train/labels/CANNES_TILES_512x512-1465_png.rf.8d7df1702acba52197d45b99b8268e33.txt\n",
      "pool-dataset/train/labels/CANNES_TILES_512x512-1466_png.rf.941954b0f961cf07cae54fb0b3e40ec1.txt\n",
      "pool-dataset/train/labels/CANNES_TILES_512x512-1474_png.rf.479d2c251af13791a1c49747498eca5d.txt\n",
      "pool-dataset/train/labels/CANNES_TILES_512x512-1476_png.rf.ed1e13da9c7a45c05a8a78ad47c4fe2e.txt\n",
      "pool-dataset/train/labels/CANNES_TILES_512x512-1481_png.rf.d004068bd9e996b31cac8dd2f5e872a4.txt\n",
      "pool-dataset/train/labels/CANNES_TILES_512x512-1489_png.rf.566a03b8273700853e6d97651cfe31fe.txt\n",
      "pool-dataset/train/labels/CANNES_TILES_512x512-1491_png.rf.ca83eecaf5a3414868251f29b1493c04.txt\n",
      "pool-dataset/train/labels/CANNES_TILES_512x512-1492_png.rf.21e915232ff9be659571157a8e599749.txt\n",
      "pool-dataset/train/labels/CANNES_TILES_512x512-1497_png.rf.6d4a6603a6d0349cf00a0ab2c2bb5c81.txt\n",
      "pool-dataset/train/labels/CANNES_TILES_512x512-1498_png.rf.7ee2b7466ec735859be2e114a804b2b2.txt\n",
      "pool-dataset/train/labels/CANNES_TILES_512x512-1500_png.rf.50be6745ae0edffc4f3039f89826dd32.txt\n",
      "pool-dataset/train/labels/CANNES_TILES_512x512-1501_png.rf.77dc28e29aa503d90a6e94dda77a1b83.txt\n",
      "pool-dataset/train/labels/CANNES_TILES_512x512-1503_png.rf.6914741aa378c72e1c59996d362d2117.txt\n",
      "pool-dataset/train/labels/CANNES_TILES_512x512-1508_png.rf.e167b26ca6b3fdb3dd0903ef7c8b9659.txt\n",
      "pool-dataset/train/labels/CANNES_TILES_512x512-1509_png.rf.2d6ecdafb1b3211de33943acfb208740.txt\n",
      "pool-dataset/train/labels/CANNES_TILES_512x512-1510_png.rf.97041b088a8950f59ebed4ec33ed5aff.txt\n",
      "pool-dataset/train/labels/CANNES_TILES_512x512-1513_png.rf.e2b7fc377c6662a681eac4f174126a99.txt\n",
      "pool-dataset/train/labels/CANNES_TILES_512x512-1519_png.rf.15d78580fc10982e3b5c13ecdc8566ff.txt\n",
      "pool-dataset/train/labels/CANNES_TILES_512x512-151_png.rf.b9d17f75060178791b90470a8366635f.txt\n",
      "pool-dataset/train/labels/CANNES_TILES_512x512-1521_png.rf.782137beb29058d049444fe579b7f3cc.txt\n",
      "pool-dataset/train/labels/CANNES_TILES_512x512-1524_png.rf.353de87d73b82895911b9b209bf06d4f.txt\n",
      "pool-dataset/train/labels/CANNES_TILES_512x512-1525_png.rf.673f49ed9642eef763e4b8912d7b9ff7.txt\n",
      "pool-dataset/train/labels/CANNES_TILES_512x512-1526_png.rf.43fb74dcbeb0900fea9472a644815d30.txt\n",
      "pool-dataset/train/labels/CANNES_TILES_512x512-1532_png.rf.1cbffba9cbaad3171561798cbd3eea00.txt\n",
      "pool-dataset/train/labels/CANNES_TILES_512x512-1540_png.rf.d4a224d0016ca8631605359915805a3a.txt\n",
      "pool-dataset/train/labels/CANNES_TILES_512x512-154_png.rf.e461b5562ada9cf49c0a8e7a37c215a2.txt\n",
      "pool-dataset/train/labels/CANNES_TILES_512x512-1554_png.rf.f04a616ef9e5920f6c2e7b6a3c3cd688.txt\n",
      "pool-dataset/train/labels/CANNES_TILES_512x512-1555_png.rf.bb329233b3f4d9d8ac637f6f9222c5de.txt\n",
      "pool-dataset/train/labels/CANNES_TILES_512x512-1558_png.rf.de0603b769872caa62c06ac959de43ea.txt\n",
      "pool-dataset/train/labels/CANNES_TILES_512x512-155_png.rf.61e034e7a8bb384d7a148ed978beeb53.txt\n",
      "pool-dataset/train/labels/CANNES_TILES_512x512-1561_png.rf.171302891bd687d2e9ab8b87d5ca4225.txt\n",
      "pool-dataset/train/labels/CANNES_TILES_512x512-1568_png.rf.ee61d60e7b9ae3a10984c83cc862dbef.txt\n",
      "pool-dataset/train/labels/CANNES_TILES_512x512-156_png.rf.e2d2153f234c87f3c5e4018b8f253d01.txt\n",
      "pool-dataset/train/labels/CANNES_TILES_512x512-1570_png.rf.1b515011abbad3f7f504c61f35717025.txt\n",
      "pool-dataset/train/labels/CANNES_TILES_512x512-1571_png.rf.419ceb1bf240ce15535a2565adb3c655.txt\n",
      "pool-dataset/train/labels/CANNES_TILES_512x512-1573_png.rf.207b3bafa94d57572787c21bf5be9951.txt\n",
      "pool-dataset/train/labels/CANNES_TILES_512x512-1574_png.rf.67e065db1831e1dd3dff5abdf5004794.txt\n",
      "pool-dataset/train/labels/CANNES_TILES_512x512-1580_png.rf.18dcc3adafef734adfcfaeb5491ba5a6.txt\n",
      "pool-dataset/train/labels/CANNES_TILES_512x512-1581_png.rf.50e15c67190b6b8049989b5cfe1f0766.txt\n",
      "pool-dataset/train/labels/CANNES_TILES_512x512-159_png.rf.0c044de52aee079bbcf452642f9ca0d2.txt\n",
      "pool-dataset/train/labels/CANNES_TILES_512x512-15_png.rf.2c5cadb412348d587cd5efa4a1b97f11.txt\n",
      "pool-dataset/train/labels/CANNES_TILES_512x512-1602_png.rf.8547e62e648d91ce35d57fcffa8b22a6.txt\n",
      "pool-dataset/train/labels/CANNES_TILES_512x512-1604_png.rf.52269185c65b452eb17909232b84e1ad.txt\n",
      "pool-dataset/train/labels/CANNES_TILES_512x512-1608_png.rf.db45493b8448ee74a5a8f9faf3c91a9b.txt\n",
      "pool-dataset/train/labels/CANNES_TILES_512x512-1611_png.rf.44dbfc455846a1e5402f89aa9c382de4.txt\n",
      "pool-dataset/train/labels/CANNES_TILES_512x512-1614_png.rf.fa3d9247144b8ac1411469719087b8d9.txt\n",
      "pool-dataset/train/labels/CANNES_TILES_512x512-1627_png.rf.1220b7a03fc20171bfcb8c432803fbf6.txt\n",
      "pool-dataset/train/labels/CANNES_TILES_512x512-1628_png.rf.91b18bf46555d5f6e064defb8200a9f0.txt\n",
      "pool-dataset/train/labels/CANNES_TILES_512x512-1629_png.rf.9c94061c8ebe4d7d6e795458ac375c52.txt\n",
      "pool-dataset/train/labels/CANNES_TILES_512x512-1633_png.rf.76ce9b11458117b89487d017ff020d24.txt\n",
      "pool-dataset/train/labels/CANNES_TILES_512x512-1639_png.rf.e5559188b5edbf437083b57f0828681c.txt\n",
      "pool-dataset/train/labels/CANNES_TILES_512x512-163_png.rf.c8f2d58d2efba7faa1ddd5fd45223428.txt\n",
      "pool-dataset/train/labels/CANNES_TILES_512x512-164_png.rf.fc910b45fb73c904ee37337444c8eaf4.txt\n",
      "pool-dataset/train/labels/CANNES_TILES_512x512-1652_png.rf.722997810ae8161319ade5c43b6b9d1a.txt\n",
      "pool-dataset/train/labels/CANNES_TILES_512x512-1653_png.rf.a765910751e91670d762b843669b0a0d.txt\n",
      "pool-dataset/train/labels/CANNES_TILES_512x512-1659_png.rf.7f8cd06d5ee913be84a93477b219c13c.txt\n",
      "pool-dataset/train/labels/CANNES_TILES_512x512-165_png.rf.dcf6479867d7d166e489940248350384.txt\n",
      "pool-dataset/train/labels/CANNES_TILES_512x512-1667_png.rf.266c2000b6fffededdc1eaf370685b41.txt\n",
      "pool-dataset/train/labels/CANNES_TILES_512x512-166_png.rf.b50d0e7fdf1da96f3edeb226efe91a19.txt\n",
      "pool-dataset/train/labels/CANNES_TILES_512x512-1672_png.rf.042d42efce403312515c274a22c7ece2.txt\n",
      "pool-dataset/train/labels/CANNES_TILES_512x512-1674_png.rf.9d45950e3fcc0f7eef940c7ccfbd2b3d.txt\n",
      "pool-dataset/train/labels/CANNES_TILES_512x512-1675_png.rf.b155c3f4ed8c050166dacf6479829b31.txt\n",
      "pool-dataset/train/labels/CANNES_TILES_512x512-1676_png.rf.01b8c6649b1af08cd85cfed95826959f.txt\n",
      "pool-dataset/train/labels/CANNES_TILES_512x512-1677_png.rf.4ac7fa79e9b8f506d92c2fef57b90943.txt\n",
      "pool-dataset/train/labels/CANNES_TILES_512x512-1678_png.rf.e3f10306759de4f5d45665cc776ca488.txt\n",
      "pool-dataset/train/labels/CANNES_TILES_512x512-1680_png.rf.58bf2aa8859e7af6003e5ad9c313d3e9.txt\n",
      "pool-dataset/train/labels/CANNES_TILES_512x512-1681_png.rf.3b17893479e5f7b3875dfa4c637327b2.txt\n",
      "pool-dataset/train/labels/CANNES_TILES_512x512-1683_png.rf.ea10920409c28fe02dc78c329d546442.txt\n",
      "pool-dataset/train/labels/CANNES_TILES_512x512-1688_png.rf.90d5cf5027aa9c217e9ee25ffae440b5.txt\n",
      "pool-dataset/train/labels/CANNES_TILES_512x512-168_png.rf.1e918af7c8f7a8d12642c25e906e972b.txt\n",
      "pool-dataset/train/labels/CANNES_TILES_512x512-1696_png.rf.4f1308043d038f71f5b2fdb9fcf38879.txt\n",
      "pool-dataset/train/labels/CANNES_TILES_512x512-1697_png.rf.bea06f85e41915b941c98e32f4d8672c.txt\n",
      "pool-dataset/train/labels/CANNES_TILES_512x512-169_png.rf.4cb9ea1edb4b8864df2fe70d7b99e666.txt\n",
      "pool-dataset/train/labels/CANNES_TILES_512x512-1701_png.rf.490f986927de6a92d21b524381124f85.txt\n",
      "pool-dataset/train/labels/CANNES_TILES_512x512-1704_png.rf.14cd859409891e74c92cec9313edf61d.txt\n",
      "pool-dataset/train/labels/CANNES_TILES_512x512-1705_png.rf.aac27f9ab5e3b9539ec2169b3128a747.txt\n",
      "pool-dataset/train/labels/CANNES_TILES_512x512-1707_png.rf.cbc1bee2420205b42331d46646481bf0.txt\n",
      "pool-dataset/train/labels/CANNES_TILES_512x512-1708_png.rf.81e2719a1afeec0552dba4243b9a986c.txt\n",
      "pool-dataset/train/labels/CANNES_TILES_512x512-1709_png.rf.aa0b2180463139d643e4ce84f62b797c.txt\n",
      "pool-dataset/train/labels/CANNES_TILES_512x512-1712_png.rf.5147a56fd610f8a70f6838e93c496401.txt\n",
      "pool-dataset/train/labels/CANNES_TILES_512x512-171_png.rf.59db65be8967a5795bcbbe8527d2e062.txt\n",
      "pool-dataset/train/labels/CANNES_TILES_512x512-1721_png.rf.3b147e4e5591ebff18b326fbf1a34205.txt\n",
      "pool-dataset/train/labels/CANNES_TILES_512x512-1723_png.rf.9727bbc33189a592826a203ae56526bd.txt\n",
      "pool-dataset/train/labels/CANNES_TILES_512x512-1724_png.rf.5d0565fc7f6da4cd3a30283574806b67.txt\n",
      "pool-dataset/train/labels/CANNES_TILES_512x512-1725_png.rf.9434b033e954079d8b452edd41d79a77.txt\n",
      "pool-dataset/train/labels/CANNES_TILES_512x512-1726_png.rf.8b06e03831d4ca435f5a3e86869f7098.txt\n",
      "pool-dataset/train/labels/CANNES_TILES_512x512-1728_png.rf.b9428ad5b1b97eee13d1ebbd3a8af660.txt\n",
      "pool-dataset/train/labels/CANNES_TILES_512x512-172_png.rf.397328f0236dc6a766c9521ae419351c.txt\n",
      "pool-dataset/train/labels/CANNES_TILES_512x512-1730_png.rf.550ed1ba2f94b5fd86217c129db3bb64.txt\n",
      "pool-dataset/train/labels/CANNES_TILES_512x512-1731_png.rf.e6ca7df46333589d13ecebed554e81cd.txt\n",
      "pool-dataset/train/labels/CANNES_TILES_512x512-173_png.rf.bf859bd5095391a2869cd2daa41dc7a8.txt\n",
      "pool-dataset/train/labels/CANNES_TILES_512x512-1742_png.rf.0a1936ea55b3765496b3da5391376f30.txt\n",
      "pool-dataset/train/labels/CANNES_TILES_512x512-1743_png.rf.f040071226319c4b65b8ba257524347a.txt\n",
      "pool-dataset/train/labels/CANNES_TILES_512x512-1745_png.rf.7ca30d77854d4585fbe8c0758dbffc29.txt\n",
      "pool-dataset/train/labels/CANNES_TILES_512x512-1746_png.rf.29518ca167916e851e4a85ee77632a60.txt\n",
      "pool-dataset/train/labels/CANNES_TILES_512x512-1749_png.rf.b94e66930b8fa80e8e31231257939c6d.txt\n",
      "pool-dataset/train/labels/CANNES_TILES_512x512-1750_png.rf.b5b8e10b01f852ef94d515aabbc01b03.txt\n",
      "pool-dataset/train/labels/CANNES_TILES_512x512-1751_png.rf.0a71bbb8d1e7a774647699e47bab5b4c.txt\n",
      "pool-dataset/train/labels/CANNES_TILES_512x512-1752_png.rf.5c2e40cce1969a0f83a98a60784207c0.txt\n",
      "pool-dataset/train/labels/CANNES_TILES_512x512-1755_png.rf.bca2978d1eb550ea80fd6399b522c635.txt\n",
      "pool-dataset/train/labels/CANNES_TILES_512x512-175_png.rf.c8249dd595140607d002d43160015e57.txt\n",
      "pool-dataset/train/labels/CANNES_TILES_512x512-1760_png.rf.4ce0f0a7fafa02d03685fc82004ed479.txt\n",
      "pool-dataset/train/labels/CANNES_TILES_512x512-1761_png.rf.0b0d5f54051f0678f2de850460920a33.txt\n",
      "pool-dataset/train/labels/CANNES_TILES_512x512-1762_png.rf.d5d04f962cd7bc5428b55bf221ab97b7.txt\n",
      "pool-dataset/train/labels/CANNES_TILES_512x512-1764_png.rf.3ad9c8c72a02a529e97dde78b6e40f03.txt\n",
      "pool-dataset/train/labels/CANNES_TILES_512x512-1771_png.rf.beeea13fd4088ff685ec8152e2a15861.txt\n",
      "pool-dataset/train/labels/CANNES_TILES_512x512-1774_png.rf.2e008073ca9fae73eba4a27836923a2a.txt\n",
      "pool-dataset/train/labels/CANNES_TILES_512x512-1775_png.rf.b52358a450fd559d6713448670215ffd.txt\n",
      "pool-dataset/train/labels/CANNES_TILES_512x512-1777_png.rf.d1b42d5fd69c1d549893ca5b01c4505c.txt\n",
      "pool-dataset/train/labels/CANNES_TILES_512x512-1778_png.rf.7f9ef113756152bd2e5097651690fdff.txt\n",
      "pool-dataset/train/labels/CANNES_TILES_512x512-177_png.rf.ee14199dd7ff6ca94dbd4cbe242e1aa4.txt\n",
      "pool-dataset/train/labels/CANNES_TILES_512x512-1780_png.rf.413aea3761f6681935c89c678facea8d.txt\n",
      "pool-dataset/train/labels/CANNES_TILES_512x512-1781_png.rf.3184ecd18ede56a59955171493be565f.txt\n",
      "pool-dataset/train/labels/CANNES_TILES_512x512-1783_png.rf.8524b7bbad449afbd0a8ba65f4f2925a.txt\n",
      "pool-dataset/train/labels/CANNES_TILES_512x512-1784_png.rf.15c5a69aadf768aeb064128e3203f3a0.txt\n",
      "pool-dataset/train/labels/CANNES_TILES_512x512-1785_png.rf.ffac122f3295f66919dba0588af770df.txt\n",
      "pool-dataset/train/labels/CANNES_TILES_512x512-1788_png.rf.87da7fa31ceb26d56a84eec3c7f323a0.txt\n",
      "pool-dataset/train/labels/CANNES_TILES_512x512-1789_png.rf.792ff7b6df53b2e701a2292819b8c7d7.txt\n",
      "pool-dataset/train/labels/CANNES_TILES_512x512-178_png.rf.0f6058b8d81d0912e96a8c67033509f3.txt\n",
      "pool-dataset/train/labels/CANNES_TILES_512x512-1791_png.rf.346cfd4182d31437280e53fbb98ba1d9.txt\n",
      "pool-dataset/train/labels/CANNES_TILES_512x512-1792_png.rf.5418ab451bead52450cf15b082b39f6c.txt\n",
      "pool-dataset/train/labels/CANNES_TILES_512x512-1793_png.rf.05979cd3ecd3ab9f4e82b9002073ba28.txt\n",
      "pool-dataset/train/labels/CANNES_TILES_512x512-1794_png.rf.fc4ce09761d27ffe1cffb92c9618146c.txt\n",
      "pool-dataset/train/labels/CANNES_TILES_512x512-1795_png.rf.936bfe6380f15193441af87e73fe3288.txt\n",
      "pool-dataset/train/labels/CANNES_TILES_512x512-1797_png.rf.67bfedcb30f51d77af08cba1b622a07b.txt\n",
      "pool-dataset/train/labels/CANNES_TILES_512x512-17_png.rf.4dbbf26665136131f62e3831bee10c64.txt\n",
      "pool-dataset/train/labels/CANNES_TILES_512x512-1800_png.rf.d9a1c49f197f41db1c5bd5bd6a2c5ad3.txt\n",
      "pool-dataset/train/labels/CANNES_TILES_512x512-180_png.rf.ea26110d6e4b55037ab51976790877fd.txt\n",
      "pool-dataset/train/labels/CANNES_TILES_512x512-1813_png.rf.fbe5799f847498316b83b64721238a42.txt\n",
      "pool-dataset/train/labels/CANNES_TILES_512x512-1817_png.rf.20007e7b5d3f1cbbf18352b9a9937365.txt\n",
      "pool-dataset/train/labels/CANNES_TILES_512x512-1819_png.rf.0873ee5d561410626bd139529391bfd7.txt\n",
      "pool-dataset/train/labels/CANNES_TILES_512x512-1823_png.rf.a36b36ba377486d42ea7a2d82c1cdc80.txt\n",
      "pool-dataset/train/labels/CANNES_TILES_512x512-1825_png.rf.38575ec9787a668bef63a84f2c85e908.txt\n",
      "pool-dataset/train/labels/CANNES_TILES_512x512-1826_png.rf.a752707fca65f96a965d492745d6f03a.txt\n",
      "pool-dataset/train/labels/CANNES_TILES_512x512-1828_png.rf.fa77512626bfdf51dec416025032cbae.txt\n",
      "pool-dataset/train/labels/CANNES_TILES_512x512-182_png.rf.a7e965d89ab05dc8e51a5e9199aea82b.txt\n",
      "pool-dataset/train/labels/CANNES_TILES_512x512-1830_png.rf.ee157e724d47b8aed6304d5adfbf7973.txt\n",
      "pool-dataset/train/labels/CANNES_TILES_512x512-1831_png.rf.d78a135b0a42a42e30abf5c1bf5cee25.txt\n",
      "pool-dataset/train/labels/CANNES_TILES_512x512-1833_png.rf.39939aebc32e3623b76a88ad1560b240.txt\n",
      "pool-dataset/train/labels/CANNES_TILES_512x512-1834_png.rf.5e67854e548e1c4686586a4f1b578aab.txt\n",
      "pool-dataset/train/labels/CANNES_TILES_512x512-1835_png.rf.970b5a5f401951bc770c4cdb894ea567.txt\n",
      "pool-dataset/train/labels/CANNES_TILES_512x512-1837_png.rf.9fa75bb72114425dc627feaf33c6ff84.txt\n",
      "pool-dataset/train/labels/CANNES_TILES_512x512-1838_png.rf.a15280283adaffd8959cf5d5505d71ab.txt\n",
      "pool-dataset/train/labels/CANNES_TILES_512x512-183_png.rf.ad26b340d4c6d41ebe2a743051baa5e0.txt\n",
      "pool-dataset/train/labels/CANNES_TILES_512x512-1843_png.rf.c1ba991b05bf893fdc9f94610453afcd.txt\n",
      "pool-dataset/train/labels/CANNES_TILES_512x512-1844_png.rf.b8eb3d6be44fb0fd0aae4aaa912db27d.txt\n",
      "pool-dataset/train/labels/CANNES_TILES_512x512-1846_png.rf.c66c0fd7642fba07d3134ed58873c906.txt\n",
      "pool-dataset/train/labels/CANNES_TILES_512x512-1847_png.rf.52491feb8c11b1071ea0c87d9b1b868b.txt\n",
      "pool-dataset/train/labels/CANNES_TILES_512x512-184_png.rf.9798cec1400f313c781172206320c298.txt\n",
      "pool-dataset/train/labels/CANNES_TILES_512x512-1851_png.rf.f036b014de087146259b1e349315c60c.txt\n",
      "pool-dataset/train/labels/CANNES_TILES_512x512-1854_png.rf.35a46e2eb138665508c5a7ad6d818976.txt\n",
      "pool-dataset/train/labels/CANNES_TILES_512x512-1862_png.rf.bf443545ea6b8c164fd34a322c08c366.txt\n",
      "pool-dataset/train/labels/CANNES_TILES_512x512-1868_png.rf.3b07c3f3f2f99d1fa61947d679a5d9b5.txt\n",
      "pool-dataset/train/labels/CANNES_TILES_512x512-1870_png.rf.8d3177ae8e0d3c3b0b5fcde3371b59f6.txt\n",
      "pool-dataset/train/labels/CANNES_TILES_512x512-1874_png.rf.761e057bbe595a6141aca0a84cffe0d4.txt\n",
      "pool-dataset/train/labels/CANNES_TILES_512x512-1876_png.rf.af3396e408caae8a3df0e3c52d21da9f.txt\n",
      "pool-dataset/train/labels/CANNES_TILES_512x512-1877_png.rf.a04deb199f889b92639490044207ee59.txt\n",
      "pool-dataset/train/labels/CANNES_TILES_512x512-1878_png.rf.ba512b73c590c8f2118b796bf8f320be.txt\n",
      "pool-dataset/train/labels/CANNES_TILES_512x512-1879_png.rf.12557c0b6f5160f05388e6fb98f34164.txt\n",
      "pool-dataset/train/labels/CANNES_TILES_512x512-187_png.rf.081ea8c28273adc739ee101dc5fe6348.txt\n",
      "pool-dataset/train/labels/CANNES_TILES_512x512-1880_png.rf.b77a53ccfa5799c9ba6bc6c4c73a6dbb.txt\n",
      "pool-dataset/train/labels/CANNES_TILES_512x512-1881_png.rf.8e8dc8c3b4d8395779e4757d2b1eeda9.txt\n",
      "pool-dataset/train/labels/CANNES_TILES_512x512-1885_png.rf.bb3d4c1281e0b969e8181819e1041580.txt\n",
      "pool-dataset/train/labels/CANNES_TILES_512x512-1886_png.rf.88452851f9a01ee251d7462bfb9550ae.txt\n",
      "pool-dataset/train/labels/CANNES_TILES_512x512-1887_png.rf.5932d8e49c588a7bb7731b7bca92a1eb.txt\n",
      "pool-dataset/train/labels/CANNES_TILES_512x512-1890_png.rf.4e7344ee3b162a335ac7367be3ee7d56.txt\n",
      "pool-dataset/train/labels/CANNES_TILES_512x512-1896_png.rf.5bfee7053e1a3aac465ad618df054710.txt\n",
      "pool-dataset/train/labels/CANNES_TILES_512x512-1897_png.rf.7b8e6bb26a18f06f681881a23ab3f30c.txt\n",
      "pool-dataset/train/labels/CANNES_TILES_512x512-1898_png.rf.9114d3a33e0de458eca2d022cee1f097.txt\n",
      "pool-dataset/train/labels/CANNES_TILES_512x512-1899_png.rf.f87fb8fb3deda44a51120ba941295117.txt\n",
      "pool-dataset/train/labels/CANNES_TILES_512x512-189_png.rf.9459bc0d34bcda515143a101f78b5d28.txt\n",
      "pool-dataset/train/labels/CANNES_TILES_512x512-18_png.rf.38c6d443b9d0fc11141d93b6fa83f316.txt\n",
      "pool-dataset/train/labels/CANNES_TILES_512x512-1900_png.rf.858d3cd373108f2d035061bff8dfc013.txt\n",
      "pool-dataset/train/labels/CANNES_TILES_512x512-1903_png.rf.a835d03d5a9f518b9354e91fc9bab235.txt\n",
      "pool-dataset/train/labels/CANNES_TILES_512x512-1904_png.rf.463e287e806f6e42d5a351907efcedd7.txt\n",
      "pool-dataset/train/labels/CANNES_TILES_512x512-190_png.rf.21ad6bf6c8ce2f38212c368c18aa2d7e.txt\n",
      "pool-dataset/train/labels/CANNES_TILES_512x512-1912_png.rf.4a08a90b981630089b3ebe3eac465037.txt\n",
      "pool-dataset/train/labels/CANNES_TILES_512x512-1914_png.rf.a4c8e6230aa90fd9155ff7d00bafebbb.txt\n",
      "pool-dataset/train/labels/CANNES_TILES_512x512-1917_png.rf.2a48e2cf15034264ec0e643ef10b6bde.txt\n",
      "pool-dataset/train/labels/CANNES_TILES_512x512-1919_png.rf.acbfb0089c4033b4e9b78ea027f36c1b.txt\n",
      "pool-dataset/train/labels/CANNES_TILES_512x512-191_png.rf.ac57fe4f7b7bac51af32f20da0f28fe6.txt\n",
      "pool-dataset/train/labels/CANNES_TILES_512x512-1922_png.rf.93689eaf1c0aa6929e95223cf4630ad9.txt\n",
      "pool-dataset/train/labels/CANNES_TILES_512x512-1925_png.rf.b2bad9bfd688a254ede480168b9b017f.txt\n",
      "pool-dataset/train/labels/CANNES_TILES_512x512-1926_png.rf.15081f73530e6132772d0ed1eb457cf3.txt\n",
      "pool-dataset/train/labels/CANNES_TILES_512x512-1927_png.rf.003f7a230b560476a425dc5782c3cf64.txt\n",
      "pool-dataset/train/labels/CANNES_TILES_512x512-1928_png.rf.e98ad898415ed77b10564db59001fb87.txt\n",
      "pool-dataset/train/labels/CANNES_TILES_512x512-1929_png.rf.1d591dab4507ae69049fca8ff40befd0.txt\n",
      "pool-dataset/train/labels/CANNES_TILES_512x512-1930_png.rf.ead0231a3148dfb461f27b62e298ce33.txt\n",
      "pool-dataset/train/labels/CANNES_TILES_512x512-1931_png.rf.df8b7011bf8e4af38f31ea1d7985f7a7.txt\n",
      "pool-dataset/train/labels/CANNES_TILES_512x512-1932_png.rf.4ebddc4725c6f7f9773e9dea340fa0e4.txt\n",
      "pool-dataset/train/labels/CANNES_TILES_512x512-1936_png.rf.94649968ee55ea098e4891601b985062.txt\n",
      "pool-dataset/train/labels/CANNES_TILES_512x512-1937_png.rf.4473c2725e4a2c2dafdfe7d78b24c36b.txt\n",
      "pool-dataset/train/labels/CANNES_TILES_512x512-1940_png.rf.6dbe86e0d75cd0170a16a75127ca37f6.txt\n",
      "pool-dataset/train/labels/CANNES_TILES_512x512-1941_png.rf.1f44c26cd38f00607059d91a7960bd38.txt\n",
      "pool-dataset/train/labels/CANNES_TILES_512x512-1942_png.rf.0e231d7b8c380e204389436bc7d2d2c9.txt\n",
      "pool-dataset/train/labels/CANNES_TILES_512x512-1943_png.rf.8a068ec50f60ff0c0c141d4ca2ed1d46.txt\n",
      "pool-dataset/train/labels/CANNES_TILES_512x512-1947_png.rf.8fe0cad370189c115b7580fa341bfffc.txt\n",
      "pool-dataset/train/labels/CANNES_TILES_512x512-1948_png.rf.1786aceecb820b6622800182a2873ce2.txt\n",
      "pool-dataset/train/labels/CANNES_TILES_512x512-1951_png.rf.85f25c82c19586f9c204a369ef90ad12.txt\n",
      "pool-dataset/train/labels/CANNES_TILES_512x512-1966_png.rf.f139664d5c9d5d26436aa2b910d0a9ac.txt\n",
      "pool-dataset/train/labels/CANNES_TILES_512x512-1967_png.rf.131136c85da68bac95a88e032f8b220b.txt\n",
      "pool-dataset/train/labels/CANNES_TILES_512x512-1968_png.rf.b906205da4657139a256b9043eb05c15.txt\n",
      "pool-dataset/train/labels/CANNES_TILES_512x512-1969_png.rf.07d38bb5bc79428317dcc08c5a145ae8.txt\n",
      "pool-dataset/train/labels/CANNES_TILES_512x512-1970_png.rf.d68f4680f7cc54c9d73e5a2d3b432c02.txt\n",
      "pool-dataset/train/labels/CANNES_TILES_512x512-1971_png.rf.17b626ad51ed357e6347591780b45e87.txt\n",
      "pool-dataset/train/labels/CANNES_TILES_512x512-1974_png.rf.c5b1c6c9ae24c456ff549803c51835bb.txt\n",
      "pool-dataset/train/labels/CANNES_TILES_512x512-1975_png.rf.4940fbd152e48ce399c6aad7c41e1440.txt\n",
      "pool-dataset/train/labels/CANNES_TILES_512x512-1978_png.rf.b7b934245b7840ad98b670a096f052c2.txt\n",
      "pool-dataset/train/labels/CANNES_TILES_512x512-1979_png.rf.07d80cbaad8844653fe2c5a60c7c6d87.txt\n",
      "pool-dataset/train/labels/CANNES_TILES_512x512-1980_png.rf.f3dac89df2745c301eb76f2dc57a2f41.txt\n",
      "pool-dataset/train/labels/CANNES_TILES_512x512-1981_png.rf.228b39cbbe08b998aef88604c4421ba6.txt\n",
      "pool-dataset/train/labels/CANNES_TILES_512x512-1983_png.rf.3a07a4742a74968026441b70b031560f.txt\n",
      "pool-dataset/train/labels/CANNES_TILES_512x512-1986_png.rf.4bbfc8b6fc9312b7bd3ce61cbee764c1.txt\n",
      "pool-dataset/train/labels/CANNES_TILES_512x512-1987_png.rf.5cb86ed95f30d65850416f0cdc053b63.txt\n",
      "pool-dataset/train/labels/CANNES_TILES_512x512-1989_png.rf.5005f9eaa57c958ade951c4fa7339348.txt\n",
      "pool-dataset/train/labels/CANNES_TILES_512x512-1990_png.rf.4cc7a7bb865ed5759fbc23bc5756d2b0.txt\n",
      "pool-dataset/train/labels/CANNES_TILES_512x512-1993_png.rf.895ae7b545737714fd12ce904efd6282.txt\n",
      "pool-dataset/train/labels/CANNES_TILES_512x512-19_png.rf.702e520d499b7a9e8881a6080362b875.txt\n",
      "pool-dataset/train/labels/CANNES_TILES_512x512-2002_png.rf.430b42dd32c3dee69feed6d046bdee9d.txt\n",
      "pool-dataset/train/labels/CANNES_TILES_512x512-2014_png.rf.7ebb6d9d87bb26fed256203525f93831.txt\n",
      "pool-dataset/train/labels/CANNES_TILES_512x512-2015_png.rf.dbe1d9ed16ff17dbbb694c97cc987028.txt\n",
      "pool-dataset/train/labels/CANNES_TILES_512x512-2017_png.rf.adc4584fd188185f3d47042d9fe895f7.txt\n",
      "pool-dataset/train/labels/CANNES_TILES_512x512-2018_png.rf.d33421ca917e271b3daa6521ee06a282.txt\n",
      "pool-dataset/train/labels/CANNES_TILES_512x512-2023_png.rf.a228d50e021bda8813dcd22c666a0d7f.txt\n",
      "pool-dataset/train/labels/CANNES_TILES_512x512-2024_png.rf.33c8554379cae28c2bd213ca1a0f8579.txt\n",
      "pool-dataset/train/labels/CANNES_TILES_512x512-2027_png.rf.a1122809ad5639d7ad0c2f301b367031.txt\n",
      "pool-dataset/train/labels/CANNES_TILES_512x512-2028_png.rf.c22d93835616b0cd6b0d16e8e9980fc2.txt\n",
      "pool-dataset/train/labels/CANNES_TILES_512x512-2029_png.rf.a3bc6563c1a723572d73618ec362dd92.txt\n",
      "pool-dataset/train/labels/CANNES_TILES_512x512-2031_png.rf.1e111f23a219392cf4dbbd4597640d6a.txt\n",
      "pool-dataset/train/labels/CANNES_TILES_512x512-2033_png.rf.f4c7f1cec7b68cc6eb3582351e9ddbc3.txt\n",
      "pool-dataset/train/labels/CANNES_TILES_512x512-2036_png.rf.52058694ced714bad43ec85b1a8522ce.txt\n",
      "pool-dataset/train/labels/CANNES_TILES_512x512-2037_png.rf.efd574e15bdce4ca56626b072192615d.txt\n",
      "pool-dataset/train/labels/CANNES_TILES_512x512-2038_png.rf.5987323dfd6129cfd636d31df49517f6.txt\n",
      "pool-dataset/train/labels/CANNES_TILES_512x512-2039_png.rf.ad5f4bf23452f63d37237654f18ec9d9.txt\n",
      "pool-dataset/train/labels/CANNES_TILES_512x512-2042_png.rf.29252e86532cbf52f08bf419e18634f4.txt\n",
      "pool-dataset/train/labels/CANNES_TILES_512x512-2043_png.rf.a55b157cbe932f08440d302029119934.txt\n",
      "pool-dataset/train/labels/CANNES_TILES_512x512-2045_png.rf.b327aaf526e64a7dce3ba6a3fdbef5cb.txt\n",
      "pool-dataset/train/labels/CANNES_TILES_512x512-205_png.rf.be730ec69c83e4db24a4b2b30bf94831.txt\n",
      "pool-dataset/train/labels/CANNES_TILES_512x512-2062_png.rf.d47f96ff31ecf9ba2bfc9f4547b9a3fc.txt\n",
      "pool-dataset/train/labels/CANNES_TILES_512x512-2066_png.rf.161787efb3169df78e71ad7c4840d79d.txt\n",
      "pool-dataset/train/labels/CANNES_TILES_512x512-2067_png.rf.8305ef0cce9ddbf0208e549e1c0a1844.txt\n",
      "pool-dataset/train/labels/CANNES_TILES_512x512-206_png.rf.8c6f8f249ee1ff0b5d79a69fe0e6e17d.txt\n",
      "pool-dataset/train/labels/CANNES_TILES_512x512-2070_png.rf.be53674eff828f32ee5c2bc496d473e1.txt\n",
      "pool-dataset/train/labels/CANNES_TILES_512x512-2075_png.rf.fbdec35eba2f3e5b1a19f8939db3e44b.txt\n",
      "pool-dataset/train/labels/CANNES_TILES_512x512-2076_png.rf.4ab4c80de6736c02b9b4b1084d589531.txt\n",
      "pool-dataset/train/labels/CANNES_TILES_512x512-207_png.rf.d2d9f57a4ba0a671046ef3bc07310d43.txt\n",
      "pool-dataset/train/labels/CANNES_TILES_512x512-2081_png.rf.9506c42cff571f46fb0e5c01cc850179.txt\n",
      "pool-dataset/train/labels/CANNES_TILES_512x512-2082_png.rf.ad6c02fbdb54bfd73a9f5338048cefd3.txt\n",
      "pool-dataset/train/labels/CANNES_TILES_512x512-2083_png.rf.e00fe118d0582b61224d3de0c6428cc5.txt\n",
      "pool-dataset/train/labels/CANNES_TILES_512x512-2084_png.rf.b0c607af33b05b711a4da67f0583615f.txt\n",
      "pool-dataset/train/labels/CANNES_TILES_512x512-2085_png.rf.333b4ff3b3ababfc1b74b8a918a5849a.txt\n",
      "pool-dataset/train/labels/CANNES_TILES_512x512-208_png.rf.8f276181de40745cfc3a89e3113964b9.txt\n",
      "pool-dataset/train/labels/CANNES_TILES_512x512-2090_png.rf.8d01e0b060b64ae1f9200891e0f99cb8.txt\n",
      "pool-dataset/train/labels/CANNES_TILES_512x512-2095_png.rf.8afedfffe595f72ad04608357584ec4c.txt\n",
      "pool-dataset/train/labels/CANNES_TILES_512x512-209_png.rf.f15067ed1aab9bf039bda888b38aa3e7.txt\n",
      "pool-dataset/train/labels/CANNES_TILES_512x512-20_png.rf.2d9e10314d1b2ff1d30532fb809a393a.txt\n",
      "pool-dataset/train/labels/CANNES_TILES_512x512-2109_png.rf.a6a2ef31285ed8933a4690ede479092a.txt\n",
      "pool-dataset/train/labels/CANNES_TILES_512x512-210_png.rf.aa185650d06aa6f05d9139575055afa2.txt\n",
      "pool-dataset/train/labels/CANNES_TILES_512x512-2118_png.rf.848c0b0aef5a826a026e19b4bd7e9971.txt\n",
      "pool-dataset/train/labels/CANNES_TILES_512x512-2119_png.rf.6899314836582b0287ec3ffb2c21ed0b.txt\n",
      "pool-dataset/train/labels/CANNES_TILES_512x512-2127_png.rf.f2ac22040831be9ef8dedf41f1523a07.txt\n",
      "pool-dataset/train/labels/CANNES_TILES_512x512-2128_png.rf.eae4bb670a58d4159b9a4dc0f81b554e.txt\n",
      "pool-dataset/train/labels/CANNES_TILES_512x512-2130_png.rf.2366ed4e3d6433a217aadc3fa44578e2.txt\n",
      "pool-dataset/train/labels/CANNES_TILES_512x512-2132_png.rf.16af2d700cb504df2dc9aff0efb3202b.txt\n",
      "pool-dataset/train/labels/CANNES_TILES_512x512-213_png.rf.6df4c2befdcb86375bec3bdc235decbb.txt\n",
      "pool-dataset/train/labels/CANNES_TILES_512x512-2143_png.rf.bf7f41bdecc3829a8be2b4ec554f48d5.txt\n",
      "pool-dataset/train/labels/CANNES_TILES_512x512-2144_png.rf.91f3f8675c34e25828735d6906491751.txt\n",
      "pool-dataset/train/labels/CANNES_TILES_512x512-2157_png.rf.9fc867fb3422e33667cbf6b12cd9d805.txt\n",
      "pool-dataset/train/labels/CANNES_TILES_512x512-2158_png.rf.31446233d7338a9ef4e64bd545a3ceb9.txt\n",
      "pool-dataset/train/labels/CANNES_TILES_512x512-215_png.rf.9afd90843b5c706f0dbd6ff471f4e2f0.txt\n",
      "pool-dataset/train/labels/CANNES_TILES_512x512-2162_png.rf.57b000e90799825a62948547522c844e.txt\n",
      "pool-dataset/train/labels/CANNES_TILES_512x512-216_png.rf.c3bd478ed3c25655ace05824dca072fe.txt\n",
      "pool-dataset/train/labels/CANNES_TILES_512x512-2172_png.rf.98d836f5a33b2b77c92a646f17723f49.txt\n",
      "pool-dataset/train/labels/CANNES_TILES_512x512-2175_png.rf.8828a8230f870b9cece22a9219b97c93.txt\n",
      "pool-dataset/train/labels/CANNES_TILES_512x512-2176_png.rf.0be800ead8d38b5586331f32df234ab8.txt\n",
      "pool-dataset/train/labels/CANNES_TILES_512x512-2177_png.rf.37b8cfd1c37ee7f121078f60c5e5e70a.txt\n",
      "pool-dataset/train/labels/CANNES_TILES_512x512-2178_png.rf.94d23976aeb8b6968498d687e436d21a.txt\n",
      "pool-dataset/train/labels/CANNES_TILES_512x512-2179_png.rf.a822c5577b18fd7c6915304cba56e038.txt\n",
      "pool-dataset/train/labels/CANNES_TILES_512x512-217_png.rf.919628a6f513818b7b1e04221930c749.txt\n",
      "pool-dataset/train/labels/CANNES_TILES_512x512-2181_png.rf.e516663d40a6f774d76467d6aeedff0f.txt\n",
      "pool-dataset/train/labels/CANNES_TILES_512x512-2182_png.rf.29597598e317e4971f7ab270d265d630.txt\n",
      "pool-dataset/train/labels/CANNES_TILES_512x512-2185_png.rf.655bc4534d9c84ef5255d602f2cd0697.txt\n",
      "pool-dataset/train/labels/CANNES_TILES_512x512-218_png.rf.0b844fbfaeeb369959011b9283506a4d.txt\n",
      "pool-dataset/train/labels/CANNES_TILES_512x512-2190_png.rf.517cb3e4e265e987ce02960e7a748a94.txt\n",
      "pool-dataset/train/labels/CANNES_TILES_512x512-2196_png.rf.b43290886b9d78e31c8ee9b1290b54e6.txt\n",
      "pool-dataset/train/labels/CANNES_TILES_512x512-219_png.rf.d1a416dc72b7eee1304ba107e051cd0f.txt\n",
      "pool-dataset/train/labels/CANNES_TILES_512x512-21_png.rf.ec0836dff7ee4ac06b116146fb259391.txt\n",
      "pool-dataset/train/labels/CANNES_TILES_512x512-220_png.rf.9393850fc5a232379cc657e76d766c15.txt\n",
      "pool-dataset/train/labels/CANNES_TILES_512x512-2215_png.rf.5a1849951bd2d79bf102540bd42aa352.txt\n",
      "pool-dataset/train/labels/CANNES_TILES_512x512-2216_png.rf.cecd1f91d418d51c9bcc9250e92129d2.txt\n",
      "pool-dataset/train/labels/CANNES_TILES_512x512-2219_png.rf.86d58e6e7c2a0e9974ea0514998d1c80.txt\n",
      "pool-dataset/train/labels/CANNES_TILES_512x512-221_png.rf.7e221f45e22884c3e0f7175293f082e4.txt\n",
      "pool-dataset/train/labels/CANNES_TILES_512x512-2223_png.rf.2bd9f998041e6de02e8e8077059d493d.txt\n",
      "pool-dataset/train/labels/CANNES_TILES_512x512-2225_png.rf.d934a557656938ec0f23300b9f9b1d48.txt\n",
      "pool-dataset/train/labels/CANNES_TILES_512x512-2226_png.rf.9d52fb4ea5a35a96ff5b9beb76e30ed0.txt\n",
      "pool-dataset/train/labels/CANNES_TILES_512x512-222_png.rf.54510f4d494d2313514d0c75d34a9367.txt\n",
      "pool-dataset/train/labels/CANNES_TILES_512x512-2268_png.rf.6128690a4e55e061237af41c9e54f43e.txt\n",
      "pool-dataset/train/labels/CANNES_TILES_512x512-2269_png.rf.32b33d8f5ed9baf21f472c2260f663ba.txt\n",
      "pool-dataset/train/labels/CANNES_TILES_512x512-229_png.rf.b5583a2ef05f1f5a40c4c69eabb34272.txt\n",
      "pool-dataset/train/labels/CANNES_TILES_512x512-22_png.rf.1fda85f9204427a15491a5f9b3bbc2b5.txt\n",
      "pool-dataset/train/labels/CANNES_TILES_512x512-2310_png.rf.65a661086211a68d701bc665bc91371a.txt\n",
      "pool-dataset/train/labels/CANNES_TILES_512x512-2316_png.rf.47df89fff03b04217a3d32b2aa88345b.txt\n",
      "pool-dataset/train/labels/CANNES_TILES_512x512-231_png.rf.9498013a128547b4f94724b09a526ad5.txt\n",
      "pool-dataset/train/labels/CANNES_TILES_512x512-232_png.rf.039d3bfc1ce8cc16d49c5293ab079ea1.txt\n",
      "pool-dataset/train/labels/CANNES_TILES_512x512-233_png.rf.6e711207e93d69ad2004aca518d27963.txt\n",
      "pool-dataset/train/labels/CANNES_TILES_512x512-234_png.rf.5a16826f452fe2c495cfbbcd79ae3403.txt\n",
      "pool-dataset/train/labels/CANNES_TILES_512x512-236_png.rf.bdeed5f48dd433db66d45c6ac26e82de.txt\n",
      "pool-dataset/train/labels/CANNES_TILES_512x512-237_png.rf.5bab858a143e98d02b1507f5122bc455.txt\n",
      "pool-dataset/train/labels/CANNES_TILES_512x512-239_png.rf.662e7ad57e19c0a371111006d9f33070.txt\n",
      "pool-dataset/train/labels/CANNES_TILES_512x512-244_png.rf.5375aa0a59725a8714bf27f53f42c4bb.txt\n",
      "pool-dataset/train/labels/CANNES_TILES_512x512-249_png.rf.2044077feccbab1e3478806bfa2f1ab6.txt\n",
      "pool-dataset/train/labels/CANNES_TILES_512x512-251_png.rf.30e2487ec538a0672734a2055329ff05.txt\n",
      "pool-dataset/train/labels/CANNES_TILES_512x512-253_png.rf.d80d58a97a70563a53f92295fd5222a9.txt\n",
      "pool-dataset/train/labels/CANNES_TILES_512x512-256_png.rf.6425bfa965d6de187fc6bb3cb7975642.txt\n",
      "pool-dataset/train/labels/CANNES_TILES_512x512-257_png.rf.209066bd357cbf36c472a44cc1a25558.txt\n",
      "pool-dataset/train/labels/CANNES_TILES_512x512-260_png.rf.c2c13817f3d18c931b3175d8d926f852.txt\n",
      "pool-dataset/train/labels/CANNES_TILES_512x512-261_png.rf.7d8eebad62b0347c25dfe706973b340a.txt\n",
      "pool-dataset/train/labels/CANNES_TILES_512x512-262_png.rf.9879256c9e2df4e7fdb13812d9fad290.txt\n",
      "pool-dataset/train/labels/CANNES_TILES_512x512-263_png.rf.67f7da02c2bdd721a431c2317e871704.txt\n",
      "pool-dataset/train/labels/CANNES_TILES_512x512-264_png.rf.5845445d13bf58b37c035d9ad61b31aa.txt\n",
      "pool-dataset/train/labels/CANNES_TILES_512x512-265_png.rf.2cff6d1cec0b277239b2fb5abf3d4e03.txt\n",
      "pool-dataset/train/labels/CANNES_TILES_512x512-267_png.rf.fdf9ac028fdac9b0de7374ef650743d6.txt\n",
      "pool-dataset/train/labels/CANNES_TILES_512x512-269_png.rf.a4c63ca55c031d37e2522021cde66d5f.txt\n",
      "pool-dataset/train/labels/CANNES_TILES_512x512-270_png.rf.e4e52e5244931314fa65f2070d5f43e4.txt\n",
      "pool-dataset/train/labels/CANNES_TILES_512x512-271_png.rf.622e7e308768a1b3c1b2c71d79908bf9.txt\n",
      "pool-dataset/train/labels/CANNES_TILES_512x512-274_png.rf.95ae7e9b09c2a2ad8ee1add9e3f55475.txt\n",
      "pool-dataset/train/labels/CANNES_TILES_512x512-275_png.rf.38b2b63f0738cdd40232c16abd2632ca.txt\n",
      "pool-dataset/train/labels/CANNES_TILES_512x512-276_png.rf.c549cb16e577f0e9e00a120d0ca3f8d1.txt\n",
      "pool-dataset/train/labels/CANNES_TILES_512x512-283_png.rf.9a5a856eb20e8eba32497b85e1cc180c.txt\n",
      "pool-dataset/train/labels/CANNES_TILES_512x512-287_png.rf.9d41d62c43196e9bd211acb9649ff03e.txt\n",
      "pool-dataset/train/labels/CANNES_TILES_512x512-290_png.rf.9ec482801b07ddf0b49e4a20f9d958c6.txt\n",
      "pool-dataset/train/labels/CANNES_TILES_512x512-299_png.rf.bcaf93f3c02c0426bfb852786ebbca9b.txt\n",
      "pool-dataset/train/labels/CANNES_TILES_512x512-29_png.rf.764df1671a653af8a5818fa8c8fc4f8d.txt\n",
      "pool-dataset/train/labels/CANNES_TILES_512x512-306_png.rf.b4bec43e8a6d38f407ce15069d69fb50.txt\n",
      "pool-dataset/train/labels/CANNES_TILES_512x512-310_png.rf.9651069ede632b0d83acd894ff204184.txt\n",
      "pool-dataset/train/labels/CANNES_TILES_512x512-313_png.rf.1c7af05b94cc090bda59bb5dc90f5d2f.txt\n",
      "pool-dataset/train/labels/CANNES_TILES_512x512-314_png.rf.07c6af26127d26b47142dec87c742281.txt\n",
      "pool-dataset/train/labels/CANNES_TILES_512x512-315_png.rf.73ae6f85a81e92e8b86140b65a0ff49f.txt\n",
      "pool-dataset/train/labels/CANNES_TILES_512x512-316_png.rf.0be013b3c4206e092f4359616e167b77.txt\n",
      "pool-dataset/train/labels/CANNES_TILES_512x512-318_png.rf.0d1f8454207bc24027a9c61729e0958a.txt\n",
      "pool-dataset/train/labels/CANNES_TILES_512x512-319_png.rf.7ce1746dd0fa6bd5abcc459230f9f316.txt\n",
      "pool-dataset/train/labels/CANNES_TILES_512x512-320_png.rf.0255484245cfa4aa33114e24cbc6f71b.txt\n",
      "pool-dataset/train/labels/CANNES_TILES_512x512-321_png.rf.eaa751826fbc00d8044dbe962b7871e7.txt\n",
      "pool-dataset/train/labels/CANNES_TILES_512x512-322_png.rf.e0fdcbbe2d45b66b20f7dceb5835b40a.txt\n",
      "pool-dataset/train/labels/CANNES_TILES_512x512-323_png.rf.a078d021f6237bc231f66458e05eb759.txt\n",
      "pool-dataset/train/labels/CANNES_TILES_512x512-324_png.rf.01a39c9c113904bfa629bd8074028394.txt\n",
      "pool-dataset/train/labels/CANNES_TILES_512x512-328_png.rf.d57e06d1f46db4834f2dd9cecf0a19c8.txt\n",
      "pool-dataset/train/labels/CANNES_TILES_512x512-331_png.rf.85b6d3b7b129e42101793fb1600937c5.txt\n",
      "pool-dataset/train/labels/CANNES_TILES_512x512-332_png.rf.730f1f8aa03ab001c291aeb6577ab64f.txt\n",
      "pool-dataset/train/labels/CANNES_TILES_512x512-333_png.rf.e10fb137c87a86c2bd22570de5f3c4b5.txt\n",
      "pool-dataset/train/labels/CANNES_TILES_512x512-334_png.rf.a1c89cd7b1538943d5a023a78fd557c3.txt\n",
      "pool-dataset/train/labels/CANNES_TILES_512x512-335_png.rf.b9dcf8f5b13e7e5d8bfbee9a9d757afa.txt\n",
      "pool-dataset/train/labels/CANNES_TILES_512x512-336_png.rf.cedeb0abda24c19ed50f4b5069238eb4.txt\n",
      "pool-dataset/train/labels/CANNES_TILES_512x512-33_png.rf.bc68c6c002b94b47e0c97d707428f72f.txt\n",
      "pool-dataset/train/labels/CANNES_TILES_512x512-348_png.rf.311dd8645e1fc465beb1856ca2cfc294.txt\n",
      "pool-dataset/train/labels/CANNES_TILES_512x512-34_png.rf.577212aac582ed9eedcdda0a5b2882b7.txt\n",
      "pool-dataset/train/labels/CANNES_TILES_512x512-354_png.rf.c94050fb158a79723a524ffa97bffaa1.txt\n",
      "pool-dataset/train/labels/CANNES_TILES_512x512-355_png.rf.b4f6bee13961bbc34937c0bfae3d68c8.txt\n",
      "pool-dataset/train/labels/CANNES_TILES_512x512-358_png.rf.bc87b410eff6e2f0f9ad742f1ba4e03c.txt\n",
      "pool-dataset/train/labels/CANNES_TILES_512x512-35_png.rf.3bf91e00cc3aeaf96e215d3e7f7c5d09.txt\n",
      "pool-dataset/train/labels/CANNES_TILES_512x512-360_png.rf.e1c5166f23763f549e59753866543c21.txt\n",
      "pool-dataset/train/labels/CANNES_TILES_512x512-361_png.rf.251573fe9502306471bacb3299510cee.txt\n",
      "pool-dataset/train/labels/CANNES_TILES_512x512-363_png.rf.f53bd0bbf3315895b6276bf86b049348.txt\n",
      "pool-dataset/train/labels/CANNES_TILES_512x512-365_png.rf.f0c4932afd59e5ee60c5738374d57e1a.txt\n",
      "pool-dataset/train/labels/CANNES_TILES_512x512-366_png.rf.b6b1f9364ea46a7aa08dfdcf6085d337.txt\n",
      "pool-dataset/train/labels/CANNES_TILES_512x512-367_png.rf.e4a8562523646942aecb8e3a3057b935.txt\n",
      "pool-dataset/train/labels/CANNES_TILES_512x512-368_png.rf.f3bca878627ff1dc50ade0e4d0e49dcf.txt\n",
      "pool-dataset/train/labels/CANNES_TILES_512x512-369_png.rf.d758ad0aaf721adf135ce334459a010f.txt\n",
      "pool-dataset/train/labels/CANNES_TILES_512x512-36_png.rf.7fb9d31fd5040693ff776a3abe7020d1.txt\n",
      "pool-dataset/train/labels/CANNES_TILES_512x512-370_png.rf.0aa4009df00d89f6ae417a51ea4c1257.txt\n",
      "pool-dataset/train/labels/CANNES_TILES_512x512-371_png.rf.ab952a010f5075fe367d025fc7d05912.txt\n",
      "pool-dataset/train/labels/CANNES_TILES_512x512-372_png.rf.d6fe54a7192783cf3bc5d1afba1b961f.txt\n",
      "pool-dataset/train/labels/CANNES_TILES_512x512-374_png.rf.3f6fc244fb67f8ecfefcd2a232d1f24f.txt\n",
      "pool-dataset/train/labels/CANNES_TILES_512x512-37_png.rf.8837676e1e15866e4ba34f0dc6ba18d8.txt\n",
      "pool-dataset/train/labels/CANNES_TILES_512x512-382_png.rf.465196d68acb03b87b520386534a6c6f.txt\n",
      "pool-dataset/train/labels/CANNES_TILES_512x512-384_png.rf.5c5deb45388cdde3904726437af8b3bd.txt\n",
      "pool-dataset/train/labels/CANNES_TILES_512x512-385_png.rf.332e7c13becefd491a13d2cec3d5e258.txt\n",
      "pool-dataset/train/labels/CANNES_TILES_512x512-389_png.rf.11fd09dad48ce58d335aa671f86bf413.txt\n",
      "pool-dataset/train/labels/CANNES_TILES_512x512-38_png.rf.ed55d93cb88c75e2bab5ccc3f8acad04.txt\n",
      "pool-dataset/train/labels/CANNES_TILES_512x512-390_png.rf.c2c171a7c08ec14f72b063410c64430e.txt\n",
      "pool-dataset/train/labels/CANNES_TILES_512x512-391_png.rf.187e5c74eaf218b492733d804184e96a.txt\n",
      "pool-dataset/train/labels/CANNES_TILES_512x512-403_png.rf.4781633e35542225a315fb9e344a5f7a.txt\n",
      "pool-dataset/train/labels/CANNES_TILES_512x512-404_png.rf.27861f52d59eccbf7b64c79e50fdf7d3.txt\n",
      "pool-dataset/train/labels/CANNES_TILES_512x512-40_png.rf.88d3b3fee7ba8d6113d6a4ae512874cd.txt\n",
      "pool-dataset/train/labels/CANNES_TILES_512x512-410_png.rf.0fa8b9302a15aca038fe2c8929063f82.txt\n",
      "pool-dataset/train/labels/CANNES_TILES_512x512-411_png.rf.cd67eeeee08148e3cc4a221105999763.txt\n",
      "pool-dataset/train/labels/CANNES_TILES_512x512-412_png.rf.e194fb46fcc5da625c731e676555a7c5.txt\n",
      "pool-dataset/train/labels/CANNES_TILES_512x512-414_png.rf.0173c3b00744cf05ba0124dc8202f26b.txt\n",
      "pool-dataset/train/labels/CANNES_TILES_512x512-415_png.rf.e0fc71def2f88caa6e3406eebf6988a9.txt\n",
      "pool-dataset/train/labels/CANNES_TILES_512x512-416_png.rf.21573224a4802fe9948674e1952b5ce7.txt\n",
      "pool-dataset/train/labels/CANNES_TILES_512x512-418_png.rf.2cea4390b0885ae717a28af0e42163f2.txt\n",
      "pool-dataset/train/labels/CANNES_TILES_512x512-419_png.rf.eb20af787ad15d38e51a4e046e0a549a.txt\n",
      "pool-dataset/train/labels/CANNES_TILES_512x512-420_png.rf.2f7e5cd89be5bda6dc4582d51e3a2eee.txt\n",
      "pool-dataset/train/labels/CANNES_TILES_512x512-421_png.rf.60c9ab642e54fd839b05f3cab8171b8c.txt\n",
      "pool-dataset/train/labels/CANNES_TILES_512x512-422_png.rf.6eae1ef4d9aec0c325c1721e138a8972.txt\n",
      "pool-dataset/train/labels/CANNES_TILES_512x512-423_png.rf.588901ada53c8677cbd8f6b58e26a687.txt\n",
      "pool-dataset/train/labels/CANNES_TILES_512x512-424_png.rf.2cb5d7e525cf2c034a901dcdf923d7ae.txt\n",
      "pool-dataset/train/labels/CANNES_TILES_512x512-430_png.rf.771c6bf8b1e608f41db83607f5c464b5.txt\n",
      "pool-dataset/train/labels/CANNES_TILES_512x512-431_png.rf.7a8add2126a1308d3d8d8bdeebee62a3.txt\n",
      "pool-dataset/train/labels/CANNES_TILES_512x512-433_png.rf.024b79edb66ce4cd46002cc7173b07ed.txt\n",
      "pool-dataset/train/labels/CANNES_TILES_512x512-434_png.rf.2d9eaee797300063ac0642b31ae38625.txt\n",
      "pool-dataset/train/labels/CANNES_TILES_512x512-436_png.rf.0e6dfe0d6bc93d56c25e8f29fbc058cb.txt\n",
      "pool-dataset/train/labels/CANNES_TILES_512x512-439_png.rf.0e97c41ec1ffa9b96794507d3e676e5b.txt\n",
      "pool-dataset/train/labels/CANNES_TILES_512x512-440_png.rf.d9ad1b54a58355ec8fdaa5978db0b01a.txt\n",
      "pool-dataset/train/labels/CANNES_TILES_512x512-44_png.rf.c79171d294f79908fd79a9597beba426.txt\n",
      "pool-dataset/train/labels/CANNES_TILES_512x512-451_png.rf.94423c9e53e6900bb76277b960f53058.txt\n",
      "pool-dataset/train/labels/CANNES_TILES_512x512-453_png.rf.95b2a8b64e5322496194c6a330228b64.txt\n",
      "pool-dataset/train/labels/CANNES_TILES_512x512-454_png.rf.575329187d9202e34b3e511faf683750.txt\n",
      "pool-dataset/train/labels/CANNES_TILES_512x512-455_png.rf.3ffe144afcf4a0dddb208dd08570ef10.txt\n",
      "pool-dataset/train/labels/CANNES_TILES_512x512-456_png.rf.a2eb3e89e7380d572f7cfa4d015a9570.txt\n",
      "pool-dataset/train/labels/CANNES_TILES_512x512-457_png.rf.df6421172fe8774e64b4f5b6ada3c910.txt\n",
      "pool-dataset/train/labels/CANNES_TILES_512x512-458_png.rf.6495b5edf7c32a96e75b07510fb67409.txt\n",
      "pool-dataset/train/labels/CANNES_TILES_512x512-459_png.rf.089e493bf5590a1cc1e21bd7e638fcb5.txt\n",
      "pool-dataset/train/labels/CANNES_TILES_512x512-460_png.rf.3691f78227ade9a40a453b8bd792d767.txt\n",
      "pool-dataset/train/labels/CANNES_TILES_512x512-462_png.rf.bf4bf22f715a624b43d48694f57ea8ff.txt\n",
      "pool-dataset/train/labels/CANNES_TILES_512x512-463_png.rf.467c392d116859892d92a788da74c75b.txt\n",
      "pool-dataset/train/labels/CANNES_TILES_512x512-464_png.rf.45e412723d55c1bb6ce0c16d9c80acaa.txt\n",
      "pool-dataset/train/labels/CANNES_TILES_512x512-465_png.rf.8a01bf3fab7b51efe53ab80e6d1133ee.txt\n",
      "pool-dataset/train/labels/CANNES_TILES_512x512-467_png.rf.7fa06bac2c1cc72b28c201724a7a9226.txt\n",
      "pool-dataset/train/labels/CANNES_TILES_512x512-469_png.rf.4ef9c0325a8c42177d5bea1ff7e2a1b3.txt\n",
      "pool-dataset/train/labels/CANNES_TILES_512x512-46_png.rf.348d73ffc18c7a046342448b59b2cf82.txt\n",
      "pool-dataset/train/labels/CANNES_TILES_512x512-470_png.rf.20ee6a2d2186d75a4f472096c53a4484.txt\n",
      "pool-dataset/train/labels/CANNES_TILES_512x512-471_png.rf.dfc331e8cb5ea5a8b9d55c6e1a0bf9e6.txt\n",
      "pool-dataset/train/labels/CANNES_TILES_512x512-472_png.rf.845e80c3eaf74e1131e458ff2ec88515.txt\n",
      "pool-dataset/train/labels/CANNES_TILES_512x512-473_png.rf.6db9fdf25f5120512176e057ff6d0541.txt\n",
      "pool-dataset/train/labels/CANNES_TILES_512x512-475_png.rf.ec6b8719991b6d02c5e6b3eb5bf9fd27.txt\n",
      "pool-dataset/train/labels/CANNES_TILES_512x512-47_png.rf.055ad02b58f5eb66cfaaadf43c3664aa.txt\n",
      "pool-dataset/train/labels/CANNES_TILES_512x512-481_png.rf.44e19758ad31f9821780cd40b9a85f89.txt\n",
      "pool-dataset/train/labels/CANNES_TILES_512x512-485_png.rf.be153fbded3cda1de049ee987cd3ef64.txt\n",
      "pool-dataset/train/labels/CANNES_TILES_512x512-490_png.rf.2d0e2c5ce15e21dbe9402295eca29a19.txt\n",
      "pool-dataset/train/labels/CANNES_TILES_512x512-491_png.rf.33b31860a3f37f3a8c2a59bb6382db0c.txt\n",
      "pool-dataset/train/labels/CANNES_TILES_512x512-499_png.rf.3d6646c75cce05b2a149698542d5bc36.txt\n",
      "pool-dataset/train/labels/CANNES_TILES_512x512-501_png.rf.4402723e10205f17fb9081e1d6dedad5.txt\n",
      "pool-dataset/train/labels/CANNES_TILES_512x512-502_png.rf.f93c95f7b18a4ad74e9040199688cb6d.txt\n",
      "pool-dataset/train/labels/CANNES_TILES_512x512-503_png.rf.bc598d9bf2d3afe1f43e3c5c1c3b69ad.txt\n",
      "pool-dataset/train/labels/CANNES_TILES_512x512-504_png.rf.c666ac2695cb42da1576ed7d70f001ee.txt\n",
      "pool-dataset/train/labels/CANNES_TILES_512x512-505_png.rf.b1ce0b9a74a856b87973cb6fe7cf0170.txt\n",
      "pool-dataset/train/labels/CANNES_TILES_512x512-507_png.rf.b95872a02832dde08834cba097dbc54f.txt\n",
      "pool-dataset/train/labels/CANNES_TILES_512x512-508_png.rf.8cb625bad833c14ddb667286499edfbe.txt\n",
      "pool-dataset/train/labels/CANNES_TILES_512x512-509_png.rf.b3fcb49b0fd1bf73f917ec919822e738.txt\n",
      "pool-dataset/train/labels/CANNES_TILES_512x512-510_png.rf.6239b183fe5bad9fcb89f2a1ec2f7b42.txt\n",
      "pool-dataset/train/labels/CANNES_TILES_512x512-512_png.rf.5bdfb967531ec991055ca13823945b0b.txt\n",
      "pool-dataset/train/labels/CANNES_TILES_512x512-514_png.rf.c56819cea62e5c02622bde872d00a944.txt\n",
      "pool-dataset/train/labels/CANNES_TILES_512x512-517_png.rf.49fae798f25e8f3c48eb63920023251a.txt\n",
      "pool-dataset/train/labels/CANNES_TILES_512x512-518_png.rf.0ecc9736adb349dd33b31c5955ef09ad.txt\n",
      "pool-dataset/train/labels/CANNES_TILES_512x512-521_png.rf.ac850e077211298e8da10eb55a22958b.txt\n",
      "pool-dataset/train/labels/CANNES_TILES_512x512-522_png.rf.5f41053fec1542e31d72fe10278438da.txt\n",
      "pool-dataset/train/labels/CANNES_TILES_512x512-523_png.rf.5b60f50ddbc56288ecf5537414f08eda.txt\n",
      "pool-dataset/train/labels/CANNES_TILES_512x512-526_png.rf.dbf39f479b78a8e9013d8738b8602e4e.txt\n",
      "pool-dataset/train/labels/CANNES_TILES_512x512-528_png.rf.838ae5a86c6b2e787c022ad7a885714c.txt\n",
      "pool-dataset/train/labels/CANNES_TILES_512x512-530_png.rf.1ac4b5d5a49af4953c487234033b92ed.txt\n",
      "pool-dataset/train/labels/CANNES_TILES_512x512-532_png.rf.f454b840cbe3c9cac1c3dbead3036821.txt\n",
      "pool-dataset/train/labels/CANNES_TILES_512x512-534_png.rf.07020c83a23f14cd16651363b42244b8.txt\n",
      "pool-dataset/train/labels/CANNES_TILES_512x512-535_png.rf.5b860a3873d6b2517fce5a70e9853d81.txt\n",
      "pool-dataset/train/labels/CANNES_TILES_512x512-536_png.rf.9bf014814f3ba9751f9bdb993f76be61.txt\n",
      "pool-dataset/train/labels/CANNES_TILES_512x512-551_png.rf.5f24fb0753d67802378bed8574cf9bf5.txt\n",
      "pool-dataset/train/labels/CANNES_TILES_512x512-552_png.rf.929d29c504e8686b3d2613412bdd78ec.txt\n",
      "pool-dataset/train/labels/CANNES_TILES_512x512-553_png.rf.f24f8faf806abb91b251387dc038e758.txt\n",
      "pool-dataset/train/labels/CANNES_TILES_512x512-554_png.rf.420440e7f715d40d03a87c3fbf7695b3.txt\n",
      "pool-dataset/train/labels/CANNES_TILES_512x512-555_png.rf.be5c7d19e2cfb8b424dfc8137ff03635.txt\n",
      "pool-dataset/train/labels/CANNES_TILES_512x512-556_png.rf.f2547644f98cad59cdf55c1c78986b5f.txt\n",
      "pool-dataset/train/labels/CANNES_TILES_512x512-557_png.rf.c141a00f3690892cbcf4a04ce392af4c.txt\n",
      "pool-dataset/train/labels/CANNES_TILES_512x512-560_png.rf.102781cae0f594c4a795d638a5190677.txt\n",
      "pool-dataset/train/labels/CANNES_TILES_512x512-561_png.rf.0d05bcd2f9adcc5e63f32b2b81098f3d.txt\n",
      "pool-dataset/train/labels/CANNES_TILES_512x512-562_png.rf.4b19b0c054ed171481c22dbb9ecab9cb.txt\n",
      "pool-dataset/train/labels/CANNES_TILES_512x512-564_png.rf.d8dd3b5751d1bca1e478c7c43673a752.txt\n",
      "pool-dataset/train/labels/CANNES_TILES_512x512-569_png.rf.4e5a21692c5c40129058991cd15cda07.txt\n",
      "pool-dataset/train/labels/CANNES_TILES_512x512-570_png.rf.ccf610a0273e34443e591872b9c77c02.txt\n",
      "pool-dataset/train/labels/CANNES_TILES_512x512-571_png.rf.75362c84efdb83d985ca7b4e0d9bec53.txt\n",
      "pool-dataset/train/labels/CANNES_TILES_512x512-574_png.rf.5da117ab1d6769f31452e81c3cf31ca6.txt\n",
      "pool-dataset/train/labels/CANNES_TILES_512x512-575_png.rf.d2d420db3f6e54fbf8957f7f0d6cc807.txt\n",
      "pool-dataset/train/labels/CANNES_TILES_512x512-579_png.rf.2502c0474ca114e4e87f748c0dd007a4.txt\n",
      "pool-dataset/train/labels/CANNES_TILES_512x512-580_png.rf.5e9edb5eee42b3fd55420944149ec051.txt\n",
      "pool-dataset/train/labels/CANNES_TILES_512x512-582_png.rf.e32346cce1f00936d500bcd94985dfcd.txt\n",
      "pool-dataset/train/labels/CANNES_TILES_512x512-584_png.rf.a8085ecca2dfc49f7231455743c19887.txt\n",
      "pool-dataset/train/labels/CANNES_TILES_512x512-587_png.rf.edaf474dc53ac9d04950fedaf2c2d0b4.txt\n",
      "pool-dataset/train/labels/CANNES_TILES_512x512-588_png.rf.e0ffab6a3add8b7d9607b26391b52772.txt\n",
      "pool-dataset/train/labels/CANNES_TILES_512x512-597_png.rf.810e6852b9f268113bbf8b86cec78469.txt\n",
      "pool-dataset/train/labels/CANNES_TILES_512x512-59_png.rf.377ad8dc83f81bc6aa0bc2db017525b4.txt\n",
      "pool-dataset/train/labels/CANNES_TILES_512x512-600_png.rf.6111e9df15b991a245e2b0a5b1c4e431.txt\n",
      "pool-dataset/train/labels/CANNES_TILES_512x512-601_png.rf.847536391120005628adbbd8e395afea.txt\n",
      "pool-dataset/train/labels/CANNES_TILES_512x512-602_png.rf.515899f06ab5872b4801778cc2abea2e.txt\n",
      "pool-dataset/train/labels/CANNES_TILES_512x512-605_png.rf.a34e4d18009a6a4672d95e8118f83103.txt\n",
      "pool-dataset/train/labels/CANNES_TILES_512x512-606_png.rf.1d29dbb6d66f232a14cda1387d2f81ea.txt\n",
      "pool-dataset/train/labels/CANNES_TILES_512x512-607_png.rf.bbf7cf74e68366c19ff441e8ddcdc46c.txt\n",
      "pool-dataset/train/labels/CANNES_TILES_512x512-609_png.rf.4e014026ab1225a52f6c365ce822b80c.txt\n",
      "pool-dataset/train/labels/CANNES_TILES_512x512-610_png.rf.9e998293aa237d339292bf60ee76ea58.txt\n",
      "pool-dataset/train/labels/CANNES_TILES_512x512-617_png.rf.ccf3b0cec014b04256a51642631636c1.txt\n",
      "pool-dataset/train/labels/CANNES_TILES_512x512-619_png.rf.0e8a16ae6cff6c0293355ea3176682da.txt\n",
      "pool-dataset/train/labels/CANNES_TILES_512x512-627_png.rf.077c31798211b6a84031a64b75e4c2e7.txt\n",
      "pool-dataset/train/labels/CANNES_TILES_512x512-628_png.rf.914344c448e1319fbc995fce9f5273f1.txt\n",
      "pool-dataset/train/labels/CANNES_TILES_512x512-629_png.rf.4d53b6882f05185e24be66a7cbc18a4f.txt\n",
      "pool-dataset/train/labels/CANNES_TILES_512x512-62_png.rf.981afec3e0a2c72205591fbc56acb2ff.txt\n",
      "pool-dataset/train/labels/CANNES_TILES_512x512-630_png.rf.2996aabe406e471fe3ed87fe2f432e14.txt\n",
      "pool-dataset/train/labels/CANNES_TILES_512x512-631_png.rf.a38f0aa615ffb390693a7c090362c0b1.txt\n",
      "pool-dataset/train/labels/CANNES_TILES_512x512-632_png.rf.9575c95924fe2e07e3e7ebc0f9d4d411.txt\n",
      "pool-dataset/train/labels/CANNES_TILES_512x512-633_png.rf.61f9be4d0bab1e8fe32de9f9361b4baa.txt\n",
      "pool-dataset/train/labels/CANNES_TILES_512x512-634_png.rf.d5bb283d05539d509c0e8c7710955f55.txt\n",
      "pool-dataset/train/labels/CANNES_TILES_512x512-635_png.rf.31da305fee9547ee37bc54b779631736.txt\n",
      "pool-dataset/train/labels/CANNES_TILES_512x512-636_png.rf.03e0e0c0dcca41a650a53fde984141ee.txt\n",
      "pool-dataset/train/labels/CANNES_TILES_512x512-637_png.rf.6a10162bb36be9106fb6cc7af30e152d.txt\n",
      "pool-dataset/train/labels/CANNES_TILES_512x512-64_png.rf.cbc645d0793f43d1091b6f8a66bb3015.txt\n",
      "pool-dataset/train/labels/CANNES_TILES_512x512-653_png.rf.61e2625472884fae9dc51af8d2c39ad2.txt\n",
      "pool-dataset/train/labels/CANNES_TILES_512x512-654_png.rf.4985b9967f222e107eefd91aa952fff8.txt\n",
      "pool-dataset/train/labels/CANNES_TILES_512x512-658_png.rf.bc8a53f36156f9f50ba241a0612f8254.txt\n",
      "pool-dataset/train/labels/CANNES_TILES_512x512-666_png.rf.4dfbf1d6c37332613e42f954a8255744.txt\n",
      "pool-dataset/train/labels/CANNES_TILES_512x512-66_png.rf.cd2c749f14906dfe5d5481215d9f5e76.txt\n",
      "pool-dataset/train/labels/CANNES_TILES_512x512-670_png.rf.a335d9b66ef81be8e4f23fbb6d8e2d70.txt\n",
      "pool-dataset/train/labels/CANNES_TILES_512x512-673_png.rf.c722a65ee808f0a38344221192ac6533.txt\n",
      "pool-dataset/train/labels/CANNES_TILES_512x512-674_png.rf.c7f241853f60a3dafc7e40efe0b04b81.txt\n",
      "pool-dataset/train/labels/CANNES_TILES_512x512-675_png.rf.b4cbc17149a7d0f4ae64e48e0b0dce7c.txt\n",
      "pool-dataset/train/labels/CANNES_TILES_512x512-677_png.rf.fd2a1d10b8e82628173efbab382b05f8.txt\n",
      "pool-dataset/train/labels/CANNES_TILES_512x512-678_png.rf.e9df3ab7813c4b82f35cba00fe43af1f.txt\n",
      "pool-dataset/train/labels/CANNES_TILES_512x512-67_png.rf.3c967410f4255184a6303946553d2bf6.txt\n",
      "pool-dataset/train/labels/CANNES_TILES_512x512-681_png.rf.2f57b968be4decb6c216802bc7213743.txt\n",
      "pool-dataset/train/labels/CANNES_TILES_512x512-684_png.rf.0cb9ca7bba314eb8daca0c1a1a41f260.txt\n",
      "pool-dataset/train/labels/CANNES_TILES_512x512-685_png.rf.e108833832da70beb4a504b1c07e8e6c.txt\n",
      "pool-dataset/train/labels/CANNES_TILES_512x512-68_png.rf.32a58938250fef33cf41b8144ae9055a.txt\n",
      "pool-dataset/train/labels/CANNES_TILES_512x512-692_png.rf.675538aec91648440922aa0857bc2f85.txt\n",
      "pool-dataset/train/labels/CANNES_TILES_512x512-693_png.rf.53e010f0a01b1e2eb55f8f8a3e514d0f.txt\n",
      "pool-dataset/train/labels/CANNES_TILES_512x512-694_png.rf.3d0a3df5114d3f10ff6cad09af85e31a.txt\n",
      "pool-dataset/train/labels/CANNES_TILES_512x512-696_png.rf.3ab2131dfe9d667f419cd929a91d3e48.txt\n",
      "pool-dataset/train/labels/CANNES_TILES_512x512-697_png.rf.0c6cc461fdd4fcae1255a8435a63cfb4.txt\n",
      "pool-dataset/train/labels/CANNES_TILES_512x512-698_png.rf.f01dff4cb4800b2771fa93493eaf89b5.txt\n",
      "pool-dataset/train/labels/CANNES_TILES_512x512-699_png.rf.ede6d0b21b7f88b2f2d5714122e9bd5d.txt\n",
      "pool-dataset/train/labels/CANNES_TILES_512x512-700_png.rf.ac28a00447a2b70c32329ccab6e1130c.txt\n",
      "pool-dataset/train/labels/CANNES_TILES_512x512-701_png.rf.bb8449b659c0773a43e1027cd5204d02.txt\n",
      "pool-dataset/train/labels/CANNES_TILES_512x512-704_png.rf.367857bb84819ca04342651e690d05f0.txt\n",
      "pool-dataset/train/labels/CANNES_TILES_512x512-705_png.rf.bde69664c88d9cba15f8b06c3bfdb350.txt\n",
      "pool-dataset/train/labels/CANNES_TILES_512x512-706_png.rf.ac1d571c413df82b4fa95a5d6a0ebf00.txt\n",
      "pool-dataset/train/labels/CANNES_TILES_512x512-707_png.rf.ec8bcb4da12d62847cc755b25da8025c.txt\n",
      "pool-dataset/train/labels/CANNES_TILES_512x512-708_png.rf.5a6633e43d37ac778dc2a602c8d3c12a.txt\n",
      "pool-dataset/train/labels/CANNES_TILES_512x512-70_png.rf.fc474d87f25c1467c7a25d9bd4c322e1.txt\n",
      "pool-dataset/train/labels/CANNES_TILES_512x512-713_png.rf.c0ae809f16420e7b37515389902d44a1.txt\n",
      "pool-dataset/train/labels/CANNES_TILES_512x512-715_png.rf.6104304689892213d340bab922699eb8.txt\n",
      "pool-dataset/train/labels/CANNES_TILES_512x512-722_png.rf.fa574f5a0aaf5e22028c8ddcfeca4b45.txt\n",
      "pool-dataset/train/labels/CANNES_TILES_512x512-723_png.rf.ab486753638a9ea631245bd8829e33bb.txt\n",
      "pool-dataset/train/labels/CANNES_TILES_512x512-729_png.rf.f386ec27695239b1b41766ca2e7d72e9.txt\n",
      "pool-dataset/train/labels/CANNES_TILES_512x512-72_png.rf.b12bc53d786fba1d4988d21109fbde8e.txt\n",
      "pool-dataset/train/labels/CANNES_TILES_512x512-733_png.rf.bc7c12599b83ce5115c3384b378bf63b.txt\n",
      "pool-dataset/train/labels/CANNES_TILES_512x512-734_png.rf.93f01b0e3337e7c715de3cfdcf1a2181.txt\n",
      "pool-dataset/train/labels/CANNES_TILES_512x512-73_png.rf.64027180a2d0a744a644b2fe348568c7.txt\n",
      "pool-dataset/train/labels/CANNES_TILES_512x512-740_png.rf.09f959671e342668cc602490b0585e88.txt\n",
      "pool-dataset/train/labels/CANNES_TILES_512x512-741_png.rf.b747572707f020513199ff0ec989992c.txt\n",
      "pool-dataset/train/labels/CANNES_TILES_512x512-746_png.rf.055d84f3c07d664f1fae6c15b753c2dc.txt\n",
      "pool-dataset/train/labels/CANNES_TILES_512x512-747_png.rf.1728eceddf12c9679e2341dc89907faf.txt\n",
      "pool-dataset/train/labels/CANNES_TILES_512x512-748_png.rf.3eb6a5008622ab7c3c2dc0a01416e947.txt\n",
      "pool-dataset/train/labels/CANNES_TILES_512x512-751_png.rf.bde827ddbcccb4fe3a88276f85f27a54.txt\n",
      "pool-dataset/train/labels/CANNES_TILES_512x512-752_png.rf.faa43b19261bdd3172421f2cb81f224e.txt\n",
      "pool-dataset/train/labels/CANNES_TILES_512x512-754_png.rf.1ba2c33093605d71b263308be1587449.txt\n",
      "pool-dataset/train/labels/CANNES_TILES_512x512-755_png.rf.df761f252ee8871422e4a385dd0c4376.txt\n",
      "pool-dataset/train/labels/CANNES_TILES_512x512-761_png.rf.f254a81caa8f386e1f29fcdefd1cbca9.txt\n",
      "pool-dataset/train/labels/CANNES_TILES_512x512-764_png.rf.883f45f6dad6b0fcd681da86167f6c5f.txt\n",
      "pool-dataset/train/labels/CANNES_TILES_512x512-76_png.rf.1ff10f7907c949ff3c0802288679340b.txt\n",
      "pool-dataset/train/labels/CANNES_TILES_512x512-770_png.rf.b8cae2576c8e6af3ba8fb914190d8135.txt\n",
      "pool-dataset/train/labels/CANNES_TILES_512x512-773_png.rf.f5e3079cdd6a8b447bea08a3f248ae90.txt\n",
      "pool-dataset/train/labels/CANNES_TILES_512x512-774_png.rf.66d4b6a10572e1f9b01899e8755da641.txt\n",
      "pool-dataset/train/labels/CANNES_TILES_512x512-775_png.rf.042b0084b2030795afd0f50e9f3568ff.txt\n",
      "pool-dataset/train/labels/CANNES_TILES_512x512-776_png.rf.925d882bc76eb2ea39573879ad978f20.txt\n",
      "pool-dataset/train/labels/CANNES_TILES_512x512-777_png.rf.2daa902bc222aae488558868dd1a6786.txt\n",
      "pool-dataset/train/labels/CANNES_TILES_512x512-778_png.rf.6094131c8e895392734b2994f199be5a.txt\n",
      "pool-dataset/train/labels/CANNES_TILES_512x512-779_png.rf.aa445c658acf770047c79d19cf2e799e.txt\n",
      "pool-dataset/train/labels/CANNES_TILES_512x512-780_png.rf.f7d40913270a733df281fed3b43d7261.txt\n",
      "pool-dataset/train/labels/CANNES_TILES_512x512-783_png.rf.81482111ff668796e35861d4bf379dfb.txt\n",
      "pool-dataset/train/labels/CANNES_TILES_512x512-788_png.rf.588cce834057faac8f6ca812277940be.txt\n",
      "pool-dataset/train/labels/CANNES_TILES_512x512-78_png.rf.3ccdacbd549fa13e51d4e40afbd629bb.txt\n",
      "pool-dataset/train/labels/CANNES_TILES_512x512-790_png.rf.c648b1e2ee9be8e9448a2814de82e2bd.txt\n",
      "pool-dataset/train/labels/CANNES_TILES_512x512-792_png.rf.76c748cf892929ec44040ea897377161.txt\n",
      "pool-dataset/train/labels/CANNES_TILES_512x512-793_png.rf.17ce8622f3435cdb6efc1659ae7009b1.txt\n",
      "pool-dataset/train/labels/CANNES_TILES_512x512-794_png.rf.0aeb802e15a072119d4bf5f52660d477.txt\n",
      "pool-dataset/train/labels/CANNES_TILES_512x512-796_png.rf.831c4d3c8d4891d25a9eadb643f9d0fc.txt\n",
      "pool-dataset/train/labels/CANNES_TILES_512x512-797_png.rf.b719d852d2e1c13079b7266f65d3f49a.txt\n",
      "pool-dataset/train/labels/CANNES_TILES_512x512-799_png.rf.95367fc29b26e6d790fc5f1c03219b02.txt\n",
      "pool-dataset/train/labels/CANNES_TILES_512x512-7_png.rf.803d8ab66e85a014fb4f3d3bdf413112.txt\n",
      "pool-dataset/train/labels/CANNES_TILES_512x512-801_png.rf.87b232fdc76eef2ef6992ee519d873c4.txt\n",
      "pool-dataset/train/labels/CANNES_TILES_512x512-804_png.rf.5f6ba6fff21096984769055edf5d4c4f.txt\n",
      "pool-dataset/train/labels/CANNES_TILES_512x512-805_png.rf.633b68fca10fcbda1156476b2c85451c.txt\n",
      "pool-dataset/train/labels/CANNES_TILES_512x512-812_png.rf.4ca4b4bcc42694c478bcd3c8f2a83ccd.txt\n",
      "pool-dataset/train/labels/CANNES_TILES_512x512-814_png.rf.c34b9f21806b7b952a39d6f29cad3834.txt\n",
      "pool-dataset/train/labels/CANNES_TILES_512x512-817_png.rf.8c8707a48b23796bbb90e89d80a659aa.txt\n",
      "pool-dataset/train/labels/CANNES_TILES_512x512-81_png.rf.9d2d6cffc7864c678e4f19f1b808b788.txt\n",
      "pool-dataset/train/labels/CANNES_TILES_512x512-822_png.rf.ee4538ac15673eae684dba378cfdbab9.txt\n",
      "pool-dataset/train/labels/CANNES_TILES_512x512-823_png.rf.b66f3dc19537365af62dc23ba7999606.txt\n",
      "pool-dataset/train/labels/CANNES_TILES_512x512-828_png.rf.a727a6dbaf333836f81c19d6371776cb.txt\n",
      "pool-dataset/train/labels/CANNES_TILES_512x512-82_png.rf.6ed04fda48194a3b337842741ad2f31d.txt\n",
      "pool-dataset/train/labels/CANNES_TILES_512x512-837_png.rf.fe88a5251280b882065b1581b3ec835e.txt\n",
      "pool-dataset/train/labels/CANNES_TILES_512x512-843_png.rf.edfa076f67a8e8ca5ba1fd331c3a11d6.txt\n",
      "pool-dataset/train/labels/CANNES_TILES_512x512-846_png.rf.7b76bb34b262db5ec67691b59112d43a.txt\n",
      "pool-dataset/train/labels/CANNES_TILES_512x512-847_png.rf.9119e32c9a6f13b4c38cd8968b4c888e.txt\n",
      "pool-dataset/train/labels/CANNES_TILES_512x512-848_png.rf.f04e171e62da4c421ce4ad704484c46c.txt\n",
      "pool-dataset/train/labels/CANNES_TILES_512x512-849_png.rf.ab428a283ea6fda10685dd2b94326782.txt\n",
      "pool-dataset/train/labels/CANNES_TILES_512x512-84_png.rf.20bd87540fe2ab98fc1a5517d560d7c7.txt\n",
      "pool-dataset/train/labels/CANNES_TILES_512x512-850_png.rf.8b79476c0c4322d2b5b6c2d1b3102822.txt\n",
      "pool-dataset/train/labels/CANNES_TILES_512x512-852_png.rf.c089eeca5757c383fa7eb7f8da83f40c.txt\n",
      "pool-dataset/train/labels/CANNES_TILES_512x512-853_png.rf.bad7fdf8943548627b53b509f412986e.txt\n",
      "pool-dataset/train/labels/CANNES_TILES_512x512-860_png.rf.df1c708f41bbd8507d4957226c60b158.txt\n",
      "pool-dataset/train/labels/CANNES_TILES_512x512-863_png.rf.1d1d4b46f1568e96979f10724bf795a9.txt\n",
      "pool-dataset/train/labels/CANNES_TILES_512x512-866_png.rf.b86efced6b49633631e747dfca9400f1.txt\n",
      "pool-dataset/train/labels/CANNES_TILES_512x512-868_png.rf.7853cd8a1c2af0f36f6495f60e5af149.txt\n",
      "pool-dataset/train/labels/CANNES_TILES_512x512-869_png.rf.d724d5ffa48d254f9d048dc713390ece.txt\n",
      "pool-dataset/train/labels/CANNES_TILES_512x512-86_png.rf.afc122344725812be916d14ba9d3ec0d.txt\n",
      "pool-dataset/train/labels/CANNES_TILES_512x512-870_png.rf.a6822cb46fb8d9cfe706c12035c31514.txt\n",
      "pool-dataset/train/labels/CANNES_TILES_512x512-874_png.rf.ae3e1d259743c656e5168ab982a85234.txt\n",
      "pool-dataset/train/labels/CANNES_TILES_512x512-877_png.rf.e82ec437f2e75aa98211abed1e247dbf.txt\n",
      "pool-dataset/train/labels/CANNES_TILES_512x512-878_png.rf.f1784088f5255e116169bffe7fd7fe50.txt\n",
      "pool-dataset/train/labels/CANNES_TILES_512x512-87_png.rf.f26dafcf7692c97a8071af33cf70ed4a.txt\n",
      "pool-dataset/train/labels/CANNES_TILES_512x512-880_png.rf.26c6a38355cb5f016881c486dd3d5b90.txt\n",
      "pool-dataset/train/labels/CANNES_TILES_512x512-886_png.rf.7f03345f294b7ad2fde52b0c6ac8293b.txt\n",
      "pool-dataset/train/labels/CANNES_TILES_512x512-891_png.rf.a937c1240e7d1ed27281e17e6ce3eaa2.txt\n",
      "pool-dataset/train/labels/CANNES_TILES_512x512-894_png.rf.b38e2979c84f0b8e1c066331e35941a1.txt\n",
      "pool-dataset/train/labels/CANNES_TILES_512x512-895_png.rf.c7e9f5258c5d8fba65a4b246e3caa4a6.txt\n",
      "pool-dataset/train/labels/CANNES_TILES_512x512-902_png.rf.3829aac34b6d1bc496db18e7336a2547.txt\n",
      "pool-dataset/train/labels/CANNES_TILES_512x512-903_png.rf.469c56e73d330c3f44c62b4aad63a5fb.txt\n",
      "pool-dataset/train/labels/CANNES_TILES_512x512-911_png.rf.b398f7f779e3906cdb62fb2341531d81.txt\n",
      "pool-dataset/train/labels/CANNES_TILES_512x512-912_png.rf.f726a53a3c98a16a4f28525120de7f67.txt\n",
      "pool-dataset/train/labels/CANNES_TILES_512x512-913_png.rf.9b39c210a1d85241649dedd30e70d51b.txt\n",
      "pool-dataset/train/labels/CANNES_TILES_512x512-914_png.rf.ae3d3c5562100a80703ff741021309b0.txt\n",
      "pool-dataset/train/labels/CANNES_TILES_512x512-916_png.rf.f89acbd88cfaa353b0058e59a033582a.txt\n",
      "pool-dataset/train/labels/CANNES_TILES_512x512-917_png.rf.41286bc91c8b9ee5a65189dd4d0d9217.txt\n",
      "pool-dataset/train/labels/CANNES_TILES_512x512-918_png.rf.e9638401cccb5b43d8323993b80832da.txt\n",
      "pool-dataset/train/labels/CANNES_TILES_512x512-920_png.rf.b1fa5b9fc90f7fdde28bb7bb7f035024.txt\n",
      "pool-dataset/train/labels/CANNES_TILES_512x512-921_png.rf.9d7e7a625ab93d5ec353d91ff0f8342e.txt\n",
      "pool-dataset/train/labels/CANNES_TILES_512x512-927_png.rf.99b6b805d7a4af6dbf03f9f25fb67385.txt\n",
      "pool-dataset/train/labels/CANNES_TILES_512x512-928_png.rf.ea95a9f7427cebbbb59135fdf44e1a34.txt\n",
      "pool-dataset/train/labels/CANNES_TILES_512x512-929_png.rf.470549c1e7e3311b6da3376720a0c596.txt\n",
      "pool-dataset/train/labels/CANNES_TILES_512x512-930_png.rf.7c21172357e571b544fcf26ff9e2202c.txt\n",
      "pool-dataset/train/labels/CANNES_TILES_512x512-934_png.rf.8c4ffbd14752bfa0abe4c8caf4e9837d.txt\n",
      "pool-dataset/train/labels/CANNES_TILES_512x512-935_png.rf.2c7d6fbfa0c6fea19e07942592ff4971.txt\n",
      "pool-dataset/train/labels/CANNES_TILES_512x512-943_png.rf.7131c129bafbbd1b0a82e8291229b173.txt\n",
      "pool-dataset/train/labels/CANNES_TILES_512x512-947_png.rf.8fc5f0da77a67ffb5a0ec6274dd5c05c.txt\n",
      "pool-dataset/train/labels/CANNES_TILES_512x512-948_png.rf.0a73383355abe92408645761e9a7ff85.txt\n",
      "pool-dataset/train/labels/CANNES_TILES_512x512-949_png.rf.c13230af4dee429104d0bcbbbb0f241f.txt\n",
      "pool-dataset/train/labels/CANNES_TILES_512x512-94_png.rf.04047ec104a57a5839e35334f9934a4f.txt\n",
      "pool-dataset/train/labels/CANNES_TILES_512x512-952_png.rf.d3c89f518b68b6b14e79e9489aff4995.txt\n",
      "pool-dataset/train/labels/CANNES_TILES_512x512-953_png.rf.e46789bec1e4cc9a7026ec57a431ba15.txt\n",
      "pool-dataset/train/labels/CANNES_TILES_512x512-956_png.rf.c9adbbb23e4101ee8980dd8d06fa8af6.txt\n",
      "pool-dataset/train/labels/CANNES_TILES_512x512-959_png.rf.f479f84b82fdc48a8a0c693072dd254c.txt\n",
      "pool-dataset/train/labels/CANNES_TILES_512x512-967_png.rf.9a8954d7fa1f44d18d5357dc63d7da58.txt\n",
      "pool-dataset/train/labels/CANNES_TILES_512x512-968_png.rf.bd8448600ef0ba5402aba21af7bdf6d0.txt\n",
      "pool-dataset/train/labels/CANNES_TILES_512x512-969_png.rf.b51b3663a7fd333c0696224a26536b0b.txt\n",
      "pool-dataset/train/labels/CANNES_TILES_512x512-975_png.rf.b52c49d53db9770d166b5f362d67b07c.txt\n",
      "pool-dataset/train/labels/CANNES_TILES_512x512-977_png.rf.40f3960fefab73709744a37a40bc49b6.txt\n",
      "pool-dataset/train/labels/CANNES_TILES_512x512-978_png.rf.e2426cb803f6884dde58ae3fb0bfbfc8.txt\n",
      "pool-dataset/train/labels/CANNES_TILES_512x512-992_png.rf.311ab6f7853d97134e696330e2c2d612.txt\n",
      "pool-dataset/train/labels/CANNES_TILES_512x512-993_png.rf.0c41f7acd523a7fac61094e6764099b8.txt\n",
      "pool-dataset/train/labels/CANNES_TILES_512x512-994_png.rf.e2f7b60ab6fe47e6e85d5a293256adfd.txt\n",
      "pool-dataset/train/labels/CANNES_TILES_512x512-995_png.rf.f1724118b6ae1af89d90807c4c2192f6.txt\n",
      "pool-dataset/train/labels/CANNES_TILES_512x512-997_png.rf.3970e4172be3c70d5c25242c469ac82d.txt\n",
      "pool-dataset/train/labels/P0130_png.rf.72bf149bf5c13b77a2753e7040b1c3e8.txt\n",
      "pool-dataset/train/labels/P0131_png.rf.753e2f3fa074bd0128feb49cc384af99.txt\n",
      "pool-dataset/train/labels/P0882_png.rf.3ec271133807944b96b9f7516b028ad3.txt\n",
      "pool-dataset/train/labels/P1030_png.rf.c6f832b267471e8cbc585a49f1fa3c4b.txt\n",
      "pool-dataset/valid/labels.cache\n",
      "pool-dataset/valid/images/CANNES_TILES_512x512-1005_png.rf.655697e03a5c9373bb038e4a324f78ce.jpg\n",
      "pool-dataset/valid/images/CANNES_TILES_512x512-1008_png.rf.1dde5bb62f9ccbf4bb669538cbc10892.jpg\n",
      "pool-dataset/valid/images/CANNES_TILES_512x512-1010_png.rf.f246ffdee0217355239a5149b1e66015.jpg\n",
      "pool-dataset/valid/images/CANNES_TILES_512x512-1013_png.rf.c938a6e34bf0ffa488a6f38c4d5a30d5.jpg\n",
      "pool-dataset/valid/images/CANNES_TILES_512x512-1014_png.rf.1a4b8d1c6a3ae5548401633cfbb86cd0.jpg\n",
      "pool-dataset/valid/images/CANNES_TILES_512x512-1016_png.rf.ee91131b806ae42aed051e27901a0556.jpg\n",
      "pool-dataset/valid/images/CANNES_TILES_512x512-1024_png.rf.5e38ce292a87c30e88ae3dc1c51d5a77.jpg\n",
      "pool-dataset/valid/images/CANNES_TILES_512x512-1030_png.rf.e6325738c4ca9fe8de48bc23e6c6cae4.jpg\n",
      "pool-dataset/valid/images/CANNES_TILES_512x512-1041_png.rf.cbf6548f5fbf6a048a658e26d8222760.jpg\n",
      "pool-dataset/valid/images/CANNES_TILES_512x512-1044_png.rf.d8181dbd455287dbca53a0c88413d3b0.jpg\n",
      "pool-dataset/valid/images/CANNES_TILES_512x512-1055_png.rf.b5ae1898c5c64ea1b1b46de61348bb79.jpg\n",
      "pool-dataset/valid/images/CANNES_TILES_512x512-1060_png.rf.d0c22bfe931e8f190e268a7450e67575.jpg\n",
      "pool-dataset/valid/images/CANNES_TILES_512x512-1063_png.rf.b846131a6d1a3e1fd2b83240dd198b26.jpg\n",
      "pool-dataset/valid/images/CANNES_TILES_512x512-1067_png.rf.3bea73f78cbde1ec65a55ba253a8bc3d.jpg\n",
      "pool-dataset/valid/images/CANNES_TILES_512x512-1072_png.rf.8744708748f634fead602a822b32471e.jpg\n",
      "pool-dataset/valid/images/CANNES_TILES_512x512-1093_png.rf.80cb0a02f62cffa080cb7f88661b9b6e.jpg\n",
      "pool-dataset/valid/images/CANNES_TILES_512x512-1098_png.rf.7d00354880dcc1fd8a86615dd6462dcb.jpg\n",
      "pool-dataset/valid/images/CANNES_TILES_512x512-1106_png.rf.eca9ac5fec7555eedb95772942203534.jpg\n",
      "pool-dataset/valid/images/CANNES_TILES_512x512-1115_png.rf.bb1353a1cfdf1fc9357deca718fda541.jpg\n",
      "pool-dataset/valid/images/CANNES_TILES_512x512-111_png.rf.fcc80e0907f86df3737a36e9c8275605.jpg\n",
      "pool-dataset/valid/images/CANNES_TILES_512x512-1120_png.rf.6511861218a072c086a89aa437694aef.jpg\n",
      "pool-dataset/valid/images/CANNES_TILES_512x512-1134_png.rf.2c8e986e3a8f2681e0283d4c232ea3e0.jpg\n",
      "pool-dataset/valid/images/CANNES_TILES_512x512-1154_png.rf.77daf64f7d06a1a114916572775ccf68.jpg\n",
      "pool-dataset/valid/images/CANNES_TILES_512x512-1158_png.rf.5847a69b761cbf4f2a815b51d5cbb6f2.jpg\n",
      "pool-dataset/valid/images/CANNES_TILES_512x512-1159_png.rf.05de6b989a56762af8a597205153793b.jpg\n",
      "pool-dataset/valid/images/CANNES_TILES_512x512-115_png.rf.1ac17a3dea883c15d6b6c3b52c6bf0e5.jpg\n",
      "pool-dataset/valid/images/CANNES_TILES_512x512-1168_png.rf.b5dc09f8e8461f74f794f0d7fc5708dc.jpg\n",
      "pool-dataset/valid/images/CANNES_TILES_512x512-116_png.rf.d5e753bdbf150f9561524263f2aa1a79.jpg\n",
      "pool-dataset/valid/images/CANNES_TILES_512x512-1176_png.rf.1911dc7b52174489250288de998c6f1e.jpg\n",
      "pool-dataset/valid/images/CANNES_TILES_512x512-117_png.rf.616f1770a379b1bf85b1de83b007bb25.jpg\n",
      "pool-dataset/valid/images/CANNES_TILES_512x512-1190_png.rf.aff1c70e1c57be8a3f2f0fa5ee311e4e.jpg\n",
      "pool-dataset/valid/images/CANNES_TILES_512x512-1192_png.rf.7dc170e38ccd8a2dc8badcba58730e7c.jpg\n",
      "pool-dataset/valid/images/CANNES_TILES_512x512-1202_png.rf.cb974d9fd8e971a2b5cb8711d375e779.jpg\n",
      "pool-dataset/valid/images/CANNES_TILES_512x512-1203_png.rf.bca33f23d8e7093190aa895d6f4d4155.jpg\n",
      "pool-dataset/valid/images/CANNES_TILES_512x512-1218_png.rf.9fb2d3f1ed77393680a3316200b5cbd4.jpg\n",
      "pool-dataset/valid/images/CANNES_TILES_512x512-1231_png.rf.3f842a3eff43678e91987583d3eeaa2e.jpg\n",
      "pool-dataset/valid/images/CANNES_TILES_512x512-1232_png.rf.920a8ec9f33bc8ebb1a8e1bc18efd32c.jpg\n",
      "pool-dataset/valid/images/CANNES_TILES_512x512-1251_png.rf.dd49481a51193b39952601c5033bd8b6.jpg\n",
      "pool-dataset/valid/images/CANNES_TILES_512x512-1257_png.rf.7de40802787bf5cbe85d58b46cf1c620.jpg\n",
      "pool-dataset/valid/images/CANNES_TILES_512x512-1261_png.rf.9cae9b35f3e4ddf4626b95c797334b05.jpg\n",
      "pool-dataset/valid/images/CANNES_TILES_512x512-1264_png.rf.b1e3ec0383949f4a6d789e4db26c3fed.jpg\n",
      "pool-dataset/valid/images/CANNES_TILES_512x512-1270_png.rf.5f43918e4019a481b5c08d076a0e0bfe.jpg\n",
      "pool-dataset/valid/images/CANNES_TILES_512x512-1280_png.rf.5326cf84c45b0157dbb158938e407008.jpg\n",
      "pool-dataset/valid/images/CANNES_TILES_512x512-128_png.rf.309f0f735470d2c948d451a68e74ddf3.jpg\n",
      "pool-dataset/valid/images/CANNES_TILES_512x512-1306_png.rf.82f004591775e15790dd47a337f8c091.jpg\n",
      "pool-dataset/valid/images/CANNES_TILES_512x512-136_png.rf.b1f91c659470d681949e6f6e3da073a7.jpg\n",
      "pool-dataset/valid/images/CANNES_TILES_512x512-1313_png.rf.9418eb210d3153c20c48736cb09ad490.jpg\n",
      "pool-dataset/valid/images/CANNES_TILES_512x512-1315_png.rf.a49fef3e1b32b6e07363d0098a2f1e6a.jpg\n",
      "pool-dataset/valid/images/CANNES_TILES_512x512-1330_png.rf.cf24ff08673b598a91be1d334a0240b4.jpg\n",
      "pool-dataset/valid/images/CANNES_TILES_512x512-1350_png.rf.a04aa278bbf13a64af0686840b9526d4.jpg\n",
      "pool-dataset/valid/images/CANNES_TILES_512x512-1359_png.rf.a25142a3d7a2776b7f228c58f9694a77.jpg\n",
      "pool-dataset/valid/images/CANNES_TILES_512x512-1360_png.rf.3c978eac8ab2d0f637a4d29fa2f99ebb.jpg\n",
      "pool-dataset/valid/images/CANNES_TILES_512x512-1376_png.rf.590e12b4047226c90ce92fb25768157a.jpg\n",
      "pool-dataset/valid/images/CANNES_TILES_512x512-1391_png.rf.db1688aad5a633b25b6b2cc577dcf824.jpg\n",
      "pool-dataset/valid/images/CANNES_TILES_512x512-13_png.rf.afe008304c41ea59e4c7a3553c6a10cb.jpg\n",
      "pool-dataset/valid/images/CANNES_TILES_512x512-1415_png.rf.c006cc6ad16b4c9429510fbc25523e99.jpg\n",
      "pool-dataset/valid/images/CANNES_TILES_512x512-1426_png.rf.df395ed3f70012454227ec70234b1505.jpg\n",
      "pool-dataset/valid/images/CANNES_TILES_512x512-1456_png.rf.30cfa96a5dbba5ed7dce35db90a8354e.jpg\n",
      "pool-dataset/valid/images/CANNES_TILES_512x512-1457_png.rf.06b4036911718cd2f21967d277f370f4.jpg\n",
      "pool-dataset/valid/images/CANNES_TILES_512x512-1499_png.rf.fa155aded157d8c4cd256f4dba7f65b8.jpg\n",
      "pool-dataset/valid/images/CANNES_TILES_512x512-1507_png.rf.3b6382b5e65ace8f6c0b50a4d96987bc.jpg\n",
      "pool-dataset/valid/images/CANNES_TILES_512x512-150_png.rf.f40482b7f30d141a4e0442a0a4ef4104.jpg\n",
      "pool-dataset/valid/images/CANNES_TILES_512x512-1523_png.rf.af08f27890ed30c2e4f871de06717d10.jpg\n",
      "pool-dataset/valid/images/CANNES_TILES_512x512-1559_png.rf.2432147cf59b6cbf1e001c61575197ca.jpg\n",
      "pool-dataset/valid/images/CANNES_TILES_512x512-1560_png.rf.1c06ac1b0275f96659b730e4c370d3b8.jpg\n",
      "pool-dataset/valid/images/CANNES_TILES_512x512-1562_png.rf.c181ced5285dd4d33cb2babbe89075af.jpg\n",
      "pool-dataset/valid/images/CANNES_TILES_512x512-1567_png.rf.6e8a4c5c1a14401c5b4313beb9b98cf5.jpg\n",
      "pool-dataset/valid/images/CANNES_TILES_512x512-1577_png.rf.61a4cdcbfd09a30043018e35a9424170.jpg\n",
      "pool-dataset/valid/images/CANNES_TILES_512x512-1578_png.rf.7dd8ba41094509a883b8c1de3d8805b6.jpg\n",
      "pool-dataset/valid/images/CANNES_TILES_512x512-157_png.rf.bfa55e973635ddf65539d4cd9cebfc03.jpg\n",
      "pool-dataset/valid/images/CANNES_TILES_512x512-1606_png.rf.a7a5b1edcac531c37330a73b8f275a8f.jpg\n",
      "pool-dataset/valid/images/CANNES_TILES_512x512-1609_png.rf.45bcd7a2cf2a3068ed40bf499f13f0da.jpg\n",
      "pool-dataset/valid/images/CANNES_TILES_512x512-1610_png.rf.eac2b4ab7015d5587862b62db97c017d.jpg\n",
      "pool-dataset/valid/images/CANNES_TILES_512x512-1613_png.rf.555aff7b04e41ce64fcd5a3f520cdcf2.jpg\n",
      "pool-dataset/valid/images/CANNES_TILES_512x512-1615_png.rf.1f14135eff63f48c1a49fd18c65c3f5c.jpg\n",
      "pool-dataset/valid/images/CANNES_TILES_512x512-1617_png.rf.3d3452a5a043883df72392e167c30eff.jpg\n",
      "pool-dataset/valid/images/CANNES_TILES_512x512-1626_png.rf.f5b5ed8f985776897115b7e8b55c9103.jpg\n",
      "pool-dataset/valid/images/CANNES_TILES_512x512-162_png.rf.f84041756839ff06523d13fe28ad21fc.jpg\n",
      "pool-dataset/valid/images/CANNES_TILES_512x512-1632_png.rf.7752ddc155cdd84cc0fccca3c1f04531.jpg\n",
      "pool-dataset/valid/images/CANNES_TILES_512x512-1654_png.rf.77d9527f9971c714d311f21381207ce0.jpg\n",
      "pool-dataset/valid/images/CANNES_TILES_512x512-1658_png.rf.86a7cb4d32eb5c107a8e6d5421787cee.jpg\n",
      "pool-dataset/valid/images/CANNES_TILES_512x512-167_png.rf.bd9927a28a5acdcc5e41add8699b74a0.jpg\n",
      "pool-dataset/valid/images/CANNES_TILES_512x512-16_png.rf.12b4321908e97a2c79a5122c35fdcee5.jpg\n",
      "pool-dataset/valid/images/CANNES_TILES_512x512-1703_png.rf.19bf56d6f1714b6830be83969d643148.jpg\n",
      "pool-dataset/valid/images/CANNES_TILES_512x512-1715_png.rf.b45befa5d239d8628a029fce710aefd6.jpg\n",
      "pool-dataset/valid/images/CANNES_TILES_512x512-1722_png.rf.2fd6c33c02f379b0bcc62216b8640739.jpg\n",
      "pool-dataset/valid/images/CANNES_TILES_512x512-1729_png.rf.90d654ef08759409dbb1a9e57c552d6a.jpg\n",
      "pool-dataset/valid/images/CANNES_TILES_512x512-1744_png.rf.c126d7404ba30eb5b9b8bbd99c417f14.jpg\n",
      "pool-dataset/valid/images/CANNES_TILES_512x512-1779_png.rf.6bb9a917259044818b58c7b966267e80.jpg\n",
      "pool-dataset/valid/images/CANNES_TILES_512x512-1786_png.rf.b644c1398c6571576fe60420866c3067.jpg\n",
      "pool-dataset/valid/images/CANNES_TILES_512x512-1790_png.rf.1170e6af65efcfb92c1d455ca5827e96.jpg\n",
      "pool-dataset/valid/images/CANNES_TILES_512x512-1796_png.rf.464da07e1c398d3f8eed7c2ac46de25a.jpg\n",
      "pool-dataset/valid/images/CANNES_TILES_512x512-1801_png.rf.c49a64d513a8e202e5e45b2e5dbd4c6a.jpg\n",
      "pool-dataset/valid/images/CANNES_TILES_512x512-1803_png.rf.bea7d3acf9537c27c5e960b054c3e649.jpg\n",
      "pool-dataset/valid/images/CANNES_TILES_512x512-1816_png.rf.d6dccff44b82ce0c2577aba1dadadf1e.jpg\n",
      "pool-dataset/valid/images/CANNES_TILES_512x512-181_png.rf.ada2f82c0a6c088320cd7137b2956811.jpg\n",
      "pool-dataset/valid/images/CANNES_TILES_512x512-1820_png.rf.62dd58e07fdb3a82775256bede583cf1.jpg\n",
      "pool-dataset/valid/images/CANNES_TILES_512x512-1840_png.rf.1033f0c167ae27b3042c61fda22ca942.jpg\n",
      "pool-dataset/valid/images/CANNES_TILES_512x512-1841_png.rf.1b47b6084b79be1ebde7dc3b858d90ac.jpg\n",
      "pool-dataset/valid/images/CANNES_TILES_512x512-1845_png.rf.4b1c94e0ecd1205777c6580e8926f7e8.jpg\n",
      "pool-dataset/valid/images/CANNES_TILES_512x512-1849_png.rf.bdf0c35d5e2037936c45d8daa54286aa.jpg\n",
      "pool-dataset/valid/images/CANNES_TILES_512x512-185_png.rf.664a32870d9571b1865f3f6e33ca6230.jpg\n",
      "pool-dataset/valid/images/CANNES_TILES_512x512-1866_png.rf.fcae9f25fff0eb95336433128aa83256.jpg\n",
      "pool-dataset/valid/images/CANNES_TILES_512x512-1888_png.rf.5ae77dd6b9d82264803e716e4cf13d8e.jpg\n",
      "pool-dataset/valid/images/CANNES_TILES_512x512-1889_png.rf.ad5a60559a72595d9aeda8b56ccc9d5b.jpg\n",
      "pool-dataset/valid/images/CANNES_TILES_512x512-188_png.rf.4f07a05e49a0b8d317c5f730a78ee275.jpg\n",
      "pool-dataset/valid/images/CANNES_TILES_512x512-1891_png.rf.334b6d1135138f281733e615947fcc0a.jpg\n",
      "pool-dataset/valid/images/CANNES_TILES_512x512-1892_png.rf.d92b54fbddc9c9fbba6456b68bd2aabb.jpg\n",
      "pool-dataset/valid/images/CANNES_TILES_512x512-1901_png.rf.51b1caf1b66f9931ab03aa70b1f3c336.jpg\n",
      "pool-dataset/valid/images/CANNES_TILES_512x512-1911_png.rf.c64c36d281a7c70ef4d228fd83d69519.jpg\n",
      "pool-dataset/valid/images/CANNES_TILES_512x512-1924_png.rf.608fec8d826510c20402c4495383f161.jpg\n",
      "pool-dataset/valid/images/CANNES_TILES_512x512-1934_png.rf.ca39b612052ac0ba987ea708497cc1ca.jpg\n",
      "pool-dataset/valid/images/CANNES_TILES_512x512-1939_png.rf.6383db6fe46e2e29840f6922af213fa0.jpg\n",
      "pool-dataset/valid/images/CANNES_TILES_512x512-1944_png.rf.fb69729cf687bbc869ebfde2a401fa81.jpg\n",
      "pool-dataset/valid/images/CANNES_TILES_512x512-1945_png.rf.2d238b104f01488f3023d07773eaacb3.jpg\n",
      "pool-dataset/valid/images/CANNES_TILES_512x512-1973_png.rf.f1e8207b22166aa108d86eea95736594.jpg\n",
      "pool-dataset/valid/images/CANNES_TILES_512x512-1976_png.rf.e49683cdbd64f9c82a2c8d6a29efe355.jpg\n",
      "pool-dataset/valid/images/CANNES_TILES_512x512-1977_png.rf.01b6aaa0e628d16450d959c107b801e1.jpg\n",
      "pool-dataset/valid/images/CANNES_TILES_512x512-1991_png.rf.26b0fb2397c0a376c25098351fcb00d0.jpg\n",
      "pool-dataset/valid/images/CANNES_TILES_512x512-2016_png.rf.021f6dde0b2d0ee020b5afd2a166695b.jpg\n",
      "pool-dataset/valid/images/CANNES_TILES_512x512-2022_png.rf.2d1af7015de970d0c43c0e5d38363ae8.jpg\n",
      "pool-dataset/valid/images/CANNES_TILES_512x512-2026_png.rf.6d1057ecae6824238793496a121bcfc4.jpg\n",
      "pool-dataset/valid/images/CANNES_TILES_512x512-2035_png.rf.d52aee1da4308b84f9b6f906c8528b0d.jpg\n",
      "pool-dataset/valid/images/CANNES_TILES_512x512-2046_png.rf.21e0bdcf942dc18e1d8142ac8319706f.jpg\n",
      "pool-dataset/valid/images/CANNES_TILES_512x512-2069_png.rf.197f9377dd504c9ed9f5f97263f7bde7.jpg\n",
      "pool-dataset/valid/images/CANNES_TILES_512x512-2077_png.rf.a1efda6c2f679e4963fadbe560dacd1a.jpg\n",
      "pool-dataset/valid/images/CANNES_TILES_512x512-2079_png.rf.0c9095e89f181018966f43ebe48046cf.jpg\n",
      "pool-dataset/valid/images/CANNES_TILES_512x512-2087_png.rf.4f0ce99b368b7434d53de476a8ac7685.jpg\n",
      "pool-dataset/valid/images/CANNES_TILES_512x512-2088_png.rf.bbdcb2d79109dc3624a163ace5e18b21.jpg\n",
      "pool-dataset/valid/images/CANNES_TILES_512x512-2114_png.rf.211aa6884f81147d6ba3a22575ffa8ec.jpg\n",
      "pool-dataset/valid/images/CANNES_TILES_512x512-2126_png.rf.18f1bc201680cd58f436c669c9378a25.jpg\n",
      "pool-dataset/valid/images/CANNES_TILES_512x512-212_png.rf.e4772443b50f42cef08e8d62763825a7.jpg\n",
      "pool-dataset/valid/images/CANNES_TILES_512x512-2140_png.rf.c987852bd5699c07e25d61eca1523e2b.jpg\n",
      "pool-dataset/valid/images/CANNES_TILES_512x512-214_png.rf.9c2d1904262e2474113af9d12768e638.jpg\n",
      "pool-dataset/valid/images/CANNES_TILES_512x512-2180_png.rf.6fb4dbc09e8ffc1c90727e82ad6ed4a3.jpg\n",
      "pool-dataset/valid/images/CANNES_TILES_512x512-2183_png.rf.f73be07df964e6fe2c7bdd70f4e6c103.jpg\n",
      "pool-dataset/valid/images/CANNES_TILES_512x512-2186_png.rf.345153905d9b6ddc59965b775ae320e0.jpg\n",
      "pool-dataset/valid/images/CANNES_TILES_512x512-2189_png.rf.6ecf4cbb04198ddbaf62290d5924ad23.jpg\n",
      "pool-dataset/valid/images/CANNES_TILES_512x512-2217_png.rf.52672e6b4933e38639c640b8e0d3f013.jpg\n",
      "pool-dataset/valid/images/CANNES_TILES_512x512-226_png.rf.5f90f32dc21e02fa6c238baf8357b941.jpg\n",
      "pool-dataset/valid/images/CANNES_TILES_512x512-2317_png.rf.332bcefab9ac8ddea6ed73d351923083.jpg\n",
      "pool-dataset/valid/images/CANNES_TILES_512x512-238_png.rf.455e5e62fed57716a05f1a70aefa599a.jpg\n",
      "pool-dataset/valid/images/CANNES_TILES_512x512-23_png.rf.0e6dac5c162c1ce969465db9e51a72d8.jpg\n",
      "pool-dataset/valid/images/CANNES_TILES_512x512-24_png.rf.d2bcf8515a6b4f66b0321f5e774362e9.jpg\n",
      "pool-dataset/valid/images/CANNES_TILES_512x512-258_png.rf.3b90c25b13aebe143d335245b1145c6f.jpg\n",
      "pool-dataset/valid/images/CANNES_TILES_512x512-268_png.rf.9ca19b4cd66af696ed9a7b479dce9fd3.jpg\n",
      "pool-dataset/valid/images/CANNES_TILES_512x512-26_png.rf.e850001c11448939df66fc8334a43d1f.jpg\n",
      "pool-dataset/valid/images/CANNES_TILES_512x512-277_png.rf.098901cee1a18533252702938c3fb61a.jpg\n",
      "pool-dataset/valid/images/CANNES_TILES_512x512-282_png.rf.2a8301224f01e1f1325b03f550a8152a.jpg\n",
      "pool-dataset/valid/images/CANNES_TILES_512x512-285_png.rf.aa5fdae4bfc9c46b9749e75d273b5724.jpg\n",
      "pool-dataset/valid/images/CANNES_TILES_512x512-301_png.rf.a3e9c9a555fd7f5a8a44218151df3126.jpg\n",
      "pool-dataset/valid/images/CANNES_TILES_512x512-309_png.rf.eaf7abcbca140cbb0fdae666325f3e38.jpg\n",
      "pool-dataset/valid/images/CANNES_TILES_512x512-311_png.rf.32a16083042d16b0d06bd6242b6cb193.jpg\n",
      "pool-dataset/valid/images/CANNES_TILES_512x512-312_png.rf.441030f174cbeb4915236675f38eb441.jpg\n",
      "pool-dataset/valid/images/CANNES_TILES_512x512-325_png.rf.71de6f540dbc01782b75349183539136.jpg\n",
      "pool-dataset/valid/images/CANNES_TILES_512x512-326_png.rf.d09c60a5ceec0b6f87dbf1c72c1888a5.jpg\n",
      "pool-dataset/valid/images/CANNES_TILES_512x512-32_png.rf.c4e89627112e479262175b99554898c1.jpg\n",
      "pool-dataset/valid/images/CANNES_TILES_512x512-339_png.rf.4e7ea9ab0563d055df033c10f363f780.jpg\n",
      "pool-dataset/valid/images/CANNES_TILES_512x512-340_png.rf.e2a3f1e36a9e984ba8803c2ba1fa1cc5.jpg\n",
      "pool-dataset/valid/images/CANNES_TILES_512x512-362_png.rf.bdb0c418d97c38b296eaf86062b00ef2.jpg\n",
      "pool-dataset/valid/images/CANNES_TILES_512x512-376_png.rf.23fce5ebbe68994944790bf87ff915f8.jpg\n",
      "pool-dataset/valid/images/CANNES_TILES_512x512-378_png.rf.d1d90f9b3a73cb1967b4407c4f8e5f94.jpg\n",
      "pool-dataset/valid/images/CANNES_TILES_512x512-381_png.rf.4c5899ecc156d0a9c11105365316bec5.jpg\n",
      "pool-dataset/valid/images/CANNES_TILES_512x512-39_png.rf.faea0c6130b38d1d71e4988a1196d751.jpg\n",
      "pool-dataset/valid/images/CANNES_TILES_512x512-407_png.rf.35efb178a6133021261e062aa091f153.jpg\n",
      "pool-dataset/valid/images/CANNES_TILES_512x512-417_png.rf.493f6a075b7a3964207af07e50d08acc.jpg\n",
      "pool-dataset/valid/images/CANNES_TILES_512x512-425_png.rf.830aa1a409db10fb439d5579c34e30e7.jpg\n",
      "pool-dataset/valid/images/CANNES_TILES_512x512-427_png.rf.b0fb70f1e333518926fbb8c21cea7733.jpg\n",
      "pool-dataset/valid/images/CANNES_TILES_512x512-438_png.rf.074bcbb93891261583ab4848e7f08f7f.jpg\n",
      "pool-dataset/valid/images/CANNES_TILES_512x512-461_png.rf.55dfc88c284a26c2bf23831235fa5622.jpg\n",
      "pool-dataset/valid/images/CANNES_TILES_512x512-466_png.rf.5c50c23cdd5dd5220342fa83306553a0.jpg\n",
      "pool-dataset/valid/images/CANNES_TILES_512x512-468_png.rf.123ed94d279ff92e4a40a9db282d71c0.jpg\n",
      "pool-dataset/valid/images/CANNES_TILES_512x512-480_png.rf.90a687e2af881014dd55a3f4ec6b17c1.jpg\n",
      "pool-dataset/valid/images/CANNES_TILES_512x512-487_png.rf.d65eff6e6aa41ad6b8305a59757e94b1.jpg\n",
      "pool-dataset/valid/images/CANNES_TILES_512x512-489_png.rf.8b7be1b48529655722fec1b939471671.jpg\n",
      "pool-dataset/valid/images/CANNES_TILES_512x512-48_png.rf.49602fef857330282b991cf9d880889d.jpg\n",
      "pool-dataset/valid/images/CANNES_TILES_512x512-506_png.rf.58a44dc60d9de5c767d747b936233c55.jpg\n",
      "pool-dataset/valid/images/CANNES_TILES_512x512-513_png.rf.d86985c670d6f794a7e15df75b7bd52e.jpg\n",
      "pool-dataset/valid/images/CANNES_TILES_512x512-516_png.rf.cc46f7e7ddc0a1369dfb9bc97f36f665.jpg\n",
      "pool-dataset/valid/images/CANNES_TILES_512x512-519_png.rf.78255763743e40e271107773880c0c79.jpg\n",
      "pool-dataset/valid/images/CANNES_TILES_512x512-520_png.rf.8e4635853036d742dc4ea6744056df7c.jpg\n",
      "pool-dataset/valid/images/CANNES_TILES_512x512-529_png.rf.1158c3a6d3bccc3f597327d62e71bee2.jpg\n",
      "pool-dataset/valid/images/CANNES_TILES_512x512-538_png.rf.7cb3f2c929f2b7f288d09ef065a69fe3.jpg\n",
      "pool-dataset/valid/images/CANNES_TILES_512x512-558_png.rf.124c4830230b98edbe23d219392aa8b0.jpg\n",
      "pool-dataset/valid/images/CANNES_TILES_512x512-563_png.rf.cc6f625ffd94ed0323ad8ea6642529b2.jpg\n",
      "pool-dataset/valid/images/CANNES_TILES_512x512-573_png.rf.748192af92f7703531597965e47c35e6.jpg\n",
      "pool-dataset/valid/images/CANNES_TILES_512x512-581_png.rf.21dbbfeb44842a284b17cdbfe429e44c.jpg\n",
      "pool-dataset/valid/images/CANNES_TILES_512x512-583_png.rf.925880e193758d71f209307724ffe0cd.jpg\n",
      "pool-dataset/valid/images/CANNES_TILES_512x512-585_png.rf.8b0edcedb2ffe52580d99c3069920b74.jpg\n",
      "pool-dataset/valid/images/CANNES_TILES_512x512-603_png.rf.4351534ad7326c1b410eb5d23f09466e.jpg\n",
      "pool-dataset/valid/images/CANNES_TILES_512x512-608_png.rf.00ee108aa7ee3ff6c4e5ed7679c55a22.jpg\n",
      "pool-dataset/valid/images/CANNES_TILES_512x512-60_png.rf.a8ce335985eab82da39dc885f16ba0d0.jpg\n",
      "pool-dataset/valid/images/CANNES_TILES_512x512-611_png.rf.36c9a08e3dddcfb52f8bfa251d013837.jpg\n",
      "pool-dataset/valid/images/CANNES_TILES_512x512-618_png.rf.ea9694f31927475b8aecfec920d75a1a.jpg\n",
      "pool-dataset/valid/images/CANNES_TILES_512x512-621_png.rf.10fb78d5ae6c1bec30dde5b832cce1e6.jpg\n",
      "pool-dataset/valid/images/CANNES_TILES_512x512-649_png.rf.46b0219e96274ffcef4c9519c871d3f3.jpg\n",
      "pool-dataset/valid/images/CANNES_TILES_512x512-650_png.rf.9d599717b070804fa189208be1a05a70.jpg\n",
      "pool-dataset/valid/images/CANNES_TILES_512x512-651_png.rf.7f4875d49132060780035982203d3de9.jpg\n",
      "pool-dataset/valid/images/CANNES_TILES_512x512-652_png.rf.8acd71b50729dbb087688450c5bb2bb2.jpg\n",
      "pool-dataset/valid/images/CANNES_TILES_512x512-656_png.rf.c538cd5889d06a683e71fa756c563b4e.jpg\n",
      "pool-dataset/valid/images/CANNES_TILES_512x512-657_png.rf.89e77043c07ec045f5627efc2e944e43.jpg\n",
      "pool-dataset/valid/images/CANNES_TILES_512x512-65_png.rf.6d9229f13991294aad3614796b1e6773.jpg\n",
      "pool-dataset/valid/images/CANNES_TILES_512x512-667_png.rf.4a0cb1ce0ae70315728f28f47186fcb3.jpg\n",
      "pool-dataset/valid/images/CANNES_TILES_512x512-668_png.rf.1d3cce15af3d663db63f8d3cb704fb5d.jpg\n",
      "pool-dataset/valid/images/CANNES_TILES_512x512-683_png.rf.ad2cda256e5a0f1f257d383f4f801a04.jpg\n",
      "pool-dataset/valid/images/CANNES_TILES_512x512-69_png.rf.82d4427600d5f2a26f41862a2a99e5c7.jpg\n",
      "pool-dataset/valid/images/CANNES_TILES_512x512-703_png.rf.c654a035bb8806b9faf9cced5130b9b2.jpg\n",
      "pool-dataset/valid/images/CANNES_TILES_512x512-718_png.rf.d505f7dac56db6b0d9bd51e604858a58.jpg\n",
      "pool-dataset/valid/images/CANNES_TILES_512x512-71_png.rf.33817e65d5b688ce982457bf3380216f.jpg\n",
      "pool-dataset/valid/images/CANNES_TILES_512x512-721_png.rf.1a13f16d20206e3a4ce7bb0e925fb365.jpg\n",
      "pool-dataset/valid/images/CANNES_TILES_512x512-726_png.rf.ae7fc7406489ae5659333f062fe9ba29.jpg\n",
      "pool-dataset/valid/images/CANNES_TILES_512x512-743_png.rf.a9d43ad03691d735aa88fe915ff1c0db.jpg\n",
      "pool-dataset/valid/images/CANNES_TILES_512x512-744_png.rf.03fe37da57ce4c3f308f37dc4f23e67c.jpg\n",
      "pool-dataset/valid/images/CANNES_TILES_512x512-745_png.rf.bb43f1cb96687031cfc0169845bd6b9d.jpg\n",
      "pool-dataset/valid/images/CANNES_TILES_512x512-750_png.rf.3d76e1a9a0cd1b881a501d2a7855aa76.jpg\n",
      "pool-dataset/valid/images/CANNES_TILES_512x512-753_png.rf.a33d93b163c2555a59943ccea0b880a9.jpg\n",
      "pool-dataset/valid/images/CANNES_TILES_512x512-756_png.rf.dbc5a4803fc81ae936886b28412f43d9.jpg\n",
      "pool-dataset/valid/images/CANNES_TILES_512x512-75_png.rf.24272ed23bcaa85d09b1faf67779eceb.jpg\n",
      "pool-dataset/valid/images/CANNES_TILES_512x512-768_png.rf.8666e328e8af29c7792291c0fa38aa1f.jpg\n",
      "pool-dataset/valid/images/CANNES_TILES_512x512-771_png.rf.654d71473f811a08bee016519e58952f.jpg\n",
      "pool-dataset/valid/images/CANNES_TILES_512x512-772_png.rf.e4963297c6719140732d074410625626.jpg\n",
      "pool-dataset/valid/images/CANNES_TILES_512x512-789_png.rf.80730a671de1c456d1de36c6663ba473.jpg\n",
      "pool-dataset/valid/images/CANNES_TILES_512x512-795_png.rf.f642699110742ba2db6f866e5275c08f.jpg\n",
      "pool-dataset/valid/images/CANNES_TILES_512x512-798_png.rf.78e6f3c8e5ffa01e68d3e1afa3ea5c1f.jpg\n",
      "pool-dataset/valid/images/CANNES_TILES_512x512-79_png.rf.2a1635a60e8b2d5b782bef5813b2fd64.jpg\n",
      "pool-dataset/valid/images/CANNES_TILES_512x512-800_png.rf.3016be2a1b0a8d1d94fbfa09221d4baa.jpg\n",
      "pool-dataset/valid/images/CANNES_TILES_512x512-802_png.rf.6387736d4b1d33b89772c35d0fcd5a39.jpg\n",
      "pool-dataset/valid/images/CANNES_TILES_512x512-816_png.rf.0fc897bd06d8d3ce03148cf475751f76.jpg\n",
      "pool-dataset/valid/images/CANNES_TILES_512x512-819_png.rf.ca4f5cb27c85a95388ce9ae679ffc778.jpg\n",
      "pool-dataset/valid/images/CANNES_TILES_512x512-821_png.rf.8a8e2c8f1e92e7b8ee8a94c1148eaeb8.jpg\n",
      "pool-dataset/valid/images/CANNES_TILES_512x512-825_png.rf.db56f81aa0796e2c5e03c7adb66224c0.jpg\n",
      "pool-dataset/valid/images/CANNES_TILES_512x512-831_png.rf.dafef91f2068ec06647cdf0df58c3b49.jpg\n",
      "pool-dataset/valid/images/CANNES_TILES_512x512-832_png.rf.07a0987d930ccdd1cb24140ef71cc5f5.jpg\n",
      "pool-dataset/valid/images/CANNES_TILES_512x512-83_png.rf.f0d7fd74e6958bdd58bd05f4c03ffd10.jpg\n",
      "pool-dataset/valid/images/CANNES_TILES_512x512-842_png.rf.9cc3dd71a8cbefac22ca50cf7712c6b5.jpg\n",
      "pool-dataset/valid/images/CANNES_TILES_512x512-851_png.rf.acb6312c28922e1f3a3581a195d3d2a0.jpg\n",
      "pool-dataset/valid/images/CANNES_TILES_512x512-862_png.rf.1740a2c62f781c9c78da2cac2972201d.jpg\n",
      "pool-dataset/valid/images/CANNES_TILES_512x512-864_png.rf.521e23133466d64c518e4b308f08b72e.jpg\n",
      "pool-dataset/valid/images/CANNES_TILES_512x512-867_png.rf.76ef61895e1ba21a266797d7da98978f.jpg\n",
      "pool-dataset/valid/images/CANNES_TILES_512x512-88_png.rf.2adaf402efe75d551b4935a4ce7c61d0.jpg\n",
      "pool-dataset/valid/images/CANNES_TILES_512x512-896_png.rf.6cacbb973bd32e92ed271f30d5bfbcfa.jpg\n",
      "pool-dataset/valid/images/CANNES_TILES_512x512-897_png.rf.4fc9bb8445bdd2e7fa40371d4f5d47c1.jpg\n",
      "pool-dataset/valid/images/CANNES_TILES_512x512-898_png.rf.58602dfe415f971714adcea0358571e6.jpg\n",
      "pool-dataset/valid/images/CANNES_TILES_512x512-901_png.rf.df6f19373b89fe910b49f806c0292a3a.jpg\n",
      "pool-dataset/valid/images/CANNES_TILES_512x512-908_png.rf.5271f8588996a730c4e3f54d5dccfb00.jpg\n",
      "pool-dataset/valid/images/CANNES_TILES_512x512-915_png.rf.07a4839b945bcb1b72807740d3e4624c.jpg\n",
      "pool-dataset/valid/images/CANNES_TILES_512x512-931_png.rf.ccf79bb12de21b33f898cdfe4bbb66ff.jpg\n",
      "pool-dataset/valid/images/CANNES_TILES_512x512-93_png.rf.5409da10c0264e11b9a2145bc1ed0282.jpg\n",
      "pool-dataset/valid/images/CANNES_TILES_512x512-945_png.rf.86f6c6b8ab8f0324ed14e8346f989d36.jpg\n",
      "pool-dataset/valid/images/CANNES_TILES_512x512-957_png.rf.a7ee470711982bd7a6fa5fc2113eef95.jpg\n",
      "pool-dataset/valid/images/CANNES_TILES_512x512-965_png.rf.0a2344429117cc39a96c70abad114888.jpg\n",
      "pool-dataset/valid/images/CANNES_TILES_512x512-971_png.rf.feb6d17f31a3c3655df80a3bec376838.jpg\n",
      "pool-dataset/valid/images/CANNES_TILES_512x512-980_png.rf.58deb331a16138c84a27d3b9a62fafb3.jpg\n",
      "pool-dataset/valid/images/CANNES_TILES_512x512-996_png.rf.745ba26fa7a0550f197a1ab9b2fc6516.jpg\n",
      "pool-dataset/valid/images/CANNES_TILES_512x512-998_png.rf.c2a2316fbf46397254d2b8c05b468653.jpg\n",
      "pool-dataset/valid/labels/CANNES_TILES_512x512-1005_png.rf.655697e03a5c9373bb038e4a324f78ce.txt\n",
      "pool-dataset/valid/labels/CANNES_TILES_512x512-1008_png.rf.1dde5bb62f9ccbf4bb669538cbc10892.txt\n",
      "pool-dataset/valid/labels/CANNES_TILES_512x512-1010_png.rf.f246ffdee0217355239a5149b1e66015.txt\n",
      "pool-dataset/valid/labels/CANNES_TILES_512x512-1013_png.rf.c938a6e34bf0ffa488a6f38c4d5a30d5.txt\n",
      "pool-dataset/valid/labels/CANNES_TILES_512x512-1014_png.rf.1a4b8d1c6a3ae5548401633cfbb86cd0.txt\n",
      "pool-dataset/valid/labels/CANNES_TILES_512x512-1016_png.rf.ee91131b806ae42aed051e27901a0556.txt\n",
      "pool-dataset/valid/labels/CANNES_TILES_512x512-1024_png.rf.5e38ce292a87c30e88ae3dc1c51d5a77.txt\n",
      "pool-dataset/valid/labels/CANNES_TILES_512x512-1030_png.rf.e6325738c4ca9fe8de48bc23e6c6cae4.txt\n",
      "pool-dataset/valid/labels/CANNES_TILES_512x512-1041_png.rf.cbf6548f5fbf6a048a658e26d8222760.txt\n",
      "pool-dataset/valid/labels/CANNES_TILES_512x512-1044_png.rf.d8181dbd455287dbca53a0c88413d3b0.txt\n",
      "pool-dataset/valid/labels/CANNES_TILES_512x512-1055_png.rf.b5ae1898c5c64ea1b1b46de61348bb79.txt\n",
      "pool-dataset/valid/labels/CANNES_TILES_512x512-1060_png.rf.d0c22bfe931e8f190e268a7450e67575.txt\n",
      "pool-dataset/valid/labels/CANNES_TILES_512x512-1063_png.rf.b846131a6d1a3e1fd2b83240dd198b26.txt\n",
      "pool-dataset/valid/labels/CANNES_TILES_512x512-1067_png.rf.3bea73f78cbde1ec65a55ba253a8bc3d.txt\n",
      "pool-dataset/valid/labels/CANNES_TILES_512x512-1072_png.rf.8744708748f634fead602a822b32471e.txt\n",
      "pool-dataset/valid/labels/CANNES_TILES_512x512-1093_png.rf.80cb0a02f62cffa080cb7f88661b9b6e.txt\n",
      "pool-dataset/valid/labels/CANNES_TILES_512x512-1098_png.rf.7d00354880dcc1fd8a86615dd6462dcb.txt\n",
      "pool-dataset/valid/labels/CANNES_TILES_512x512-1106_png.rf.eca9ac5fec7555eedb95772942203534.txt\n",
      "pool-dataset/valid/labels/CANNES_TILES_512x512-1115_png.rf.bb1353a1cfdf1fc9357deca718fda541.txt\n",
      "pool-dataset/valid/labels/CANNES_TILES_512x512-111_png.rf.fcc80e0907f86df3737a36e9c8275605.txt\n",
      "pool-dataset/valid/labels/CANNES_TILES_512x512-1120_png.rf.6511861218a072c086a89aa437694aef.txt\n",
      "pool-dataset/valid/labels/CANNES_TILES_512x512-1134_png.rf.2c8e986e3a8f2681e0283d4c232ea3e0.txt\n",
      "pool-dataset/valid/labels/CANNES_TILES_512x512-1154_png.rf.77daf64f7d06a1a114916572775ccf68.txt\n",
      "pool-dataset/valid/labels/CANNES_TILES_512x512-1158_png.rf.5847a69b761cbf4f2a815b51d5cbb6f2.txt\n",
      "pool-dataset/valid/labels/CANNES_TILES_512x512-1159_png.rf.05de6b989a56762af8a597205153793b.txt\n",
      "pool-dataset/valid/labels/CANNES_TILES_512x512-115_png.rf.1ac17a3dea883c15d6b6c3b52c6bf0e5.txt\n",
      "pool-dataset/valid/labels/CANNES_TILES_512x512-1168_png.rf.b5dc09f8e8461f74f794f0d7fc5708dc.txt\n",
      "pool-dataset/valid/labels/CANNES_TILES_512x512-116_png.rf.d5e753bdbf150f9561524263f2aa1a79.txt\n",
      "pool-dataset/valid/labels/CANNES_TILES_512x512-1176_png.rf.1911dc7b52174489250288de998c6f1e.txt\n",
      "pool-dataset/valid/labels/CANNES_TILES_512x512-117_png.rf.616f1770a379b1bf85b1de83b007bb25.txt\n",
      "pool-dataset/valid/labels/CANNES_TILES_512x512-1190_png.rf.aff1c70e1c57be8a3f2f0fa5ee311e4e.txt\n",
      "pool-dataset/valid/labels/CANNES_TILES_512x512-1192_png.rf.7dc170e38ccd8a2dc8badcba58730e7c.txt\n",
      "pool-dataset/valid/labels/CANNES_TILES_512x512-1202_png.rf.cb974d9fd8e971a2b5cb8711d375e779.txt\n",
      "pool-dataset/valid/labels/CANNES_TILES_512x512-1203_png.rf.bca33f23d8e7093190aa895d6f4d4155.txt\n",
      "pool-dataset/valid/labels/CANNES_TILES_512x512-1218_png.rf.9fb2d3f1ed77393680a3316200b5cbd4.txt\n",
      "pool-dataset/valid/labels/CANNES_TILES_512x512-1231_png.rf.3f842a3eff43678e91987583d3eeaa2e.txt\n",
      "pool-dataset/valid/labels/CANNES_TILES_512x512-1232_png.rf.920a8ec9f33bc8ebb1a8e1bc18efd32c.txt\n",
      "pool-dataset/valid/labels/CANNES_TILES_512x512-1251_png.rf.dd49481a51193b39952601c5033bd8b6.txt\n",
      "pool-dataset/valid/labels/CANNES_TILES_512x512-1257_png.rf.7de40802787bf5cbe85d58b46cf1c620.txt\n",
      "pool-dataset/valid/labels/CANNES_TILES_512x512-1261_png.rf.9cae9b35f3e4ddf4626b95c797334b05.txt\n",
      "pool-dataset/valid/labels/CANNES_TILES_512x512-1264_png.rf.b1e3ec0383949f4a6d789e4db26c3fed.txt\n",
      "pool-dataset/valid/labels/CANNES_TILES_512x512-1270_png.rf.5f43918e4019a481b5c08d076a0e0bfe.txt\n",
      "pool-dataset/valid/labels/CANNES_TILES_512x512-1280_png.rf.5326cf84c45b0157dbb158938e407008.txt\n",
      "pool-dataset/valid/labels/CANNES_TILES_512x512-128_png.rf.309f0f735470d2c948d451a68e74ddf3.txt\n",
      "pool-dataset/valid/labels/CANNES_TILES_512x512-1306_png.rf.82f004591775e15790dd47a337f8c091.txt\n",
      "pool-dataset/valid/labels/CANNES_TILES_512x512-136_png.rf.b1f91c659470d681949e6f6e3da073a7.txt\n",
      "pool-dataset/valid/labels/CANNES_TILES_512x512-1313_png.rf.9418eb210d3153c20c48736cb09ad490.txt\n",
      "pool-dataset/valid/labels/CANNES_TILES_512x512-1315_png.rf.a49fef3e1b32b6e07363d0098a2f1e6a.txt\n",
      "pool-dataset/valid/labels/CANNES_TILES_512x512-1330_png.rf.cf24ff08673b598a91be1d334a0240b4.txt\n",
      "pool-dataset/valid/labels/CANNES_TILES_512x512-1350_png.rf.a04aa278bbf13a64af0686840b9526d4.txt\n",
      "pool-dataset/valid/labels/CANNES_TILES_512x512-1359_png.rf.a25142a3d7a2776b7f228c58f9694a77.txt\n",
      "pool-dataset/valid/labels/CANNES_TILES_512x512-1360_png.rf.3c978eac8ab2d0f637a4d29fa2f99ebb.txt\n",
      "pool-dataset/valid/labels/CANNES_TILES_512x512-1376_png.rf.590e12b4047226c90ce92fb25768157a.txt\n",
      "pool-dataset/valid/labels/CANNES_TILES_512x512-1391_png.rf.db1688aad5a633b25b6b2cc577dcf824.txt\n",
      "pool-dataset/valid/labels/CANNES_TILES_512x512-13_png.rf.afe008304c41ea59e4c7a3553c6a10cb.txt\n",
      "pool-dataset/valid/labels/CANNES_TILES_512x512-1415_png.rf.c006cc6ad16b4c9429510fbc25523e99.txt\n",
      "pool-dataset/valid/labels/CANNES_TILES_512x512-1426_png.rf.df395ed3f70012454227ec70234b1505.txt\n",
      "pool-dataset/valid/labels/CANNES_TILES_512x512-1456_png.rf.30cfa96a5dbba5ed7dce35db90a8354e.txt\n",
      "pool-dataset/valid/labels/CANNES_TILES_512x512-1457_png.rf.06b4036911718cd2f21967d277f370f4.txt\n",
      "pool-dataset/valid/labels/CANNES_TILES_512x512-1499_png.rf.fa155aded157d8c4cd256f4dba7f65b8.txt\n",
      "pool-dataset/valid/labels/CANNES_TILES_512x512-1507_png.rf.3b6382b5e65ace8f6c0b50a4d96987bc.txt\n",
      "pool-dataset/valid/labels/CANNES_TILES_512x512-150_png.rf.f40482b7f30d141a4e0442a0a4ef4104.txt\n",
      "pool-dataset/valid/labels/CANNES_TILES_512x512-1523_png.rf.af08f27890ed30c2e4f871de06717d10.txt\n",
      "pool-dataset/valid/labels/CANNES_TILES_512x512-1559_png.rf.2432147cf59b6cbf1e001c61575197ca.txt\n",
      "pool-dataset/valid/labels/CANNES_TILES_512x512-1560_png.rf.1c06ac1b0275f96659b730e4c370d3b8.txt\n",
      "pool-dataset/valid/labels/CANNES_TILES_512x512-1562_png.rf.c181ced5285dd4d33cb2babbe89075af.txt\n",
      "pool-dataset/valid/labels/CANNES_TILES_512x512-1567_png.rf.6e8a4c5c1a14401c5b4313beb9b98cf5.txt\n",
      "pool-dataset/valid/labels/CANNES_TILES_512x512-1577_png.rf.61a4cdcbfd09a30043018e35a9424170.txt\n",
      "pool-dataset/valid/labels/CANNES_TILES_512x512-1578_png.rf.7dd8ba41094509a883b8c1de3d8805b6.txt\n",
      "pool-dataset/valid/labels/CANNES_TILES_512x512-157_png.rf.bfa55e973635ddf65539d4cd9cebfc03.txt\n",
      "pool-dataset/valid/labels/CANNES_TILES_512x512-1606_png.rf.a7a5b1edcac531c37330a73b8f275a8f.txt\n",
      "pool-dataset/valid/labels/CANNES_TILES_512x512-1609_png.rf.45bcd7a2cf2a3068ed40bf499f13f0da.txt\n",
      "pool-dataset/valid/labels/CANNES_TILES_512x512-1610_png.rf.eac2b4ab7015d5587862b62db97c017d.txt\n",
      "pool-dataset/valid/labels/CANNES_TILES_512x512-1613_png.rf.555aff7b04e41ce64fcd5a3f520cdcf2.txt\n",
      "pool-dataset/valid/labels/CANNES_TILES_512x512-1615_png.rf.1f14135eff63f48c1a49fd18c65c3f5c.txt\n",
      "pool-dataset/valid/labels/CANNES_TILES_512x512-1617_png.rf.3d3452a5a043883df72392e167c30eff.txt\n",
      "pool-dataset/valid/labels/CANNES_TILES_512x512-1626_png.rf.f5b5ed8f985776897115b7e8b55c9103.txt\n",
      "pool-dataset/valid/labels/CANNES_TILES_512x512-162_png.rf.f84041756839ff06523d13fe28ad21fc.txt\n",
      "pool-dataset/valid/labels/CANNES_TILES_512x512-1632_png.rf.7752ddc155cdd84cc0fccca3c1f04531.txt\n",
      "pool-dataset/valid/labels/CANNES_TILES_512x512-1654_png.rf.77d9527f9971c714d311f21381207ce0.txt\n",
      "pool-dataset/valid/labels/CANNES_TILES_512x512-1658_png.rf.86a7cb4d32eb5c107a8e6d5421787cee.txt\n",
      "pool-dataset/valid/labels/CANNES_TILES_512x512-167_png.rf.bd9927a28a5acdcc5e41add8699b74a0.txt\n",
      "pool-dataset/valid/labels/CANNES_TILES_512x512-16_png.rf.12b4321908e97a2c79a5122c35fdcee5.txt\n",
      "pool-dataset/valid/labels/CANNES_TILES_512x512-1703_png.rf.19bf56d6f1714b6830be83969d643148.txt\n",
      "pool-dataset/valid/labels/CANNES_TILES_512x512-1715_png.rf.b45befa5d239d8628a029fce710aefd6.txt\n",
      "pool-dataset/valid/labels/CANNES_TILES_512x512-1722_png.rf.2fd6c33c02f379b0bcc62216b8640739.txt\n",
      "pool-dataset/valid/labels/CANNES_TILES_512x512-1729_png.rf.90d654ef08759409dbb1a9e57c552d6a.txt\n",
      "pool-dataset/valid/labels/CANNES_TILES_512x512-1744_png.rf.c126d7404ba30eb5b9b8bbd99c417f14.txt\n",
      "pool-dataset/valid/labels/CANNES_TILES_512x512-1779_png.rf.6bb9a917259044818b58c7b966267e80.txt\n",
      "pool-dataset/valid/labels/CANNES_TILES_512x512-1786_png.rf.b644c1398c6571576fe60420866c3067.txt\n",
      "pool-dataset/valid/labels/CANNES_TILES_512x512-1790_png.rf.1170e6af65efcfb92c1d455ca5827e96.txt\n",
      "pool-dataset/valid/labels/CANNES_TILES_512x512-1796_png.rf.464da07e1c398d3f8eed7c2ac46de25a.txt\n",
      "pool-dataset/valid/labels/CANNES_TILES_512x512-1801_png.rf.c49a64d513a8e202e5e45b2e5dbd4c6a.txt\n",
      "pool-dataset/valid/labels/CANNES_TILES_512x512-1803_png.rf.bea7d3acf9537c27c5e960b054c3e649.txt\n",
      "pool-dataset/valid/labels/CANNES_TILES_512x512-1816_png.rf.d6dccff44b82ce0c2577aba1dadadf1e.txt\n",
      "pool-dataset/valid/labels/CANNES_TILES_512x512-181_png.rf.ada2f82c0a6c088320cd7137b2956811.txt\n",
      "pool-dataset/valid/labels/CANNES_TILES_512x512-1820_png.rf.62dd58e07fdb3a82775256bede583cf1.txt\n",
      "pool-dataset/valid/labels/CANNES_TILES_512x512-1840_png.rf.1033f0c167ae27b3042c61fda22ca942.txt\n",
      "pool-dataset/valid/labels/CANNES_TILES_512x512-1841_png.rf.1b47b6084b79be1ebde7dc3b858d90ac.txt\n",
      "pool-dataset/valid/labels/CANNES_TILES_512x512-1845_png.rf.4b1c94e0ecd1205777c6580e8926f7e8.txt\n",
      "pool-dataset/valid/labels/CANNES_TILES_512x512-1849_png.rf.bdf0c35d5e2037936c45d8daa54286aa.txt\n",
      "pool-dataset/valid/labels/CANNES_TILES_512x512-185_png.rf.664a32870d9571b1865f3f6e33ca6230.txt\n",
      "pool-dataset/valid/labels/CANNES_TILES_512x512-1866_png.rf.fcae9f25fff0eb95336433128aa83256.txt\n",
      "pool-dataset/valid/labels/CANNES_TILES_512x512-1888_png.rf.5ae77dd6b9d82264803e716e4cf13d8e.txt\n",
      "pool-dataset/valid/labels/CANNES_TILES_512x512-1889_png.rf.ad5a60559a72595d9aeda8b56ccc9d5b.txt\n",
      "pool-dataset/valid/labels/CANNES_TILES_512x512-188_png.rf.4f07a05e49a0b8d317c5f730a78ee275.txt\n",
      "pool-dataset/valid/labels/CANNES_TILES_512x512-1891_png.rf.334b6d1135138f281733e615947fcc0a.txt\n",
      "pool-dataset/valid/labels/CANNES_TILES_512x512-1892_png.rf.d92b54fbddc9c9fbba6456b68bd2aabb.txt\n",
      "pool-dataset/valid/labels/CANNES_TILES_512x512-1901_png.rf.51b1caf1b66f9931ab03aa70b1f3c336.txt\n",
      "pool-dataset/valid/labels/CANNES_TILES_512x512-1911_png.rf.c64c36d281a7c70ef4d228fd83d69519.txt\n",
      "pool-dataset/valid/labels/CANNES_TILES_512x512-1924_png.rf.608fec8d826510c20402c4495383f161.txt\n",
      "pool-dataset/valid/labels/CANNES_TILES_512x512-1934_png.rf.ca39b612052ac0ba987ea708497cc1ca.txt\n",
      "pool-dataset/valid/labels/CANNES_TILES_512x512-1939_png.rf.6383db6fe46e2e29840f6922af213fa0.txt\n",
      "pool-dataset/valid/labels/CANNES_TILES_512x512-1944_png.rf.fb69729cf687bbc869ebfde2a401fa81.txt\n",
      "pool-dataset/valid/labels/CANNES_TILES_512x512-1945_png.rf.2d238b104f01488f3023d07773eaacb3.txt\n",
      "pool-dataset/valid/labels/CANNES_TILES_512x512-1973_png.rf.f1e8207b22166aa108d86eea95736594.txt\n",
      "pool-dataset/valid/labels/CANNES_TILES_512x512-1976_png.rf.e49683cdbd64f9c82a2c8d6a29efe355.txt\n",
      "pool-dataset/valid/labels/CANNES_TILES_512x512-1977_png.rf.01b6aaa0e628d16450d959c107b801e1.txt\n",
      "pool-dataset/valid/labels/CANNES_TILES_512x512-1991_png.rf.26b0fb2397c0a376c25098351fcb00d0.txt\n",
      "pool-dataset/valid/labels/CANNES_TILES_512x512-2016_png.rf.021f6dde0b2d0ee020b5afd2a166695b.txt\n",
      "pool-dataset/valid/labels/CANNES_TILES_512x512-2022_png.rf.2d1af7015de970d0c43c0e5d38363ae8.txt\n",
      "pool-dataset/valid/labels/CANNES_TILES_512x512-2026_png.rf.6d1057ecae6824238793496a121bcfc4.txt\n",
      "pool-dataset/valid/labels/CANNES_TILES_512x512-2035_png.rf.d52aee1da4308b84f9b6f906c8528b0d.txt\n",
      "pool-dataset/valid/labels/CANNES_TILES_512x512-2046_png.rf.21e0bdcf942dc18e1d8142ac8319706f.txt\n",
      "pool-dataset/valid/labels/CANNES_TILES_512x512-2069_png.rf.197f9377dd504c9ed9f5f97263f7bde7.txt\n",
      "pool-dataset/valid/labels/CANNES_TILES_512x512-2077_png.rf.a1efda6c2f679e4963fadbe560dacd1a.txt\n",
      "pool-dataset/valid/labels/CANNES_TILES_512x512-2079_png.rf.0c9095e89f181018966f43ebe48046cf.txt\n",
      "pool-dataset/valid/labels/CANNES_TILES_512x512-2087_png.rf.4f0ce99b368b7434d53de476a8ac7685.txt\n",
      "pool-dataset/valid/labels/CANNES_TILES_512x512-2088_png.rf.bbdcb2d79109dc3624a163ace5e18b21.txt\n",
      "pool-dataset/valid/labels/CANNES_TILES_512x512-2114_png.rf.211aa6884f81147d6ba3a22575ffa8ec.txt\n",
      "pool-dataset/valid/labels/CANNES_TILES_512x512-2126_png.rf.18f1bc201680cd58f436c669c9378a25.txt\n",
      "pool-dataset/valid/labels/CANNES_TILES_512x512-212_png.rf.e4772443b50f42cef08e8d62763825a7.txt\n",
      "pool-dataset/valid/labels/CANNES_TILES_512x512-2140_png.rf.c987852bd5699c07e25d61eca1523e2b.txt\n",
      "pool-dataset/valid/labels/CANNES_TILES_512x512-214_png.rf.9c2d1904262e2474113af9d12768e638.txt\n",
      "pool-dataset/valid/labels/CANNES_TILES_512x512-2180_png.rf.6fb4dbc09e8ffc1c90727e82ad6ed4a3.txt\n",
      "pool-dataset/valid/labels/CANNES_TILES_512x512-2183_png.rf.f73be07df964e6fe2c7bdd70f4e6c103.txt\n",
      "pool-dataset/valid/labels/CANNES_TILES_512x512-2186_png.rf.345153905d9b6ddc59965b775ae320e0.txt\n",
      "pool-dataset/valid/labels/CANNES_TILES_512x512-2189_png.rf.6ecf4cbb04198ddbaf62290d5924ad23.txt\n",
      "pool-dataset/valid/labels/CANNES_TILES_512x512-2217_png.rf.52672e6b4933e38639c640b8e0d3f013.txt\n",
      "pool-dataset/valid/labels/CANNES_TILES_512x512-226_png.rf.5f90f32dc21e02fa6c238baf8357b941.txt\n",
      "pool-dataset/valid/labels/CANNES_TILES_512x512-2317_png.rf.332bcefab9ac8ddea6ed73d351923083.txt\n",
      "pool-dataset/valid/labels/CANNES_TILES_512x512-238_png.rf.455e5e62fed57716a05f1a70aefa599a.txt\n",
      "pool-dataset/valid/labels/CANNES_TILES_512x512-23_png.rf.0e6dac5c162c1ce969465db9e51a72d8.txt\n",
      "pool-dataset/valid/labels/CANNES_TILES_512x512-24_png.rf.d2bcf8515a6b4f66b0321f5e774362e9.txt\n",
      "pool-dataset/valid/labels/CANNES_TILES_512x512-258_png.rf.3b90c25b13aebe143d335245b1145c6f.txt\n",
      "pool-dataset/valid/labels/CANNES_TILES_512x512-268_png.rf.9ca19b4cd66af696ed9a7b479dce9fd3.txt\n",
      "pool-dataset/valid/labels/CANNES_TILES_512x512-26_png.rf.e850001c11448939df66fc8334a43d1f.txt\n",
      "pool-dataset/valid/labels/CANNES_TILES_512x512-277_png.rf.098901cee1a18533252702938c3fb61a.txt\n",
      "pool-dataset/valid/labels/CANNES_TILES_512x512-282_png.rf.2a8301224f01e1f1325b03f550a8152a.txt\n",
      "pool-dataset/valid/labels/CANNES_TILES_512x512-285_png.rf.aa5fdae4bfc9c46b9749e75d273b5724.txt\n",
      "pool-dataset/valid/labels/CANNES_TILES_512x512-301_png.rf.a3e9c9a555fd7f5a8a44218151df3126.txt\n",
      "pool-dataset/valid/labels/CANNES_TILES_512x512-309_png.rf.eaf7abcbca140cbb0fdae666325f3e38.txt\n",
      "pool-dataset/valid/labels/CANNES_TILES_512x512-311_png.rf.32a16083042d16b0d06bd6242b6cb193.txt\n",
      "pool-dataset/valid/labels/CANNES_TILES_512x512-312_png.rf.441030f174cbeb4915236675f38eb441.txt\n",
      "pool-dataset/valid/labels/CANNES_TILES_512x512-325_png.rf.71de6f540dbc01782b75349183539136.txt\n",
      "pool-dataset/valid/labels/CANNES_TILES_512x512-326_png.rf.d09c60a5ceec0b6f87dbf1c72c1888a5.txt\n",
      "pool-dataset/valid/labels/CANNES_TILES_512x512-32_png.rf.c4e89627112e479262175b99554898c1.txt\n",
      "pool-dataset/valid/labels/CANNES_TILES_512x512-339_png.rf.4e7ea9ab0563d055df033c10f363f780.txt\n",
      "pool-dataset/valid/labels/CANNES_TILES_512x512-340_png.rf.e2a3f1e36a9e984ba8803c2ba1fa1cc5.txt\n",
      "pool-dataset/valid/labels/CANNES_TILES_512x512-362_png.rf.bdb0c418d97c38b296eaf86062b00ef2.txt\n",
      "pool-dataset/valid/labels/CANNES_TILES_512x512-376_png.rf.23fce5ebbe68994944790bf87ff915f8.txt\n",
      "pool-dataset/valid/labels/CANNES_TILES_512x512-378_png.rf.d1d90f9b3a73cb1967b4407c4f8e5f94.txt\n",
      "pool-dataset/valid/labels/CANNES_TILES_512x512-381_png.rf.4c5899ecc156d0a9c11105365316bec5.txt\n",
      "pool-dataset/valid/labels/CANNES_TILES_512x512-39_png.rf.faea0c6130b38d1d71e4988a1196d751.txt\n",
      "pool-dataset/valid/labels/CANNES_TILES_512x512-407_png.rf.35efb178a6133021261e062aa091f153.txt\n",
      "pool-dataset/valid/labels/CANNES_TILES_512x512-417_png.rf.493f6a075b7a3964207af07e50d08acc.txt\n",
      "pool-dataset/valid/labels/CANNES_TILES_512x512-425_png.rf.830aa1a409db10fb439d5579c34e30e7.txt\n",
      "pool-dataset/valid/labels/CANNES_TILES_512x512-427_png.rf.b0fb70f1e333518926fbb8c21cea7733.txt\n",
      "pool-dataset/valid/labels/CANNES_TILES_512x512-438_png.rf.074bcbb93891261583ab4848e7f08f7f.txt\n",
      "pool-dataset/valid/labels/CANNES_TILES_512x512-461_png.rf.55dfc88c284a26c2bf23831235fa5622.txt\n",
      "pool-dataset/valid/labels/CANNES_TILES_512x512-466_png.rf.5c50c23cdd5dd5220342fa83306553a0.txt\n",
      "pool-dataset/valid/labels/CANNES_TILES_512x512-468_png.rf.123ed94d279ff92e4a40a9db282d71c0.txt\n",
      "pool-dataset/valid/labels/CANNES_TILES_512x512-480_png.rf.90a687e2af881014dd55a3f4ec6b17c1.txt\n",
      "pool-dataset/valid/labels/CANNES_TILES_512x512-487_png.rf.d65eff6e6aa41ad6b8305a59757e94b1.txt\n",
      "pool-dataset/valid/labels/CANNES_TILES_512x512-489_png.rf.8b7be1b48529655722fec1b939471671.txt\n",
      "pool-dataset/valid/labels/CANNES_TILES_512x512-48_png.rf.49602fef857330282b991cf9d880889d.txt\n",
      "pool-dataset/valid/labels/CANNES_TILES_512x512-506_png.rf.58a44dc60d9de5c767d747b936233c55.txt\n",
      "pool-dataset/valid/labels/CANNES_TILES_512x512-513_png.rf.d86985c670d6f794a7e15df75b7bd52e.txt\n",
      "pool-dataset/valid/labels/CANNES_TILES_512x512-516_png.rf.cc46f7e7ddc0a1369dfb9bc97f36f665.txt\n",
      "pool-dataset/valid/labels/CANNES_TILES_512x512-519_png.rf.78255763743e40e271107773880c0c79.txt\n",
      "pool-dataset/valid/labels/CANNES_TILES_512x512-520_png.rf.8e4635853036d742dc4ea6744056df7c.txt\n",
      "pool-dataset/valid/labels/CANNES_TILES_512x512-529_png.rf.1158c3a6d3bccc3f597327d62e71bee2.txt\n",
      "pool-dataset/valid/labels/CANNES_TILES_512x512-538_png.rf.7cb3f2c929f2b7f288d09ef065a69fe3.txt\n",
      "pool-dataset/valid/labels/CANNES_TILES_512x512-558_png.rf.124c4830230b98edbe23d219392aa8b0.txt\n",
      "pool-dataset/valid/labels/CANNES_TILES_512x512-563_png.rf.cc6f625ffd94ed0323ad8ea6642529b2.txt\n",
      "pool-dataset/valid/labels/CANNES_TILES_512x512-573_png.rf.748192af92f7703531597965e47c35e6.txt\n",
      "pool-dataset/valid/labels/CANNES_TILES_512x512-581_png.rf.21dbbfeb44842a284b17cdbfe429e44c.txt\n",
      "pool-dataset/valid/labels/CANNES_TILES_512x512-583_png.rf.925880e193758d71f209307724ffe0cd.txt\n",
      "pool-dataset/valid/labels/CANNES_TILES_512x512-585_png.rf.8b0edcedb2ffe52580d99c3069920b74.txt\n",
      "pool-dataset/valid/labels/CANNES_TILES_512x512-603_png.rf.4351534ad7326c1b410eb5d23f09466e.txt\n",
      "pool-dataset/valid/labels/CANNES_TILES_512x512-608_png.rf.00ee108aa7ee3ff6c4e5ed7679c55a22.txt\n",
      "pool-dataset/valid/labels/CANNES_TILES_512x512-60_png.rf.a8ce335985eab82da39dc885f16ba0d0.txt\n",
      "pool-dataset/valid/labels/CANNES_TILES_512x512-611_png.rf.36c9a08e3dddcfb52f8bfa251d013837.txt\n",
      "pool-dataset/valid/labels/CANNES_TILES_512x512-618_png.rf.ea9694f31927475b8aecfec920d75a1a.txt\n",
      "pool-dataset/valid/labels/CANNES_TILES_512x512-621_png.rf.10fb78d5ae6c1bec30dde5b832cce1e6.txt\n",
      "pool-dataset/valid/labels/CANNES_TILES_512x512-649_png.rf.46b0219e96274ffcef4c9519c871d3f3.txt\n",
      "pool-dataset/valid/labels/CANNES_TILES_512x512-650_png.rf.9d599717b070804fa189208be1a05a70.txt\n",
      "pool-dataset/valid/labels/CANNES_TILES_512x512-651_png.rf.7f4875d49132060780035982203d3de9.txt\n",
      "pool-dataset/valid/labels/CANNES_TILES_512x512-652_png.rf.8acd71b50729dbb087688450c5bb2bb2.txt\n",
      "pool-dataset/valid/labels/CANNES_TILES_512x512-656_png.rf.c538cd5889d06a683e71fa756c563b4e.txt\n",
      "pool-dataset/valid/labels/CANNES_TILES_512x512-657_png.rf.89e77043c07ec045f5627efc2e944e43.txt\n",
      "pool-dataset/valid/labels/CANNES_TILES_512x512-65_png.rf.6d9229f13991294aad3614796b1e6773.txt\n",
      "pool-dataset/valid/labels/CANNES_TILES_512x512-667_png.rf.4a0cb1ce0ae70315728f28f47186fcb3.txt\n",
      "pool-dataset/valid/labels/CANNES_TILES_512x512-668_png.rf.1d3cce15af3d663db63f8d3cb704fb5d.txt\n",
      "pool-dataset/valid/labels/CANNES_TILES_512x512-683_png.rf.ad2cda256e5a0f1f257d383f4f801a04.txt\n",
      "pool-dataset/valid/labels/CANNES_TILES_512x512-69_png.rf.82d4427600d5f2a26f41862a2a99e5c7.txt\n",
      "pool-dataset/valid/labels/CANNES_TILES_512x512-703_png.rf.c654a035bb8806b9faf9cced5130b9b2.txt\n",
      "pool-dataset/valid/labels/CANNES_TILES_512x512-718_png.rf.d505f7dac56db6b0d9bd51e604858a58.txt\n",
      "pool-dataset/valid/labels/CANNES_TILES_512x512-71_png.rf.33817e65d5b688ce982457bf3380216f.txt\n",
      "pool-dataset/valid/labels/CANNES_TILES_512x512-721_png.rf.1a13f16d20206e3a4ce7bb0e925fb365.txt\n",
      "pool-dataset/valid/labels/CANNES_TILES_512x512-726_png.rf.ae7fc7406489ae5659333f062fe9ba29.txt\n",
      "pool-dataset/valid/labels/CANNES_TILES_512x512-743_png.rf.a9d43ad03691d735aa88fe915ff1c0db.txt\n",
      "pool-dataset/valid/labels/CANNES_TILES_512x512-744_png.rf.03fe37da57ce4c3f308f37dc4f23e67c.txt\n",
      "pool-dataset/valid/labels/CANNES_TILES_512x512-745_png.rf.bb43f1cb96687031cfc0169845bd6b9d.txt\n",
      "pool-dataset/valid/labels/CANNES_TILES_512x512-750_png.rf.3d76e1a9a0cd1b881a501d2a7855aa76.txt\n",
      "pool-dataset/valid/labels/CANNES_TILES_512x512-753_png.rf.a33d93b163c2555a59943ccea0b880a9.txt\n",
      "pool-dataset/valid/labels/CANNES_TILES_512x512-756_png.rf.dbc5a4803fc81ae936886b28412f43d9.txt\n",
      "pool-dataset/valid/labels/CANNES_TILES_512x512-75_png.rf.24272ed23bcaa85d09b1faf67779eceb.txt\n",
      "pool-dataset/valid/labels/CANNES_TILES_512x512-768_png.rf.8666e328e8af29c7792291c0fa38aa1f.txt\n",
      "pool-dataset/valid/labels/CANNES_TILES_512x512-771_png.rf.654d71473f811a08bee016519e58952f.txt\n",
      "pool-dataset/valid/labels/CANNES_TILES_512x512-772_png.rf.e4963297c6719140732d074410625626.txt\n",
      "pool-dataset/valid/labels/CANNES_TILES_512x512-789_png.rf.80730a671de1c456d1de36c6663ba473.txt\n",
      "pool-dataset/valid/labels/CANNES_TILES_512x512-795_png.rf.f642699110742ba2db6f866e5275c08f.txt\n",
      "pool-dataset/valid/labels/CANNES_TILES_512x512-798_png.rf.78e6f3c8e5ffa01e68d3e1afa3ea5c1f.txt\n",
      "pool-dataset/valid/labels/CANNES_TILES_512x512-79_png.rf.2a1635a60e8b2d5b782bef5813b2fd64.txt\n",
      "pool-dataset/valid/labels/CANNES_TILES_512x512-800_png.rf.3016be2a1b0a8d1d94fbfa09221d4baa.txt\n",
      "pool-dataset/valid/labels/CANNES_TILES_512x512-802_png.rf.6387736d4b1d33b89772c35d0fcd5a39.txt\n",
      "pool-dataset/valid/labels/CANNES_TILES_512x512-816_png.rf.0fc897bd06d8d3ce03148cf475751f76.txt\n",
      "pool-dataset/valid/labels/CANNES_TILES_512x512-819_png.rf.ca4f5cb27c85a95388ce9ae679ffc778.txt\n",
      "pool-dataset/valid/labels/CANNES_TILES_512x512-821_png.rf.8a8e2c8f1e92e7b8ee8a94c1148eaeb8.txt\n",
      "pool-dataset/valid/labels/CANNES_TILES_512x512-825_png.rf.db56f81aa0796e2c5e03c7adb66224c0.txt\n",
      "pool-dataset/valid/labels/CANNES_TILES_512x512-831_png.rf.dafef91f2068ec06647cdf0df58c3b49.txt\n",
      "pool-dataset/valid/labels/CANNES_TILES_512x512-832_png.rf.07a0987d930ccdd1cb24140ef71cc5f5.txt\n",
      "pool-dataset/valid/labels/CANNES_TILES_512x512-83_png.rf.f0d7fd74e6958bdd58bd05f4c03ffd10.txt\n",
      "pool-dataset/valid/labels/CANNES_TILES_512x512-842_png.rf.9cc3dd71a8cbefac22ca50cf7712c6b5.txt\n",
      "pool-dataset/valid/labels/CANNES_TILES_512x512-851_png.rf.acb6312c28922e1f3a3581a195d3d2a0.txt\n",
      "pool-dataset/valid/labels/CANNES_TILES_512x512-862_png.rf.1740a2c62f781c9c78da2cac2972201d.txt\n",
      "pool-dataset/valid/labels/CANNES_TILES_512x512-864_png.rf.521e23133466d64c518e4b308f08b72e.txt\n",
      "pool-dataset/valid/labels/CANNES_TILES_512x512-867_png.rf.76ef61895e1ba21a266797d7da98978f.txt\n",
      "pool-dataset/valid/labels/CANNES_TILES_512x512-88_png.rf.2adaf402efe75d551b4935a4ce7c61d0.txt\n",
      "pool-dataset/valid/labels/CANNES_TILES_512x512-896_png.rf.6cacbb973bd32e92ed271f30d5bfbcfa.txt\n",
      "pool-dataset/valid/labels/CANNES_TILES_512x512-897_png.rf.4fc9bb8445bdd2e7fa40371d4f5d47c1.txt\n",
      "pool-dataset/valid/labels/CANNES_TILES_512x512-898_png.rf.58602dfe415f971714adcea0358571e6.txt\n",
      "pool-dataset/valid/labels/CANNES_TILES_512x512-901_png.rf.df6f19373b89fe910b49f806c0292a3a.txt\n",
      "pool-dataset/valid/labels/CANNES_TILES_512x512-908_png.rf.5271f8588996a730c4e3f54d5dccfb00.txt\n",
      "pool-dataset/valid/labels/CANNES_TILES_512x512-915_png.rf.07a4839b945bcb1b72807740d3e4624c.txt\n",
      "pool-dataset/valid/labels/CANNES_TILES_512x512-931_png.rf.ccf79bb12de21b33f898cdfe4bbb66ff.txt\n",
      "pool-dataset/valid/labels/CANNES_TILES_512x512-93_png.rf.5409da10c0264e11b9a2145bc1ed0282.txt\n",
      "pool-dataset/valid/labels/CANNES_TILES_512x512-945_png.rf.86f6c6b8ab8f0324ed14e8346f989d36.txt\n",
      "pool-dataset/valid/labels/CANNES_TILES_512x512-957_png.rf.a7ee470711982bd7a6fa5fc2113eef95.txt\n",
      "pool-dataset/valid/labels/CANNES_TILES_512x512-965_png.rf.0a2344429117cc39a96c70abad114888.txt\n",
      "pool-dataset/valid/labels/CANNES_TILES_512x512-971_png.rf.feb6d17f31a3c3655df80a3bec376838.txt\n",
      "pool-dataset/valid/labels/CANNES_TILES_512x512-980_png.rf.58deb331a16138c84a27d3b9a62fafb3.txt\n",
      "pool-dataset/valid/labels/CANNES_TILES_512x512-996_png.rf.745ba26fa7a0550f197a1ab9b2fc6516.txt\n",
      "pool-dataset/valid/labels/CANNES_TILES_512x512-998_png.rf.c2a2316fbf46397254d2b8c05b468653.txt\n"
     ]
    }
   ],
   "source": [
    "# directory structure\n",
    "\n",
    "for dirname, _, filenames in os.walk(\"pool-dataset\"):\n",
    "    for filename in filenames:\n",
    "        print(os.path.join(dirname, filename))\n",
    "        "
   ]
  },
  {
   "cell_type": "code",
   "execution_count": 4,
   "metadata": {},
   "outputs": [],
   "source": [
    "training_dir = \"pool-dataset/trai\"\n",
    "training_images_dir = \"pool-dataset/train/images\"\n",
    "training_label_dir = \"pool-dataset/train/labels\"\n",
    "\n",
    "test_dir = \"pool-dataset/test\"\n",
    "test_images_dir = \"pool-dataset/test/images\"\n",
    "test_label_dir = \"pool-dataset/test/labels\"\n",
    "\n",
    "val_dir = \"pool-dataset/val\"\n",
    "val_images_dir = \"pool-dataset/val/images\"\n",
    "val_label_dir = \"pool-dataset/val/labels\"\n"
   ]
  },
  {
   "cell_type": "code",
   "execution_count": 5,
   "metadata": {},
   "outputs": [
    {
     "name": "stdout",
     "output_type": "stream",
     "text": [
      "['CANNES_TILES_512x512-1760_png.rf.4ce0f0a7fafa02d03685fc82004ed479.txt', 'CANNES_TILES_512x512-1462_png.rf.219db140d187d5fbe0e04786fd2b34c7.txt', 'CANNES_TILES_512x512-1526_png.rf.43fb74dcbeb0900fea9472a644815d30.txt', 'CANNES_TILES_512x512-1917_png.rf.2a48e2cf15034264ec0e643ef10b6bde.txt', 'CANNES_TILES_512x512-1111_png.rf.0b3b819222c9f8ad3e37bd4520bf5571.txt', 'CANNES_TILES_512x512-1453_png.rf.40d2806a89d17841be664050a48e5afc.txt', 'CANNES_TILES_512x512-1761_png.rf.0b0d5f54051f0678f2de850460920a33.txt', 'CANNES_TILES_512x512-1825_png.rf.38575ec9787a668bef63a84f2c85e908.txt', 'CANNES_TILES_512x512-2179_png.rf.a822c5577b18fd7c6915304cba56e038.txt', 'CANNES_TILES_512x512-1775_png.rf.b52358a450fd559d6713448670215ffd.txt']\n"
     ]
    }
   ],
   "source": [
    "label_files = random.sample(os.listdir(training_label_dir), 10)\n",
    "\n",
    "print(label_files)"
   ]
  },
  {
   "cell_type": "markdown",
   "metadata": {},
   "source": [
    "### Data preparation and model set"
   ]
  },
  {
   "cell_type": "code",
   "execution_count": null,
   "metadata": {},
   "outputs": [
    {
     "name": "stdout",
     "output_type": "stream",
     "text": [
      "New https://pypi.org/project/ultralytics/8.3.31 available 😃 Update with 'pip install -U ultralytics'\n",
      "\u001b[34m\u001b[1mengine/trainer: \u001b[0mtask=detect, mode=train, model=yolov8s.pt, data=/home/franciscosantos/workspace/IPVC/PROJECT_III/pool-detection-gis/pool-dataset/data.yaml, epochs=50, time=None, patience=100, batch=8, imgsz=512, save=True, save_period=-1, cache=False, device=cuda:0, workers=8, project=None, name=train2, exist_ok=False, pretrained=True, optimizer=auto, verbose=True, seed=0, deterministic=True, single_cls=False, rect=False, cos_lr=False, close_mosaic=10, resume=False, amp=True, fraction=1.0, profile=False, freeze=None, multi_scale=False, overlap_mask=True, mask_ratio=4, dropout=0.0, val=True, split=val, save_json=False, save_hybrid=False, conf=None, iou=0.7, max_det=300, half=False, dnn=False, plots=True, source=None, vid_stride=1, stream_buffer=False, visualize=False, augment=False, agnostic_nms=False, classes=None, retina_masks=False, embed=None, show=False, save_frames=False, save_txt=False, save_conf=False, save_crop=False, show_labels=True, show_conf=True, show_boxes=True, line_width=None, format=torchscript, keras=False, optimize=False, int8=False, dynamic=False, simplify=True, opset=None, workspace=4, nms=False, lr0=0.01, lrf=0.01, momentum=0.937, weight_decay=0.0005, warmup_epochs=3.0, warmup_momentum=0.8, warmup_bias_lr=0.1, box=7.5, cls=0.5, dfl=1.5, pose=12.0, kobj=1.0, label_smoothing=0.0, nbs=64, hsv_h=0.015, hsv_s=0.7, hsv_v=0.4, degrees=0.0, translate=0.1, scale=0.5, shear=0.0, perspective=0.0, flipud=0.0, fliplr=0.5, bgr=0.0, mosaic=1.0, mixup=0.0, copy_paste=0.0, copy_paste_mode=flip, auto_augment=randaugment, erasing=0.4, crop_fraction=1.0, cfg=None, tracker=botsort.yaml, save_dir=/home/franciscosantos/workspace/IPVC/PROJECT_III/pool-detection-gis/runs/detect/train2\n",
      "Overriding model.yaml nc=80 with nc=1\n",
      "\n",
      "                   from  n    params  module                                       arguments                     \n",
      "  0                  -1  1       928  ultralytics.nn.modules.conv.Conv             [3, 32, 3, 2]                 \n",
      "  1                  -1  1     18560  ultralytics.nn.modules.conv.Conv             [32, 64, 3, 2]                \n",
      "  2                  -1  1     29056  ultralytics.nn.modules.block.C2f             [64, 64, 1, True]             \n",
      "  3                  -1  1     73984  ultralytics.nn.modules.conv.Conv             [64, 128, 3, 2]               \n",
      "  4                  -1  2    197632  ultralytics.nn.modules.block.C2f             [128, 128, 2, True]           \n",
      "  5                  -1  1    295424  ultralytics.nn.modules.conv.Conv             [128, 256, 3, 2]              \n",
      "  6                  -1  2    788480  ultralytics.nn.modules.block.C2f             [256, 256, 2, True]           \n",
      "  7                  -1  1   1180672  ultralytics.nn.modules.conv.Conv             [256, 512, 3, 2]              \n",
      "  8                  -1  1   1838080  ultralytics.nn.modules.block.C2f             [512, 512, 1, True]           \n",
      "  9                  -1  1    656896  ultralytics.nn.modules.block.SPPF            [512, 512, 5]                 \n",
      " 10                  -1  1         0  torch.nn.modules.upsampling.Upsample         [None, 2, 'nearest']          \n",
      " 11             [-1, 6]  1         0  ultralytics.nn.modules.conv.Concat           [1]                           \n",
      " 12                  -1  1    591360  ultralytics.nn.modules.block.C2f             [768, 256, 1]                 \n",
      " 13                  -1  1         0  torch.nn.modules.upsampling.Upsample         [None, 2, 'nearest']          \n",
      " 14             [-1, 4]  1         0  ultralytics.nn.modules.conv.Concat           [1]                           \n",
      " 15                  -1  1    148224  ultralytics.nn.modules.block.C2f             [384, 128, 1]                 \n",
      " 16                  -1  1    147712  ultralytics.nn.modules.conv.Conv             [128, 128, 3, 2]              \n",
      " 17            [-1, 12]  1         0  ultralytics.nn.modules.conv.Concat           [1]                           \n",
      " 18                  -1  1    493056  ultralytics.nn.modules.block.C2f             [384, 256, 1]                 \n",
      " 19                  -1  1    590336  ultralytics.nn.modules.conv.Conv             [256, 256, 3, 2]              \n",
      " 20             [-1, 9]  1         0  ultralytics.nn.modules.conv.Concat           [1]                           \n",
      " 21                  -1  1   1969152  ultralytics.nn.modules.block.C2f             [768, 512, 1]                 \n",
      " 22        [15, 18, 21]  1   2116435  ultralytics.nn.modules.head.Detect           [1, [128, 256, 512]]          \n",
      "Model summary: 225 layers, 11,135,987 parameters, 11,135,971 gradients, 28.6 GFLOPs\n",
      "\n",
      "Transferred 349/355 items from pretrained weights\n",
      "Freezing layer 'model.22.dfl.conv.weight'\n",
      "\u001b[34m\u001b[1mAMP: \u001b[0mrunning Automatic Mixed Precision (AMP) checks...\n",
      "\u001b[34m\u001b[1mAMP: \u001b[0mchecks passed ✅\n"
     ]
    },
    {
     "name": "stderr",
     "output_type": "stream",
     "text": [
      "\u001b[34m\u001b[1mtrain: \u001b[0mScanning /home/franciscosantos/workspace/IPVC/PROJECT_III/pool-detection-gis/pool-dataset/train/labels.cache... 859 images, 0 backgrounds, 0 corrupt: 100%|██████████| 859/859 [00:00<?, ?it/s]"
     ]
    },
    {
     "name": "stdout",
     "output_type": "stream",
     "text": [
      "WARNING ⚠️ Box and segment counts should be equal, but got len(segments) = 85, len(boxes) = 2298. To resolve this only boxes will be used and all segments will be removed. To avoid this please supply either a detect or segment dataset, not a detect-segment mixed dataset.\n",
      "\u001b[34m\u001b[1malbumentations: \u001b[0mBlur(p=0.01, blur_limit=(3, 7)), MedianBlur(p=0.01, blur_limit=(3, 7)), ToGray(p=0.01, num_output_channels=3, method='weighted_average'), CLAHE(p=0.01, clip_limit=(1.0, 4.0), tile_grid_size=(8, 8))\n"
     ]
    },
    {
     "name": "stderr",
     "output_type": "stream",
     "text": [
      "\n",
      "\u001b[34m\u001b[1mval: \u001b[0mScanning /home/franciscosantos/workspace/IPVC/PROJECT_III/pool-detection-gis/pool-dataset/valid/labels.cache... 255 images, 0 backgrounds, 0 corrupt: 100%|██████████| 255/255 [00:00<?, ?it/s]\n"
     ]
    },
    {
     "name": "stdout",
     "output_type": "stream",
     "text": [
      "Plotting labels to /home/franciscosantos/workspace/IPVC/PROJECT_III/pool-detection-gis/runs/detect/train2/labels.jpg... \n",
      "\u001b[34m\u001b[1moptimizer:\u001b[0m 'optimizer=auto' found, ignoring 'lr0=0.01' and 'momentum=0.937' and determining best 'optimizer', 'lr0' and 'momentum' automatically... \n",
      "\u001b[34m\u001b[1moptimizer:\u001b[0m AdamW(lr=0.002, momentum=0.9) with parameter groups 57 weight(decay=0.0), 64 weight(decay=0.0005), 63 bias(decay=0.0)\n",
      "Image sizes 512 train, 512 val\n",
      "Using 8 dataloader workers\n",
      "Logging results to \u001b[1m/home/franciscosantos/workspace/IPVC/PROJECT_III/pool-detection-gis/runs/detect/train2\u001b[0m\n",
      "Starting training for 50 epochs...\n",
      "\n",
      "      Epoch    GPU_mem   box_loss   cls_loss   dfl_loss  Instances       Size\n"
     ]
    },
    {
     "name": "stderr",
     "output_type": "stream",
     "text": [
      "       1/50      1.61G      1.696      1.523       1.25         11        512: 100%|██████████| 108/108 [00:08<00:00, 13.47it/s]\n",
      "                 Class     Images  Instances      Box(P          R      mAP50  mAP50-95): 100%|██████████| 16/16 [00:01<00:00, 15.95it/s]"
     ]
    },
    {
     "name": "stdout",
     "output_type": "stream",
     "text": [
      "                   all        255        697      0.921      0.841      0.914       0.49\n"
     ]
    },
    {
     "name": "stderr",
     "output_type": "stream",
     "text": [
      "\n"
     ]
    },
    {
     "name": "stdout",
     "output_type": "stream",
     "text": [
      "\n",
      "      Epoch    GPU_mem   box_loss   cls_loss   dfl_loss  Instances       Size\n"
     ]
    },
    {
     "name": "stderr",
     "output_type": "stream",
     "text": [
      "       2/50      1.71G      1.648     0.9648       1.28         11        512: 100%|██████████| 108/108 [00:07<00:00, 14.48it/s]\n",
      "                 Class     Images  Instances      Box(P          R      mAP50  mAP50-95): 100%|██████████| 16/16 [00:01<00:00, 15.30it/s]"
     ]
    },
    {
     "name": "stdout",
     "output_type": "stream",
     "text": [
      "                   all        255        697      0.899       0.92      0.944      0.484\n"
     ]
    },
    {
     "name": "stderr",
     "output_type": "stream",
     "text": [
      "\n"
     ]
    },
    {
     "name": "stdout",
     "output_type": "stream",
     "text": [
      "\n",
      "      Epoch    GPU_mem   box_loss   cls_loss   dfl_loss  Instances       Size\n"
     ]
    },
    {
     "name": "stderr",
     "output_type": "stream",
     "text": [
      "       3/50      1.75G      1.667      0.955      1.309          5        512: 100%|██████████| 108/108 [00:07<00:00, 14.91it/s]\n",
      "                 Class     Images  Instances      Box(P          R      mAP50  mAP50-95): 100%|██████████| 16/16 [00:00<00:00, 16.15it/s]"
     ]
    },
    {
     "name": "stdout",
     "output_type": "stream",
     "text": [
      "                   all        255        697      0.923      0.894      0.952      0.502\n"
     ]
    },
    {
     "name": "stderr",
     "output_type": "stream",
     "text": [
      "\n"
     ]
    },
    {
     "name": "stdout",
     "output_type": "stream",
     "text": [
      "\n",
      "      Epoch    GPU_mem   box_loss   cls_loss   dfl_loss  Instances       Size\n"
     ]
    },
    {
     "name": "stderr",
     "output_type": "stream",
     "text": [
      "       4/50      1.71G      1.637      0.891        1.3          6        512: 100%|██████████| 108/108 [00:06<00:00, 16.28it/s]\n",
      "                 Class     Images  Instances      Box(P          R      mAP50  mAP50-95): 100%|██████████| 16/16 [00:00<00:00, 17.26it/s]"
     ]
    },
    {
     "name": "stdout",
     "output_type": "stream",
     "text": [
      "                   all        255        697      0.902      0.902      0.939      0.517\n"
     ]
    },
    {
     "name": "stderr",
     "output_type": "stream",
     "text": [
      "\n"
     ]
    },
    {
     "name": "stdout",
     "output_type": "stream",
     "text": [
      "\n",
      "      Epoch    GPU_mem   box_loss   cls_loss   dfl_loss  Instances       Size\n"
     ]
    },
    {
     "name": "stderr",
     "output_type": "stream",
     "text": [
      "       5/50       1.7G      1.619     0.8673      1.297         20        512: 100%|██████████| 108/108 [00:06<00:00, 16.10it/s]\n",
      "                 Class     Images  Instances      Box(P          R      mAP50  mAP50-95): 100%|██████████| 16/16 [00:00<00:00, 16.49it/s]"
     ]
    },
    {
     "name": "stdout",
     "output_type": "stream",
     "text": [
      "                   all        255        697      0.907      0.868      0.947      0.499\n"
     ]
    },
    {
     "name": "stderr",
     "output_type": "stream",
     "text": [
      "\n"
     ]
    },
    {
     "name": "stdout",
     "output_type": "stream",
     "text": [
      "\n",
      "      Epoch    GPU_mem   box_loss   cls_loss   dfl_loss  Instances       Size\n"
     ]
    },
    {
     "name": "stderr",
     "output_type": "stream",
     "text": [
      "       6/50      1.71G       1.63      0.799      1.292          9        512: 100%|██████████| 108/108 [00:06<00:00, 15.80it/s]\n",
      "                 Class     Images  Instances      Box(P          R      mAP50  mAP50-95): 100%|██████████| 16/16 [00:00<00:00, 16.08it/s]"
     ]
    },
    {
     "name": "stdout",
     "output_type": "stream",
     "text": [
      "                   all        255        697      0.912      0.922       0.96      0.511\n"
     ]
    },
    {
     "name": "stderr",
     "output_type": "stream",
     "text": [
      "\n"
     ]
    },
    {
     "name": "stdout",
     "output_type": "stream",
     "text": [
      "\n",
      "      Epoch    GPU_mem   box_loss   cls_loss   dfl_loss  Instances       Size\n"
     ]
    },
    {
     "name": "stderr",
     "output_type": "stream",
     "text": [
      "       7/50       1.7G      1.603     0.8005      1.277         11        512: 100%|██████████| 108/108 [00:07<00:00, 14.65it/s]\n",
      "                 Class     Images  Instances      Box(P          R      mAP50  mAP50-95): 100%|██████████| 16/16 [00:01<00:00, 15.55it/s]"
     ]
    },
    {
     "name": "stdout",
     "output_type": "stream",
     "text": [
      "                   all        255        697      0.898      0.925      0.958      0.526\n"
     ]
    },
    {
     "name": "stderr",
     "output_type": "stream",
     "text": [
      "\n"
     ]
    },
    {
     "name": "stdout",
     "output_type": "stream",
     "text": [
      "\n",
      "      Epoch    GPU_mem   box_loss   cls_loss   dfl_loss  Instances       Size\n"
     ]
    },
    {
     "name": "stderr",
     "output_type": "stream",
     "text": [
      "       8/50       1.7G      1.561     0.8101       1.27         15        512: 100%|██████████| 108/108 [00:07<00:00, 14.77it/s]\n",
      "                 Class     Images  Instances      Box(P          R      mAP50  mAP50-95): 100%|██████████| 16/16 [00:00<00:00, 17.17it/s]"
     ]
    },
    {
     "name": "stdout",
     "output_type": "stream",
     "text": [
      "                   all        255        697      0.937      0.933      0.969      0.542\n"
     ]
    },
    {
     "name": "stderr",
     "output_type": "stream",
     "text": [
      "\n"
     ]
    },
    {
     "name": "stdout",
     "output_type": "stream",
     "text": [
      "\n",
      "      Epoch    GPU_mem   box_loss   cls_loss   dfl_loss  Instances       Size\n"
     ]
    },
    {
     "name": "stderr",
     "output_type": "stream",
     "text": [
      "       9/50      1.69G      1.584     0.7691      1.272         19        512: 100%|██████████| 108/108 [00:06<00:00, 16.13it/s]\n",
      "                 Class     Images  Instances      Box(P          R      mAP50  mAP50-95): 100%|██████████| 16/16 [00:00<00:00, 17.46it/s]"
     ]
    },
    {
     "name": "stdout",
     "output_type": "stream",
     "text": [
      "                   all        255        697      0.946      0.926      0.969      0.543\n"
     ]
    },
    {
     "name": "stderr",
     "output_type": "stream",
     "text": [
      "\n"
     ]
    },
    {
     "name": "stdout",
     "output_type": "stream",
     "text": [
      "\n",
      "      Epoch    GPU_mem   box_loss   cls_loss   dfl_loss  Instances       Size\n"
     ]
    },
    {
     "name": "stderr",
     "output_type": "stream",
     "text": [
      "      10/50       1.7G      1.545     0.7681       1.25          7        512: 100%|██████████| 108/108 [00:06<00:00, 16.25it/s]\n",
      "                 Class     Images  Instances      Box(P          R      mAP50  mAP50-95): 100%|██████████| 16/16 [00:00<00:00, 17.53it/s]"
     ]
    },
    {
     "name": "stdout",
     "output_type": "stream",
     "text": [
      "                   all        255        697      0.935      0.915      0.968       0.54\n"
     ]
    },
    {
     "name": "stderr",
     "output_type": "stream",
     "text": [
      "\n"
     ]
    },
    {
     "name": "stdout",
     "output_type": "stream",
     "text": [
      "\n",
      "      Epoch    GPU_mem   box_loss   cls_loss   dfl_loss  Instances       Size\n"
     ]
    },
    {
     "name": "stderr",
     "output_type": "stream",
     "text": [
      "      11/50      1.69G      1.526     0.7422       1.24          9        512: 100%|██████████| 108/108 [00:06<00:00, 16.16it/s]\n",
      "                 Class     Images  Instances      Box(P          R      mAP50  mAP50-95): 100%|██████████| 16/16 [00:00<00:00, 17.37it/s]"
     ]
    },
    {
     "name": "stdout",
     "output_type": "stream",
     "text": [
      "                   all        255        697      0.934       0.92      0.972      0.535\n"
     ]
    },
    {
     "name": "stderr",
     "output_type": "stream",
     "text": [
      "\n"
     ]
    },
    {
     "name": "stdout",
     "output_type": "stream",
     "text": [
      "\n",
      "      Epoch    GPU_mem   box_loss   cls_loss   dfl_loss  Instances       Size\n"
     ]
    },
    {
     "name": "stderr",
     "output_type": "stream",
     "text": [
      "      12/50       1.7G      1.565     0.7811      1.265          9        512: 100%|██████████| 108/108 [00:06<00:00, 16.13it/s]\n",
      "                 Class     Images  Instances      Box(P          R      mAP50  mAP50-95): 100%|██████████| 16/16 [00:00<00:00, 17.31it/s]"
     ]
    },
    {
     "name": "stdout",
     "output_type": "stream",
     "text": [
      "                   all        255        697      0.896      0.937      0.959      0.515\n"
     ]
    },
    {
     "name": "stderr",
     "output_type": "stream",
     "text": [
      "\n"
     ]
    },
    {
     "name": "stdout",
     "output_type": "stream",
     "text": [
      "\n",
      "      Epoch    GPU_mem   box_loss   cls_loss   dfl_loss  Instances       Size\n"
     ]
    },
    {
     "name": "stderr",
     "output_type": "stream",
     "text": [
      "      13/50      1.75G      1.526     0.7173      1.235          7        512: 100%|██████████| 108/108 [00:06<00:00, 16.12it/s]\n",
      "                 Class     Images  Instances      Box(P          R      mAP50  mAP50-95): 100%|██████████| 16/16 [00:00<00:00, 17.50it/s]"
     ]
    },
    {
     "name": "stdout",
     "output_type": "stream",
     "text": [
      "                   all        255        697       0.92      0.939      0.969      0.565\n"
     ]
    },
    {
     "name": "stderr",
     "output_type": "stream",
     "text": [
      "\n"
     ]
    },
    {
     "name": "stdout",
     "output_type": "stream",
     "text": [
      "\n",
      "      Epoch    GPU_mem   box_loss   cls_loss   dfl_loss  Instances       Size\n"
     ]
    },
    {
     "name": "stderr",
     "output_type": "stream",
     "text": [
      "      14/50      1.76G      1.537     0.7423       1.24         11        512: 100%|██████████| 108/108 [00:06<00:00, 16.37it/s]\n",
      "                 Class     Images  Instances      Box(P          R      mAP50  mAP50-95): 100%|██████████| 16/16 [00:00<00:00, 17.55it/s]"
     ]
    },
    {
     "name": "stdout",
     "output_type": "stream",
     "text": [
      "                   all        255        697      0.935      0.921       0.97      0.543\n"
     ]
    },
    {
     "name": "stderr",
     "output_type": "stream",
     "text": [
      "\n"
     ]
    },
    {
     "name": "stdout",
     "output_type": "stream",
     "text": [
      "\n",
      "      Epoch    GPU_mem   box_loss   cls_loss   dfl_loss  Instances       Size\n"
     ]
    },
    {
     "name": "stderr",
     "output_type": "stream",
     "text": [
      "      15/50       1.7G      1.505     0.7433      1.222          7        512: 100%|██████████| 108/108 [00:06<00:00, 16.25it/s]\n",
      "                 Class     Images  Instances      Box(P          R      mAP50  mAP50-95): 100%|██████████| 16/16 [00:00<00:00, 17.41it/s]"
     ]
    },
    {
     "name": "stdout",
     "output_type": "stream",
     "text": [
      "                   all        255        697      0.934      0.941      0.972      0.558\n"
     ]
    },
    {
     "name": "stderr",
     "output_type": "stream",
     "text": [
      "\n"
     ]
    },
    {
     "name": "stdout",
     "output_type": "stream",
     "text": [
      "\n",
      "      Epoch    GPU_mem   box_loss   cls_loss   dfl_loss  Instances       Size\n"
     ]
    },
    {
     "name": "stderr",
     "output_type": "stream",
     "text": [
      "      16/50      1.71G      1.478      0.702       1.21         10        512: 100%|██████████| 108/108 [00:06<00:00, 16.19it/s]\n",
      "                 Class     Images  Instances      Box(P          R      mAP50  mAP50-95): 100%|██████████| 16/16 [00:00<00:00, 17.49it/s]"
     ]
    },
    {
     "name": "stdout",
     "output_type": "stream",
     "text": [
      "                   all        255        697      0.928      0.934      0.973       0.56\n"
     ]
    },
    {
     "name": "stderr",
     "output_type": "stream",
     "text": [
      "\n"
     ]
    },
    {
     "name": "stdout",
     "output_type": "stream",
     "text": [
      "\n",
      "      Epoch    GPU_mem   box_loss   cls_loss   dfl_loss  Instances       Size\n"
     ]
    },
    {
     "name": "stderr",
     "output_type": "stream",
     "text": [
      "      17/50      1.69G      1.465     0.7128      1.212         13        512: 100%|██████████| 108/108 [00:06<00:00, 16.14it/s]\n",
      "                 Class     Images  Instances      Box(P          R      mAP50  mAP50-95): 100%|██████████| 16/16 [00:00<00:00, 17.23it/s]"
     ]
    },
    {
     "name": "stdout",
     "output_type": "stream",
     "text": [
      "                   all        255        697      0.936      0.931      0.969      0.549\n"
     ]
    },
    {
     "name": "stderr",
     "output_type": "stream",
     "text": [
      "\n"
     ]
    },
    {
     "name": "stdout",
     "output_type": "stream",
     "text": [
      "\n",
      "      Epoch    GPU_mem   box_loss   cls_loss   dfl_loss  Instances       Size\n"
     ]
    },
    {
     "name": "stderr",
     "output_type": "stream",
     "text": [
      "      18/50       1.7G      1.489     0.7179      1.204         21        512: 100%|██████████| 108/108 [00:06<00:00, 16.26it/s]\n",
      "                 Class     Images  Instances      Box(P          R      mAP50  mAP50-95): 100%|██████████| 16/16 [00:00<00:00, 17.37it/s]"
     ]
    },
    {
     "name": "stdout",
     "output_type": "stream",
     "text": [
      "                   all        255        697      0.934      0.933      0.975      0.552\n"
     ]
    },
    {
     "name": "stderr",
     "output_type": "stream",
     "text": [
      "\n"
     ]
    },
    {
     "name": "stdout",
     "output_type": "stream",
     "text": [
      "\n",
      "      Epoch    GPU_mem   box_loss   cls_loss   dfl_loss  Instances       Size\n"
     ]
    },
    {
     "name": "stderr",
     "output_type": "stream",
     "text": [
      "      19/50       1.7G      1.462     0.7068      1.211         11        512: 100%|██████████| 108/108 [00:06<00:00, 16.11it/s]\n",
      "                 Class     Images  Instances      Box(P          R      mAP50  mAP50-95): 100%|██████████| 16/16 [00:00<00:00, 17.43it/s]"
     ]
    },
    {
     "name": "stdout",
     "output_type": "stream",
     "text": [
      "                   all        255        697      0.939      0.937      0.975      0.562\n"
     ]
    },
    {
     "name": "stderr",
     "output_type": "stream",
     "text": [
      "\n"
     ]
    },
    {
     "name": "stdout",
     "output_type": "stream",
     "text": [
      "\n",
      "      Epoch    GPU_mem   box_loss   cls_loss   dfl_loss  Instances       Size\n"
     ]
    },
    {
     "name": "stderr",
     "output_type": "stream",
     "text": [
      "      20/50      1.76G       1.47     0.6938      1.196          9        512: 100%|██████████| 108/108 [00:06<00:00, 16.34it/s]\n",
      "                 Class     Images  Instances      Box(P          R      mAP50  mAP50-95): 100%|██████████| 16/16 [00:00<00:00, 17.53it/s]"
     ]
    },
    {
     "name": "stdout",
     "output_type": "stream",
     "text": [
      "                   all        255        697      0.941      0.932      0.972      0.564\n"
     ]
    },
    {
     "name": "stderr",
     "output_type": "stream",
     "text": [
      "\n"
     ]
    },
    {
     "name": "stdout",
     "output_type": "stream",
     "text": [
      "\n",
      "      Epoch    GPU_mem   box_loss   cls_loss   dfl_loss  Instances       Size\n"
     ]
    },
    {
     "name": "stderr",
     "output_type": "stream",
     "text": [
      "      21/50      1.74G      1.442     0.6854      1.194          7        512: 100%|██████████| 108/108 [00:06<00:00, 16.33it/s]\n",
      "                 Class     Images  Instances      Box(P          R      mAP50  mAP50-95): 100%|██████████| 16/16 [00:00<00:00, 17.28it/s]"
     ]
    },
    {
     "name": "stdout",
     "output_type": "stream",
     "text": [
      "                   all        255        697      0.946      0.923      0.972      0.574\n"
     ]
    },
    {
     "name": "stderr",
     "output_type": "stream",
     "text": [
      "\n"
     ]
    },
    {
     "name": "stdout",
     "output_type": "stream",
     "text": [
      "\n",
      "      Epoch    GPU_mem   box_loss   cls_loss   dfl_loss  Instances       Size\n"
     ]
    },
    {
     "name": "stderr",
     "output_type": "stream",
     "text": [
      "      22/50      1.76G       1.44     0.6647      1.197         13        512: 100%|██████████| 108/108 [00:06<00:00, 16.21it/s]\n",
      "                 Class     Images  Instances      Box(P          R      mAP50  mAP50-95): 100%|██████████| 16/16 [00:00<00:00, 17.53it/s]"
     ]
    },
    {
     "name": "stdout",
     "output_type": "stream",
     "text": [
      "                   all        255        697      0.927       0.94      0.967      0.548\n"
     ]
    },
    {
     "name": "stderr",
     "output_type": "stream",
     "text": [
      "\n"
     ]
    },
    {
     "name": "stdout",
     "output_type": "stream",
     "text": [
      "\n",
      "      Epoch    GPU_mem   box_loss   cls_loss   dfl_loss  Instances       Size\n"
     ]
    },
    {
     "name": "stderr",
     "output_type": "stream",
     "text": [
      "      23/50       1.7G      1.427     0.6546      1.183          9        512: 100%|██████████| 108/108 [00:06<00:00, 16.22it/s]\n",
      "                 Class     Images  Instances      Box(P          R      mAP50  mAP50-95): 100%|██████████| 16/16 [00:00<00:00, 17.40it/s]"
     ]
    },
    {
     "name": "stdout",
     "output_type": "stream",
     "text": [
      "                   all        255        697      0.952      0.912      0.968      0.571\n"
     ]
    },
    {
     "name": "stderr",
     "output_type": "stream",
     "text": [
      "\n"
     ]
    },
    {
     "name": "stdout",
     "output_type": "stream",
     "text": [
      "\n",
      "      Epoch    GPU_mem   box_loss   cls_loss   dfl_loss  Instances       Size\n"
     ]
    },
    {
     "name": "stderr",
     "output_type": "stream",
     "text": [
      "      24/50      1.76G       1.42     0.6472      1.202         11        512: 100%|██████████| 108/108 [00:06<00:00, 16.27it/s]\n",
      "                 Class     Images  Instances      Box(P          R      mAP50  mAP50-95): 100%|██████████| 16/16 [00:00<00:00, 17.51it/s]"
     ]
    },
    {
     "name": "stdout",
     "output_type": "stream",
     "text": [
      "                   all        255        697      0.913      0.937      0.968      0.553\n"
     ]
    },
    {
     "name": "stderr",
     "output_type": "stream",
     "text": [
      "\n"
     ]
    },
    {
     "name": "stdout",
     "output_type": "stream",
     "text": [
      "\n",
      "      Epoch    GPU_mem   box_loss   cls_loss   dfl_loss  Instances       Size\n"
     ]
    },
    {
     "name": "stderr",
     "output_type": "stream",
     "text": [
      "      25/50      1.69G      1.397     0.6443      1.178         11        512: 100%|██████████| 108/108 [00:06<00:00, 16.23it/s]\n",
      "                 Class     Images  Instances      Box(P          R      mAP50  mAP50-95): 100%|██████████| 16/16 [00:00<00:00, 17.52it/s]"
     ]
    },
    {
     "name": "stdout",
     "output_type": "stream",
     "text": [
      "                   all        255        697      0.927      0.928      0.964      0.547\n"
     ]
    },
    {
     "name": "stderr",
     "output_type": "stream",
     "text": [
      "\n"
     ]
    },
    {
     "name": "stdout",
     "output_type": "stream",
     "text": [
      "\n",
      "      Epoch    GPU_mem   box_loss   cls_loss   dfl_loss  Instances       Size\n"
     ]
    },
    {
     "name": "stderr",
     "output_type": "stream",
     "text": [
      "      26/50       1.7G      1.394      0.637      1.172          5        512: 100%|██████████| 108/108 [00:06<00:00, 16.21it/s]\n",
      "                 Class     Images  Instances      Box(P          R      mAP50  mAP50-95): 100%|██████████| 16/16 [00:00<00:00, 17.52it/s]"
     ]
    },
    {
     "name": "stdout",
     "output_type": "stream",
     "text": [
      "                   all        255        697      0.958      0.914      0.979      0.582\n"
     ]
    },
    {
     "name": "stderr",
     "output_type": "stream",
     "text": [
      "\n"
     ]
    },
    {
     "name": "stdout",
     "output_type": "stream",
     "text": [
      "\n",
      "      Epoch    GPU_mem   box_loss   cls_loss   dfl_loss  Instances       Size\n"
     ]
    },
    {
     "name": "stderr",
     "output_type": "stream",
     "text": [
      "      27/50       1.7G      1.402     0.6607      1.183          8        512: 100%|██████████| 108/108 [00:06<00:00, 16.31it/s]\n",
      "                 Class     Images  Instances      Box(P          R      mAP50  mAP50-95): 100%|██████████| 16/16 [00:00<00:00, 17.69it/s]"
     ]
    },
    {
     "name": "stdout",
     "output_type": "stream",
     "text": [
      "                   all        255        697      0.941      0.911      0.974      0.557\n"
     ]
    },
    {
     "name": "stderr",
     "output_type": "stream",
     "text": [
      "\n"
     ]
    },
    {
     "name": "stdout",
     "output_type": "stream",
     "text": [
      "\n",
      "      Epoch    GPU_mem   box_loss   cls_loss   dfl_loss  Instances       Size\n"
     ]
    },
    {
     "name": "stderr",
     "output_type": "stream",
     "text": [
      "      28/50      1.72G      1.397      0.636      1.163          5        512: 100%|██████████| 108/108 [00:06<00:00, 16.08it/s]\n",
      "                 Class     Images  Instances      Box(P          R      mAP50  mAP50-95): 100%|██████████| 16/16 [00:00<00:00, 17.23it/s]"
     ]
    },
    {
     "name": "stdout",
     "output_type": "stream",
     "text": [
      "                   all        255        697      0.943      0.943      0.979      0.576\n"
     ]
    },
    {
     "name": "stderr",
     "output_type": "stream",
     "text": [
      "\n"
     ]
    },
    {
     "name": "stdout",
     "output_type": "stream",
     "text": [
      "\n",
      "      Epoch    GPU_mem   box_loss   cls_loss   dfl_loss  Instances       Size\n"
     ]
    },
    {
     "name": "stderr",
     "output_type": "stream",
     "text": [
      "      29/50      1.74G      1.364     0.6196      1.165         13        512: 100%|██████████| 108/108 [00:06<00:00, 16.33it/s]\n",
      "                 Class     Images  Instances      Box(P          R      mAP50  mAP50-95): 100%|██████████| 16/16 [00:00<00:00, 17.56it/s]"
     ]
    },
    {
     "name": "stdout",
     "output_type": "stream",
     "text": [
      "                   all        255        697       0.94      0.938      0.977      0.579\n"
     ]
    },
    {
     "name": "stderr",
     "output_type": "stream",
     "text": [
      "\n"
     ]
    },
    {
     "name": "stdout",
     "output_type": "stream",
     "text": [
      "\n",
      "      Epoch    GPU_mem   box_loss   cls_loss   dfl_loss  Instances       Size\n"
     ]
    },
    {
     "name": "stderr",
     "output_type": "stream",
     "text": [
      "      30/50      1.77G      1.374     0.6221      1.161         20        512: 100%|██████████| 108/108 [00:06<00:00, 16.27it/s]\n",
      "                 Class     Images  Instances      Box(P          R      mAP50  mAP50-95): 100%|██████████| 16/16 [00:00<00:00, 17.41it/s]"
     ]
    },
    {
     "name": "stdout",
     "output_type": "stream",
     "text": [
      "                   all        255        697      0.944       0.92      0.968      0.575\n"
     ]
    },
    {
     "name": "stderr",
     "output_type": "stream",
     "text": [
      "\n"
     ]
    },
    {
     "name": "stdout",
     "output_type": "stream",
     "text": [
      "\n",
      "      Epoch    GPU_mem   box_loss   cls_loss   dfl_loss  Instances       Size\n"
     ]
    },
    {
     "name": "stderr",
     "output_type": "stream",
     "text": [
      "      31/50      1.69G      1.358      0.635      1.174          9        512: 100%|██████████| 108/108 [00:06<00:00, 16.20it/s]\n",
      "                 Class     Images  Instances      Box(P          R      mAP50  mAP50-95): 100%|██████████| 16/16 [00:00<00:00, 17.35it/s]"
     ]
    },
    {
     "name": "stdout",
     "output_type": "stream",
     "text": [
      "                   all        255        697      0.941      0.944      0.976       0.58\n"
     ]
    },
    {
     "name": "stderr",
     "output_type": "stream",
     "text": [
      "\n"
     ]
    },
    {
     "name": "stdout",
     "output_type": "stream",
     "text": [
      "\n",
      "      Epoch    GPU_mem   box_loss   cls_loss   dfl_loss  Instances       Size\n"
     ]
    },
    {
     "name": "stderr",
     "output_type": "stream",
     "text": [
      "      32/50      1.76G      1.365     0.6131      1.157          8        512: 100%|██████████| 108/108 [00:06<00:00, 16.17it/s]\n",
      "                 Class     Images  Instances      Box(P          R      mAP50  mAP50-95): 100%|██████████| 16/16 [00:00<00:00, 17.21it/s]"
     ]
    },
    {
     "name": "stdout",
     "output_type": "stream",
     "text": [
      "                   all        255        697      0.946      0.937      0.973      0.572\n"
     ]
    },
    {
     "name": "stderr",
     "output_type": "stream",
     "text": [
      "\n"
     ]
    },
    {
     "name": "stdout",
     "output_type": "stream",
     "text": [
      "\n",
      "      Epoch    GPU_mem   box_loss   cls_loss   dfl_loss  Instances       Size\n"
     ]
    },
    {
     "name": "stderr",
     "output_type": "stream",
     "text": [
      "      33/50       1.7G      1.334     0.6048      1.129         10        512: 100%|██████████| 108/108 [00:06<00:00, 16.18it/s]\n",
      "                 Class     Images  Instances      Box(P          R      mAP50  mAP50-95): 100%|██████████| 16/16 [00:00<00:00, 17.38it/s]"
     ]
    },
    {
     "name": "stdout",
     "output_type": "stream",
     "text": [
      "                   all        255        697      0.938      0.934      0.979      0.586\n"
     ]
    },
    {
     "name": "stderr",
     "output_type": "stream",
     "text": [
      "\n"
     ]
    },
    {
     "name": "stdout",
     "output_type": "stream",
     "text": [
      "\n",
      "      Epoch    GPU_mem   box_loss   cls_loss   dfl_loss  Instances       Size\n"
     ]
    },
    {
     "name": "stderr",
     "output_type": "stream",
     "text": [
      "      34/50       1.7G      1.348     0.6063       1.15          6        512: 100%|██████████| 108/108 [00:06<00:00, 16.20it/s]\n",
      "                 Class     Images  Instances      Box(P          R      mAP50  mAP50-95): 100%|██████████| 16/16 [00:00<00:00, 17.46it/s]"
     ]
    },
    {
     "name": "stdout",
     "output_type": "stream",
     "text": [
      "                   all        255        697      0.951      0.933       0.98      0.597\n"
     ]
    },
    {
     "name": "stderr",
     "output_type": "stream",
     "text": [
      "\n"
     ]
    },
    {
     "name": "stdout",
     "output_type": "stream",
     "text": [
      "\n",
      "      Epoch    GPU_mem   box_loss   cls_loss   dfl_loss  Instances       Size\n"
     ]
    },
    {
     "name": "stderr",
     "output_type": "stream",
     "text": [
      "      35/50      1.69G      1.337     0.5854      1.147          5        512: 100%|██████████| 108/108 [00:06<00:00, 16.18it/s]\n",
      "                 Class     Images  Instances      Box(P          R      mAP50  mAP50-95): 100%|██████████| 16/16 [00:00<00:00, 17.11it/s]"
     ]
    },
    {
     "name": "stdout",
     "output_type": "stream",
     "text": [
      "                   all        255        697      0.962      0.927      0.978      0.591\n"
     ]
    },
    {
     "name": "stderr",
     "output_type": "stream",
     "text": [
      "\n"
     ]
    },
    {
     "name": "stdout",
     "output_type": "stream",
     "text": [
      "\n",
      "      Epoch    GPU_mem   box_loss   cls_loss   dfl_loss  Instances       Size\n"
     ]
    },
    {
     "name": "stderr",
     "output_type": "stream",
     "text": [
      "      36/50      1.75G      1.338     0.6161      1.141         12        512: 100%|██████████| 108/108 [00:06<00:00, 16.16it/s]\n",
      "                 Class     Images  Instances      Box(P          R      mAP50  mAP50-95): 100%|██████████| 16/16 [00:00<00:00, 17.38it/s]"
     ]
    },
    {
     "name": "stdout",
     "output_type": "stream",
     "text": [
      "                   all        255        697      0.963      0.929      0.979      0.607\n"
     ]
    },
    {
     "name": "stderr",
     "output_type": "stream",
     "text": [
      "\n"
     ]
    },
    {
     "name": "stdout",
     "output_type": "stream",
     "text": [
      "\n",
      "      Epoch    GPU_mem   box_loss   cls_loss   dfl_loss  Instances       Size\n"
     ]
    },
    {
     "name": "stderr",
     "output_type": "stream",
     "text": [
      "      37/50      1.69G      1.312     0.5913      1.143         11        512: 100%|██████████| 108/108 [00:06<00:00, 16.06it/s]\n",
      "                 Class     Images  Instances      Box(P          R      mAP50  mAP50-95): 100%|██████████| 16/16 [00:00<00:00, 17.47it/s]"
     ]
    },
    {
     "name": "stdout",
     "output_type": "stream",
     "text": [
      "                   all        255        697      0.965      0.908      0.973      0.588\n"
     ]
    },
    {
     "name": "stderr",
     "output_type": "stream",
     "text": [
      "\n"
     ]
    },
    {
     "name": "stdout",
     "output_type": "stream",
     "text": [
      "\n",
      "      Epoch    GPU_mem   box_loss   cls_loss   dfl_loss  Instances       Size\n"
     ]
    },
    {
     "name": "stderr",
     "output_type": "stream",
     "text": [
      "      38/50      1.76G      1.294     0.5778      1.146         13        512: 100%|██████████| 108/108 [00:06<00:00, 16.24it/s]\n",
      "                 Class     Images  Instances      Box(P          R      mAP50  mAP50-95): 100%|██████████| 16/16 [00:00<00:00, 17.54it/s]"
     ]
    },
    {
     "name": "stdout",
     "output_type": "stream",
     "text": [
      "                   all        255        697      0.937      0.937      0.979      0.597\n"
     ]
    },
    {
     "name": "stderr",
     "output_type": "stream",
     "text": [
      "\n"
     ]
    },
    {
     "name": "stdout",
     "output_type": "stream",
     "text": [
      "\n",
      "      Epoch    GPU_mem   box_loss   cls_loss   dfl_loss  Instances       Size\n"
     ]
    },
    {
     "name": "stderr",
     "output_type": "stream",
     "text": [
      "      39/50      1.69G      1.284     0.5599      1.117         10        512: 100%|██████████| 108/108 [00:06<00:00, 16.23it/s]\n",
      "                 Class     Images  Instances      Box(P          R      mAP50  mAP50-95): 100%|██████████| 16/16 [00:00<00:00, 17.49it/s]"
     ]
    },
    {
     "name": "stdout",
     "output_type": "stream",
     "text": [
      "                   all        255        697      0.961      0.923      0.975      0.592\n"
     ]
    },
    {
     "name": "stderr",
     "output_type": "stream",
     "text": [
      "\n"
     ]
    },
    {
     "name": "stdout",
     "output_type": "stream",
     "text": [
      "\n",
      "      Epoch    GPU_mem   box_loss   cls_loss   dfl_loss  Instances       Size\n"
     ]
    },
    {
     "name": "stderr",
     "output_type": "stream",
     "text": [
      "      40/50      1.76G      1.287     0.5774      1.128          5        512: 100%|██████████| 108/108 [00:06<00:00, 16.23it/s]\n",
      "                 Class     Images  Instances      Box(P          R      mAP50  mAP50-95): 100%|██████████| 16/16 [00:00<00:00, 16.57it/s]"
     ]
    },
    {
     "name": "stdout",
     "output_type": "stream",
     "text": [
      "                   all        255        697       0.95       0.92      0.975      0.588\n"
     ]
    },
    {
     "name": "stderr",
     "output_type": "stream",
     "text": [
      "\n"
     ]
    },
    {
     "name": "stdout",
     "output_type": "stream",
     "text": [
      "Closing dataloader mosaic\n",
      "\u001b[34m\u001b[1malbumentations: \u001b[0mBlur(p=0.01, blur_limit=(3, 7)), MedianBlur(p=0.01, blur_limit=(3, 7)), ToGray(p=0.01, num_output_channels=3, method='weighted_average'), CLAHE(p=0.01, clip_limit=(1.0, 4.0), tile_grid_size=(8, 8))\n",
      "\n",
      "      Epoch    GPU_mem   box_loss   cls_loss   dfl_loss  Instances       Size\n"
     ]
    },
    {
     "name": "stderr",
     "output_type": "stream",
     "text": [
      "      41/50      1.69G      1.278     0.5649      1.155          6        512: 100%|██████████| 108/108 [00:07<00:00, 14.64it/s]\n",
      "                 Class     Images  Instances      Box(P          R      mAP50  mAP50-95): 100%|██████████| 16/16 [00:01<00:00, 15.87it/s]"
     ]
    },
    {
     "name": "stdout",
     "output_type": "stream",
     "text": [
      "                   all        255        697      0.944      0.933      0.975      0.596\n"
     ]
    },
    {
     "name": "stderr",
     "output_type": "stream",
     "text": [
      "\n"
     ]
    },
    {
     "name": "stdout",
     "output_type": "stream",
     "text": [
      "\n",
      "      Epoch    GPU_mem   box_loss   cls_loss   dfl_loss  Instances       Size\n"
     ]
    },
    {
     "name": "stderr",
     "output_type": "stream",
     "text": [
      "      42/50       1.7G      1.286     0.5604      1.164         10        512: 100%|██████████| 108/108 [00:07<00:00, 14.95it/s]\n",
      "                 Class     Images  Instances      Box(P          R      mAP50  mAP50-95): 100%|██████████| 16/16 [00:00<00:00, 17.32it/s]"
     ]
    },
    {
     "name": "stdout",
     "output_type": "stream",
     "text": [
      "                   all        255        697      0.954      0.919      0.973       0.59\n"
     ]
    },
    {
     "name": "stderr",
     "output_type": "stream",
     "text": [
      "\n"
     ]
    },
    {
     "name": "stdout",
     "output_type": "stream",
     "text": [
      "\n",
      "      Epoch    GPU_mem   box_loss   cls_loss   dfl_loss  Instances       Size\n"
     ]
    },
    {
     "name": "stderr",
     "output_type": "stream",
     "text": [
      "      43/50      1.69G      1.266     0.5747      1.134          8        512: 100%|██████████| 108/108 [00:06<00:00, 16.04it/s]\n",
      "                 Class     Images  Instances      Box(P          R      mAP50  mAP50-95): 100%|██████████| 16/16 [00:00<00:00, 17.20it/s]"
     ]
    },
    {
     "name": "stdout",
     "output_type": "stream",
     "text": [
      "                   all        255        697      0.956      0.914      0.978      0.604\n"
     ]
    },
    {
     "name": "stderr",
     "output_type": "stream",
     "text": [
      "\n"
     ]
    },
    {
     "name": "stdout",
     "output_type": "stream",
     "text": [
      "\n",
      "      Epoch    GPU_mem   box_loss   cls_loss   dfl_loss  Instances       Size\n"
     ]
    },
    {
     "name": "stderr",
     "output_type": "stream",
     "text": [
      "      44/50       1.7G      1.268     0.5786       1.15          3        512: 100%|██████████| 108/108 [00:06<00:00, 16.03it/s]\n",
      "                 Class     Images  Instances      Box(P          R      mAP50  mAP50-95): 100%|██████████| 16/16 [00:00<00:00, 17.14it/s]"
     ]
    },
    {
     "name": "stdout",
     "output_type": "stream",
     "text": [
      "                   all        255        697      0.967      0.913      0.977      0.601\n"
     ]
    },
    {
     "name": "stderr",
     "output_type": "stream",
     "text": [
      "\n"
     ]
    },
    {
     "name": "stdout",
     "output_type": "stream",
     "text": [
      "\n",
      "      Epoch    GPU_mem   box_loss   cls_loss   dfl_loss  Instances       Size\n"
     ]
    },
    {
     "name": "stderr",
     "output_type": "stream",
     "text": [
      "      45/50      1.69G      1.255     0.5423      1.145          5        512: 100%|██████████| 108/108 [00:06<00:00, 15.91it/s]\n",
      "                 Class     Images  Instances      Box(P          R      mAP50  mAP50-95): 100%|██████████| 16/16 [00:01<00:00, 15.53it/s]"
     ]
    },
    {
     "name": "stdout",
     "output_type": "stream",
     "text": [
      "                   all        255        697      0.964      0.913      0.976      0.595\n"
     ]
    },
    {
     "name": "stderr",
     "output_type": "stream",
     "text": [
      "\n"
     ]
    },
    {
     "name": "stdout",
     "output_type": "stream",
     "text": [
      "\n",
      "      Epoch    GPU_mem   box_loss   cls_loss   dfl_loss  Instances       Size\n"
     ]
    },
    {
     "name": "stderr",
     "output_type": "stream",
     "text": [
      "      46/50      1.76G      1.238     0.5324      1.141          8        512: 100%|██████████| 108/108 [00:07<00:00, 14.46it/s]\n",
      "                 Class     Images  Instances      Box(P          R      mAP50  mAP50-95): 100%|██████████| 16/16 [00:01<00:00, 15.73it/s]"
     ]
    },
    {
     "name": "stdout",
     "output_type": "stream",
     "text": [
      "                   all        255        697       0.96      0.927      0.978      0.601\n"
     ]
    },
    {
     "name": "stderr",
     "output_type": "stream",
     "text": [
      "\n"
     ]
    },
    {
     "name": "stdout",
     "output_type": "stream",
     "text": [
      "\n",
      "      Epoch    GPU_mem   box_loss   cls_loss   dfl_loss  Instances       Size\n"
     ]
    },
    {
     "name": "stderr",
     "output_type": "stream",
     "text": [
      "      47/50      1.69G      1.205     0.5183      1.143          4        512: 100%|██████████| 108/108 [00:08<00:00, 13.39it/s]\n",
      "                 Class     Images  Instances      Box(P          R      mAP50  mAP50-95): 100%|██████████| 16/16 [00:01<00:00, 13.60it/s]"
     ]
    },
    {
     "name": "stdout",
     "output_type": "stream",
     "text": [
      "                   all        255        697      0.959      0.921      0.979      0.609\n"
     ]
    },
    {
     "name": "stderr",
     "output_type": "stream",
     "text": [
      "\n"
     ]
    },
    {
     "name": "stdout",
     "output_type": "stream",
     "text": [
      "\n",
      "      Epoch    GPU_mem   box_loss   cls_loss   dfl_loss  Instances       Size\n"
     ]
    },
    {
     "name": "stderr",
     "output_type": "stream",
     "text": [
      "      48/50       1.7G      1.185     0.5123      1.113         12        512: 100%|██████████| 108/108 [00:08<00:00, 12.88it/s]\n",
      "                 Class     Images  Instances      Box(P          R      mAP50  mAP50-95): 100%|██████████| 16/16 [00:01<00:00, 12.88it/s]"
     ]
    },
    {
     "name": "stdout",
     "output_type": "stream",
     "text": [
      "                   all        255        697      0.949      0.935       0.98      0.611\n"
     ]
    },
    {
     "name": "stderr",
     "output_type": "stream",
     "text": [
      "\n"
     ]
    },
    {
     "name": "stdout",
     "output_type": "stream",
     "text": [
      "\n",
      "      Epoch    GPU_mem   box_loss   cls_loss   dfl_loss  Instances       Size\n"
     ]
    },
    {
     "name": "stderr",
     "output_type": "stream",
     "text": [
      "      49/50      1.69G      1.187     0.5098      1.126          4        512: 100%|██████████| 108/108 [00:08<00:00, 12.41it/s]\n",
      "                 Class     Images  Instances      Box(P          R      mAP50  mAP50-95): 100%|██████████| 16/16 [00:01<00:00, 13.14it/s]"
     ]
    },
    {
     "name": "stdout",
     "output_type": "stream",
     "text": [
      "                   all        255        697      0.957      0.923      0.978       0.61\n"
     ]
    },
    {
     "name": "stderr",
     "output_type": "stream",
     "text": [
      "\n"
     ]
    },
    {
     "name": "stdout",
     "output_type": "stream",
     "text": [
      "\n",
      "      Epoch    GPU_mem   box_loss   cls_loss   dfl_loss  Instances       Size\n"
     ]
    },
    {
     "name": "stderr",
     "output_type": "stream",
     "text": [
      "      50/50       1.7G      1.191      0.511      1.114          5        512: 100%|██████████| 108/108 [00:07<00:00, 15.36it/s]\n",
      "                 Class     Images  Instances      Box(P          R      mAP50  mAP50-95): 100%|██████████| 16/16 [00:00<00:00, 17.04it/s]"
     ]
    },
    {
     "name": "stdout",
     "output_type": "stream",
     "text": [
      "                   all        255        697      0.951      0.925      0.977       0.61\n"
     ]
    },
    {
     "name": "stderr",
     "output_type": "stream",
     "text": [
      "\n"
     ]
    },
    {
     "name": "stdout",
     "output_type": "stream",
     "text": [
      "\n",
      "50 epochs completed in 0.114 hours.\n",
      "Optimizer stripped from /home/franciscosantos/workspace/IPVC/PROJECT_III/pool-detection-gis/runs/detect/train2/weights/last.pt, 22.5MB\n",
      "Optimizer stripped from /home/franciscosantos/workspace/IPVC/PROJECT_III/pool-detection-gis/runs/detect/train2/weights/best.pt, 22.5MB\n",
      "\n",
      "Validating /home/franciscosantos/workspace/IPVC/PROJECT_III/pool-detection-gis/runs/detect/train2/weights/best.pt...\n",
      "Ultralytics 8.3.28 🚀 Python-3.12.3 torch-2.5.0+cu124 CUDA:0 (NVIDIA GeForce RTX 4060, 7925MiB)\n",
      "Model summary (fused): 168 layers, 11,125,971 parameters, 0 gradients, 28.4 GFLOPs\n"
     ]
    },
    {
     "name": "stderr",
     "output_type": "stream",
     "text": [
      "                 Class     Images  Instances      Box(P          R      mAP50  mAP50-95): 100%|██████████| 16/16 [00:01<00:00, 14.22it/s]\n"
     ]
    },
    {
     "name": "stdout",
     "output_type": "stream",
     "text": [
      "                   all        255        697      0.949      0.935       0.98       0.61\n",
      "Speed: 0.1ms preprocess, 2.2ms inference, 0.0ms loss, 0.6ms postprocess per image\n",
      "Results saved to \u001b[1m/home/franciscosantos/workspace/IPVC/PROJECT_III/pool-detection-gis/runs/detect/train2\u001b[0m\n"
     ]
    },
    {
     "ename": "TypeError",
     "evalue": "'bool' object is not callable",
     "output_type": "error",
     "traceback": [
      "\u001b[0;31m---------------------------------------------------------------------------\u001b[0m",
      "\u001b[0;31mTypeError\u001b[0m                                 Traceback (most recent call last)",
      "Cell \u001b[0;32mIn[7], line 16\u001b[0m\n\u001b[1;32m      7\u001b[0m model \u001b[38;5;241m=\u001b[39m YOLO(\u001b[38;5;124m'\u001b[39m\u001b[38;5;124myolov8s.pt\u001b[39m\u001b[38;5;124m'\u001b[39m)\u001b[38;5;241m.\u001b[39mto(device)\n\u001b[1;32m      9\u001b[0m results \u001b[38;5;241m=\u001b[39m model\u001b[38;5;241m.\u001b[39mtrain(\n\u001b[1;32m     10\u001b[0m     data\u001b[38;5;241m=\u001b[39m\u001b[38;5;124m\"\u001b[39m\u001b[38;5;124m/home/franciscosantos/workspace/IPVC/PROJECT_III/pool-detection-gis/pool-dataset/data.yaml\u001b[39m\u001b[38;5;124m\"\u001b[39m,\n\u001b[1;32m     11\u001b[0m     epochs\u001b[38;5;241m=\u001b[39m\u001b[38;5;241m50\u001b[39m,\n\u001b[1;32m     12\u001b[0m     batch\u001b[38;5;241m=\u001b[39m\u001b[38;5;241m8\u001b[39m,\n\u001b[1;32m     13\u001b[0m     imgsz\u001b[38;5;241m=\u001b[39m\u001b[38;5;241m512\u001b[39m\n\u001b[1;32m     14\u001b[0m )\n\u001b[0;32m---> 16\u001b[0m \u001b[43mresults\u001b[49m\u001b[38;5;241;43m.\u001b[39;49m\u001b[43mplot\u001b[49m\u001b[43m(\u001b[49m\u001b[43m)\u001b[49m  \u001b[38;5;66;03m# Plot training results\u001b[39;00m\n\u001b[1;32m     19\u001b[0m \u001b[38;5;66;03m# # Define the objective function\u001b[39;00m\n\u001b[1;32m     20\u001b[0m \u001b[38;5;66;03m# def objective(trial):\u001b[39;00m\n\u001b[1;32m     21\u001b[0m \u001b[38;5;66;03m#     lr0 = trial.suggest_loguniform('lr0', 1e-5, 1e-1)\u001b[39;00m\n\u001b[0;32m   (...)\u001b[0m\n\u001b[1;32m     56\u001b[0m \u001b[38;5;66;03m# print(\"Best hyperparameters:\", study.best_params)\u001b[39;00m\n\u001b[1;32m     57\u001b[0m \u001b[38;5;66;03m# print(\"Best mAP50:\", study.best_value)\u001b[39;00m\n",
      "\u001b[0;31mTypeError\u001b[0m: 'bool' object is not callable"
     ]
    }
   ],
   "source": [
    "from ultralytics import YOLO\n",
    "import optuna\n",
    "import torch\n",
    "\n",
    "device = torch.device('cuda') if torch.cuda.is_available() else torch.device('cpu')\n",
    "\n",
    "model = YOLO('yolov8s.pt').to(device)\n",
    "\n",
    "results = model.train(\n",
    "    data=\"/home/franciscosantos/workspace/IPVC/PROJECT_III/pool-detection-gis/pool-dataset/data.yaml\",\n",
    "    epochs=50,\n",
    "    batch=8,\n",
    "    imgsz=512\n",
    ")\n",
    "\n",
    "# # Define the objective function\n",
    "# def objective(trial):\n",
    "#     lr0 = trial.suggest_loguniform('lr0', 1e-5, 1e-1)\n",
    "#     weight_decay = trial.suggest_loguniform('weight_decay', 1e-6, 1e-3)\n",
    "#     momentum = trial.suggest_uniform('momentum', 0.85, 0.95)\n",
    "#     batch_size = trial.suggest_categorical('batch_size', [4, 8, 16])\n",
    "#     dropout = trial.suggest_uniform('dropout', 0.1, 0.5)\n",
    "#     optimizer = trial.suggest_categorical('optimizer', ['Adam', 'SGD', 'AdamW'])\n",
    "    \n",
    "#     # Load the YOLOv11 model\n",
    "#     model = YOLO('yolov8s.pt').to(device)\n",
    "\n",
    "\n",
    "#     # Train the model with the suggested hyperparameters\n",
    "#     results = model.train(\n",
    "#         data=\"/home/franciscosantos/workspace/IPVC/PROJECT_III/pool-detection-gis/pool-dataset/data.yaml\",\n",
    "#         epochs=50,\n",
    "#         batch=batch_size,\n",
    "#         lr0=lr0,\n",
    "#         weight_decay=weight_decay,\n",
    "#         momentum=momentum,\n",
    "#         dropout=dropout,\n",
    "#         optimizer=optimizer,\n",
    "#         imgsz=224\n",
    "#     )\n",
    "\n",
    "#     # Evaluate the model on validation data\n",
    "#     val_metrics = model.val()  # Run validation\n",
    "#     mAP50 = val_metrics.box.map50  # mAP@0.5\n",
    "\n",
    "#     return mAP50  # The higher the mAP50, the better\n",
    "\n",
    "# # Set up and run the Optuna study\n",
    "# study = optuna.create_study(direction='maximize', storage=\"sqlite:///db.sqlite3\", study_name=\"yolov8s_tuning-67tudy\", load_if_exists=True)\n",
    "# study.optimize(objective, n_trials=20)  # Run 20 trials to find the best hyperparameters\n",
    "\n",
    "# # Print the best hyperparameters found\n",
    "# print(\"Best hyperparameters:\", study.best_params)\n",
    "# print(\"Best mAP50:\", study.best_value)\n"
   ]
  },
  {
   "cell_type": "code",
   "execution_count": 10,
   "metadata": {},
   "outputs": [],
   "source": [
    "# convert all labels to YOLO format\n",
    "for label in os.listdir(training_label_dir):\n",
    "    label_path = os.path.join(training_label_dir, label)\n",
    "    if os.path.exists(label_path):\n",
    "        convert_label_to_txt(training_label_dir, label.split('.')[0], ['2']) # because in xml, the class is named 2\n",
    "    else:\n",
    "        print(f\"Warning: {label} is missing or empty.\")\n",
    "\n",
    "for label in os.listdir(test_label_dir):\n",
    "    label_path = os.path.join(test_label_dir, label)\n",
    "    if os.path.exists(label_path):\n",
    "        convert_label_to_txt(test_label_dir, label.split('.')[0], ['pool'])\n",
    "    else:\n",
    "        print(f\"Warning: {label} is missing or empty.\")\n"
   ]
  },
  {
   "cell_type": "code",
   "execution_count": null,
   "metadata": {},
   "outputs": [
    {
     "name": "stderr",
     "output_type": "stream",
     "text": [
      "/home/franciscosantos/workspace/IPVC/PROJECT_III/pool-detection-gis/.virtualenv/lib/python3.12/site-packages/tqdm/auto.py:21: TqdmWarning: IProgress not found. Please update jupyter and ipywidgets. See https://ipywidgets.readthedocs.io/en/stable/user_install.html\n",
      "  from .autonotebook import tqdm as notebook_tqdm\n",
      "[I 2024-11-13 10:39:02,165] Using an existing study with name 'yolov8s_tuning-67tudy' instead of creating a new one.\n",
      "/tmp/ipykernel_7113/4272923973.py:9: FutureWarning: suggest_loguniform has been deprecated in v3.0.0. This feature will be removed in v6.0.0. See https://github.com/optuna/optuna/releases/tag/v3.0.0. Use suggest_float(..., log=True) instead.\n",
      "  lr0 = trial.suggest_loguniform('lr0', 1e-5, 1e-1)\n",
      "/tmp/ipykernel_7113/4272923973.py:10: FutureWarning: suggest_loguniform has been deprecated in v3.0.0. This feature will be removed in v6.0.0. See https://github.com/optuna/optuna/releases/tag/v3.0.0. Use suggest_float(..., log=True) instead.\n",
      "  weight_decay = trial.suggest_loguniform('weight_decay', 1e-6, 1e-3)\n",
      "/tmp/ipykernel_7113/4272923973.py:11: FutureWarning: suggest_uniform has been deprecated in v3.0.0. This feature will be removed in v6.0.0. See https://github.com/optuna/optuna/releases/tag/v3.0.0. Use suggest_float instead.\n",
      "  momentum = trial.suggest_uniform('momentum', 0.85, 0.95)\n",
      "/tmp/ipykernel_7113/4272923973.py:13: FutureWarning: suggest_uniform has been deprecated in v3.0.0. This feature will be removed in v6.0.0. See https://github.com/optuna/optuna/releases/tag/v3.0.0. Use suggest_float instead.\n",
      "  dropout = trial.suggest_uniform('dropout', 0.1, 0.5)\n"
     ]
    },
    {
     "name": "stdout",
     "output_type": "stream",
     "text": [
      "New https://pypi.org/project/ultralytics/8.3.29 available 😃 Update with 'pip install -U ultralytics'\n",
      "\u001b[34m\u001b[1mengine/trainer: \u001b[0mtask=detect, mode=train, model=yolov8s.pt, data=/home/franciscosantos/workspace/IPVC/PROJECT_III/pool-detection-gis/pool-dataset/data.yaml, epochs=50, time=None, patience=100, batch=8, imgsz=224, save=True, save_period=-1, cache=False, device=cuda:0, workers=8, project=None, name=train123, exist_ok=False, pretrained=True, optimizer=AdamW, verbose=True, seed=0, deterministic=True, single_cls=False, rect=False, cos_lr=False, close_mosaic=10, resume=False, amp=True, fraction=1.0, profile=False, freeze=None, multi_scale=False, overlap_mask=True, mask_ratio=4, dropout=0.1002740630429371, val=True, split=val, save_json=False, save_hybrid=False, conf=None, iou=0.7, max_det=300, half=False, dnn=False, plots=True, source=None, vid_stride=1, stream_buffer=False, visualize=False, augment=False, agnostic_nms=False, classes=None, retina_masks=False, embed=None, show=False, save_frames=False, save_txt=False, save_conf=False, save_crop=False, show_labels=True, show_conf=True, show_boxes=True, line_width=None, format=torchscript, keras=False, optimize=False, int8=False, dynamic=False, simplify=True, opset=None, workspace=4, nms=False, lr0=0.00045039734868841186, lrf=0.01, momentum=0.9118339055349933, weight_decay=9.111414502978839e-06, warmup_epochs=3.0, warmup_momentum=0.8, warmup_bias_lr=0.1, box=7.5, cls=0.5, dfl=1.5, pose=12.0, kobj=1.0, label_smoothing=0.0, nbs=64, hsv_h=0.015, hsv_s=0.7, hsv_v=0.4, degrees=0.0, translate=0.1, scale=0.5, shear=0.0, perspective=0.0, flipud=0.0, fliplr=0.5, bgr=0.0, mosaic=1.0, mixup=0.0, copy_paste=0.0, copy_paste_mode=flip, auto_augment=randaugment, erasing=0.4, crop_fraction=1.0, cfg=None, tracker=botsort.yaml, save_dir=/home/franciscosantos/workspace/IPVC/PROJECT_III/pool-detection-gis/runs/detect/train123\n",
      "Overriding model.yaml nc=80 with nc=1\n",
      "\n",
      "                   from  n    params  module                                       arguments                     \n",
      "  0                  -1  1       928  ultralytics.nn.modules.conv.Conv             [3, 32, 3, 2]                 \n",
      "  1                  -1  1     18560  ultralytics.nn.modules.conv.Conv             [32, 64, 3, 2]                \n",
      "  2                  -1  1     29056  ultralytics.nn.modules.block.C2f             [64, 64, 1, True]             \n",
      "  3                  -1  1     73984  ultralytics.nn.modules.conv.Conv             [64, 128, 3, 2]               \n",
      "  4                  -1  2    197632  ultralytics.nn.modules.block.C2f             [128, 128, 2, True]           \n",
      "  5                  -1  1    295424  ultralytics.nn.modules.conv.Conv             [128, 256, 3, 2]              \n",
      "  6                  -1  2    788480  ultralytics.nn.modules.block.C2f             [256, 256, 2, True]           \n",
      "  7                  -1  1   1180672  ultralytics.nn.modules.conv.Conv             [256, 512, 3, 2]              \n",
      "  8                  -1  1   1838080  ultralytics.nn.modules.block.C2f             [512, 512, 1, True]           \n",
      "  9                  -1  1    656896  ultralytics.nn.modules.block.SPPF            [512, 512, 5]                 \n",
      " 10                  -1  1         0  torch.nn.modules.upsampling.Upsample         [None, 2, 'nearest']          \n",
      " 11             [-1, 6]  1         0  ultralytics.nn.modules.conv.Concat           [1]                           \n",
      " 12                  -1  1    591360  ultralytics.nn.modules.block.C2f             [768, 256, 1]                 \n",
      " 13                  -1  1         0  torch.nn.modules.upsampling.Upsample         [None, 2, 'nearest']          \n",
      " 14             [-1, 4]  1         0  ultralytics.nn.modules.conv.Concat           [1]                           \n",
      " 15                  -1  1    148224  ultralytics.nn.modules.block.C2f             [384, 128, 1]                 \n",
      " 16                  -1  1    147712  ultralytics.nn.modules.conv.Conv             [128, 128, 3, 2]              \n",
      " 17            [-1, 12]  1         0  ultralytics.nn.modules.conv.Concat           [1]                           \n",
      " 18                  -1  1    493056  ultralytics.nn.modules.block.C2f             [384, 256, 1]                 \n",
      " 19                  -1  1    590336  ultralytics.nn.modules.conv.Conv             [256, 256, 3, 2]              \n",
      " 20             [-1, 9]  1         0  ultralytics.nn.modules.conv.Concat           [1]                           \n",
      " 21                  -1  1   1969152  ultralytics.nn.modules.block.C2f             [768, 512, 1]                 \n",
      " 22        [15, 18, 21]  1   2116435  ultralytics.nn.modules.head.Detect           [1, [128, 256, 512]]          \n",
      "Model summary: 225 layers, 11,135,987 parameters, 11,135,971 gradients, 28.6 GFLOPs\n",
      "\n",
      "Transferred 349/355 items from pretrained weights\n",
      "Freezing layer 'model.22.dfl.conv.weight'\n",
      "\u001b[34m\u001b[1mAMP: \u001b[0mrunning Automatic Mixed Precision (AMP) checks...\n",
      "\u001b[34m\u001b[1mAMP: \u001b[0mchecks passed ✅\n"
     ]
    },
    {
     "name": "stderr",
     "output_type": "stream",
     "text": [
      "\u001b[34m\u001b[1mtrain: \u001b[0mScanning /home/franciscosantos/workspace/IPVC/PROJECT_III/pool-detection-gis/pool-dataset/training/labels.cache... 1993 images, 0 backgrounds, 0 corrupt: 100%|██████████| 1993/1993 [00:00<?, ?it/s]\n"
     ]
    },
    {
     "name": "stdout",
     "output_type": "stream",
     "text": [
      "\u001b[34m\u001b[1malbumentations: \u001b[0mBlur(p=0.01, blur_limit=(3, 7)), MedianBlur(p=0.01, blur_limit=(3, 7)), ToGray(p=0.01, num_output_channels=3, method='weighted_average'), CLAHE(p=0.01, clip_limit=(1.0, 4.0), tile_grid_size=(8, 8))\n"
     ]
    },
    {
     "name": "stderr",
     "output_type": "stream",
     "text": [
      "\u001b[34m\u001b[1mval: \u001b[0mScanning /home/franciscosantos/workspace/IPVC/PROJECT_III/pool-detection-gis/pool-dataset/testing/labels.cache... 524 images, 2179 backgrounds, 0 corrupt: 100%|██████████| 2703/2703 [00:00<?, ?it/s]"
     ]
    },
    {
     "name": "stdout",
     "output_type": "stream",
     "text": [
      "\u001b[34m\u001b[1mval: \u001b[0mWARNING ⚠️ /home/franciscosantos/workspace/IPVC/PROJECT_III/pool-detection-gis/pool-dataset/testing/images/000001111.jpg: corrupt JPEG restored and saved\n"
     ]
    },
    {
     "name": "stderr",
     "output_type": "stream",
     "text": [
      "\n"
     ]
    },
    {
     "name": "stdout",
     "output_type": "stream",
     "text": [
      "Plotting labels to /home/franciscosantos/workspace/IPVC/PROJECT_III/pool-detection-gis/runs/detect/train123/labels.jpg... \n",
      "\u001b[34m\u001b[1moptimizer:\u001b[0m AdamW(lr=0.00045039734868841186, momentum=0.9118339055349933) with parameter groups 57 weight(decay=0.0), 64 weight(decay=9.111414502978839e-06), 63 bias(decay=0.0)\n",
      "Image sizes 224 train, 224 val\n",
      "Using 8 dataloader workers\n",
      "Logging results to \u001b[1m/home/franciscosantos/workspace/IPVC/PROJECT_III/pool-detection-gis/runs/detect/train123\u001b[0m\n",
      "Starting training for 50 epochs...\n",
      "\n",
      "      Epoch    GPU_mem   box_loss   cls_loss   dfl_loss  Instances       Size\n"
     ]
    },
    {
     "name": "stderr",
     "output_type": "stream",
     "text": [
      "       1/50     0.552G      2.081      1.338      1.453          3        224: 100%|██████████| 250/250 [00:07<00:00, 32.38it/s]\n",
      "                 Class     Images  Instances      Box(P          R      mAP50  mAP50-95): 100%|██████████| 169/169 [00:03<00:00, 43.65it/s]"
     ]
    },
    {
     "name": "stdout",
     "output_type": "stream",
     "text": [
      "                   all       2703        620      0.693      0.584      0.564      0.163\n"
     ]
    },
    {
     "name": "stderr",
     "output_type": "stream",
     "text": [
      "\n"
     ]
    },
    {
     "name": "stdout",
     "output_type": "stream",
     "text": [
      "\n",
      "      Epoch    GPU_mem   box_loss   cls_loss   dfl_loss  Instances       Size\n"
     ]
    },
    {
     "name": "stderr",
     "output_type": "stream",
     "text": [
      "       2/50     0.558G      1.832      1.067      1.331          0        224: 100%|██████████| 250/250 [00:07<00:00, 35.59it/s]\n",
      "                 Class     Images  Instances      Box(P          R      mAP50  mAP50-95): 100%|██████████| 169/169 [00:04<00:00, 41.61it/s]\n"
     ]
    },
    {
     "name": "stdout",
     "output_type": "stream",
     "text": [
      "                   all       2703        620       0.78      0.682      0.675      0.189\n",
      "\n",
      "      Epoch    GPU_mem   box_loss   cls_loss   dfl_loss  Instances       Size\n"
     ]
    },
    {
     "name": "stderr",
     "output_type": "stream",
     "text": [
      "       3/50     0.568G       1.77       1.01      1.296          0        224: 100%|██████████| 250/250 [00:07<00:00, 35.24it/s]\n",
      "                 Class     Images  Instances      Box(P          R      mAP50  mAP50-95): 100%|██████████| 169/169 [00:03<00:00, 45.24it/s]"
     ]
    },
    {
     "name": "stdout",
     "output_type": "stream",
     "text": [
      "                   all       2703        620      0.808      0.684        0.7      0.205\n"
     ]
    },
    {
     "name": "stderr",
     "output_type": "stream",
     "text": [
      "\n"
     ]
    },
    {
     "name": "stdout",
     "output_type": "stream",
     "text": [
      "\n",
      "      Epoch    GPU_mem   box_loss   cls_loss   dfl_loss  Instances       Size\n"
     ]
    },
    {
     "name": "stderr",
     "output_type": "stream",
     "text": [
      "       4/50     0.558G      1.733     0.9837      1.268          1        224: 100%|██████████| 250/250 [00:06<00:00, 38.81it/s]\n",
      "                 Class     Images  Instances      Box(P          R      mAP50  mAP50-95): 100%|██████████| 169/169 [00:03<00:00, 51.28it/s]\n"
     ]
    },
    {
     "name": "stdout",
     "output_type": "stream",
     "text": [
      "                   all       2703        620      0.778      0.608      0.602      0.162\n",
      "\n",
      "      Epoch    GPU_mem   box_loss   cls_loss   dfl_loss  Instances       Size\n"
     ]
    },
    {
     "name": "stderr",
     "output_type": "stream",
     "text": [
      "       5/50     0.575G      1.651     0.9624      1.239          0        224: 100%|██████████| 250/250 [00:06<00:00, 40.54it/s]\n",
      "                 Class     Images  Instances      Box(P          R      mAP50  mAP50-95): 100%|██████████| 169/169 [00:03<00:00, 47.67it/s]"
     ]
    },
    {
     "name": "stdout",
     "output_type": "stream",
     "text": [
      "                   all       2703        620       0.75      0.648      0.618      0.165\n"
     ]
    },
    {
     "name": "stderr",
     "output_type": "stream",
     "text": [
      "\n"
     ]
    },
    {
     "name": "stdout",
     "output_type": "stream",
     "text": [
      "\n",
      "      Epoch    GPU_mem   box_loss   cls_loss   dfl_loss  Instances       Size\n"
     ]
    },
    {
     "name": "stderr",
     "output_type": "stream",
     "text": [
      "       6/50     0.568G      1.651     0.9177      1.248          4        224: 100%|██████████| 250/250 [00:06<00:00, 36.08it/s]\n",
      "                 Class     Images  Instances      Box(P          R      mAP50  mAP50-95): 100%|██████████| 169/169 [00:03<00:00, 45.69it/s]\n"
     ]
    },
    {
     "name": "stdout",
     "output_type": "stream",
     "text": [
      "                   all       2703        620      0.714       0.64       0.63      0.179\n",
      "\n",
      "      Epoch    GPU_mem   box_loss   cls_loss   dfl_loss  Instances       Size\n"
     ]
    },
    {
     "name": "stderr",
     "output_type": "stream",
     "text": [
      "       7/50      0.57G      1.617     0.9199       1.22          1        224: 100%|██████████| 250/250 [00:06<00:00, 40.52it/s]\n",
      "                 Class     Images  Instances      Box(P          R      mAP50  mAP50-95): 100%|██████████| 169/169 [00:03<00:00, 51.06it/s]\n"
     ]
    },
    {
     "name": "stdout",
     "output_type": "stream",
     "text": [
      "                   all       2703        620      0.781      0.679      0.694      0.192\n",
      "\n",
      "      Epoch    GPU_mem   box_loss   cls_loss   dfl_loss  Instances       Size\n"
     ]
    },
    {
     "name": "stderr",
     "output_type": "stream",
     "text": [
      "       8/50     0.545G      1.579     0.8798      1.209          3        224: 100%|██████████| 250/250 [00:05<00:00, 41.88it/s]\n",
      "                 Class     Images  Instances      Box(P          R      mAP50  mAP50-95): 100%|██████████| 169/169 [00:03<00:00, 51.19it/s]"
     ]
    },
    {
     "name": "stdout",
     "output_type": "stream",
     "text": [
      "                   all       2703        620      0.801      0.661       0.64      0.167\n"
     ]
    },
    {
     "name": "stderr",
     "output_type": "stream",
     "text": [
      "\n"
     ]
    },
    {
     "name": "stdout",
     "output_type": "stream",
     "text": [
      "\n",
      "      Epoch    GPU_mem   box_loss   cls_loss   dfl_loss  Instances       Size\n"
     ]
    },
    {
     "name": "stderr",
     "output_type": "stream",
     "text": [
      "       9/50     0.568G      1.552     0.8599      1.196          0        224: 100%|██████████| 250/250 [00:06<00:00, 41.48it/s]\n",
      "                 Class     Images  Instances      Box(P          R      mAP50  mAP50-95): 100%|██████████| 169/169 [00:03<00:00, 51.68it/s]\n"
     ]
    },
    {
     "name": "stdout",
     "output_type": "stream",
     "text": [
      "                   all       2703        620      0.757      0.669      0.646      0.173\n",
      "\n",
      "      Epoch    GPU_mem   box_loss   cls_loss   dfl_loss  Instances       Size\n"
     ]
    },
    {
     "name": "stderr",
     "output_type": "stream",
     "text": [
      "      10/50     0.566G      1.551     0.8444       1.21          2        224: 100%|██████████| 250/250 [00:06<00:00, 41.48it/s]\n",
      "                 Class     Images  Instances      Box(P          R      mAP50  mAP50-95): 100%|██████████| 169/169 [00:03<00:00, 48.04it/s]"
     ]
    },
    {
     "name": "stdout",
     "output_type": "stream",
     "text": [
      "                   all       2703        620      0.755      0.676      0.636      0.162\n"
     ]
    },
    {
     "name": "stderr",
     "output_type": "stream",
     "text": [
      "\n"
     ]
    },
    {
     "name": "stdout",
     "output_type": "stream",
     "text": [
      "\n",
      "      Epoch    GPU_mem   box_loss   cls_loss   dfl_loss  Instances       Size\n"
     ]
    },
    {
     "name": "stderr",
     "output_type": "stream",
     "text": [
      "      11/50      0.57G      1.521      0.832      1.186          2        224: 100%|██████████| 250/250 [00:06<00:00, 39.50it/s]\n",
      "                 Class     Images  Instances      Box(P          R      mAP50  mAP50-95): 100%|██████████| 169/169 [00:03<00:00, 49.78it/s]"
     ]
    },
    {
     "name": "stdout",
     "output_type": "stream",
     "text": [
      "                   all       2703        620      0.753      0.673      0.631      0.171\n"
     ]
    },
    {
     "name": "stderr",
     "output_type": "stream",
     "text": [
      "\n"
     ]
    },
    {
     "name": "stdout",
     "output_type": "stream",
     "text": [
      "\n",
      "      Epoch    GPU_mem   box_loss   cls_loss   dfl_loss  Instances       Size\n"
     ]
    },
    {
     "name": "stderr",
     "output_type": "stream",
     "text": [
      "      12/50     0.547G      1.506     0.8298      1.189          2        224: 100%|██████████| 250/250 [00:06<00:00, 37.48it/s]\n",
      "                 Class     Images  Instances      Box(P          R      mAP50  mAP50-95): 100%|██████████| 169/169 [00:04<00:00, 42.03it/s]\n"
     ]
    },
    {
     "name": "stdout",
     "output_type": "stream",
     "text": [
      "                   all       2703        620      0.753       0.64      0.602      0.146\n",
      "\n",
      "      Epoch    GPU_mem   box_loss   cls_loss   dfl_loss  Instances       Size\n"
     ]
    },
    {
     "name": "stderr",
     "output_type": "stream",
     "text": [
      "      13/50     0.573G      1.514     0.8275      1.176          2        224: 100%|██████████| 250/250 [00:06<00:00, 36.56it/s]\n",
      "                 Class     Images  Instances      Box(P          R      mAP50  mAP50-95): 100%|██████████| 169/169 [00:03<00:00, 45.38it/s]"
     ]
    },
    {
     "name": "stdout",
     "output_type": "stream",
     "text": [
      "                   all       2703        620      0.755      0.645      0.614      0.156\n"
     ]
    },
    {
     "name": "stderr",
     "output_type": "stream",
     "text": [
      "\n"
     ]
    },
    {
     "name": "stdout",
     "output_type": "stream",
     "text": [
      "\n",
      "      Epoch    GPU_mem   box_loss   cls_loss   dfl_loss  Instances       Size\n"
     ]
    },
    {
     "name": "stderr",
     "output_type": "stream",
     "text": [
      "      14/50     0.566G       1.51     0.8325      1.187          1        224: 100%|██████████| 250/250 [00:06<00:00, 38.32it/s]\n",
      "                 Class     Images  Instances      Box(P          R      mAP50  mAP50-95): 100%|██████████| 169/169 [00:03<00:00, 44.66it/s]\n"
     ]
    },
    {
     "name": "stdout",
     "output_type": "stream",
     "text": [
      "                   all       2703        620      0.751      0.612      0.568      0.135\n",
      "\n",
      "      Epoch    GPU_mem   box_loss   cls_loss   dfl_loss  Instances       Size\n"
     ]
    },
    {
     "name": "stderr",
     "output_type": "stream",
     "text": [
      "      15/50     0.573G      1.455     0.7993      1.155          3        224: 100%|██████████| 250/250 [00:07<00:00, 34.95it/s]\n",
      "                 Class     Images  Instances      Box(P          R      mAP50  mAP50-95): 100%|██████████| 169/169 [00:03<00:00, 44.66it/s]"
     ]
    },
    {
     "name": "stdout",
     "output_type": "stream",
     "text": [
      "                   all       2703        620      0.712      0.619       0.51       0.12\n"
     ]
    },
    {
     "name": "stderr",
     "output_type": "stream",
     "text": [
      "\n"
     ]
    },
    {
     "name": "stdout",
     "output_type": "stream",
     "text": [
      "\n",
      "      Epoch    GPU_mem   box_loss   cls_loss   dfl_loss  Instances       Size\n"
     ]
    },
    {
     "name": "stderr",
     "output_type": "stream",
     "text": [
      "      16/50     0.564G      1.442     0.7811      1.148          3        224: 100%|██████████| 250/250 [00:06<00:00, 38.09it/s]\n",
      "                 Class     Images  Instances      Box(P          R      mAP50  mAP50-95): 100%|██████████| 169/169 [00:03<00:00, 46.04it/s]"
     ]
    },
    {
     "name": "stdout",
     "output_type": "stream",
     "text": [
      "                   all       2703        620      0.764      0.634      0.592      0.146\n"
     ]
    },
    {
     "name": "stderr",
     "output_type": "stream",
     "text": [
      "\n"
     ]
    },
    {
     "name": "stdout",
     "output_type": "stream",
     "text": [
      "\n",
      "      Epoch    GPU_mem   box_loss   cls_loss   dfl_loss  Instances       Size\n"
     ]
    },
    {
     "name": "stderr",
     "output_type": "stream",
     "text": [
      "      17/50     0.568G      1.395     0.7693      1.138          6        224: 100%|██████████| 250/250 [00:06<00:00, 37.82it/s]\n",
      "                 Class     Images  Instances      Box(P          R      mAP50  mAP50-95): 100%|██████████| 169/169 [00:03<00:00, 46.33it/s]"
     ]
    },
    {
     "name": "stdout",
     "output_type": "stream",
     "text": [
      "                   all       2703        620      0.698      0.623      0.571      0.139\n"
     ]
    },
    {
     "name": "stderr",
     "output_type": "stream",
     "text": [
      "\n"
     ]
    },
    {
     "name": "stdout",
     "output_type": "stream",
     "text": [
      "\n",
      "      Epoch    GPU_mem   box_loss   cls_loss   dfl_loss  Instances       Size\n"
     ]
    },
    {
     "name": "stderr",
     "output_type": "stream",
     "text": [
      "      18/50     0.566G      1.397     0.7802      1.133          3        224: 100%|██████████| 250/250 [00:06<00:00, 36.02it/s]\n",
      "                 Class     Images  Instances      Box(P          R      mAP50  mAP50-95): 100%|██████████| 169/169 [00:03<00:00, 46.23it/s]\n"
     ]
    },
    {
     "name": "stdout",
     "output_type": "stream",
     "text": [
      "                   all       2703        620       0.72      0.653      0.586      0.147\n",
      "\n",
      "      Epoch    GPU_mem   box_loss   cls_loss   dfl_loss  Instances       Size\n"
     ]
    },
    {
     "name": "stderr",
     "output_type": "stream",
     "text": [
      "      19/50      0.57G      1.401     0.7476      1.126          2        224: 100%|██████████| 250/250 [00:06<00:00, 37.77it/s]\n",
      "                 Class     Images  Instances      Box(P          R      mAP50  mAP50-95): 100%|██████████| 169/169 [00:03<00:00, 46.12it/s]"
     ]
    },
    {
     "name": "stdout",
     "output_type": "stream",
     "text": [
      "                   all       2703        620       0.77      0.658      0.645       0.18\n"
     ]
    },
    {
     "name": "stderr",
     "output_type": "stream",
     "text": [
      "\n"
     ]
    },
    {
     "name": "stdout",
     "output_type": "stream",
     "text": [
      "\n",
      "      Epoch    GPU_mem   box_loss   cls_loss   dfl_loss  Instances       Size\n"
     ]
    },
    {
     "name": "stderr",
     "output_type": "stream",
     "text": [
      "      20/50     0.568G      1.342     0.7467      1.112          1        224: 100%|██████████| 250/250 [00:06<00:00, 37.85it/s]\n",
      "                 Class     Images  Instances      Box(P          R      mAP50  mAP50-95): 100%|██████████| 169/169 [00:03<00:00, 46.13it/s]\n"
     ]
    },
    {
     "name": "stdout",
     "output_type": "stream",
     "text": [
      "                   all       2703        620      0.712      0.616      0.588       0.14\n",
      "\n",
      "      Epoch    GPU_mem   box_loss   cls_loss   dfl_loss  Instances       Size\n"
     ]
    },
    {
     "name": "stderr",
     "output_type": "stream",
     "text": [
      "      21/50     0.573G      1.305     0.7128      1.098          2        224: 100%|██████████| 250/250 [00:06<00:00, 37.03it/s]\n",
      "                 Class     Images  Instances      Box(P          R      mAP50  mAP50-95): 100%|██████████| 169/169 [00:03<00:00, 45.06it/s]\n"
     ]
    },
    {
     "name": "stdout",
     "output_type": "stream",
     "text": [
      "                   all       2703        620        0.7      0.632      0.564      0.132\n",
      "\n",
      "      Epoch    GPU_mem   box_loss   cls_loss   dfl_loss  Instances       Size\n"
     ]
    },
    {
     "name": "stderr",
     "output_type": "stream",
     "text": [
      "      22/50      0.57G      1.353     0.7474      1.115          2        224: 100%|██████████| 250/250 [00:06<00:00, 37.52it/s]\n",
      "                 Class     Images  Instances      Box(P          R      mAP50  mAP50-95): 100%|██████████| 169/169 [00:03<00:00, 45.52it/s]"
     ]
    },
    {
     "name": "stdout",
     "output_type": "stream",
     "text": [
      "                   all       2703        620      0.723      0.645      0.593      0.148\n"
     ]
    },
    {
     "name": "stderr",
     "output_type": "stream",
     "text": [
      "\n"
     ]
    },
    {
     "name": "stdout",
     "output_type": "stream",
     "text": [
      "\n",
      "      Epoch    GPU_mem   box_loss   cls_loss   dfl_loss  Instances       Size\n"
     ]
    },
    {
     "name": "stderr",
     "output_type": "stream",
     "text": [
      "      23/50     0.547G      1.312     0.7125      1.096          4        224: 100%|██████████| 250/250 [00:06<00:00, 37.64it/s]\n",
      "                 Class     Images  Instances      Box(P          R      mAP50  mAP50-95): 100%|██████████| 169/169 [00:03<00:00, 46.01it/s]"
     ]
    },
    {
     "name": "stdout",
     "output_type": "stream",
     "text": [
      "                   all       2703        620      0.717      0.622       0.58      0.138\n"
     ]
    },
    {
     "name": "stderr",
     "output_type": "stream",
     "text": [
      "\n"
     ]
    },
    {
     "name": "stdout",
     "output_type": "stream",
     "text": [
      "\n",
      "      Epoch    GPU_mem   box_loss   cls_loss   dfl_loss  Instances       Size\n"
     ]
    },
    {
     "name": "stderr",
     "output_type": "stream",
     "text": [
      "      24/50     0.543G      1.288     0.6933      1.086          4        224: 100%|██████████| 250/250 [00:06<00:00, 36.74it/s]\n",
      "                 Class     Images  Instances      Box(P          R      mAP50  mAP50-95): 100%|██████████| 169/169 [00:03<00:00, 45.84it/s]"
     ]
    },
    {
     "name": "stdout",
     "output_type": "stream",
     "text": [
      "                   all       2703        620      0.711      0.639      0.602      0.159\n"
     ]
    },
    {
     "name": "stderr",
     "output_type": "stream",
     "text": [
      "\n"
     ]
    },
    {
     "name": "stdout",
     "output_type": "stream",
     "text": [
      "\n",
      "      Epoch    GPU_mem   box_loss   cls_loss   dfl_loss  Instances       Size\n"
     ]
    },
    {
     "name": "stderr",
     "output_type": "stream",
     "text": [
      "      25/50      0.57G      1.282     0.6974       1.08          4        224: 100%|██████████| 250/250 [00:06<00:00, 37.77it/s]\n",
      "                 Class     Images  Instances      Box(P          R      mAP50  mAP50-95): 100%|██████████| 169/169 [00:03<00:00, 45.64it/s]"
     ]
    },
    {
     "name": "stdout",
     "output_type": "stream",
     "text": [
      "                   all       2703        620       0.72      0.647      0.596      0.152\n"
     ]
    },
    {
     "name": "stderr",
     "output_type": "stream",
     "text": [
      "\n"
     ]
    },
    {
     "name": "stdout",
     "output_type": "stream",
     "text": [
      "\n",
      "      Epoch    GPU_mem   box_loss   cls_loss   dfl_loss  Instances       Size\n"
     ]
    },
    {
     "name": "stderr",
     "output_type": "stream",
     "text": [
      "      26/50     0.568G      1.251     0.6867      1.077          1        224: 100%|██████████| 250/250 [00:06<00:00, 37.95it/s]\n",
      "                 Class     Images  Instances      Box(P          R      mAP50  mAP50-95): 100%|██████████| 169/169 [00:03<00:00, 46.16it/s]\n"
     ]
    },
    {
     "name": "stdout",
     "output_type": "stream",
     "text": [
      "                   all       2703        620      0.746      0.631      0.584      0.143\n",
      "\n",
      "      Epoch    GPU_mem   box_loss   cls_loss   dfl_loss  Instances       Size\n"
     ]
    },
    {
     "name": "stderr",
     "output_type": "stream",
     "text": [
      "      27/50     0.568G      1.228     0.6599      1.069          0        224: 100%|██████████| 250/250 [00:06<00:00, 37.75it/s]\n",
      "                 Class     Images  Instances      Box(P          R      mAP50  mAP50-95): 100%|██████████| 169/169 [00:03<00:00, 42.41it/s]"
     ]
    },
    {
     "name": "stdout",
     "output_type": "stream",
     "text": [
      "                   all       2703        620      0.704      0.598      0.541      0.128\n"
     ]
    },
    {
     "name": "stderr",
     "output_type": "stream",
     "text": [
      "\n"
     ]
    },
    {
     "name": "stdout",
     "output_type": "stream",
     "text": [
      "\n",
      "      Epoch    GPU_mem   box_loss   cls_loss   dfl_loss  Instances       Size\n"
     ]
    },
    {
     "name": "stderr",
     "output_type": "stream",
     "text": [
      "      28/50     0.547G      1.254     0.6694       1.08          2        224: 100%|██████████| 250/250 [00:06<00:00, 36.44it/s]\n",
      "                 Class     Images  Instances      Box(P          R      mAP50  mAP50-95): 100%|██████████| 169/169 [00:03<00:00, 45.35it/s]"
     ]
    },
    {
     "name": "stdout",
     "output_type": "stream",
     "text": [
      "                   all       2703        620       0.71        0.6      0.527      0.125\n"
     ]
    },
    {
     "name": "stderr",
     "output_type": "stream",
     "text": [
      "\n"
     ]
    },
    {
     "name": "stdout",
     "output_type": "stream",
     "text": [
      "\n",
      "      Epoch    GPU_mem   box_loss   cls_loss   dfl_loss  Instances       Size\n"
     ]
    },
    {
     "name": "stderr",
     "output_type": "stream",
     "text": [
      "      29/50     0.566G      1.217     0.6627      1.061          1        224: 100%|██████████| 250/250 [00:06<00:00, 37.36it/s]\n",
      "                 Class     Images  Instances      Box(P          R      mAP50  mAP50-95): 100%|██████████| 169/169 [00:03<00:00, 45.77it/s]"
     ]
    },
    {
     "name": "stdout",
     "output_type": "stream",
     "text": [
      "                   all       2703        620      0.745      0.623      0.587      0.145\n"
     ]
    },
    {
     "name": "stderr",
     "output_type": "stream",
     "text": [
      "\n"
     ]
    },
    {
     "name": "stdout",
     "output_type": "stream",
     "text": [
      "\n",
      "      Epoch    GPU_mem   box_loss   cls_loss   dfl_loss  Instances       Size\n"
     ]
    },
    {
     "name": "stderr",
     "output_type": "stream",
     "text": [
      "      30/50     0.566G      1.206     0.6484      1.061          2        224: 100%|██████████| 250/250 [00:06<00:00, 37.39it/s]\n",
      "                 Class     Images  Instances      Box(P          R      mAP50  mAP50-95): 100%|██████████| 169/169 [00:03<00:00, 45.98it/s]"
     ]
    },
    {
     "name": "stdout",
     "output_type": "stream",
     "text": [
      "                   all       2703        620      0.694      0.624      0.543      0.127\n"
     ]
    },
    {
     "name": "stderr",
     "output_type": "stream",
     "text": [
      "\n"
     ]
    },
    {
     "name": "stdout",
     "output_type": "stream",
     "text": [
      "\n",
      "      Epoch    GPU_mem   box_loss   cls_loss   dfl_loss  Instances       Size\n"
     ]
    },
    {
     "name": "stderr",
     "output_type": "stream",
     "text": [
      "      31/50     0.566G      1.162     0.6346      1.038          2        224: 100%|██████████| 250/250 [00:06<00:00, 35.91it/s]\n",
      "                 Class     Images  Instances      Box(P          R      mAP50  mAP50-95): 100%|██████████| 169/169 [00:03<00:00, 46.52it/s]\n"
     ]
    },
    {
     "name": "stdout",
     "output_type": "stream",
     "text": [
      "                   all       2703        620      0.726      0.649      0.572       0.13\n",
      "\n",
      "      Epoch    GPU_mem   box_loss   cls_loss   dfl_loss  Instances       Size\n"
     ]
    },
    {
     "name": "stderr",
     "output_type": "stream",
     "text": [
      "      32/50     0.547G      1.176     0.6506      1.046          1        224: 100%|██████████| 250/250 [00:06<00:00, 36.60it/s]\n",
      "                 Class     Images  Instances      Box(P          R      mAP50  mAP50-95): 100%|██████████| 169/169 [00:03<00:00, 45.43it/s]\n"
     ]
    },
    {
     "name": "stdout",
     "output_type": "stream",
     "text": [
      "                   all       2703        620      0.746      0.616      0.563      0.126\n",
      "\n",
      "      Epoch    GPU_mem   box_loss   cls_loss   dfl_loss  Instances       Size\n"
     ]
    },
    {
     "name": "stderr",
     "output_type": "stream",
     "text": [
      "      33/50     0.566G      1.157     0.6282      1.031          2        224: 100%|██████████| 250/250 [00:06<00:00, 37.61it/s]\n",
      "                 Class     Images  Instances      Box(P          R      mAP50  mAP50-95): 100%|██████████| 169/169 [00:03<00:00, 45.07it/s]"
     ]
    },
    {
     "name": "stdout",
     "output_type": "stream",
     "text": [
      "                   all       2703        620      0.703      0.637      0.558      0.123\n"
     ]
    },
    {
     "name": "stderr",
     "output_type": "stream",
     "text": [
      "\n"
     ]
    },
    {
     "name": "stdout",
     "output_type": "stream",
     "text": [
      "\n",
      "      Epoch    GPU_mem   box_loss   cls_loss   dfl_loss  Instances       Size\n"
     ]
    },
    {
     "name": "stderr",
     "output_type": "stream",
     "text": [
      "      34/50     0.568G      1.147     0.6246      1.044          5        224: 100%|██████████| 250/250 [00:06<00:00, 36.59it/s]\n",
      "                 Class     Images  Instances      Box(P          R      mAP50  mAP50-95): 100%|██████████| 169/169 [00:03<00:00, 45.38it/s]\n"
     ]
    },
    {
     "name": "stdout",
     "output_type": "stream",
     "text": [
      "                   all       2703        620      0.744      0.619      0.568      0.131\n",
      "\n",
      "      Epoch    GPU_mem   box_loss   cls_loss   dfl_loss  Instances       Size\n"
     ]
    },
    {
     "name": "stderr",
     "output_type": "stream",
     "text": [
      "      35/50     0.566G      1.141     0.6241      1.031          4        224: 100%|██████████| 250/250 [00:06<00:00, 35.91it/s]\n",
      "                 Class     Images  Instances      Box(P          R      mAP50  mAP50-95): 100%|██████████| 169/169 [00:03<00:00, 46.15it/s]"
     ]
    },
    {
     "name": "stdout",
     "output_type": "stream",
     "text": [
      "                   all       2703        620      0.738      0.626      0.554      0.127\n"
     ]
    },
    {
     "name": "stderr",
     "output_type": "stream",
     "text": [
      "\n"
     ]
    },
    {
     "name": "stdout",
     "output_type": "stream",
     "text": [
      "\n",
      "      Epoch    GPU_mem   box_loss   cls_loss   dfl_loss  Instances       Size\n"
     ]
    },
    {
     "name": "stderr",
     "output_type": "stream",
     "text": [
      "      36/50     0.568G      1.129     0.6206      1.022          2        224: 100%|██████████| 250/250 [00:06<00:00, 36.26it/s]\n",
      "                 Class     Images  Instances      Box(P          R      mAP50  mAP50-95): 100%|██████████| 169/169 [00:03<00:00, 44.30it/s]\n"
     ]
    },
    {
     "name": "stdout",
     "output_type": "stream",
     "text": [
      "                   all       2703        620      0.699      0.618      0.529      0.125\n",
      "\n",
      "      Epoch    GPU_mem   box_loss   cls_loss   dfl_loss  Instances       Size\n"
     ]
    },
    {
     "name": "stderr",
     "output_type": "stream",
     "text": [
      "      37/50      0.57G      1.103     0.6028      1.022          2        224: 100%|██████████| 250/250 [00:06<00:00, 38.00it/s]\n",
      "                 Class     Images  Instances      Box(P          R      mAP50  mAP50-95): 100%|██████████| 169/169 [00:03<00:00, 46.37it/s]\n"
     ]
    },
    {
     "name": "stdout",
     "output_type": "stream",
     "text": [
      "                   all       2703        620      0.727      0.602      0.562      0.129\n",
      "\n",
      "      Epoch    GPU_mem   box_loss   cls_loss   dfl_loss  Instances       Size\n"
     ]
    },
    {
     "name": "stderr",
     "output_type": "stream",
     "text": [
      "      38/50     0.549G      1.109      0.624      1.015          5        224: 100%|██████████| 250/250 [00:06<00:00, 37.68it/s]\n",
      "                 Class     Images  Instances      Box(P          R      mAP50  mAP50-95): 100%|██████████| 169/169 [00:03<00:00, 46.52it/s]"
     ]
    },
    {
     "name": "stdout",
     "output_type": "stream",
     "text": [
      "                   all       2703        620      0.719      0.624      0.552      0.126\n"
     ]
    },
    {
     "name": "stderr",
     "output_type": "stream",
     "text": [
      "\n"
     ]
    },
    {
     "name": "stdout",
     "output_type": "stream",
     "text": [
      "\n",
      "      Epoch    GPU_mem   box_loss   cls_loss   dfl_loss  Instances       Size\n"
     ]
    },
    {
     "name": "stderr",
     "output_type": "stream",
     "text": [
      "      39/50     0.549G       1.09     0.5951      1.015          2        224: 100%|██████████| 250/250 [00:06<00:00, 37.49it/s]\n",
      "                 Class     Images  Instances      Box(P          R      mAP50  mAP50-95): 100%|██████████| 169/169 [00:03<00:00, 45.34it/s]\n"
     ]
    },
    {
     "name": "stdout",
     "output_type": "stream",
     "text": [
      "                   all       2703        620      0.711      0.631      0.575      0.136\n",
      "\n",
      "      Epoch    GPU_mem   box_loss   cls_loss   dfl_loss  Instances       Size\n"
     ]
    },
    {
     "name": "stderr",
     "output_type": "stream",
     "text": [
      "      40/50     0.549G      1.091     0.6001      1.016          3        224: 100%|██████████| 250/250 [00:06<00:00, 37.96it/s]\n",
      "                 Class     Images  Instances      Box(P          R      mAP50  mAP50-95): 100%|██████████| 169/169 [00:03<00:00, 46.21it/s]"
     ]
    },
    {
     "name": "stdout",
     "output_type": "stream",
     "text": [
      "                   all       2703        620      0.724      0.619      0.546      0.125\n"
     ]
    },
    {
     "name": "stderr",
     "output_type": "stream",
     "text": [
      "\n"
     ]
    },
    {
     "name": "stdout",
     "output_type": "stream",
     "text": [
      "Closing dataloader mosaic\n",
      "\u001b[34m\u001b[1malbumentations: \u001b[0mBlur(p=0.01, blur_limit=(3, 7)), MedianBlur(p=0.01, blur_limit=(3, 7)), ToGray(p=0.01, num_output_channels=3, method='weighted_average'), CLAHE(p=0.01, clip_limit=(1.0, 4.0), tile_grid_size=(8, 8))\n",
      "\n",
      "      Epoch    GPU_mem   box_loss   cls_loss   dfl_loss  Instances       Size\n"
     ]
    },
    {
     "name": "stderr",
     "output_type": "stream",
     "text": [
      "      41/50      0.57G      1.045     0.5357      1.031          4        224: 100%|██████████| 250/250 [00:06<00:00, 37.34it/s]\n",
      "                 Class     Images  Instances      Box(P          R      mAP50  mAP50-95): 100%|██████████| 169/169 [00:03<00:00, 46.48it/s]"
     ]
    },
    {
     "name": "stdout",
     "output_type": "stream",
     "text": [
      "                   all       2703        620      0.736       0.61      0.543      0.124\n"
     ]
    },
    {
     "name": "stderr",
     "output_type": "stream",
     "text": [
      "\n"
     ]
    },
    {
     "name": "stdout",
     "output_type": "stream",
     "text": [
      "\n",
      "      Epoch    GPU_mem   box_loss   cls_loss   dfl_loss  Instances       Size\n"
     ]
    },
    {
     "name": "stderr",
     "output_type": "stream",
     "text": [
      "      42/50     0.566G     0.9911      0.527      1.004          3        224: 100%|██████████| 250/250 [00:06<00:00, 38.00it/s]\n",
      "                 Class     Images  Instances      Box(P          R      mAP50  mAP50-95): 100%|██████████| 169/169 [00:03<00:00, 46.28it/s]"
     ]
    },
    {
     "name": "stdout",
     "output_type": "stream",
     "text": [
      "                   all       2703        620      0.721      0.601      0.525      0.124\n"
     ]
    },
    {
     "name": "stderr",
     "output_type": "stream",
     "text": [
      "\n"
     ]
    },
    {
     "name": "stdout",
     "output_type": "stream",
     "text": [
      "\n",
      "      Epoch    GPU_mem   box_loss   cls_loss   dfl_loss  Instances       Size\n"
     ]
    },
    {
     "name": "stderr",
     "output_type": "stream",
     "text": [
      "      43/50     0.564G     0.9497     0.5192     0.9954          2        224: 100%|██████████| 250/250 [00:06<00:00, 37.72it/s]\n",
      "                 Class     Images  Instances      Box(P          R      mAP50  mAP50-95): 100%|██████████| 169/169 [00:03<00:00, 46.76it/s]"
     ]
    },
    {
     "name": "stdout",
     "output_type": "stream",
     "text": [
      "                   all       2703        620      0.693      0.585      0.511      0.113\n"
     ]
    },
    {
     "name": "stderr",
     "output_type": "stream",
     "text": [
      "\n"
     ]
    },
    {
     "name": "stdout",
     "output_type": "stream",
     "text": [
      "\n",
      "      Epoch    GPU_mem   box_loss   cls_loss   dfl_loss  Instances       Size\n"
     ]
    },
    {
     "name": "stderr",
     "output_type": "stream",
     "text": [
      "      44/50     0.566G     0.9458      0.509     0.9913          1        224: 100%|██████████| 250/250 [00:06<00:00, 36.22it/s]\n",
      "                 Class     Images  Instances      Box(P          R      mAP50  mAP50-95): 100%|██████████| 169/169 [00:03<00:00, 43.92it/s]\n"
     ]
    },
    {
     "name": "stdout",
     "output_type": "stream",
     "text": [
      "                   all       2703        620      0.682      0.613      0.523      0.119\n",
      "\n",
      "      Epoch    GPU_mem   box_loss   cls_loss   dfl_loss  Instances       Size\n"
     ]
    },
    {
     "name": "stderr",
     "output_type": "stream",
     "text": [
      "      45/50     0.566G     0.9331     0.5029     0.9875          1        224: 100%|██████████| 250/250 [00:06<00:00, 37.53it/s]\n",
      "                 Class     Images  Instances      Box(P          R      mAP50  mAP50-95): 100%|██████████| 169/169 [00:03<00:00, 45.98it/s]"
     ]
    },
    {
     "name": "stdout",
     "output_type": "stream",
     "text": [
      "                   all       2703        620      0.692      0.598      0.503      0.116\n"
     ]
    },
    {
     "name": "stderr",
     "output_type": "stream",
     "text": [
      "\n"
     ]
    },
    {
     "name": "stdout",
     "output_type": "stream",
     "text": [
      "\n",
      "      Epoch    GPU_mem   box_loss   cls_loss   dfl_loss  Instances       Size\n"
     ]
    },
    {
     "name": "stderr",
     "output_type": "stream",
     "text": [
      "      46/50     0.566G      0.888     0.4811     0.9695          1        224: 100%|██████████| 250/250 [00:06<00:00, 38.21it/s]\n",
      "                 Class     Images  Instances      Box(P          R      mAP50  mAP50-95): 100%|██████████| 169/169 [00:03<00:00, 46.07it/s]"
     ]
    },
    {
     "name": "stdout",
     "output_type": "stream",
     "text": [
      "                   all       2703        620      0.707      0.596      0.506      0.117\n"
     ]
    },
    {
     "name": "stderr",
     "output_type": "stream",
     "text": [
      "\n"
     ]
    },
    {
     "name": "stdout",
     "output_type": "stream",
     "text": [
      "\n",
      "      Epoch    GPU_mem   box_loss   cls_loss   dfl_loss  Instances       Size\n"
     ]
    },
    {
     "name": "stderr",
     "output_type": "stream",
     "text": [
      "      47/50     0.566G     0.8901     0.4824     0.9709          0        224: 100%|██████████| 250/250 [00:06<00:00, 37.90it/s]\n",
      "                 Class     Images  Instances      Box(P          R      mAP50  mAP50-95): 100%|██████████| 169/169 [00:03<00:00, 46.45it/s]"
     ]
    },
    {
     "name": "stdout",
     "output_type": "stream",
     "text": [
      "                   all       2703        620      0.707        0.6      0.512      0.115\n"
     ]
    },
    {
     "name": "stderr",
     "output_type": "stream",
     "text": [
      "\n"
     ]
    },
    {
     "name": "stdout",
     "output_type": "stream",
     "text": [
      "\n",
      "      Epoch    GPU_mem   box_loss   cls_loss   dfl_loss  Instances       Size\n"
     ]
    },
    {
     "name": "stderr",
     "output_type": "stream",
     "text": [
      "      48/50     0.566G     0.8927     0.4925     0.9678          1        224: 100%|██████████| 250/250 [00:06<00:00, 38.06it/s]\n",
      "                 Class     Images  Instances      Box(P          R      mAP50  mAP50-95): 100%|██████████| 169/169 [00:03<00:00, 45.58it/s]"
     ]
    },
    {
     "name": "stdout",
     "output_type": "stream",
     "text": [
      "                   all       2703        620      0.695      0.597      0.503      0.114\n"
     ]
    },
    {
     "name": "stderr",
     "output_type": "stream",
     "text": [
      "\n"
     ]
    },
    {
     "name": "stdout",
     "output_type": "stream",
     "text": [
      "\n",
      "      Epoch    GPU_mem   box_loss   cls_loss   dfl_loss  Instances       Size\n"
     ]
    },
    {
     "name": "stderr",
     "output_type": "stream",
     "text": [
      "      49/50     0.566G      0.875     0.4845     0.9669          3        224: 100%|██████████| 250/250 [00:06<00:00, 37.09it/s]\n",
      "                 Class     Images  Instances      Box(P          R      mAP50  mAP50-95): 100%|██████████| 169/169 [00:03<00:00, 45.15it/s]"
     ]
    },
    {
     "name": "stdout",
     "output_type": "stream",
     "text": [
      "                   all       2703        620      0.702      0.597      0.501      0.114\n"
     ]
    },
    {
     "name": "stderr",
     "output_type": "stream",
     "text": [
      "\n"
     ]
    },
    {
     "name": "stdout",
     "output_type": "stream",
     "text": [
      "\n",
      "      Epoch    GPU_mem   box_loss   cls_loss   dfl_loss  Instances       Size\n"
     ]
    },
    {
     "name": "stderr",
     "output_type": "stream",
     "text": [
      "      50/50     0.566G     0.8889     0.4821     0.9676          2        224: 100%|██████████| 250/250 [00:06<00:00, 38.05it/s]\n",
      "                 Class     Images  Instances      Box(P          R      mAP50  mAP50-95): 100%|██████████| 169/169 [00:03<00:00, 43.66it/s]"
     ]
    },
    {
     "name": "stdout",
     "output_type": "stream",
     "text": [
      "                   all       2703        620      0.693      0.597      0.498      0.112\n"
     ]
    },
    {
     "name": "stderr",
     "output_type": "stream",
     "text": [
      "\n"
     ]
    },
    {
     "name": "stdout",
     "output_type": "stream",
     "text": [
      "\n",
      "50 epochs completed in 0.149 hours.\n",
      "Optimizer stripped from /home/franciscosantos/workspace/IPVC/PROJECT_III/pool-detection-gis/runs/detect/train123/weights/last.pt, 22.5MB\n",
      "Optimizer stripped from /home/franciscosantos/workspace/IPVC/PROJECT_III/pool-detection-gis/runs/detect/train123/weights/best.pt, 22.5MB\n",
      "\n",
      "Validating /home/franciscosantos/workspace/IPVC/PROJECT_III/pool-detection-gis/runs/detect/train123/weights/best.pt...\n",
      "Ultralytics 8.3.28 🚀 Python-3.12.3 torch-2.5.0+cu124 CUDA:0 (NVIDIA GeForce RTX 4060, 7925MiB)\n",
      "Model summary (fused): 168 layers, 11,125,971 parameters, 0 gradients, 28.4 GFLOPs\n"
     ]
    },
    {
     "name": "stderr",
     "output_type": "stream",
     "text": [
      "                 Class     Images  Instances      Box(P          R      mAP50  mAP50-95): 100%|██████████| 169/169 [00:03<00:00, 51.51it/s]\n"
     ]
    },
    {
     "name": "stdout",
     "output_type": "stream",
     "text": [
      "                   all       2703        620      0.493      0.374      0.288     0.0588\n",
      "Speed: 0.2ms preprocess, 3.7ms inference, 0.0ms loss, 0.3ms postprocess per image\n",
      "Results saved to \u001b[1m/home/franciscosantos/workspace/IPVC/PROJECT_III/pool-detection-gis/runs/detect/train\u001b[0m\n"
     ]
    },
    {
     "data": {
      "text/plain": [
       "ultralytics.utils.metrics.DetMetrics object with attributes:\n",
       "\n",
       "ap_class_index: array([0])\n",
       "box: ultralytics.utils.metrics.Metric object\n",
       "confusion_matrix: <ultralytics.utils.metrics.ConfusionMatrix object at 0x7b06e60148c0>\n",
       "curves: ['Precision-Recall(B)', 'F1-Confidence(B)', 'Precision-Confidence(B)', 'Recall-Confidence(B)']\n",
       "curves_results: [[array([          0,    0.001001,    0.002002,    0.003003,    0.004004,    0.005005,    0.006006,    0.007007,    0.008008,    0.009009,     0.01001,    0.011011,    0.012012,    0.013013,    0.014014,    0.015015,    0.016016,    0.017017,    0.018018,    0.019019,     0.02002,    0.021021,    0.022022,    0.023023,\n",
       "          0.024024,    0.025025,    0.026026,    0.027027,    0.028028,    0.029029,     0.03003,    0.031031,    0.032032,    0.033033,    0.034034,    0.035035,    0.036036,    0.037037,    0.038038,    0.039039,     0.04004,    0.041041,    0.042042,    0.043043,    0.044044,    0.045045,    0.046046,    0.047047,\n",
       "          0.048048,    0.049049,     0.05005,    0.051051,    0.052052,    0.053053,    0.054054,    0.055055,    0.056056,    0.057057,    0.058058,    0.059059,     0.06006,    0.061061,    0.062062,    0.063063,    0.064064,    0.065065,    0.066066,    0.067067,    0.068068,    0.069069,     0.07007,    0.071071,\n",
       "          0.072072,    0.073073,    0.074074,    0.075075,    0.076076,    0.077077,    0.078078,    0.079079,     0.08008,    0.081081,    0.082082,    0.083083,    0.084084,    0.085085,    0.086086,    0.087087,    0.088088,    0.089089,     0.09009,    0.091091,    0.092092,    0.093093,    0.094094,    0.095095,\n",
       "          0.096096,    0.097097,    0.098098,    0.099099,      0.1001,      0.1011,      0.1021,      0.1031,      0.1041,     0.10511,     0.10611,     0.10711,     0.10811,     0.10911,     0.11011,     0.11111,     0.11211,     0.11311,     0.11411,     0.11512,     0.11612,     0.11712,     0.11812,     0.11912,\n",
       "           0.12012,     0.12112,     0.12212,     0.12312,     0.12412,     0.12513,     0.12613,     0.12713,     0.12813,     0.12913,     0.13013,     0.13113,     0.13213,     0.13313,     0.13413,     0.13514,     0.13614,     0.13714,     0.13814,     0.13914,     0.14014,     0.14114,     0.14214,     0.14314,\n",
       "           0.14414,     0.14515,     0.14615,     0.14715,     0.14815,     0.14915,     0.15015,     0.15115,     0.15215,     0.15315,     0.15415,     0.15516,     0.15616,     0.15716,     0.15816,     0.15916,     0.16016,     0.16116,     0.16216,     0.16316,     0.16416,     0.16517,     0.16617,     0.16717,\n",
       "           0.16817,     0.16917,     0.17017,     0.17117,     0.17217,     0.17317,     0.17417,     0.17518,     0.17618,     0.17718,     0.17818,     0.17918,     0.18018,     0.18118,     0.18218,     0.18318,     0.18418,     0.18519,     0.18619,     0.18719,     0.18819,     0.18919,     0.19019,     0.19119,\n",
       "           0.19219,     0.19319,     0.19419,      0.1952,      0.1962,      0.1972,      0.1982,      0.1992,      0.2002,      0.2012,      0.2022,      0.2032,      0.2042,     0.20521,     0.20621,     0.20721,     0.20821,     0.20921,     0.21021,     0.21121,     0.21221,     0.21321,     0.21421,     0.21522,\n",
       "           0.21622,     0.21722,     0.21822,     0.21922,     0.22022,     0.22122,     0.22222,     0.22322,     0.22422,     0.22523,     0.22623,     0.22723,     0.22823,     0.22923,     0.23023,     0.23123,     0.23223,     0.23323,     0.23423,     0.23524,     0.23624,     0.23724,     0.23824,     0.23924,\n",
       "           0.24024,     0.24124,     0.24224,     0.24324,     0.24424,     0.24525,     0.24625,     0.24725,     0.24825,     0.24925,     0.25025,     0.25125,     0.25225,     0.25325,     0.25425,     0.25526,     0.25626,     0.25726,     0.25826,     0.25926,     0.26026,     0.26126,     0.26226,     0.26326,\n",
       "           0.26426,     0.26527,     0.26627,     0.26727,     0.26827,     0.26927,     0.27027,     0.27127,     0.27227,     0.27327,     0.27427,     0.27528,     0.27628,     0.27728,     0.27828,     0.27928,     0.28028,     0.28128,     0.28228,     0.28328,     0.28428,     0.28529,     0.28629,     0.28729,\n",
       "           0.28829,     0.28929,     0.29029,     0.29129,     0.29229,     0.29329,     0.29429,      0.2953,      0.2963,      0.2973,      0.2983,      0.2993,      0.3003,      0.3013,      0.3023,      0.3033,      0.3043,     0.30531,     0.30631,     0.30731,     0.30831,     0.30931,     0.31031,     0.31131,\n",
       "           0.31231,     0.31331,     0.31431,     0.31532,     0.31632,     0.31732,     0.31832,     0.31932,     0.32032,     0.32132,     0.32232,     0.32332,     0.32432,     0.32533,     0.32633,     0.32733,     0.32833,     0.32933,     0.33033,     0.33133,     0.33233,     0.33333,     0.33433,     0.33534,\n",
       "           0.33634,     0.33734,     0.33834,     0.33934,     0.34034,     0.34134,     0.34234,     0.34334,     0.34434,     0.34535,     0.34635,     0.34735,     0.34835,     0.34935,     0.35035,     0.35135,     0.35235,     0.35335,     0.35435,     0.35536,     0.35636,     0.35736,     0.35836,     0.35936,\n",
       "           0.36036,     0.36136,     0.36236,     0.36336,     0.36436,     0.36537,     0.36637,     0.36737,     0.36837,     0.36937,     0.37037,     0.37137,     0.37237,     0.37337,     0.37437,     0.37538,     0.37638,     0.37738,     0.37838,     0.37938,     0.38038,     0.38138,     0.38238,     0.38338,\n",
       "           0.38438,     0.38539,     0.38639,     0.38739,     0.38839,     0.38939,     0.39039,     0.39139,     0.39239,     0.39339,     0.39439,      0.3954,      0.3964,      0.3974,      0.3984,      0.3994,      0.4004,      0.4014,      0.4024,      0.4034,      0.4044,     0.40541,     0.40641,     0.40741,\n",
       "           0.40841,     0.40941,     0.41041,     0.41141,     0.41241,     0.41341,     0.41441,     0.41542,     0.41642,     0.41742,     0.41842,     0.41942,     0.42042,     0.42142,     0.42242,     0.42342,     0.42442,     0.42543,     0.42643,     0.42743,     0.42843,     0.42943,     0.43043,     0.43143,\n",
       "           0.43243,     0.43343,     0.43443,     0.43544,     0.43644,     0.43744,     0.43844,     0.43944,     0.44044,     0.44144,     0.44244,     0.44344,     0.44444,     0.44545,     0.44645,     0.44745,     0.44845,     0.44945,     0.45045,     0.45145,     0.45245,     0.45345,     0.45445,     0.45546,\n",
       "           0.45646,     0.45746,     0.45846,     0.45946,     0.46046,     0.46146,     0.46246,     0.46346,     0.46446,     0.46547,     0.46647,     0.46747,     0.46847,     0.46947,     0.47047,     0.47147,     0.47247,     0.47347,     0.47447,     0.47548,     0.47648,     0.47748,     0.47848,     0.47948,\n",
       "           0.48048,     0.48148,     0.48248,     0.48348,     0.48448,     0.48549,     0.48649,     0.48749,     0.48849,     0.48949,     0.49049,     0.49149,     0.49249,     0.49349,     0.49449,      0.4955,      0.4965,      0.4975,      0.4985,      0.4995,      0.5005,      0.5015,      0.5025,      0.5035,\n",
       "            0.5045,     0.50551,     0.50651,     0.50751,     0.50851,     0.50951,     0.51051,     0.51151,     0.51251,     0.51351,     0.51451,     0.51552,     0.51652,     0.51752,     0.51852,     0.51952,     0.52052,     0.52152,     0.52252,     0.52352,     0.52452,     0.52553,     0.52653,     0.52753,\n",
       "           0.52853,     0.52953,     0.53053,     0.53153,     0.53253,     0.53353,     0.53453,     0.53554,     0.53654,     0.53754,     0.53854,     0.53954,     0.54054,     0.54154,     0.54254,     0.54354,     0.54454,     0.54555,     0.54655,     0.54755,     0.54855,     0.54955,     0.55055,     0.55155,\n",
       "           0.55255,     0.55355,     0.55455,     0.55556,     0.55656,     0.55756,     0.55856,     0.55956,     0.56056,     0.56156,     0.56256,     0.56356,     0.56456,     0.56557,     0.56657,     0.56757,     0.56857,     0.56957,     0.57057,     0.57157,     0.57257,     0.57357,     0.57457,     0.57558,\n",
       "           0.57658,     0.57758,     0.57858,     0.57958,     0.58058,     0.58158,     0.58258,     0.58358,     0.58458,     0.58559,     0.58659,     0.58759,     0.58859,     0.58959,     0.59059,     0.59159,     0.59259,     0.59359,     0.59459,      0.5956,      0.5966,      0.5976,      0.5986,      0.5996,\n",
       "            0.6006,      0.6016,      0.6026,      0.6036,      0.6046,     0.60561,     0.60661,     0.60761,     0.60861,     0.60961,     0.61061,     0.61161,     0.61261,     0.61361,     0.61461,     0.61562,     0.61662,     0.61762,     0.61862,     0.61962,     0.62062,     0.62162,     0.62262,     0.62362,\n",
       "           0.62462,     0.62563,     0.62663,     0.62763,     0.62863,     0.62963,     0.63063,     0.63163,     0.63263,     0.63363,     0.63463,     0.63564,     0.63664,     0.63764,     0.63864,     0.63964,     0.64064,     0.64164,     0.64264,     0.64364,     0.64464,     0.64565,     0.64665,     0.64765,\n",
       "           0.64865,     0.64965,     0.65065,     0.65165,     0.65265,     0.65365,     0.65465,     0.65566,     0.65666,     0.65766,     0.65866,     0.65966,     0.66066,     0.66166,     0.66266,     0.66366,     0.66466,     0.66567,     0.66667,     0.66767,     0.66867,     0.66967,     0.67067,     0.67167,\n",
       "           0.67267,     0.67367,     0.67467,     0.67568,     0.67668,     0.67768,     0.67868,     0.67968,     0.68068,     0.68168,     0.68268,     0.68368,     0.68468,     0.68569,     0.68669,     0.68769,     0.68869,     0.68969,     0.69069,     0.69169,     0.69269,     0.69369,     0.69469,      0.6957,\n",
       "            0.6967,      0.6977,      0.6987,      0.6997,      0.7007,      0.7017,      0.7027,      0.7037,      0.7047,     0.70571,     0.70671,     0.70771,     0.70871,     0.70971,     0.71071,     0.71171,     0.71271,     0.71371,     0.71471,     0.71572,     0.71672,     0.71772,     0.71872,     0.71972,\n",
       "           0.72072,     0.72172,     0.72272,     0.72372,     0.72472,     0.72573,     0.72673,     0.72773,     0.72873,     0.72973,     0.73073,     0.73173,     0.73273,     0.73373,     0.73473,     0.73574,     0.73674,     0.73774,     0.73874,     0.73974,     0.74074,     0.74174,     0.74274,     0.74374,\n",
       "           0.74474,     0.74575,     0.74675,     0.74775,     0.74875,     0.74975,     0.75075,     0.75175,     0.75275,     0.75375,     0.75475,     0.75576,     0.75676,     0.75776,     0.75876,     0.75976,     0.76076,     0.76176,     0.76276,     0.76376,     0.76476,     0.76577,     0.76677,     0.76777,\n",
       "           0.76877,     0.76977,     0.77077,     0.77177,     0.77277,     0.77377,     0.77477,     0.77578,     0.77678,     0.77778,     0.77878,     0.77978,     0.78078,     0.78178,     0.78278,     0.78378,     0.78478,     0.78579,     0.78679,     0.78779,     0.78879,     0.78979,     0.79079,     0.79179,\n",
       "           0.79279,     0.79379,     0.79479,      0.7958,      0.7968,      0.7978,      0.7988,      0.7998,      0.8008,      0.8018,      0.8028,      0.8038,      0.8048,     0.80581,     0.80681,     0.80781,     0.80881,     0.80981,     0.81081,     0.81181,     0.81281,     0.81381,     0.81481,     0.81582,\n",
       "           0.81682,     0.81782,     0.81882,     0.81982,     0.82082,     0.82182,     0.82282,     0.82382,     0.82482,     0.82583,     0.82683,     0.82783,     0.82883,     0.82983,     0.83083,     0.83183,     0.83283,     0.83383,     0.83483,     0.83584,     0.83684,     0.83784,     0.83884,     0.83984,\n",
       "           0.84084,     0.84184,     0.84284,     0.84384,     0.84484,     0.84585,     0.84685,     0.84785,     0.84885,     0.84985,     0.85085,     0.85185,     0.85285,     0.85385,     0.85485,     0.85586,     0.85686,     0.85786,     0.85886,     0.85986,     0.86086,     0.86186,     0.86286,     0.86386,\n",
       "           0.86486,     0.86587,     0.86687,     0.86787,     0.86887,     0.86987,     0.87087,     0.87187,     0.87287,     0.87387,     0.87487,     0.87588,     0.87688,     0.87788,     0.87888,     0.87988,     0.88088,     0.88188,     0.88288,     0.88388,     0.88488,     0.88589,     0.88689,     0.88789,\n",
       "           0.88889,     0.88989,     0.89089,     0.89189,     0.89289,     0.89389,     0.89489,      0.8959,      0.8969,      0.8979,      0.8989,      0.8999,      0.9009,      0.9019,      0.9029,      0.9039,      0.9049,     0.90591,     0.90691,     0.90791,     0.90891,     0.90991,     0.91091,     0.91191,\n",
       "           0.91291,     0.91391,     0.91491,     0.91592,     0.91692,     0.91792,     0.91892,     0.91992,     0.92092,     0.92192,     0.92292,     0.92392,     0.92492,     0.92593,     0.92693,     0.92793,     0.92893,     0.92993,     0.93093,     0.93193,     0.93293,     0.93393,     0.93493,     0.93594,\n",
       "           0.93694,     0.93794,     0.93894,     0.93994,     0.94094,     0.94194,     0.94294,     0.94394,     0.94494,     0.94595,     0.94695,     0.94795,     0.94895,     0.94995,     0.95095,     0.95195,     0.95295,     0.95395,     0.95495,     0.95596,     0.95696,     0.95796,     0.95896,     0.95996,\n",
       "           0.96096,     0.96196,     0.96296,     0.96396,     0.96496,     0.96597,     0.96697,     0.96797,     0.96897,     0.96997,     0.97097,     0.97197,     0.97297,     0.97397,     0.97497,     0.97598,     0.97698,     0.97798,     0.97898,     0.97998,     0.98098,     0.98198,     0.98298,     0.98398,\n",
       "           0.98498,     0.98599,     0.98699,     0.98799,     0.98899,     0.98999,     0.99099,     0.99199,     0.99299,     0.99399,     0.99499,       0.996,       0.997,       0.998,       0.999,           1]), array([[          1,           1,           1,           1,           1,           1,           1,     0.90909,     0.90909,     0.90909,     0.90909,     0.90909,     0.90909,     0.90909,     0.90909,     0.90909,     0.90909,     0.88889,     0.88889,     0.88889,     0.88889,     0.88889,     0.88889,\n",
       "            0.88889,     0.88889,     0.88889,     0.87805,     0.87805,     0.87805,     0.87805,     0.87805,     0.87805,     0.87805,     0.87805,     0.87805,     0.87805,     0.87805,     0.87805,     0.87805,     0.87805,     0.87805,     0.87805,     0.87805,     0.87805,     0.87805,     0.87805,\n",
       "            0.87805,     0.87805,     0.87805,     0.87805,     0.87805,     0.87805,     0.87805,     0.87805,     0.87805,     0.87805,     0.87805,     0.87805,     0.87805,     0.84091,     0.82609,     0.82609,      0.8125,     0.80392,     0.80392,     0.80392,     0.80392,     0.78788,     0.78788,\n",
       "            0.78788,     0.78788,     0.78788,     0.78788,     0.78788,     0.78788,     0.78788,     0.78788,     0.78788,     0.78788,     0.78788,     0.78788,     0.78788,     0.78788,     0.78788,     0.77941,     0.77941,     0.77465,     0.77465,     0.77465,     0.75676,     0.75676,      0.7561,\n",
       "             0.7561,      0.7561,      0.7561,      0.7561,      0.7561,      0.7561,      0.7561,      0.7561,        0.75,        0.75,     0.73118,     0.73118,     0.73118,     0.73118,     0.73118,     0.73118,     0.73118,     0.73118,     0.72897,     0.72897,     0.72897,     0.72897,     0.72897,\n",
       "            0.72897,     0.72897,     0.72897,     0.72897,     0.72897,     0.72897,     0.72897,     0.72897,     0.72897,     0.72897,     0.72897,     0.71818,     0.71818,     0.71429,     0.71304,     0.71304,     0.71304,     0.71304,     0.71186,     0.71186,     0.71186,     0.71074,     0.71074,\n",
       "            0.71074,     0.68992,     0.68992,     0.68992,     0.68992,     0.68992,      0.6791,      0.6791,      0.6791,     0.67391,     0.67391,     0.67391,     0.67347,     0.67347,     0.67347,     0.67347,     0.67347,     0.67347,     0.67347,     0.67347,     0.67347,     0.67347,     0.67114,\n",
       "            0.67114,     0.66026,     0.66026,     0.66026,     0.66026,     0.65868,     0.65868,     0.65868,     0.65868,     0.65868,     0.65868,     0.65868,     0.65868,     0.65868,     0.65868,     0.65868,     0.65868,      0.6568,     0.65318,     0.65318,     0.65318,     0.65318,     0.65169,\n",
       "            0.65169,     0.65169,     0.65169,     0.64286,     0.64286,     0.63102,     0.63102,     0.62963,     0.62755,     0.62755,     0.62755,     0.62755,     0.62755,     0.62755,     0.62755,     0.62312,     0.61429,     0.61429,     0.61429,     0.61429,     0.61429,     0.61429,     0.61429,\n",
       "            0.61429,     0.61321,     0.61321,      0.6093,      0.6093,     0.60177,     0.60177,     0.60177,     0.60177,     0.60177,     0.60177,     0.60177,     0.60177,     0.59052,     0.58723,     0.58723,     0.58403,     0.58091,     0.58091,     0.55952,     0.55952,     0.55082,     0.55082,\n",
       "            0.55082,     0.55082,     0.55082,     0.55082,     0.55082,     0.55082,     0.55082,     0.55082,     0.55082,     0.55082,     0.55082,     0.55082,     0.55082,     0.55082,     0.55082,     0.55082,     0.55082,     0.55082,     0.55082,     0.55082,     0.55082,     0.55082,     0.55082,\n",
       "            0.55082,     0.55082,     0.55082,     0.55082,     0.55082,     0.55082,     0.55082,     0.55082,     0.55082,     0.55082,     0.55082,     0.55082,     0.55082,     0.55082,     0.55082,     0.55082,     0.55082,     0.55082,     0.54747,     0.54747,     0.54747,     0.54747,     0.54747,\n",
       "            0.54747,     0.54747,     0.54747,      0.5474,      0.5474,      0.5474,      0.5474,      0.5474,      0.5474,      0.5474,      0.5474,      0.5474,      0.5474,     0.54711,     0.54711,     0.54467,     0.54467,     0.54467,     0.54467,     0.54467,     0.54467,     0.54467,     0.54467,\n",
       "            0.54467,     0.54467,     0.54467,     0.54467,     0.54467,     0.54467,     0.54261,     0.54261,     0.54261,     0.53533,     0.53533,     0.53533,     0.53533,     0.53533,     0.53533,     0.53533,     0.53533,     0.53533,     0.53533,     0.53514,     0.53514,     0.53067,      0.5277,\n",
       "             0.5277,      0.5248,     0.52041,     0.52041,     0.52041,     0.52041,     0.52041,     0.51637,     0.51637,     0.51629,     0.51478,     0.51478,     0.51478,     0.51478,     0.51478,     0.51338,     0.51338,     0.51338,     0.51084,     0.51084,     0.51064,     0.51064,     0.51064,\n",
       "            0.51064,     0.51064,     0.51064,     0.51064,     0.51059,     0.51049,     0.51049,     0.51049,     0.51007,     0.51007,     0.51007,     0.51007,     0.51007,     0.51007,     0.51007,     0.51007,     0.51007,     0.51007,     0.51007,     0.51007,     0.51007,     0.51007,     0.51007,\n",
       "            0.50109,         0.5,         0.5,     0.49892,     0.49892,      0.4926,      0.4926,      0.4926,     0.48852,     0.48852,       0.472,       0.472,       0.472,      0.4638,     0.45769,     0.45769,     0.45698,     0.45698,     0.44693,      0.4422,      0.4422,     0.43682,     0.43649,\n",
       "            0.43649,     0.43649,     0.43649,     0.43517,     0.42857,     0.42857,     0.42759,     0.42759,     0.42759,     0.42564,     0.42564,      0.4223,     0.41749,     0.41749,     0.41749,     0.41749,     0.41749,     0.41667,     0.41667,     0.41667,     0.41424,     0.41424,     0.40566,\n",
       "            0.40566,     0.40566,     0.40093,     0.40093,     0.38179,     0.37021,     0.37021,     0.36439,     0.36439,     0.36276,     0.35484,     0.35484,     0.35381,     0.31971,     0.31971,     0.31673,     0.31673,     0.31492,     0.30578,     0.30578,     0.30578,     0.30578,     0.28496,\n",
       "            0.28333,     0.28333,     0.25825,     0.25825,     0.25825,     0.25183,     0.25183,        0.23,      0.2278,      0.2278,     0.22329,     0.22302,     0.22302,     0.22249,     0.22249,     0.22249,     0.21527,     0.21527,     0.20567,     0.19386,     0.19386,     0.19375,     0.19375,\n",
       "            0.18596,     0.17727,     0.17727,     0.17433,     0.17433,      0.1741,     0.17365,     0.17365,     0.17352,     0.16898,     0.16898,     0.16638,     0.16638,     0.16498,     0.15767,     0.15767,     0.15506,     0.15084,     0.15084,     0.14601,     0.14601,     0.13779,     0.13686,\n",
       "            0.13686,     0.12684,     0.12367,     0.12367,     0.12367,     0.12367,     0.12126,     0.12027,     0.12027,     0.11658,     0.11658,     0.11658,     0.11658,     0.11658,      0.1095,     0.10427,     0.10427,      0.1026,      0.1026,      0.1026,     0.10165,     0.10165,     0.10165,\n",
       "           0.098839,    0.098839,    0.092533,    0.092533,    0.083796,    0.082362,    0.082362,     0.07967,     0.07967,    0.078915,    0.057537,    0.057537,    0.055575,    0.053064,    0.053064,    0.051983,    0.051983,    0.051983,    0.050985,    0.050985,    0.048337,    0.047133,    0.047133,\n",
       "           0.045599,    0.045599,    0.038203,    0.038151,    0.038151,     0.03743,    0.035749,    0.035749,    0.034412,    0.034412,    0.033132,    0.031853,    0.031853,    0.031853,    0.031853,    0.031343,    0.029046,    0.029046,    0.028894,    0.026539,    0.026539,    0.026027,    0.026027,\n",
       "           0.025479,    0.023959,    0.023959,    0.021286,    0.019863,    0.019863,    0.018834,    0.018834,     0.01844,    0.017739,    0.017739,    0.017269,    0.015392,    0.015392,    0.015326,    0.015326,    0.015105,    0.014076,    0.014076,    0.013308,    0.013308,    0.012349,    0.011373,\n",
       "           0.011373,     0.01112,    0.010828,    0.010828,    0.010582,    0.010582,    0.009628,   0.0091237,   0.0091237,   0.0091016,   0.0084238,   0.0084238,   0.0082499,   0.0082499,   0.0080378,   0.0074575,   0.0074575,   0.0072221,   0.0064415,   0.0064415,   0.0064294,   0.0064294,   0.0060623,\n",
       "          0.0057269,   0.0057269,    0.004626,    0.004626,   0.0044431,   0.0037788,   0.0037788,   0.0029984,   0.0028021,   0.0028021,   0.0026664,   0.0026664,   0.0024108,   0.0020548,   0.0020548,   0.0020099,   0.0019098,   0.0019098,   0.0018642,   0.0018642,   0.0017565,    0.001686,    0.001686,\n",
       "          0.0016723,   0.0014549,   0.0014549,   0.0014088,   0.0014088,   0.0013358,   0.0013211,   0.0013211,   0.0012513,   0.0012513,   0.0012241,   0.0012011,   0.0012011,   0.0011538,   0.0011497,   0.0011497,   0.0011263,   0.0011263,   0.0010705,  0.00098437,  0.00098437,   0.0009834,  0.00090275,\n",
       "         0.00090275,  0.00086978,  0.00086978,   0.0008297,   0.0007962,   0.0007962,  0.00077005,  0.00073469,  0.00073469,  0.00070208,  0.00070005,  0.00069802,  0.00069599,  0.00069396,  0.00069193,   0.0006899,  0.00068787,  0.00068585,  0.00068382,  0.00068179,  0.00067976,  0.00067773,   0.0006757,\n",
       "         0.00067367,  0.00067164,  0.00066961,  0.00066758,  0.00066555,  0.00066352,   0.0006615,  0.00065947,  0.00065744,  0.00065541,  0.00065338,  0.00065135,  0.00064932,  0.00064729,  0.00064526,  0.00064323,   0.0006412,  0.00063918,  0.00063715,  0.00063512,  0.00063309,  0.00063106,  0.00062903,\n",
       "           0.000627,  0.00062497,  0.00062294,  0.00062091,  0.00061888,  0.00061685,  0.00061483,   0.0006128,  0.00061077,  0.00060874,  0.00060671,  0.00060468,  0.00060265,  0.00060062,  0.00059859,  0.00059656,  0.00059453,  0.00059251,  0.00059048,  0.00058845,  0.00058642,  0.00058439,  0.00058236,\n",
       "         0.00058033,   0.0005783,  0.00057627,  0.00057424,  0.00057221,  0.00057018,  0.00056816,  0.00056613,   0.0005641,  0.00056207,  0.00056004,  0.00055801,  0.00055598,  0.00055395,  0.00055192,  0.00054989,  0.00054786,  0.00054584,  0.00054381,  0.00054178,  0.00053975,  0.00053772,  0.00053569,\n",
       "         0.00053366,  0.00053163,   0.0005296,  0.00052757,  0.00052554,  0.00052352,  0.00052149,  0.00051946,  0.00051743,   0.0005154,  0.00051337,  0.00051134,  0.00050931,  0.00050728,  0.00050525,  0.00050322,  0.00050119,  0.00049917,  0.00049714,  0.00049511,  0.00049308,  0.00049105,  0.00048902,\n",
       "         0.00048699,  0.00048496,  0.00048293,   0.0004809,  0.00047887,  0.00047685,  0.00047482,  0.00047279,  0.00047076,  0.00046873,   0.0004667,  0.00046467,  0.00046264,  0.00046061,  0.00045858,  0.00045655,  0.00045452,   0.0004525,  0.00045047,  0.00044844,  0.00044641,  0.00044438,  0.00044235,\n",
       "         0.00044032,  0.00043829,  0.00043626,  0.00043423,   0.0004322,  0.00043018,  0.00042815,  0.00042612,  0.00042409,  0.00042206,  0.00042003,    0.000418,  0.00041597,  0.00041394,  0.00041191,  0.00040988,  0.00040785,  0.00040583,   0.0004038,  0.00040177,  0.00039974,  0.00039771,  0.00039568,\n",
       "         0.00039365,  0.00039162,  0.00038959,  0.00038756,  0.00038553,  0.00038351,  0.00038148,  0.00037945,  0.00037742,  0.00037539,  0.00037336,  0.00037133,   0.0003693,  0.00036727,  0.00036524,  0.00036321,  0.00036118,  0.00035916,  0.00035713,   0.0003551,  0.00035307,  0.00035104,  0.00034901,\n",
       "         0.00034698,  0.00034495,  0.00034292,  0.00034089,  0.00033886,  0.00033684,  0.00033481,  0.00033278,  0.00033075,  0.00032872,  0.00032669,  0.00032466,  0.00032263,   0.0003206,  0.00031857,  0.00031654,  0.00031451,  0.00031249,  0.00031046,  0.00030843,   0.0003064,  0.00030437,  0.00030234,\n",
       "         0.00030031,  0.00029828,  0.00029625,  0.00029422,  0.00029219,  0.00029017,  0.00028814,  0.00028611,  0.00028408,  0.00028205,  0.00028002,  0.00027799,  0.00027596,  0.00027393,   0.0002719,  0.00026987,  0.00026784,  0.00026582,  0.00026379,  0.00026176,  0.00025973,   0.0002577,  0.00025567,\n",
       "         0.00025364,  0.00025161,  0.00024958,  0.00024755,  0.00024552,   0.0002435,  0.00024147,  0.00023944,  0.00023741,  0.00023538,  0.00023335,  0.00023132,  0.00022929,  0.00022726,  0.00022523,   0.0002232,  0.00022117,  0.00021915,  0.00021712,  0.00021509,  0.00021306,  0.00021103,    0.000209,\n",
       "         0.00020697,  0.00020494,  0.00020291,  0.00020088,  0.00019885,  0.00019683,   0.0001948,  0.00019277,  0.00019074,  0.00018871,  0.00018668,  0.00018465,  0.00018262,  0.00018059,  0.00017856,  0.00017653,  0.00017451,  0.00017248,  0.00017045,  0.00016842,  0.00016639,  0.00016436,  0.00016233,\n",
       "          0.0001603,  0.00015827,  0.00015624,  0.00015421,  0.00015218,  0.00015016,  0.00014813,   0.0001461,  0.00014407,  0.00014204,  0.00014001,  0.00013798,  0.00013595,  0.00013392,  0.00013189,  0.00012986,  0.00012784,  0.00012581,  0.00012378,  0.00012175,  0.00011972,  0.00011769,  0.00011566,\n",
       "         0.00011363,   0.0001116,  0.00010957,  0.00010754,  0.00010551,  0.00010349,  0.00010146,  9.9427e-05,  9.7398e-05,  9.5369e-05,   9.334e-05,  9.1311e-05,  8.9282e-05,  8.7253e-05,  8.5223e-05,  8.3194e-05,  8.1165e-05,  7.9136e-05,  7.7107e-05,  7.5078e-05,  7.3049e-05,  7.1019e-05,   6.899e-05,\n",
       "         6.6961e-05,  6.4932e-05,  6.2903e-05,  6.0874e-05,  5.8845e-05,  5.6816e-05,  5.4786e-05,  5.2757e-05,  5.0728e-05,  4.8699e-05,   4.667e-05,  4.4641e-05,  4.2612e-05,  4.0583e-05,  3.8553e-05,  3.6524e-05,  3.4495e-05,  3.2466e-05,  3.0437e-05,  2.8408e-05,  2.6379e-05,   2.435e-05,   2.232e-05,\n",
       "         2.0291e-05,  1.8262e-05,  1.6233e-05,  1.4204e-05,  1.2175e-05,  1.0146e-05,  8.1165e-06,  6.0874e-06,  4.0583e-06,  2.0291e-06,           0]]), 'Recall', 'Precision'], [array([          0,    0.001001,    0.002002,    0.003003,    0.004004,    0.005005,    0.006006,    0.007007,    0.008008,    0.009009,     0.01001,    0.011011,    0.012012,    0.013013,    0.014014,    0.015015,    0.016016,    0.017017,    0.018018,    0.019019,     0.02002,    0.021021,    0.022022,    0.023023,\n",
       "          0.024024,    0.025025,    0.026026,    0.027027,    0.028028,    0.029029,     0.03003,    0.031031,    0.032032,    0.033033,    0.034034,    0.035035,    0.036036,    0.037037,    0.038038,    0.039039,     0.04004,    0.041041,    0.042042,    0.043043,    0.044044,    0.045045,    0.046046,    0.047047,\n",
       "          0.048048,    0.049049,     0.05005,    0.051051,    0.052052,    0.053053,    0.054054,    0.055055,    0.056056,    0.057057,    0.058058,    0.059059,     0.06006,    0.061061,    0.062062,    0.063063,    0.064064,    0.065065,    0.066066,    0.067067,    0.068068,    0.069069,     0.07007,    0.071071,\n",
       "          0.072072,    0.073073,    0.074074,    0.075075,    0.076076,    0.077077,    0.078078,    0.079079,     0.08008,    0.081081,    0.082082,    0.083083,    0.084084,    0.085085,    0.086086,    0.087087,    0.088088,    0.089089,     0.09009,    0.091091,    0.092092,    0.093093,    0.094094,    0.095095,\n",
       "          0.096096,    0.097097,    0.098098,    0.099099,      0.1001,      0.1011,      0.1021,      0.1031,      0.1041,     0.10511,     0.10611,     0.10711,     0.10811,     0.10911,     0.11011,     0.11111,     0.11211,     0.11311,     0.11411,     0.11512,     0.11612,     0.11712,     0.11812,     0.11912,\n",
       "           0.12012,     0.12112,     0.12212,     0.12312,     0.12412,     0.12513,     0.12613,     0.12713,     0.12813,     0.12913,     0.13013,     0.13113,     0.13213,     0.13313,     0.13413,     0.13514,     0.13614,     0.13714,     0.13814,     0.13914,     0.14014,     0.14114,     0.14214,     0.14314,\n",
       "           0.14414,     0.14515,     0.14615,     0.14715,     0.14815,     0.14915,     0.15015,     0.15115,     0.15215,     0.15315,     0.15415,     0.15516,     0.15616,     0.15716,     0.15816,     0.15916,     0.16016,     0.16116,     0.16216,     0.16316,     0.16416,     0.16517,     0.16617,     0.16717,\n",
       "           0.16817,     0.16917,     0.17017,     0.17117,     0.17217,     0.17317,     0.17417,     0.17518,     0.17618,     0.17718,     0.17818,     0.17918,     0.18018,     0.18118,     0.18218,     0.18318,     0.18418,     0.18519,     0.18619,     0.18719,     0.18819,     0.18919,     0.19019,     0.19119,\n",
       "           0.19219,     0.19319,     0.19419,      0.1952,      0.1962,      0.1972,      0.1982,      0.1992,      0.2002,      0.2012,      0.2022,      0.2032,      0.2042,     0.20521,     0.20621,     0.20721,     0.20821,     0.20921,     0.21021,     0.21121,     0.21221,     0.21321,     0.21421,     0.21522,\n",
       "           0.21622,     0.21722,     0.21822,     0.21922,     0.22022,     0.22122,     0.22222,     0.22322,     0.22422,     0.22523,     0.22623,     0.22723,     0.22823,     0.22923,     0.23023,     0.23123,     0.23223,     0.23323,     0.23423,     0.23524,     0.23624,     0.23724,     0.23824,     0.23924,\n",
       "           0.24024,     0.24124,     0.24224,     0.24324,     0.24424,     0.24525,     0.24625,     0.24725,     0.24825,     0.24925,     0.25025,     0.25125,     0.25225,     0.25325,     0.25425,     0.25526,     0.25626,     0.25726,     0.25826,     0.25926,     0.26026,     0.26126,     0.26226,     0.26326,\n",
       "           0.26426,     0.26527,     0.26627,     0.26727,     0.26827,     0.26927,     0.27027,     0.27127,     0.27227,     0.27327,     0.27427,     0.27528,     0.27628,     0.27728,     0.27828,     0.27928,     0.28028,     0.28128,     0.28228,     0.28328,     0.28428,     0.28529,     0.28629,     0.28729,\n",
       "           0.28829,     0.28929,     0.29029,     0.29129,     0.29229,     0.29329,     0.29429,      0.2953,      0.2963,      0.2973,      0.2983,      0.2993,      0.3003,      0.3013,      0.3023,      0.3033,      0.3043,     0.30531,     0.30631,     0.30731,     0.30831,     0.30931,     0.31031,     0.31131,\n",
       "           0.31231,     0.31331,     0.31431,     0.31532,     0.31632,     0.31732,     0.31832,     0.31932,     0.32032,     0.32132,     0.32232,     0.32332,     0.32432,     0.32533,     0.32633,     0.32733,     0.32833,     0.32933,     0.33033,     0.33133,     0.33233,     0.33333,     0.33433,     0.33534,\n",
       "           0.33634,     0.33734,     0.33834,     0.33934,     0.34034,     0.34134,     0.34234,     0.34334,     0.34434,     0.34535,     0.34635,     0.34735,     0.34835,     0.34935,     0.35035,     0.35135,     0.35235,     0.35335,     0.35435,     0.35536,     0.35636,     0.35736,     0.35836,     0.35936,\n",
       "           0.36036,     0.36136,     0.36236,     0.36336,     0.36436,     0.36537,     0.36637,     0.36737,     0.36837,     0.36937,     0.37037,     0.37137,     0.37237,     0.37337,     0.37437,     0.37538,     0.37638,     0.37738,     0.37838,     0.37938,     0.38038,     0.38138,     0.38238,     0.38338,\n",
       "           0.38438,     0.38539,     0.38639,     0.38739,     0.38839,     0.38939,     0.39039,     0.39139,     0.39239,     0.39339,     0.39439,      0.3954,      0.3964,      0.3974,      0.3984,      0.3994,      0.4004,      0.4014,      0.4024,      0.4034,      0.4044,     0.40541,     0.40641,     0.40741,\n",
       "           0.40841,     0.40941,     0.41041,     0.41141,     0.41241,     0.41341,     0.41441,     0.41542,     0.41642,     0.41742,     0.41842,     0.41942,     0.42042,     0.42142,     0.42242,     0.42342,     0.42442,     0.42543,     0.42643,     0.42743,     0.42843,     0.42943,     0.43043,     0.43143,\n",
       "           0.43243,     0.43343,     0.43443,     0.43544,     0.43644,     0.43744,     0.43844,     0.43944,     0.44044,     0.44144,     0.44244,     0.44344,     0.44444,     0.44545,     0.44645,     0.44745,     0.44845,     0.44945,     0.45045,     0.45145,     0.45245,     0.45345,     0.45445,     0.45546,\n",
       "           0.45646,     0.45746,     0.45846,     0.45946,     0.46046,     0.46146,     0.46246,     0.46346,     0.46446,     0.46547,     0.46647,     0.46747,     0.46847,     0.46947,     0.47047,     0.47147,     0.47247,     0.47347,     0.47447,     0.47548,     0.47648,     0.47748,     0.47848,     0.47948,\n",
       "           0.48048,     0.48148,     0.48248,     0.48348,     0.48448,     0.48549,     0.48649,     0.48749,     0.48849,     0.48949,     0.49049,     0.49149,     0.49249,     0.49349,     0.49449,      0.4955,      0.4965,      0.4975,      0.4985,      0.4995,      0.5005,      0.5015,      0.5025,      0.5035,\n",
       "            0.5045,     0.50551,     0.50651,     0.50751,     0.50851,     0.50951,     0.51051,     0.51151,     0.51251,     0.51351,     0.51451,     0.51552,     0.51652,     0.51752,     0.51852,     0.51952,     0.52052,     0.52152,     0.52252,     0.52352,     0.52452,     0.52553,     0.52653,     0.52753,\n",
       "           0.52853,     0.52953,     0.53053,     0.53153,     0.53253,     0.53353,     0.53453,     0.53554,     0.53654,     0.53754,     0.53854,     0.53954,     0.54054,     0.54154,     0.54254,     0.54354,     0.54454,     0.54555,     0.54655,     0.54755,     0.54855,     0.54955,     0.55055,     0.55155,\n",
       "           0.55255,     0.55355,     0.55455,     0.55556,     0.55656,     0.55756,     0.55856,     0.55956,     0.56056,     0.56156,     0.56256,     0.56356,     0.56456,     0.56557,     0.56657,     0.56757,     0.56857,     0.56957,     0.57057,     0.57157,     0.57257,     0.57357,     0.57457,     0.57558,\n",
       "           0.57658,     0.57758,     0.57858,     0.57958,     0.58058,     0.58158,     0.58258,     0.58358,     0.58458,     0.58559,     0.58659,     0.58759,     0.58859,     0.58959,     0.59059,     0.59159,     0.59259,     0.59359,     0.59459,      0.5956,      0.5966,      0.5976,      0.5986,      0.5996,\n",
       "            0.6006,      0.6016,      0.6026,      0.6036,      0.6046,     0.60561,     0.60661,     0.60761,     0.60861,     0.60961,     0.61061,     0.61161,     0.61261,     0.61361,     0.61461,     0.61562,     0.61662,     0.61762,     0.61862,     0.61962,     0.62062,     0.62162,     0.62262,     0.62362,\n",
       "           0.62462,     0.62563,     0.62663,     0.62763,     0.62863,     0.62963,     0.63063,     0.63163,     0.63263,     0.63363,     0.63463,     0.63564,     0.63664,     0.63764,     0.63864,     0.63964,     0.64064,     0.64164,     0.64264,     0.64364,     0.64464,     0.64565,     0.64665,     0.64765,\n",
       "           0.64865,     0.64965,     0.65065,     0.65165,     0.65265,     0.65365,     0.65465,     0.65566,     0.65666,     0.65766,     0.65866,     0.65966,     0.66066,     0.66166,     0.66266,     0.66366,     0.66466,     0.66567,     0.66667,     0.66767,     0.66867,     0.66967,     0.67067,     0.67167,\n",
       "           0.67267,     0.67367,     0.67467,     0.67568,     0.67668,     0.67768,     0.67868,     0.67968,     0.68068,     0.68168,     0.68268,     0.68368,     0.68468,     0.68569,     0.68669,     0.68769,     0.68869,     0.68969,     0.69069,     0.69169,     0.69269,     0.69369,     0.69469,      0.6957,\n",
       "            0.6967,      0.6977,      0.6987,      0.6997,      0.7007,      0.7017,      0.7027,      0.7037,      0.7047,     0.70571,     0.70671,     0.70771,     0.70871,     0.70971,     0.71071,     0.71171,     0.71271,     0.71371,     0.71471,     0.71572,     0.71672,     0.71772,     0.71872,     0.71972,\n",
       "           0.72072,     0.72172,     0.72272,     0.72372,     0.72472,     0.72573,     0.72673,     0.72773,     0.72873,     0.72973,     0.73073,     0.73173,     0.73273,     0.73373,     0.73473,     0.73574,     0.73674,     0.73774,     0.73874,     0.73974,     0.74074,     0.74174,     0.74274,     0.74374,\n",
       "           0.74474,     0.74575,     0.74675,     0.74775,     0.74875,     0.74975,     0.75075,     0.75175,     0.75275,     0.75375,     0.75475,     0.75576,     0.75676,     0.75776,     0.75876,     0.75976,     0.76076,     0.76176,     0.76276,     0.76376,     0.76476,     0.76577,     0.76677,     0.76777,\n",
       "           0.76877,     0.76977,     0.77077,     0.77177,     0.77277,     0.77377,     0.77477,     0.77578,     0.77678,     0.77778,     0.77878,     0.77978,     0.78078,     0.78178,     0.78278,     0.78378,     0.78478,     0.78579,     0.78679,     0.78779,     0.78879,     0.78979,     0.79079,     0.79179,\n",
       "           0.79279,     0.79379,     0.79479,      0.7958,      0.7968,      0.7978,      0.7988,      0.7998,      0.8008,      0.8018,      0.8028,      0.8038,      0.8048,     0.80581,     0.80681,     0.80781,     0.80881,     0.80981,     0.81081,     0.81181,     0.81281,     0.81381,     0.81481,     0.81582,\n",
       "           0.81682,     0.81782,     0.81882,     0.81982,     0.82082,     0.82182,     0.82282,     0.82382,     0.82482,     0.82583,     0.82683,     0.82783,     0.82883,     0.82983,     0.83083,     0.83183,     0.83283,     0.83383,     0.83483,     0.83584,     0.83684,     0.83784,     0.83884,     0.83984,\n",
       "           0.84084,     0.84184,     0.84284,     0.84384,     0.84484,     0.84585,     0.84685,     0.84785,     0.84885,     0.84985,     0.85085,     0.85185,     0.85285,     0.85385,     0.85485,     0.85586,     0.85686,     0.85786,     0.85886,     0.85986,     0.86086,     0.86186,     0.86286,     0.86386,\n",
       "           0.86486,     0.86587,     0.86687,     0.86787,     0.86887,     0.86987,     0.87087,     0.87187,     0.87287,     0.87387,     0.87487,     0.87588,     0.87688,     0.87788,     0.87888,     0.87988,     0.88088,     0.88188,     0.88288,     0.88388,     0.88488,     0.88589,     0.88689,     0.88789,\n",
       "           0.88889,     0.88989,     0.89089,     0.89189,     0.89289,     0.89389,     0.89489,      0.8959,      0.8969,      0.8979,      0.8989,      0.8999,      0.9009,      0.9019,      0.9029,      0.9039,      0.9049,     0.90591,     0.90691,     0.90791,     0.90891,     0.90991,     0.91091,     0.91191,\n",
       "           0.91291,     0.91391,     0.91491,     0.91592,     0.91692,     0.91792,     0.91892,     0.91992,     0.92092,     0.92192,     0.92292,     0.92392,     0.92492,     0.92593,     0.92693,     0.92793,     0.92893,     0.92993,     0.93093,     0.93193,     0.93293,     0.93393,     0.93493,     0.93594,\n",
       "           0.93694,     0.93794,     0.93894,     0.93994,     0.94094,     0.94194,     0.94294,     0.94394,     0.94494,     0.94595,     0.94695,     0.94795,     0.94895,     0.94995,     0.95095,     0.95195,     0.95295,     0.95395,     0.95495,     0.95596,     0.95696,     0.95796,     0.95896,     0.95996,\n",
       "           0.96096,     0.96196,     0.96296,     0.96396,     0.96496,     0.96597,     0.96697,     0.96797,     0.96897,     0.96997,     0.97097,     0.97197,     0.97297,     0.97397,     0.97497,     0.97598,     0.97698,     0.97798,     0.97898,     0.97998,     0.98098,     0.98198,     0.98298,     0.98398,\n",
       "           0.98498,     0.98599,     0.98699,     0.98799,     0.98899,     0.98999,     0.99099,     0.99199,     0.99299,     0.99399,     0.99499,       0.996,       0.997,       0.998,       0.999,           1]), array([[  0.0014044,   0.0014044,   0.0063271,    0.013962,     0.02149,    0.029146,    0.036406,     0.04386,    0.051446,    0.058837,     0.06596,    0.072447,    0.080001,    0.086517,    0.094041,     0.10038,     0.10713,     0.11438,     0.12103,     0.12836,     0.13539,     0.14047,     0.14588,\n",
       "            0.15203,     0.15819,     0.16354,     0.16906,     0.17252,     0.17735,      0.1817,      0.1866,     0.18939,     0.19331,     0.19664,     0.19935,     0.20343,      0.2075,     0.21111,     0.21378,     0.21694,     0.21971,     0.22302,      0.2258,     0.22933,     0.23238,     0.23481,\n",
       "            0.23636,     0.24005,     0.24279,     0.24479,      0.2461,      0.2487,     0.25045,     0.25267,     0.25335,     0.25458,     0.25642,     0.25823,     0.26004,      0.2623,     0.26491,     0.26707,     0.26921,     0.27081,     0.27234,     0.27307,     0.27566,     0.27771,     0.27952,\n",
       "             0.2808,       0.283,     0.28386,     0.28512,     0.28624,     0.28758,     0.28958,      0.2907,     0.29191,     0.29226,      0.2935,     0.29501,     0.29587,     0.29703,     0.29823,     0.29795,     0.29749,     0.29793,     0.29905,     0.29991,     0.30106,     0.30115,     0.30198,\n",
       "            0.30247,     0.30324,     0.30399,     0.30576,      0.3067,     0.30884,     0.30978,     0.31017,     0.31103,     0.31199,     0.31267,     0.31284,     0.31391,     0.31426,     0.31481,     0.31653,     0.31747,     0.31818,     0.31917,     0.31961,     0.32063,     0.32053,     0.32075,\n",
       "            0.32101,     0.32224,     0.32287,      0.3244,      0.3253,     0.32549,     0.32501,     0.32579,      0.3261,     0.32685,       0.327,     0.32713,     0.32825,     0.32941,     0.32996,     0.33073,     0.33106,     0.33186,     0.33289,     0.33358,     0.33385,     0.33478,     0.33513,\n",
       "            0.33591,     0.33682,      0.3381,     0.33871,     0.33884,     0.33945,     0.34062,      0.3416,     0.34258,     0.34355,      0.3439,     0.34328,     0.34353,     0.34441,      0.3447,      0.3442,     0.34529,     0.34576,     0.34649,     0.34693,     0.34747,     0.34823,     0.34837,\n",
       "            0.34879,     0.34902,     0.34961,     0.35011,      0.3507,     0.35135,     0.35186,       0.352,     0.35261,     0.35279,     0.35289,     0.35341,      0.3536,       0.354,     0.35472,     0.35528,      0.3557,     0.35742,     0.35756,     0.35822,     0.35877,       0.359,     0.35892,\n",
       "             0.3578,     0.35802,     0.35846,     0.35879,     0.35918,     0.35982,     0.36084,     0.36098,     0.36106,     0.36114,     0.36137,     0.36202,      0.3634,     0.36368,     0.36377,     0.36387,     0.36392,     0.36339,     0.36384,     0.36429,      0.3647,     0.36466,     0.36476,\n",
       "            0.36485,     0.36565,     0.36584,     0.36628,     0.36566,     0.36592,     0.36659,     0.36672,     0.36724,     0.36766,     0.36779,     0.36809,     0.36828,     0.36885,     0.36898,     0.36916,     0.36954,     0.37019,     0.37047,     0.37064,     0.37074,     0.37083,     0.37096,\n",
       "            0.37115,     0.37153,     0.37175,     0.37187,     0.37213,     0.37227,     0.37236,     0.37273,     0.37302,     0.37314,     0.37382,     0.37475,      0.3759,     0.37608,     0.37664,     0.37685,      0.3771,     0.37735,     0.37785,      0.3781,     0.37822,     0.37834,     0.37846,\n",
       "             0.3786,     0.37897,     0.37934,     0.37999,     0.38036,       0.381,      0.3812,     0.38148,     0.38268,     0.38284,     0.38335,     0.38428,      0.3855,     0.38581,       0.386,     0.38664,     0.38695,     0.38635,     0.38654,     0.38693,     0.38601,     0.38617,     0.38678,\n",
       "             0.3869,     0.38701,     0.38714,     0.38727,     0.38742,     0.38758,      0.3885,     0.38889,     0.38952,     0.39004,     0.39027,     0.39057,     0.39074,     0.39091,     0.39107,     0.38999,     0.39022,     0.39031,      0.3904,     0.39049,     0.39058,     0.39066,     0.39075,\n",
       "            0.39094,     0.39113,      0.3913,     0.39056,     0.39075,     0.39107,     0.39124,      0.3915,     0.39187,     0.39196,     0.39203,      0.3921,     0.39217,     0.39262,     0.39281,     0.39347,      0.3929,     0.39354,      0.3937,     0.39379,     0.39387,     0.39404,      0.3947,\n",
       "            0.39506,     0.39539,     0.39606,     0.39624,     0.39641,     0.39659,     0.39672,     0.39683,     0.39695,     0.39713,     0.39737,     0.39773,      0.3981,     0.39843,     0.39875,     0.39944,     0.39847,     0.39851,     0.39856,      0.3986,     0.39864,     0.39869,     0.39873,\n",
       "            0.39882,      0.3991,     0.39917,     0.39924,     0.39931,     0.39938,     0.39954,     0.39972,     0.40036,     0.40052,     0.40078,     0.40134,      0.4015,     0.40184,     0.40233,     0.40249,     0.40283,     0.40295,     0.40307,     0.40315,     0.40322,     0.40329,     0.40336,\n",
       "            0.40342,      0.4036,     0.40414,     0.40442,     0.40458,     0.40515,     0.40551,     0.40574,      0.4059,     0.40633,     0.40642,     0.40651,      0.4066,     0.40726,     0.40734,     0.40742,      0.4075,     0.40804,      0.4083,     0.40847,     0.40907,     0.40797,     0.40806,\n",
       "            0.40814,     0.40823,     0.40829,     0.40835,      0.4084,     0.40846,     0.40852,      0.4087,     0.40896,     0.40915,     0.40928,      0.4094,     0.40951,     0.40966,     0.40983,     0.41015,     0.41056,     0.41069,     0.41005,     0.40948,     0.40915,     0.40883,      0.4085,\n",
       "            0.40878,     0.40938,     0.40954,     0.40982,      0.4103,     0.41037,     0.41044,     0.41051,     0.41057,     0.41094,     0.41126,     0.41143,      0.4116,     0.41177,     0.41194,     0.41211,     0.41228,     0.41245,     0.41262,     0.41279,     0.41297,     0.41317,     0.41315,\n",
       "            0.41249,     0.41266,     0.41272,     0.41278,     0.41283,     0.41289,     0.41295,     0.41333,     0.41337,     0.41341,     0.41346,      0.4135,     0.41354,     0.41358,     0.41391,     0.41268,     0.41285,     0.41282,     0.41218,     0.41246,     0.41263,     0.41213,     0.41148,\n",
       "             0.4116,     0.41171,      0.4101,     0.40943,     0.41038,     0.41053,     0.41057,     0.41061,     0.41065,     0.41069,     0.41073,     0.41076,      0.4108,     0.41084,     0.41094,     0.41106,     0.41117,     0.41134,     0.41152,     0.41163,     0.41175,     0.41187,     0.41222,\n",
       "             0.4125,     0.41206,     0.41161,     0.41129,     0.41158,     0.41162,     0.41167,     0.41171,     0.41175,      0.4118,     0.41184,     0.41188,     0.41204,     0.41228,     0.41235,     0.41242,     0.41249,     0.41256,     0.41278,     0.41254,     0.41216,     0.41275,     0.41293,\n",
       "             0.4131,     0.41328,     0.41239,     0.41177,     0.41143,     0.41109,     0.41075,     0.41097,     0.41118,     0.41135,     0.41153,      0.4117,     0.41205,      0.4109,     0.41108,     0.41125,     0.41143,     0.41161,      0.4118,     0.41248,     0.41266,     0.41283,     0.41295,\n",
       "            0.41307,      0.4132,     0.41338,     0.41361,     0.41397,     0.41292,      0.4131,     0.41335,     0.41364,     0.41382,     0.41325,     0.41274,     0.41255,     0.41186,     0.41212,     0.41206,     0.41171,     0.41136,     0.41102,     0.41187,     0.41202,     0.41209,     0.41216,\n",
       "            0.41223,     0.41231,     0.41239,     0.41247,     0.41255,     0.41263,     0.41271,      0.4128,     0.41289,     0.41298,     0.41312,     0.41331,      0.4129,      0.4126,     0.41296,     0.41349,     0.41356,     0.41363,     0.41371,     0.41378,     0.41389,     0.41401,     0.41413,\n",
       "            0.41483,     0.41424,     0.41354,     0.41367,     0.41385,     0.41393,     0.41402,      0.4141,     0.41418,     0.41429,     0.41441,     0.41453,     0.41498,     0.41505,     0.41513,      0.4152,     0.41528,     0.41544,     0.41562,      0.4157,     0.41576,     0.41581,     0.41587,\n",
       "            0.41593,     0.41599,     0.41611,     0.41629,     0.41642,     0.41649,     0.41657,     0.41664,     0.41672,     0.41752,     0.41761,     0.41769,     0.41777,     0.41794,     0.41805,     0.41758,     0.41711,     0.41732,     0.41716,     0.41621,     0.41651,     0.41688,     0.41725,\n",
       "            0.41734,     0.41742,     0.41751,     0.41759,     0.41774,     0.41793,     0.41813,     0.41783,     0.41802,     0.41835,     0.41864,     0.41924,     0.41943,     0.41962,     0.41982,     0.42008,     0.42079,     0.42104,     0.42143,     0.42107,     0.42071,     0.42035,     0.42009,\n",
       "             0.4201,     0.41962,     0.41914,     0.41924,     0.41962,     0.41992,     0.42059,     0.42092,     0.42111,      0.4215,     0.42168,     0.42175,     0.42182,     0.42189,     0.42196,     0.42219,     0.42258,     0.42374,     0.42432,     0.42472,     0.42567,     0.42442,     0.42448,\n",
       "            0.42455,     0.42462,     0.42468,     0.42475,     0.42491,     0.42521,      0.4253,     0.42539,     0.42548,     0.42556,     0.42606,     0.42618,     0.42629,     0.42492,     0.42524,     0.42387,     0.42414,     0.42448,     0.42488,      0.4252,     0.42544,     0.42555,     0.42567,\n",
       "            0.42578,     0.42612,     0.42652,     0.42578,     0.42528,     0.42564,      0.4259,     0.42455,     0.42454,     0.42462,      0.4247,     0.42479,     0.42491,     0.42439,     0.42389,     0.42405,     0.42425,       0.425,     0.42514,     0.42527,     0.42548,     0.42589,     0.42661,\n",
       "            0.42675,     0.42688,     0.42707,     0.42734,     0.42598,     0.42494,     0.42368,     0.42307,     0.42329,     0.42227,     0.42196,     0.42217,     0.42161,      0.4208,     0.42107,      0.4201,      0.4203,     0.42025,     0.41949,     0.41848,     0.41736,     0.41708,      0.4168,\n",
       "            0.41652,     0.41624,     0.41596,     0.41609,     0.41622,     0.41636,     0.41663,      0.4169,     0.41719,     0.41711,     0.41502,      0.4147,     0.41384,     0.41404,     0.41378,     0.41138,     0.41112,      0.4106,     0.41008,     0.40864,     0.40884,     0.40902,     0.40918,\n",
       "            0.40932,     0.40944,     0.40955,     0.40963,     0.40918,     0.40873,     0.40828,     0.40878,      0.4091,     0.40914,     0.40835,     0.40643,     0.40672,     0.40686,     0.40699,     0.40673,     0.40594,     0.40442,     0.40285,     0.40312,     0.40393,     0.40313,     0.40289,\n",
       "            0.40307,       0.402,      0.4024,     0.40267,     0.40287,     0.40303,     0.40247,     0.39882,     0.39872,     0.39912,     0.39977,     0.39997,     0.40017,     0.40038,     0.39994,     0.39978,     0.39924,     0.39849,      0.3987,     0.39888,     0.39904,     0.39927,     0.39967,\n",
       "            0.39979,      0.3999,     0.39937,     0.39847,     0.39858,      0.3987,     0.39847,     0.39736,     0.39625,     0.39524,      0.3944,     0.39254,     0.39279,     0.39307,     0.38981,      0.3906,     0.39101,     0.39185,      0.3929,     0.39177,     0.38972,     0.38993,     0.39058,\n",
       "            0.39016,     0.38799,     0.38344,     0.38313,     0.38106,     0.37828,      0.3785,     0.37905,     0.37933,     0.37727,     0.37379,     0.37308,     0.37338,     0.37358,     0.37209,     0.36891,     0.36574,     0.36096,     0.36136,     0.36176,     0.36224,     0.36103,     0.35873,\n",
       "            0.34919,     0.34457,     0.34238,      0.3386,     0.33628,     0.33533,      0.3339,     0.33135,     0.33166,      0.3285,     0.32875,     0.32928,     0.32773,     0.32644,     0.32742,     0.32212,     0.32096,     0.32245,     0.32202,      0.3225,     0.32317,     0.32469,     0.32385,\n",
       "            0.32391,     0.32235,     0.32116,     0.32017,     0.32093,     0.31755,     0.31393,     0.31343,     0.31189,     0.31211,     0.30626,     0.30314,     0.30257,     0.30065,      0.2936,     0.29378,     0.29228,      0.2909,     0.29023,     0.28126,     0.27352,     0.27103,     0.26513,\n",
       "            0.26528,     0.26546,     0.25874,     0.25132,     0.24693,     0.24511,     0.24115,      0.2371,     0.23092,     0.23191,     0.22755,     0.22296,     0.21798,     0.21445,     0.21139,     0.20558,     0.19476,      0.1949,     0.19298,     0.18918,     0.18336,     0.17846,     0.17651,\n",
       "            0.16607,     0.16117,     0.15633,     0.15134,     0.14553,     0.13722,     0.12884,      0.1221,     0.11667,     0.11401,      0.1141,     0.10722,    0.098718,    0.090926,    0.088932,    0.084589,    0.077376,     0.07505,    0.071146,    0.065024,    0.063067,    0.058805,    0.053091,\n",
       "           0.051302,    0.046337,    0.042694,    0.036779,     0.03367,    0.032076,    0.031684,    0.030488,    0.028886,    0.022848,    0.020955,    0.019338,    0.017244,     0.01281,    0.011867,   0.0096862,   0.0092761,   0.0089121,   0.0085479,   0.0081836,   0.0078191,   0.0074545,   0.0070898,\n",
       "          0.0067249,    0.006218,   0.0051221,   0.0040249,           0,           0,           0,           0,           0,           0,           0,           0,           0,           0,           0,           0,           0,           0,           0,           0,           0,           0,           0,\n",
       "                  0,           0,           0,           0,           0,           0,           0,           0,           0,           0,           0]]), 'Confidence', 'F1'], [array([          0,    0.001001,    0.002002,    0.003003,    0.004004,    0.005005,    0.006006,    0.007007,    0.008008,    0.009009,     0.01001,    0.011011,    0.012012,    0.013013,    0.014014,    0.015015,    0.016016,    0.017017,    0.018018,    0.019019,     0.02002,    0.021021,    0.022022,    0.023023,\n",
       "          0.024024,    0.025025,    0.026026,    0.027027,    0.028028,    0.029029,     0.03003,    0.031031,    0.032032,    0.033033,    0.034034,    0.035035,    0.036036,    0.037037,    0.038038,    0.039039,     0.04004,    0.041041,    0.042042,    0.043043,    0.044044,    0.045045,    0.046046,    0.047047,\n",
       "          0.048048,    0.049049,     0.05005,    0.051051,    0.052052,    0.053053,    0.054054,    0.055055,    0.056056,    0.057057,    0.058058,    0.059059,     0.06006,    0.061061,    0.062062,    0.063063,    0.064064,    0.065065,    0.066066,    0.067067,    0.068068,    0.069069,     0.07007,    0.071071,\n",
       "          0.072072,    0.073073,    0.074074,    0.075075,    0.076076,    0.077077,    0.078078,    0.079079,     0.08008,    0.081081,    0.082082,    0.083083,    0.084084,    0.085085,    0.086086,    0.087087,    0.088088,    0.089089,     0.09009,    0.091091,    0.092092,    0.093093,    0.094094,    0.095095,\n",
       "          0.096096,    0.097097,    0.098098,    0.099099,      0.1001,      0.1011,      0.1021,      0.1031,      0.1041,     0.10511,     0.10611,     0.10711,     0.10811,     0.10911,     0.11011,     0.11111,     0.11211,     0.11311,     0.11411,     0.11512,     0.11612,     0.11712,     0.11812,     0.11912,\n",
       "           0.12012,     0.12112,     0.12212,     0.12312,     0.12412,     0.12513,     0.12613,     0.12713,     0.12813,     0.12913,     0.13013,     0.13113,     0.13213,     0.13313,     0.13413,     0.13514,     0.13614,     0.13714,     0.13814,     0.13914,     0.14014,     0.14114,     0.14214,     0.14314,\n",
       "           0.14414,     0.14515,     0.14615,     0.14715,     0.14815,     0.14915,     0.15015,     0.15115,     0.15215,     0.15315,     0.15415,     0.15516,     0.15616,     0.15716,     0.15816,     0.15916,     0.16016,     0.16116,     0.16216,     0.16316,     0.16416,     0.16517,     0.16617,     0.16717,\n",
       "           0.16817,     0.16917,     0.17017,     0.17117,     0.17217,     0.17317,     0.17417,     0.17518,     0.17618,     0.17718,     0.17818,     0.17918,     0.18018,     0.18118,     0.18218,     0.18318,     0.18418,     0.18519,     0.18619,     0.18719,     0.18819,     0.18919,     0.19019,     0.19119,\n",
       "           0.19219,     0.19319,     0.19419,      0.1952,      0.1962,      0.1972,      0.1982,      0.1992,      0.2002,      0.2012,      0.2022,      0.2032,      0.2042,     0.20521,     0.20621,     0.20721,     0.20821,     0.20921,     0.21021,     0.21121,     0.21221,     0.21321,     0.21421,     0.21522,\n",
       "           0.21622,     0.21722,     0.21822,     0.21922,     0.22022,     0.22122,     0.22222,     0.22322,     0.22422,     0.22523,     0.22623,     0.22723,     0.22823,     0.22923,     0.23023,     0.23123,     0.23223,     0.23323,     0.23423,     0.23524,     0.23624,     0.23724,     0.23824,     0.23924,\n",
       "           0.24024,     0.24124,     0.24224,     0.24324,     0.24424,     0.24525,     0.24625,     0.24725,     0.24825,     0.24925,     0.25025,     0.25125,     0.25225,     0.25325,     0.25425,     0.25526,     0.25626,     0.25726,     0.25826,     0.25926,     0.26026,     0.26126,     0.26226,     0.26326,\n",
       "           0.26426,     0.26527,     0.26627,     0.26727,     0.26827,     0.26927,     0.27027,     0.27127,     0.27227,     0.27327,     0.27427,     0.27528,     0.27628,     0.27728,     0.27828,     0.27928,     0.28028,     0.28128,     0.28228,     0.28328,     0.28428,     0.28529,     0.28629,     0.28729,\n",
       "           0.28829,     0.28929,     0.29029,     0.29129,     0.29229,     0.29329,     0.29429,      0.2953,      0.2963,      0.2973,      0.2983,      0.2993,      0.3003,      0.3013,      0.3023,      0.3033,      0.3043,     0.30531,     0.30631,     0.30731,     0.30831,     0.30931,     0.31031,     0.31131,\n",
       "           0.31231,     0.31331,     0.31431,     0.31532,     0.31632,     0.31732,     0.31832,     0.31932,     0.32032,     0.32132,     0.32232,     0.32332,     0.32432,     0.32533,     0.32633,     0.32733,     0.32833,     0.32933,     0.33033,     0.33133,     0.33233,     0.33333,     0.33433,     0.33534,\n",
       "           0.33634,     0.33734,     0.33834,     0.33934,     0.34034,     0.34134,     0.34234,     0.34334,     0.34434,     0.34535,     0.34635,     0.34735,     0.34835,     0.34935,     0.35035,     0.35135,     0.35235,     0.35335,     0.35435,     0.35536,     0.35636,     0.35736,     0.35836,     0.35936,\n",
       "           0.36036,     0.36136,     0.36236,     0.36336,     0.36436,     0.36537,     0.36637,     0.36737,     0.36837,     0.36937,     0.37037,     0.37137,     0.37237,     0.37337,     0.37437,     0.37538,     0.37638,     0.37738,     0.37838,     0.37938,     0.38038,     0.38138,     0.38238,     0.38338,\n",
       "           0.38438,     0.38539,     0.38639,     0.38739,     0.38839,     0.38939,     0.39039,     0.39139,     0.39239,     0.39339,     0.39439,      0.3954,      0.3964,      0.3974,      0.3984,      0.3994,      0.4004,      0.4014,      0.4024,      0.4034,      0.4044,     0.40541,     0.40641,     0.40741,\n",
       "           0.40841,     0.40941,     0.41041,     0.41141,     0.41241,     0.41341,     0.41441,     0.41542,     0.41642,     0.41742,     0.41842,     0.41942,     0.42042,     0.42142,     0.42242,     0.42342,     0.42442,     0.42543,     0.42643,     0.42743,     0.42843,     0.42943,     0.43043,     0.43143,\n",
       "           0.43243,     0.43343,     0.43443,     0.43544,     0.43644,     0.43744,     0.43844,     0.43944,     0.44044,     0.44144,     0.44244,     0.44344,     0.44444,     0.44545,     0.44645,     0.44745,     0.44845,     0.44945,     0.45045,     0.45145,     0.45245,     0.45345,     0.45445,     0.45546,\n",
       "           0.45646,     0.45746,     0.45846,     0.45946,     0.46046,     0.46146,     0.46246,     0.46346,     0.46446,     0.46547,     0.46647,     0.46747,     0.46847,     0.46947,     0.47047,     0.47147,     0.47247,     0.47347,     0.47447,     0.47548,     0.47648,     0.47748,     0.47848,     0.47948,\n",
       "           0.48048,     0.48148,     0.48248,     0.48348,     0.48448,     0.48549,     0.48649,     0.48749,     0.48849,     0.48949,     0.49049,     0.49149,     0.49249,     0.49349,     0.49449,      0.4955,      0.4965,      0.4975,      0.4985,      0.4995,      0.5005,      0.5015,      0.5025,      0.5035,\n",
       "            0.5045,     0.50551,     0.50651,     0.50751,     0.50851,     0.50951,     0.51051,     0.51151,     0.51251,     0.51351,     0.51451,     0.51552,     0.51652,     0.51752,     0.51852,     0.51952,     0.52052,     0.52152,     0.52252,     0.52352,     0.52452,     0.52553,     0.52653,     0.52753,\n",
       "           0.52853,     0.52953,     0.53053,     0.53153,     0.53253,     0.53353,     0.53453,     0.53554,     0.53654,     0.53754,     0.53854,     0.53954,     0.54054,     0.54154,     0.54254,     0.54354,     0.54454,     0.54555,     0.54655,     0.54755,     0.54855,     0.54955,     0.55055,     0.55155,\n",
       "           0.55255,     0.55355,     0.55455,     0.55556,     0.55656,     0.55756,     0.55856,     0.55956,     0.56056,     0.56156,     0.56256,     0.56356,     0.56456,     0.56557,     0.56657,     0.56757,     0.56857,     0.56957,     0.57057,     0.57157,     0.57257,     0.57357,     0.57457,     0.57558,\n",
       "           0.57658,     0.57758,     0.57858,     0.57958,     0.58058,     0.58158,     0.58258,     0.58358,     0.58458,     0.58559,     0.58659,     0.58759,     0.58859,     0.58959,     0.59059,     0.59159,     0.59259,     0.59359,     0.59459,      0.5956,      0.5966,      0.5976,      0.5986,      0.5996,\n",
       "            0.6006,      0.6016,      0.6026,      0.6036,      0.6046,     0.60561,     0.60661,     0.60761,     0.60861,     0.60961,     0.61061,     0.61161,     0.61261,     0.61361,     0.61461,     0.61562,     0.61662,     0.61762,     0.61862,     0.61962,     0.62062,     0.62162,     0.62262,     0.62362,\n",
       "           0.62462,     0.62563,     0.62663,     0.62763,     0.62863,     0.62963,     0.63063,     0.63163,     0.63263,     0.63363,     0.63463,     0.63564,     0.63664,     0.63764,     0.63864,     0.63964,     0.64064,     0.64164,     0.64264,     0.64364,     0.64464,     0.64565,     0.64665,     0.64765,\n",
       "           0.64865,     0.64965,     0.65065,     0.65165,     0.65265,     0.65365,     0.65465,     0.65566,     0.65666,     0.65766,     0.65866,     0.65966,     0.66066,     0.66166,     0.66266,     0.66366,     0.66466,     0.66567,     0.66667,     0.66767,     0.66867,     0.66967,     0.67067,     0.67167,\n",
       "           0.67267,     0.67367,     0.67467,     0.67568,     0.67668,     0.67768,     0.67868,     0.67968,     0.68068,     0.68168,     0.68268,     0.68368,     0.68468,     0.68569,     0.68669,     0.68769,     0.68869,     0.68969,     0.69069,     0.69169,     0.69269,     0.69369,     0.69469,      0.6957,\n",
       "            0.6967,      0.6977,      0.6987,      0.6997,      0.7007,      0.7017,      0.7027,      0.7037,      0.7047,     0.70571,     0.70671,     0.70771,     0.70871,     0.70971,     0.71071,     0.71171,     0.71271,     0.71371,     0.71471,     0.71572,     0.71672,     0.71772,     0.71872,     0.71972,\n",
       "           0.72072,     0.72172,     0.72272,     0.72372,     0.72472,     0.72573,     0.72673,     0.72773,     0.72873,     0.72973,     0.73073,     0.73173,     0.73273,     0.73373,     0.73473,     0.73574,     0.73674,     0.73774,     0.73874,     0.73974,     0.74074,     0.74174,     0.74274,     0.74374,\n",
       "           0.74474,     0.74575,     0.74675,     0.74775,     0.74875,     0.74975,     0.75075,     0.75175,     0.75275,     0.75375,     0.75475,     0.75576,     0.75676,     0.75776,     0.75876,     0.75976,     0.76076,     0.76176,     0.76276,     0.76376,     0.76476,     0.76577,     0.76677,     0.76777,\n",
       "           0.76877,     0.76977,     0.77077,     0.77177,     0.77277,     0.77377,     0.77477,     0.77578,     0.77678,     0.77778,     0.77878,     0.77978,     0.78078,     0.78178,     0.78278,     0.78378,     0.78478,     0.78579,     0.78679,     0.78779,     0.78879,     0.78979,     0.79079,     0.79179,\n",
       "           0.79279,     0.79379,     0.79479,      0.7958,      0.7968,      0.7978,      0.7988,      0.7998,      0.8008,      0.8018,      0.8028,      0.8038,      0.8048,     0.80581,     0.80681,     0.80781,     0.80881,     0.80981,     0.81081,     0.81181,     0.81281,     0.81381,     0.81481,     0.81582,\n",
       "           0.81682,     0.81782,     0.81882,     0.81982,     0.82082,     0.82182,     0.82282,     0.82382,     0.82482,     0.82583,     0.82683,     0.82783,     0.82883,     0.82983,     0.83083,     0.83183,     0.83283,     0.83383,     0.83483,     0.83584,     0.83684,     0.83784,     0.83884,     0.83984,\n",
       "           0.84084,     0.84184,     0.84284,     0.84384,     0.84484,     0.84585,     0.84685,     0.84785,     0.84885,     0.84985,     0.85085,     0.85185,     0.85285,     0.85385,     0.85485,     0.85586,     0.85686,     0.85786,     0.85886,     0.85986,     0.86086,     0.86186,     0.86286,     0.86386,\n",
       "           0.86486,     0.86587,     0.86687,     0.86787,     0.86887,     0.86987,     0.87087,     0.87187,     0.87287,     0.87387,     0.87487,     0.87588,     0.87688,     0.87788,     0.87888,     0.87988,     0.88088,     0.88188,     0.88288,     0.88388,     0.88488,     0.88589,     0.88689,     0.88789,\n",
       "           0.88889,     0.88989,     0.89089,     0.89189,     0.89289,     0.89389,     0.89489,      0.8959,      0.8969,      0.8979,      0.8989,      0.8999,      0.9009,      0.9019,      0.9029,      0.9039,      0.9049,     0.90591,     0.90691,     0.90791,     0.90891,     0.90991,     0.91091,     0.91191,\n",
       "           0.91291,     0.91391,     0.91491,     0.91592,     0.91692,     0.91792,     0.91892,     0.91992,     0.92092,     0.92192,     0.92292,     0.92392,     0.92492,     0.92593,     0.92693,     0.92793,     0.92893,     0.92993,     0.93093,     0.93193,     0.93293,     0.93393,     0.93493,     0.93594,\n",
       "           0.93694,     0.93794,     0.93894,     0.93994,     0.94094,     0.94194,     0.94294,     0.94394,     0.94494,     0.94595,     0.94695,     0.94795,     0.94895,     0.94995,     0.95095,     0.95195,     0.95295,     0.95395,     0.95495,     0.95596,     0.95696,     0.95796,     0.95896,     0.95996,\n",
       "           0.96096,     0.96196,     0.96296,     0.96396,     0.96496,     0.96597,     0.96697,     0.96797,     0.96897,     0.96997,     0.97097,     0.97197,     0.97297,     0.97397,     0.97497,     0.97598,     0.97698,     0.97798,     0.97898,     0.97998,     0.98098,     0.98198,     0.98298,     0.98398,\n",
       "           0.98498,     0.98599,     0.98699,     0.98799,     0.98899,     0.98999,     0.99099,     0.99199,     0.99299,     0.99399,     0.99499,       0.996,       0.997,       0.998,       0.999,           1]), array([[ 0.00070295,  0.00070295,   0.0031802,   0.0070639,    0.010949,    0.014956,    0.018817,    0.022833,    0.026989,    0.031097,    0.035138,    0.038878,    0.043261,    0.047124,    0.051654,    0.055575,    0.059767,    0.064316,    0.068551,    0.073296,    0.077916,    0.081378,    0.085123,\n",
       "            0.08934,     0.09368,    0.097453,     0.10147,     0.10425,     0.10786,     0.11119,     0.11487,     0.11727,     0.12039,     0.12308,     0.12542,     0.12878,     0.13207,       0.135,     0.13746,     0.14009,      0.1424,      0.1452,     0.14771,     0.15078,     0.15356,     0.15587,\n",
       "            0.15741,      0.1607,     0.16317,     0.16517,     0.16657,     0.16896,      0.1708,     0.17308,     0.17422,     0.17557,     0.17756,      0.1793,     0.18105,     0.18325,     0.18581,     0.18821,     0.19034,     0.19195,     0.19378,      0.1948,     0.19745,     0.19956,     0.20144,\n",
       "            0.20277,     0.20507,      0.2063,     0.20765,     0.20883,     0.21026,      0.2124,     0.21361,     0.21493,     0.21567,     0.21702,     0.21868,     0.21961,     0.22091,     0.22223,     0.22234,     0.22258,     0.22347,     0.22474,     0.22571,     0.22702,     0.22754,     0.22849,\n",
       "            0.22948,     0.23037,     0.23123,     0.23329,     0.23438,     0.23689,       0.238,     0.23847,     0.23948,     0.24063,     0.24144,     0.24163,     0.24291,     0.24333,     0.24399,     0.24607,      0.2472,     0.24807,     0.24927,     0.24981,     0.25105,     0.25145,     0.25173,\n",
       "            0.25204,     0.25356,     0.25434,     0.25625,     0.25737,     0.25789,     0.25812,      0.2591,      0.2595,     0.26044,     0.26064,      0.2608,     0.26222,      0.2637,     0.26442,     0.26541,     0.26583,     0.26686,      0.2682,     0.26909,     0.26944,     0.27066,     0.27112,\n",
       "            0.27214,     0.27334,     0.27503,     0.27583,     0.27601,     0.27682,     0.27838,     0.27969,     0.28101,     0.28232,     0.28279,     0.28262,     0.28296,     0.28416,     0.28475,     0.28456,     0.28605,     0.28669,      0.2877,     0.28831,     0.28905,      0.2901,      0.2903,\n",
       "            0.29089,      0.2912,     0.29202,     0.29273,     0.29354,     0.29446,     0.29518,     0.29537,     0.29624,     0.29649,     0.29664,     0.29737,     0.29764,      0.2982,     0.29923,     0.30002,     0.30063,     0.30309,     0.30329,     0.30425,     0.30503,     0.30537,     0.30552,\n",
       "            0.30523,     0.30555,     0.30619,     0.30667,     0.30724,     0.30818,     0.30967,     0.30989,     0.31001,     0.31012,     0.31046,     0.31141,     0.31347,     0.31388,     0.31402,     0.31416,     0.31459,     0.31431,     0.31497,     0.31565,     0.31626,     0.31708,     0.31723,\n",
       "            0.31738,     0.31859,     0.31887,     0.31954,     0.31918,     0.31989,     0.32091,     0.32111,     0.32192,     0.32256,     0.32276,     0.32323,     0.32352,     0.32441,      0.3246,     0.32487,     0.32546,     0.32648,     0.32691,     0.32718,     0.32733,     0.32747,     0.32767,\n",
       "            0.32797,     0.32856,     0.32891,     0.32909,     0.32951,     0.32973,     0.32987,     0.33045,      0.3309,     0.33109,     0.33217,     0.33363,     0.33546,     0.33575,     0.33664,     0.33697,     0.33738,     0.33778,     0.33858,     0.33899,     0.33917,     0.33936,     0.33956,\n",
       "            0.33979,     0.34039,     0.34099,     0.34203,     0.34263,     0.34368,       0.344,     0.34446,     0.34641,     0.34668,     0.34751,     0.34906,     0.35108,     0.35159,      0.3519,     0.35296,     0.35348,     0.35322,     0.35391,     0.35456,     0.35413,     0.35441,     0.35543,\n",
       "            0.35563,     0.35583,     0.35604,     0.35626,     0.35651,     0.35679,     0.35835,     0.35902,     0.36008,     0.36098,     0.36137,     0.36188,     0.36218,     0.36247,     0.36275,     0.36207,     0.36247,     0.36262,     0.36278,     0.36294,     0.36308,     0.36323,     0.36338,\n",
       "            0.36371,     0.36404,     0.36433,     0.36425,     0.36458,     0.36514,     0.36544,     0.36588,     0.36653,     0.36669,     0.36681,     0.36694,     0.36706,     0.36784,     0.36818,     0.36935,     0.36959,     0.37072,       0.371,     0.37116,     0.37131,     0.37161,     0.37278,\n",
       "            0.37343,     0.37401,     0.37521,     0.37553,     0.37585,     0.37617,     0.37641,     0.37661,     0.37681,     0.37713,     0.37758,     0.37823,      0.3789,      0.3795,     0.38007,     0.38133,      0.3809,     0.38098,     0.38106,     0.38114,     0.38122,      0.3813,     0.38137,\n",
       "            0.38154,     0.38206,     0.38219,     0.38231,     0.38244,     0.38257,     0.38286,     0.38318,     0.38437,     0.38466,     0.38514,     0.38618,     0.38648,     0.38711,     0.38801,     0.38831,     0.38895,     0.38917,     0.38939,     0.38955,     0.38968,      0.3898,     0.38993,\n",
       "            0.39006,     0.39039,     0.39139,     0.39191,     0.39222,     0.39329,     0.39398,     0.39441,     0.39471,     0.39553,      0.3957,     0.39586,     0.39603,     0.39728,     0.39744,      0.3976,     0.39775,     0.39878,     0.39928,     0.39959,     0.40075,     0.40012,     0.40029,\n",
       "            0.40046,     0.40063,     0.40074,     0.40085,     0.40096,     0.40107,     0.40118,     0.40153,     0.40204,     0.40241,     0.40266,     0.40288,     0.40309,      0.4034,     0.40372,     0.40433,     0.40514,     0.40556,     0.40508,     0.40466,     0.40442,     0.40418,     0.40394,\n",
       "            0.40473,     0.40591,     0.40624,     0.40679,     0.40774,     0.40787,       0.408,     0.40814,     0.40827,       0.409,     0.40964,     0.40997,     0.41031,     0.41065,     0.41098,     0.41132,     0.41166,       0.412,     0.41234,     0.41268,     0.41304,     0.41343,     0.41393,\n",
       "            0.41344,     0.41404,     0.41416,     0.41427,     0.41439,      0.4145,     0.41462,     0.41538,     0.41547,     0.41556,     0.41564,     0.41573,     0.41582,      0.4159,     0.41663,     0.41573,     0.41608,     0.41625,     0.41638,     0.41695,      0.4173,     0.41705,     0.41664,\n",
       "            0.41688,     0.41711,     0.41598,     0.41548,     0.41779,     0.41811,     0.41819,     0.41827,     0.41835,     0.41843,     0.41851,     0.41859,     0.41867,     0.41875,     0.41896,      0.4192,     0.41944,     0.41979,     0.42015,      0.4204,     0.42064,      0.4209,     0.42163,\n",
       "            0.42227,     0.42193,      0.4216,     0.42144,     0.42205,     0.42214,     0.42223,     0.42233,     0.42242,     0.42251,      0.4226,     0.42269,     0.42303,     0.42353,     0.42368,     0.42382,     0.42397,     0.42412,     0.42458,     0.42509,     0.42509,     0.42634,     0.42672,\n",
       "            0.42709,     0.42747,     0.42688,     0.42641,     0.42616,     0.42591,     0.42565,     0.42622,     0.42666,     0.42704,     0.42742,      0.4278,     0.42854,     0.42794,     0.42833,     0.42871,      0.4291,     0.42948,     0.42991,     0.43139,     0.43178,     0.43215,     0.43241,\n",
       "            0.43267,     0.43296,     0.43336,     0.43387,     0.43466,      0.4343,      0.4347,     0.43526,     0.43589,     0.43628,       0.436,     0.43589,     0.43599,     0.43547,      0.4365,     0.43667,     0.43641,     0.43614,     0.43588,     0.43795,      0.4383,     0.43846,     0.43863,\n",
       "            0.43879,     0.43895,     0.43913,     0.43932,      0.4395,     0.43968,     0.43987,     0.44008,     0.44029,     0.44049,     0.44081,     0.44123,     0.44157,      0.4417,     0.44253,     0.44374,      0.4439,     0.44407,     0.44424,     0.44441,     0.44467,     0.44495,     0.44523,\n",
       "            0.44684,     0.44646,     0.44593,      0.4463,     0.44672,     0.44692,     0.44711,      0.4473,     0.44749,     0.44774,     0.44802,     0.44831,     0.44936,     0.44954,     0.44971,     0.44989,     0.45006,     0.45044,     0.45088,     0.45106,     0.45119,     0.45133,     0.45146,\n",
       "            0.45159,     0.45173,     0.45202,     0.45245,     0.45275,     0.45292,      0.4531,     0.45328,     0.45345,     0.45537,     0.45557,     0.45577,     0.45597,     0.45636,     0.45687,     0.45651,     0.45616,     0.45716,      0.4574,     0.45669,      0.4575,     0.45841,     0.45931,\n",
       "            0.45951,     0.45971,     0.45991,     0.46012,     0.46048,     0.46094,     0.46307,     0.46307,     0.46354,     0.46435,     0.46505,     0.46655,     0.46702,      0.4675,     0.46797,     0.46864,      0.4704,     0.47104,     0.47199,     0.47173,     0.47146,     0.47119,     0.47111,\n",
       "            0.47167,     0.47131,     0.47094,     0.47148,     0.47246,      0.4732,      0.4749,     0.47575,     0.47625,     0.47724,      0.4777,     0.47789,     0.47807,     0.47825,     0.47843,     0.47901,     0.48002,     0.48301,     0.48454,     0.48557,     0.48839,     0.48747,     0.48765,\n",
       "            0.48782,       0.488,     0.48817,     0.48834,     0.48877,     0.48957,      0.4898,     0.49004,     0.49027,     0.49051,     0.49184,     0.49215,     0.49245,     0.49154,     0.49252,     0.49154,     0.49225,     0.49319,     0.49427,     0.49512,     0.49577,     0.49608,     0.49639,\n",
       "             0.4967,     0.49762,     0.49872,     0.49831,     0.49823,      0.4992,     0.49994,     0.49897,     0.49912,     0.49934,     0.49957,     0.49979,     0.50015,     0.50045,     0.50027,     0.50072,     0.50128,     0.50338,     0.50376,     0.50414,     0.50472,     0.50587,     0.50792,\n",
       "             0.5083,     0.50869,     0.50923,        0.51,     0.50903,     0.50826,     0.50732,     0.50715,     0.50787,     0.50711,     0.50713,     0.50772,     0.50746,     0.50695,     0.50774,     0.50814,     0.50873,     0.50902,     0.50844,     0.50769,     0.50684,     0.50663,     0.50642,\n",
       "             0.5062,     0.50599,     0.50578,     0.50616,     0.50656,     0.50698,     0.50778,     0.50859,     0.50944,     0.51016,     0.50858,     0.50875,     0.50957,     0.51018,     0.51033,     0.50902,      0.5092,      0.5088,      0.5084,      0.5073,     0.50829,     0.50885,     0.50936,\n",
       "            0.50979,     0.51015,     0.51051,     0.51082,     0.51047,     0.51013,     0.50978,     0.51173,     0.51271,     0.51325,     0.51264,     0.51168,     0.51259,     0.51302,     0.51345,     0.51426,     0.51364,     0.51247,     0.51154,     0.51241,     0.51599,     0.51537,     0.51555,\n",
       "            0.51632,     0.51548,     0.51787,     0.51877,     0.51944,     0.51998,     0.51987,     0.51703,     0.51773,     0.51911,     0.52128,     0.52197,     0.52267,     0.52337,     0.52609,     0.52988,     0.53008,     0.52976,     0.53049,     0.53114,     0.53173,     0.53253,     0.53395,\n",
       "            0.53437,     0.53479,     0.53464,     0.53417,      0.5346,     0.53502,     0.53508,     0.53421,     0.53334,     0.53255,     0.53189,     0.53042,     0.53212,     0.53312,     0.53057,     0.53355,     0.53508,     0.53824,     0.54253,     0.54164,     0.54011,     0.54091,     0.54341,\n",
       "            0.54409,     0.54237,     0.54161,     0.54358,     0.54191,     0.54096,      0.5436,     0.54589,     0.54703,     0.54678,     0.54395,     0.54404,     0.54533,      0.5462,     0.54667,     0.54419,     0.54423,     0.54045,     0.54224,     0.54404,     0.54624,     0.54898,     0.54704,\n",
       "             0.5398,      0.5364,     0.53449,     0.53172,      0.5306,      0.5304,        0.53,     0.52925,       0.535,     0.53457,     0.53591,     0.53874,     0.54041,     0.54028,     0.54572,      0.5427,     0.54523,     0.55391,     0.56111,       0.564,     0.56817,     0.57766,      0.5797,\n",
       "            0.58341,     0.58424,     0.58759,     0.59246,     0.59773,     0.59823,      0.5974,     0.60675,     0.60856,     0.61285,     0.61012,     0.61064,     0.62107,      0.6268,     0.62422,      0.6259,     0.62949,     0.63448,     0.64677,     0.65563,     0.65298,      0.6535,     0.65224,\n",
       "            0.65804,      0.6602,     0.65361,     0.66688,     0.66655,     0.66977,     0.67887,     0.68067,     0.68882,     0.70693,     0.71006,     0.70963,     0.71365,      0.7259,     0.72564,     0.71941,     0.70833,     0.71202,     0.71194,     0.72938,     0.72254,      0.7321,     0.75152,\n",
       "            0.74344,     0.74764,     0.77119,     0.78756,     0.78039,     0.76936,     0.75715,     0.79459,     0.80332,     0.81509,     0.82409,     0.87623,     0.86647,     0.85617,      0.8533,      0.8466,     0.83416,      0.8297,     0.82176,     0.80771,     0.83545,     0.82532,     0.83274,\n",
       "            0.84527,     0.88053,      0.8714,     0.85333,     0.84168,      0.8351,     0.89006,     0.90557,     0.90091,     0.87745,     0.86742,     0.85827,     0.84287,     0.88478,           1,           1,           1,           1,           1,           1,           1,           1,           1,\n",
       "                  1,           1,           1,           1,           1,           1,           1,           1,           1,           1,           1,           1,           1,           1,           1,           1,           1,           1,           1,           1,           1,           1,           1,\n",
       "                  1,           1,           1,           1,           1,           1,           1,           1,           1,           1,           1]]), 'Confidence', 'Precision'], [array([          0,    0.001001,    0.002002,    0.003003,    0.004004,    0.005005,    0.006006,    0.007007,    0.008008,    0.009009,     0.01001,    0.011011,    0.012012,    0.013013,    0.014014,    0.015015,    0.016016,    0.017017,    0.018018,    0.019019,     0.02002,    0.021021,    0.022022,    0.023023,\n",
       "          0.024024,    0.025025,    0.026026,    0.027027,    0.028028,    0.029029,     0.03003,    0.031031,    0.032032,    0.033033,    0.034034,    0.035035,    0.036036,    0.037037,    0.038038,    0.039039,     0.04004,    0.041041,    0.042042,    0.043043,    0.044044,    0.045045,    0.046046,    0.047047,\n",
       "          0.048048,    0.049049,     0.05005,    0.051051,    0.052052,    0.053053,    0.054054,    0.055055,    0.056056,    0.057057,    0.058058,    0.059059,     0.06006,    0.061061,    0.062062,    0.063063,    0.064064,    0.065065,    0.066066,    0.067067,    0.068068,    0.069069,     0.07007,    0.071071,\n",
       "          0.072072,    0.073073,    0.074074,    0.075075,    0.076076,    0.077077,    0.078078,    0.079079,     0.08008,    0.081081,    0.082082,    0.083083,    0.084084,    0.085085,    0.086086,    0.087087,    0.088088,    0.089089,     0.09009,    0.091091,    0.092092,    0.093093,    0.094094,    0.095095,\n",
       "          0.096096,    0.097097,    0.098098,    0.099099,      0.1001,      0.1011,      0.1021,      0.1031,      0.1041,     0.10511,     0.10611,     0.10711,     0.10811,     0.10911,     0.11011,     0.11111,     0.11211,     0.11311,     0.11411,     0.11512,     0.11612,     0.11712,     0.11812,     0.11912,\n",
       "           0.12012,     0.12112,     0.12212,     0.12312,     0.12412,     0.12513,     0.12613,     0.12713,     0.12813,     0.12913,     0.13013,     0.13113,     0.13213,     0.13313,     0.13413,     0.13514,     0.13614,     0.13714,     0.13814,     0.13914,     0.14014,     0.14114,     0.14214,     0.14314,\n",
       "           0.14414,     0.14515,     0.14615,     0.14715,     0.14815,     0.14915,     0.15015,     0.15115,     0.15215,     0.15315,     0.15415,     0.15516,     0.15616,     0.15716,     0.15816,     0.15916,     0.16016,     0.16116,     0.16216,     0.16316,     0.16416,     0.16517,     0.16617,     0.16717,\n",
       "           0.16817,     0.16917,     0.17017,     0.17117,     0.17217,     0.17317,     0.17417,     0.17518,     0.17618,     0.17718,     0.17818,     0.17918,     0.18018,     0.18118,     0.18218,     0.18318,     0.18418,     0.18519,     0.18619,     0.18719,     0.18819,     0.18919,     0.19019,     0.19119,\n",
       "           0.19219,     0.19319,     0.19419,      0.1952,      0.1962,      0.1972,      0.1982,      0.1992,      0.2002,      0.2012,      0.2022,      0.2032,      0.2042,     0.20521,     0.20621,     0.20721,     0.20821,     0.20921,     0.21021,     0.21121,     0.21221,     0.21321,     0.21421,     0.21522,\n",
       "           0.21622,     0.21722,     0.21822,     0.21922,     0.22022,     0.22122,     0.22222,     0.22322,     0.22422,     0.22523,     0.22623,     0.22723,     0.22823,     0.22923,     0.23023,     0.23123,     0.23223,     0.23323,     0.23423,     0.23524,     0.23624,     0.23724,     0.23824,     0.23924,\n",
       "           0.24024,     0.24124,     0.24224,     0.24324,     0.24424,     0.24525,     0.24625,     0.24725,     0.24825,     0.24925,     0.25025,     0.25125,     0.25225,     0.25325,     0.25425,     0.25526,     0.25626,     0.25726,     0.25826,     0.25926,     0.26026,     0.26126,     0.26226,     0.26326,\n",
       "           0.26426,     0.26527,     0.26627,     0.26727,     0.26827,     0.26927,     0.27027,     0.27127,     0.27227,     0.27327,     0.27427,     0.27528,     0.27628,     0.27728,     0.27828,     0.27928,     0.28028,     0.28128,     0.28228,     0.28328,     0.28428,     0.28529,     0.28629,     0.28729,\n",
       "           0.28829,     0.28929,     0.29029,     0.29129,     0.29229,     0.29329,     0.29429,      0.2953,      0.2963,      0.2973,      0.2983,      0.2993,      0.3003,      0.3013,      0.3023,      0.3033,      0.3043,     0.30531,     0.30631,     0.30731,     0.30831,     0.30931,     0.31031,     0.31131,\n",
       "           0.31231,     0.31331,     0.31431,     0.31532,     0.31632,     0.31732,     0.31832,     0.31932,     0.32032,     0.32132,     0.32232,     0.32332,     0.32432,     0.32533,     0.32633,     0.32733,     0.32833,     0.32933,     0.33033,     0.33133,     0.33233,     0.33333,     0.33433,     0.33534,\n",
       "           0.33634,     0.33734,     0.33834,     0.33934,     0.34034,     0.34134,     0.34234,     0.34334,     0.34434,     0.34535,     0.34635,     0.34735,     0.34835,     0.34935,     0.35035,     0.35135,     0.35235,     0.35335,     0.35435,     0.35536,     0.35636,     0.35736,     0.35836,     0.35936,\n",
       "           0.36036,     0.36136,     0.36236,     0.36336,     0.36436,     0.36537,     0.36637,     0.36737,     0.36837,     0.36937,     0.37037,     0.37137,     0.37237,     0.37337,     0.37437,     0.37538,     0.37638,     0.37738,     0.37838,     0.37938,     0.38038,     0.38138,     0.38238,     0.38338,\n",
       "           0.38438,     0.38539,     0.38639,     0.38739,     0.38839,     0.38939,     0.39039,     0.39139,     0.39239,     0.39339,     0.39439,      0.3954,      0.3964,      0.3974,      0.3984,      0.3994,      0.4004,      0.4014,      0.4024,      0.4034,      0.4044,     0.40541,     0.40641,     0.40741,\n",
       "           0.40841,     0.40941,     0.41041,     0.41141,     0.41241,     0.41341,     0.41441,     0.41542,     0.41642,     0.41742,     0.41842,     0.41942,     0.42042,     0.42142,     0.42242,     0.42342,     0.42442,     0.42543,     0.42643,     0.42743,     0.42843,     0.42943,     0.43043,     0.43143,\n",
       "           0.43243,     0.43343,     0.43443,     0.43544,     0.43644,     0.43744,     0.43844,     0.43944,     0.44044,     0.44144,     0.44244,     0.44344,     0.44444,     0.44545,     0.44645,     0.44745,     0.44845,     0.44945,     0.45045,     0.45145,     0.45245,     0.45345,     0.45445,     0.45546,\n",
       "           0.45646,     0.45746,     0.45846,     0.45946,     0.46046,     0.46146,     0.46246,     0.46346,     0.46446,     0.46547,     0.46647,     0.46747,     0.46847,     0.46947,     0.47047,     0.47147,     0.47247,     0.47347,     0.47447,     0.47548,     0.47648,     0.47748,     0.47848,     0.47948,\n",
       "           0.48048,     0.48148,     0.48248,     0.48348,     0.48448,     0.48549,     0.48649,     0.48749,     0.48849,     0.48949,     0.49049,     0.49149,     0.49249,     0.49349,     0.49449,      0.4955,      0.4965,      0.4975,      0.4985,      0.4995,      0.5005,      0.5015,      0.5025,      0.5035,\n",
       "            0.5045,     0.50551,     0.50651,     0.50751,     0.50851,     0.50951,     0.51051,     0.51151,     0.51251,     0.51351,     0.51451,     0.51552,     0.51652,     0.51752,     0.51852,     0.51952,     0.52052,     0.52152,     0.52252,     0.52352,     0.52452,     0.52553,     0.52653,     0.52753,\n",
       "           0.52853,     0.52953,     0.53053,     0.53153,     0.53253,     0.53353,     0.53453,     0.53554,     0.53654,     0.53754,     0.53854,     0.53954,     0.54054,     0.54154,     0.54254,     0.54354,     0.54454,     0.54555,     0.54655,     0.54755,     0.54855,     0.54955,     0.55055,     0.55155,\n",
       "           0.55255,     0.55355,     0.55455,     0.55556,     0.55656,     0.55756,     0.55856,     0.55956,     0.56056,     0.56156,     0.56256,     0.56356,     0.56456,     0.56557,     0.56657,     0.56757,     0.56857,     0.56957,     0.57057,     0.57157,     0.57257,     0.57357,     0.57457,     0.57558,\n",
       "           0.57658,     0.57758,     0.57858,     0.57958,     0.58058,     0.58158,     0.58258,     0.58358,     0.58458,     0.58559,     0.58659,     0.58759,     0.58859,     0.58959,     0.59059,     0.59159,     0.59259,     0.59359,     0.59459,      0.5956,      0.5966,      0.5976,      0.5986,      0.5996,\n",
       "            0.6006,      0.6016,      0.6026,      0.6036,      0.6046,     0.60561,     0.60661,     0.60761,     0.60861,     0.60961,     0.61061,     0.61161,     0.61261,     0.61361,     0.61461,     0.61562,     0.61662,     0.61762,     0.61862,     0.61962,     0.62062,     0.62162,     0.62262,     0.62362,\n",
       "           0.62462,     0.62563,     0.62663,     0.62763,     0.62863,     0.62963,     0.63063,     0.63163,     0.63263,     0.63363,     0.63463,     0.63564,     0.63664,     0.63764,     0.63864,     0.63964,     0.64064,     0.64164,     0.64264,     0.64364,     0.64464,     0.64565,     0.64665,     0.64765,\n",
       "           0.64865,     0.64965,     0.65065,     0.65165,     0.65265,     0.65365,     0.65465,     0.65566,     0.65666,     0.65766,     0.65866,     0.65966,     0.66066,     0.66166,     0.66266,     0.66366,     0.66466,     0.66567,     0.66667,     0.66767,     0.66867,     0.66967,     0.67067,     0.67167,\n",
       "           0.67267,     0.67367,     0.67467,     0.67568,     0.67668,     0.67768,     0.67868,     0.67968,     0.68068,     0.68168,     0.68268,     0.68368,     0.68468,     0.68569,     0.68669,     0.68769,     0.68869,     0.68969,     0.69069,     0.69169,     0.69269,     0.69369,     0.69469,      0.6957,\n",
       "            0.6967,      0.6977,      0.6987,      0.6997,      0.7007,      0.7017,      0.7027,      0.7037,      0.7047,     0.70571,     0.70671,     0.70771,     0.70871,     0.70971,     0.71071,     0.71171,     0.71271,     0.71371,     0.71471,     0.71572,     0.71672,     0.71772,     0.71872,     0.71972,\n",
       "           0.72072,     0.72172,     0.72272,     0.72372,     0.72472,     0.72573,     0.72673,     0.72773,     0.72873,     0.72973,     0.73073,     0.73173,     0.73273,     0.73373,     0.73473,     0.73574,     0.73674,     0.73774,     0.73874,     0.73974,     0.74074,     0.74174,     0.74274,     0.74374,\n",
       "           0.74474,     0.74575,     0.74675,     0.74775,     0.74875,     0.74975,     0.75075,     0.75175,     0.75275,     0.75375,     0.75475,     0.75576,     0.75676,     0.75776,     0.75876,     0.75976,     0.76076,     0.76176,     0.76276,     0.76376,     0.76476,     0.76577,     0.76677,     0.76777,\n",
       "           0.76877,     0.76977,     0.77077,     0.77177,     0.77277,     0.77377,     0.77477,     0.77578,     0.77678,     0.77778,     0.77878,     0.77978,     0.78078,     0.78178,     0.78278,     0.78378,     0.78478,     0.78579,     0.78679,     0.78779,     0.78879,     0.78979,     0.79079,     0.79179,\n",
       "           0.79279,     0.79379,     0.79479,      0.7958,      0.7968,      0.7978,      0.7988,      0.7998,      0.8008,      0.8018,      0.8028,      0.8038,      0.8048,     0.80581,     0.80681,     0.80781,     0.80881,     0.80981,     0.81081,     0.81181,     0.81281,     0.81381,     0.81481,     0.81582,\n",
       "           0.81682,     0.81782,     0.81882,     0.81982,     0.82082,     0.82182,     0.82282,     0.82382,     0.82482,     0.82583,     0.82683,     0.82783,     0.82883,     0.82983,     0.83083,     0.83183,     0.83283,     0.83383,     0.83483,     0.83584,     0.83684,     0.83784,     0.83884,     0.83984,\n",
       "           0.84084,     0.84184,     0.84284,     0.84384,     0.84484,     0.84585,     0.84685,     0.84785,     0.84885,     0.84985,     0.85085,     0.85185,     0.85285,     0.85385,     0.85485,     0.85586,     0.85686,     0.85786,     0.85886,     0.85986,     0.86086,     0.86186,     0.86286,     0.86386,\n",
       "           0.86486,     0.86587,     0.86687,     0.86787,     0.86887,     0.86987,     0.87087,     0.87187,     0.87287,     0.87387,     0.87487,     0.87588,     0.87688,     0.87788,     0.87888,     0.87988,     0.88088,     0.88188,     0.88288,     0.88388,     0.88488,     0.88589,     0.88689,     0.88789,\n",
       "           0.88889,     0.88989,     0.89089,     0.89189,     0.89289,     0.89389,     0.89489,      0.8959,      0.8969,      0.8979,      0.8989,      0.8999,      0.9009,      0.9019,      0.9029,      0.9039,      0.9049,     0.90591,     0.90691,     0.90791,     0.90891,     0.90991,     0.91091,     0.91191,\n",
       "           0.91291,     0.91391,     0.91491,     0.91592,     0.91692,     0.91792,     0.91892,     0.91992,     0.92092,     0.92192,     0.92292,     0.92392,     0.92492,     0.92593,     0.92693,     0.92793,     0.92893,     0.92993,     0.93093,     0.93193,     0.93293,     0.93393,     0.93493,     0.93594,\n",
       "           0.93694,     0.93794,     0.93894,     0.93994,     0.94094,     0.94194,     0.94294,     0.94394,     0.94494,     0.94595,     0.94695,     0.94795,     0.94895,     0.94995,     0.95095,     0.95195,     0.95295,     0.95395,     0.95495,     0.95596,     0.95696,     0.95796,     0.95896,     0.95996,\n",
       "           0.96096,     0.96196,     0.96296,     0.96396,     0.96496,     0.96597,     0.96697,     0.96797,     0.96897,     0.96997,     0.97097,     0.97197,     0.97297,     0.97397,     0.97497,     0.97598,     0.97698,     0.97798,     0.97898,     0.97998,     0.98098,     0.98198,     0.98298,     0.98398,\n",
       "           0.98498,     0.98599,     0.98699,     0.98799,     0.98899,     0.98999,     0.99099,     0.99199,     0.99299,     0.99399,     0.99499,       0.996,       0.997,       0.998,       0.999,           1]), array([[    0.65323,     0.65323,     0.60484,     0.59355,     0.57742,     0.56935,     0.55806,     0.55484,     0.54839,     0.54516,      0.5371,     0.53065,     0.53065,     0.52742,     0.52419,     0.51774,     0.51613,     0.51613,     0.51613,     0.51613,     0.51613,      0.5129,     0.50968,\n",
       "            0.50968,     0.50806,     0.50806,     0.50645,         0.5,     0.49839,     0.49677,     0.49677,     0.49194,     0.49032,     0.48871,     0.48548,     0.48387,     0.48387,     0.48387,     0.48065,     0.48065,     0.48065,     0.48065,     0.47903,      0.4788,     0.47742,     0.47581,\n",
       "            0.47419,     0.47419,     0.47419,     0.47258,     0.47097,     0.47097,     0.46935,     0.46774,     0.46415,      0.4629,     0.46129,     0.46129,     0.46129,     0.46129,     0.46129,     0.45968,     0.45968,     0.45968,     0.45806,     0.45645,     0.45645,     0.45645,     0.45645,\n",
       "            0.45645,     0.45645,     0.45484,     0.45484,     0.45484,     0.45484,     0.45484,     0.45484,     0.45484,     0.45323,     0.45323,     0.45323,     0.45323,     0.45323,     0.45323,     0.45147,     0.44839,     0.44677,     0.44677,     0.44677,     0.44677,     0.44516,     0.44516,\n",
       "            0.44355,     0.44355,     0.44355,     0.44355,     0.44355,     0.44355,     0.44355,     0.44355,     0.44355,     0.44355,     0.44355,     0.44355,     0.44355,     0.44355,     0.44355,     0.44355,     0.44355,     0.44355,     0.44355,     0.44355,     0.44355,     0.44194,     0.44194,\n",
       "            0.44194,     0.44194,     0.44194,     0.44194,     0.44194,     0.44111,     0.43871,     0.43871,     0.43871,     0.43871,     0.43871,     0.43871,     0.43871,     0.43871,     0.43871,     0.43871,     0.43871,     0.43871,     0.43871,     0.43871,     0.43871,     0.43871,     0.43871,\n",
       "            0.43871,     0.43871,     0.43871,     0.43871,     0.43871,     0.43871,     0.43871,     0.43871,     0.43871,     0.43871,     0.43871,      0.4371,      0.4371,      0.4371,     0.43664,     0.43548,     0.43548,     0.43548,     0.43548,     0.43548,     0.43548,     0.43548,     0.43548,\n",
       "            0.43548,     0.43548,     0.43548,     0.43548,     0.43548,     0.43548,     0.43548,     0.43548,     0.43548,     0.43548,     0.43548,     0.43548,     0.43548,     0.43548,     0.43548,     0.43548,     0.43548,     0.43548,     0.43548,     0.43548,     0.43548,     0.43548,     0.43496,\n",
       "            0.43226,     0.43226,     0.43226,     0.43226,     0.43226,     0.43226,     0.43226,     0.43226,     0.43226,     0.43226,     0.43226,     0.43226,     0.43226,     0.43226,     0.43226,     0.43226,      0.4316,     0.43065,     0.43065,     0.43065,     0.43065,     0.42903,     0.42903,\n",
       "            0.42903,     0.42903,     0.42903,     0.42903,     0.42799,     0.42742,     0.42742,     0.42742,     0.42742,     0.42742,     0.42742,     0.42742,     0.42742,     0.42742,     0.42742,     0.42742,     0.42742,     0.42742,     0.42742,     0.42742,     0.42742,     0.42742,     0.42742,\n",
       "            0.42742,     0.42742,     0.42742,     0.42742,     0.42742,     0.42742,     0.42742,     0.42742,     0.42742,     0.42742,     0.42742,     0.42742,     0.42742,     0.42742,     0.42742,     0.42742,     0.42742,     0.42742,     0.42742,     0.42742,     0.42742,     0.42742,     0.42742,\n",
       "            0.42742,     0.42742,     0.42742,     0.42742,     0.42742,     0.42742,     0.42742,     0.42742,     0.42742,     0.42742,     0.42742,     0.42742,     0.42742,     0.42742,     0.42742,     0.42742,     0.42742,     0.42633,     0.42581,     0.42581,     0.42419,     0.42419,     0.42419,\n",
       "            0.42419,     0.42419,     0.42419,     0.42419,     0.42419,     0.42419,     0.42419,     0.42419,     0.42419,     0.42419,     0.42419,     0.42419,     0.42419,     0.42419,     0.42418,     0.42258,     0.42258,     0.42258,     0.42258,     0.42258,     0.42258,     0.42258,     0.42258,\n",
       "            0.42258,     0.42258,     0.42258,     0.42097,     0.42097,     0.42097,     0.42097,     0.42097,     0.42097,     0.42097,     0.42097,     0.42097,     0.42097,     0.42097,     0.42097,     0.42097,     0.41935,     0.41935,     0.41935,     0.41935,     0.41935,     0.41935,     0.41935,\n",
       "            0.41935,     0.41935,     0.41935,     0.41935,     0.41935,     0.41935,     0.41935,     0.41935,     0.41935,     0.41935,     0.41935,     0.41935,     0.41935,     0.41935,     0.41935,     0.41935,     0.41774,     0.41774,     0.41774,     0.41774,     0.41774,     0.41774,     0.41774,\n",
       "            0.41774,     0.41774,     0.41774,     0.41774,     0.41774,     0.41774,     0.41774,     0.41774,     0.41774,     0.41774,     0.41774,     0.41774,     0.41774,     0.41774,     0.41774,     0.41774,     0.41774,     0.41774,     0.41774,     0.41774,     0.41774,     0.41774,     0.41774,\n",
       "            0.41774,     0.41774,     0.41774,     0.41774,     0.41774,     0.41774,     0.41774,     0.41774,     0.41774,     0.41774,     0.41774,     0.41774,     0.41774,     0.41774,     0.41774,     0.41774,     0.41774,     0.41774,     0.41774,     0.41774,     0.41774,     0.41613,     0.41613,\n",
       "            0.41613,     0.41613,     0.41613,     0.41613,     0.41613,     0.41613,     0.41613,     0.41613,     0.41613,     0.41613,     0.41613,     0.41613,     0.41613,     0.41613,     0.41613,     0.41613,     0.41613,     0.41596,     0.41513,     0.41441,       0.414,     0.41358,     0.41317,\n",
       "             0.4129,      0.4129,      0.4129,      0.4129,      0.4129,      0.4129,      0.4129,      0.4129,      0.4129,      0.4129,      0.4129,      0.4129,      0.4129,      0.4129,      0.4129,      0.4129,      0.4129,      0.4129,      0.4129,      0.4129,      0.4129,      0.4129,     0.41237,\n",
       "            0.41154,     0.41129,     0.41129,     0.41129,     0.41129,     0.41129,     0.41129,     0.41129,     0.41129,     0.41129,     0.41129,     0.41129,     0.41129,     0.41129,     0.41123,     0.40968,     0.40968,     0.40944,     0.40806,     0.40806,     0.40806,     0.40732,     0.40645,\n",
       "            0.40645,     0.40645,     0.40439,     0.40356,     0.40323,     0.40323,     0.40323,     0.40323,     0.40323,     0.40323,     0.40323,     0.40323,     0.40323,     0.40323,     0.40323,     0.40323,     0.40323,     0.40323,     0.40323,     0.40323,     0.40323,     0.40323,     0.40323,\n",
       "            0.40318,     0.40263,     0.40208,     0.40161,     0.40161,     0.40161,     0.40161,     0.40161,     0.40161,     0.40161,     0.40161,     0.40161,     0.40161,     0.40161,     0.40161,     0.40161,     0.40161,     0.40161,     0.40161,     0.40071,         0.4,         0.4,         0.4,\n",
       "                0.4,         0.4,     0.39885,     0.39809,     0.39768,     0.39726,     0.39685,     0.39677,     0.39677,     0.39677,     0.39677,     0.39677,     0.39677,     0.39516,     0.39516,     0.39516,     0.39516,     0.39516,     0.39516,     0.39516,     0.39516,     0.39516,     0.39516,\n",
       "            0.39516,     0.39516,     0.39516,     0.39516,     0.39516,     0.39355,     0.39355,     0.39355,     0.39355,     0.39355,     0.39276,     0.39194,      0.3915,     0.39067,     0.39032,     0.39008,     0.38966,     0.38925,     0.38884,     0.38871,     0.38871,     0.38871,     0.38871,\n",
       "            0.38871,     0.38871,     0.38871,     0.38871,     0.38871,     0.38871,     0.38871,     0.38871,     0.38871,     0.38871,     0.38871,     0.38871,     0.38772,      0.3871,      0.3871,      0.3871,      0.3871,      0.3871,      0.3871,      0.3871,      0.3871,      0.3871,      0.3871,\n",
       "             0.3871,     0.38636,     0.38553,     0.38548,     0.38548,     0.38548,     0.38548,     0.38548,     0.38548,     0.38548,     0.38548,     0.38548,     0.38548,     0.38548,     0.38548,     0.38548,     0.38548,     0.38548,     0.38548,     0.38548,     0.38548,     0.38548,     0.38548,\n",
       "            0.38548,     0.38548,     0.38548,     0.38548,     0.38548,     0.38548,     0.38548,     0.38548,     0.38548,     0.38548,     0.38548,     0.38548,     0.38548,     0.38548,     0.38531,     0.38476,     0.38421,     0.38387,     0.38342,     0.38232,     0.38226,     0.38226,     0.38226,\n",
       "            0.38226,     0.38226,     0.38226,     0.38226,     0.38226,     0.38226,     0.38114,     0.38065,     0.38065,     0.38065,     0.38065,     0.38065,     0.38065,     0.38065,     0.38065,     0.38065,     0.38065,     0.38065,     0.38065,     0.38024,     0.37982,     0.37941,     0.37903,\n",
       "             0.3787,     0.37815,      0.3776,     0.37742,     0.37742,     0.37742,     0.37742,     0.37742,     0.37742,     0.37742,     0.37742,     0.37742,     0.37742,     0.37742,     0.37742,     0.37742,     0.37742,     0.37742,     0.37742,     0.37742,     0.37723,     0.37581,     0.37581,\n",
       "            0.37581,     0.37581,     0.37581,     0.37581,     0.37581,     0.37581,     0.37581,     0.37581,     0.37581,     0.37581,     0.37581,     0.37581,     0.37581,     0.37419,     0.37413,     0.37258,     0.37258,     0.37258,     0.37258,     0.37258,     0.37258,     0.37258,     0.37258,\n",
       "            0.37258,     0.37258,     0.37258,     0.37167,     0.37097,     0.37097,     0.37097,     0.36945,     0.36935,     0.36935,     0.36935,     0.36935,     0.36935,      0.3684,     0.36774,     0.36774,     0.36774,     0.36774,     0.36774,     0.36774,     0.36774,     0.36774,     0.36774,\n",
       "            0.36774,     0.36774,     0.36774,     0.36774,     0.36622,     0.36509,     0.36372,      0.3629,     0.36286,     0.36175,     0.36129,     0.36129,      0.3606,     0.35968,     0.35968,     0.35806,     0.35806,     0.35785,     0.35702,     0.35594,     0.35474,     0.35444,     0.35414,\n",
       "            0.35384,     0.35354,     0.35324,     0.35323,     0.35323,     0.35323,     0.35323,     0.35323,     0.35323,     0.35276,     0.35053,        0.35,     0.34839,     0.34839,     0.34795,     0.34516,     0.34472,     0.34417,     0.34362,     0.34211,     0.34194,     0.34194,     0.34194,\n",
       "            0.34194,     0.34194,     0.34194,      0.3419,     0.34143,     0.34096,     0.34049,     0.34032,     0.34032,     0.34015,     0.33932,      0.3371,      0.3371,      0.3371,      0.3371,      0.3364,     0.33557,       0.334,     0.33226,     0.33226,     0.33186,     0.33103,     0.33065,\n",
       "            0.33057,     0.32947,     0.32903,     0.32903,     0.32903,     0.32903,     0.32832,     0.32461,     0.32419,     0.32419,     0.32419,     0.32419,     0.32419,     0.32419,     0.32258,     0.32097,     0.32021,     0.31935,     0.31935,     0.31935,     0.31935,     0.31935,     0.31935,\n",
       "            0.31935,     0.31935,     0.31873,     0.31774,     0.31774,     0.31774,     0.31742,     0.31632,     0.31522,     0.31422,     0.31339,     0.31155,     0.31129,     0.31129,     0.30808,     0.30806,     0.30806,     0.30806,     0.30796,     0.30686,     0.30484,     0.30484,     0.30484,\n",
       "            0.30413,     0.30202,     0.29677,     0.29582,     0.29384,     0.29082,     0.29032,     0.29032,     0.29032,     0.28799,     0.28472,     0.28387,     0.28387,     0.28387,     0.28203,     0.27903,     0.27542,     0.27097,     0.27097,     0.27097,     0.27097,     0.26896,     0.26687,\n",
       "            0.25806,      0.2538,     0.25186,     0.24839,     0.24613,     0.24516,     0.24372,     0.24118,     0.24032,      0.2371,      0.2371,      0.2371,     0.23517,     0.23387,     0.23387,     0.22903,     0.22742,     0.22742,     0.22581,     0.22581,     0.22581,     0.22581,     0.22469,\n",
       "            0.22419,     0.22258,     0.22097,     0.21935,     0.21935,     0.21614,      0.2129,     0.21129,     0.20968,     0.20936,     0.20444,     0.20161,         0.2,     0.19775,     0.19194,     0.19194,     0.19032,     0.18871,      0.1871,     0.17903,     0.17299,     0.17097,     0.16638,\n",
       "            0.16613,     0.16613,      0.1613,     0.15484,     0.15154,        0.15,     0.14662,     0.14355,     0.13871,     0.13871,     0.13548,     0.13226,     0.12863,     0.12581,     0.12371,     0.11993,      0.1129,      0.1129,     0.11162,     0.10869,     0.10501,     0.10161,         0.1,\n",
       "           0.093474,    0.090323,    0.086979,    0.083713,    0.080248,    0.075329,    0.070409,    0.066129,    0.062903,     0.06129,     0.06129,    0.057102,    0.052341,    0.048013,     0.04691,    0.044519,     0.04057,    0.039303,    0.037182,    0.033876,     0.03277,    0.030489,    0.027419,\n",
       "           0.026454,    0.023795,    0.021883,    0.018795,    0.017178,    0.016352,    0.016129,    0.015505,    0.014678,    0.011574,    0.010606,   0.0097791,   0.0087109,   0.0064516,   0.0059689,   0.0048667,   0.0046597,    0.004476,   0.0042923,   0.0041086,   0.0039249,   0.0037412,   0.0035575,\n",
       "          0.0033738,   0.0031187,   0.0025676,   0.0020165,           0,           0,           0,           0,           0,           0,           0,           0,           0,           0,           0,           0,           0,           0,           0,           0,           0,           0,           0,\n",
       "                  0,           0,           0,           0,           0,           0,           0,           0,           0,           0,           0]]), 'Confidence', 'Recall']]\n",
       "fitness: np.float64(0.08166279618283692)\n",
       "keys: ['metrics/precision(B)', 'metrics/recall(B)', 'metrics/mAP50(B)', 'metrics/mAP50-95(B)']\n",
       "maps: array([   0.058766])\n",
       "names: {0: 'pool'}\n",
       "plot: True\n",
       "results_dict: {'metrics/precision(B)': np.float64(0.49252361183517174), 'metrics/recall(B)': np.float64(0.37412573864186777), 'metrics/mAP50(B)': np.float64(0.2877305054668966), 'metrics/mAP50-95(B)': np.float64(0.058766384040163634), 'fitness': np.float64(0.08166279618283692)}\n",
       "save_dir: PosixPath('/home/franciscosantos/workspace/IPVC/PROJECT_III/pool-detection-gis/runs/detect/train')\n",
       "speed: {'preprocess': 0.16500638495363046, 'inference': 3.7007055765957118, 'loss': 0.00016000418146142596, 'postprocess': 0.29805568338013827}\n",
       "task: 'detect'"
      ]
     },
     "execution_count": 34,
     "metadata": {},
     "output_type": "execute_result"
    }
   ],
   "source": [
    "from ultralytics import YOLO\n",
    "model = YOLO('yolov8s.pt') \n",
    "\n",
    "model.train(data=\"/home/franciscosantos/workspace/IPVC/PROJECT_III/pool-detection-gis/pool-dataset/data.yaml\", epochs=2)\n",
    "\n",
    "\n"
   ]
  },
  {
   "cell_type": "code",
   "execution_count": null,
   "metadata": {},
   "outputs": [],
   "source": [
    "# predict using best.pt \n",
    "\n",
    "model = YOLO('best.pt')\n",
    "\n",
    "results = model.predict(\"pool-dataset/test/images\")\n",
    "\n",
    "results.show()"
   ]
  }
 ],
 "metadata": {
  "kernelspec": {
   "display_name": ".virtualenv",
   "language": "python",
   "name": "python3"
  },
  "language_info": {
   "codemirror_mode": {
    "name": "ipython",
    "version": 3
   },
   "file_extension": ".py",
   "mimetype": "text/x-python",
   "name": "python",
   "nbconvert_exporter": "python",
   "pygments_lexer": "ipython3",
   "version": "3.12.3"
  }
 },
 "nbformat": 4,
 "nbformat_minor": 4
}
